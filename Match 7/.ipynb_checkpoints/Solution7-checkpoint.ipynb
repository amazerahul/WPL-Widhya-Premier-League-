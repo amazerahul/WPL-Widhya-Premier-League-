{
 "cells": [
  {
   "cell_type": "code",
   "execution_count": 1,
   "metadata": {},
   "outputs": [],
   "source": [
    "import pandas as pd\n",
    "import numpy as np\n",
    "import matplotlib.pyplot as plt\n",
    "import seaborn as sns\n",
    "import warnings \n",
    "warnings.filterwarnings(\"ignore\")"
   ]
  },
  {
   "cell_type": "code",
   "execution_count": 2,
   "metadata": {},
   "outputs": [],
   "source": [
    "matches = pd.read_csv('C:/Users/Hp/Desktop/WPL/matches.csv')\n",
    "deliveries = pd.read_csv('C:/Users/Hp/Desktop/WPL/deliveries.csv')"
   ]
  },
  {
   "cell_type": "code",
   "execution_count": 3,
   "metadata": {},
   "outputs": [],
   "source": [
    "all_matches = matches[(matches['team1'].isin(['Delhi Capitals', 'Chennai Super Kings'])) & (matches['team2'].isin(['Delhi Capitals', 'Chennai Super Kings']))]"
   ]
  },
  {
   "cell_type": "code",
   "execution_count": 4,
   "metadata": {},
   "outputs": [],
   "source": [
    "data = pd.merge(matches, deliveries, how = \"inner\", left_on = 'id', right_on = 'match_id')"
   ]
  },
  {
   "cell_type": "code",
   "execution_count": 5,
   "metadata": {},
   "outputs": [],
   "source": [
    "sub_data = data[(data['team1'].isin(['Delhi Capitals', 'Chennai Super Kings'])) & (data['team2'].isin(['Delhi Capitals', 'Chennai Super Kings']))]"
   ]
  },
  {
   "cell_type": "code",
   "execution_count": 6,
   "metadata": {},
   "outputs": [
    {
     "data": {
      "text/plain": [
       "(21, 18)"
      ]
     },
     "execution_count": 6,
     "metadata": {},
     "output_type": "execute_result"
    }
   ],
   "source": [
    "all_matches.shape"
   ]
  },
  {
   "cell_type": "code",
   "execution_count": 7,
   "metadata": {},
   "outputs": [
    {
     "data": {
      "text/html": [
       "<div>\n",
       "<style scoped>\n",
       "    .dataframe tbody tr th:only-of-type {\n",
       "        vertical-align: middle;\n",
       "    }\n",
       "\n",
       "    .dataframe tbody tr th {\n",
       "        vertical-align: top;\n",
       "    }\n",
       "\n",
       "    .dataframe thead th {\n",
       "        text-align: right;\n",
       "    }\n",
       "</style>\n",
       "<table border=\"1\" class=\"dataframe\">\n",
       "  <thead>\n",
       "    <tr style=\"text-align: right;\">\n",
       "      <th></th>\n",
       "      <th>id</th>\n",
       "      <th>season</th>\n",
       "      <th>city</th>\n",
       "      <th>date</th>\n",
       "      <th>team1</th>\n",
       "      <th>team2</th>\n",
       "      <th>toss_winner</th>\n",
       "      <th>toss_decision</th>\n",
       "      <th>result</th>\n",
       "      <th>dl_applied</th>\n",
       "      <th>winner</th>\n",
       "      <th>win_by_runs</th>\n",
       "      <th>win_by_wickets</th>\n",
       "      <th>player_of_match</th>\n",
       "      <th>venue</th>\n",
       "      <th>umpire1</th>\n",
       "      <th>umpire2</th>\n",
       "      <th>umpire3</th>\n",
       "    </tr>\n",
       "  </thead>\n",
       "  <tbody>\n",
       "    <tr>\n",
       "      <th>78</th>\n",
       "      <td>79</td>\n",
       "      <td>2008</td>\n",
       "      <td>Chennai</td>\n",
       "      <td>5/2/2008</td>\n",
       "      <td>Chennai Super Kings</td>\n",
       "      <td>Delhi Capitals</td>\n",
       "      <td>Chennai Super Kings</td>\n",
       "      <td>bat</td>\n",
       "      <td>normal</td>\n",
       "      <td>0</td>\n",
       "      <td>Delhi Capitals</td>\n",
       "      <td>0</td>\n",
       "      <td>8</td>\n",
       "      <td>V Sehwag</td>\n",
       "      <td>MA Chidambaram Stadium, Chepauk</td>\n",
       "      <td>BF Bowden</td>\n",
       "      <td>K Hariharan</td>\n",
       "      <td>NaN</td>\n",
       "    </tr>\n",
       "    <tr>\n",
       "      <th>86</th>\n",
       "      <td>87</td>\n",
       "      <td>2008</td>\n",
       "      <td>Delhi</td>\n",
       "      <td>5/8/2008</td>\n",
       "      <td>Delhi Capitals</td>\n",
       "      <td>Chennai Super Kings</td>\n",
       "      <td>Chennai Super Kings</td>\n",
       "      <td>field</td>\n",
       "      <td>normal</td>\n",
       "      <td>0</td>\n",
       "      <td>Chennai Super Kings</td>\n",
       "      <td>0</td>\n",
       "      <td>4</td>\n",
       "      <td>MS Dhoni</td>\n",
       "      <td>Feroz Shah Kotla</td>\n",
       "      <td>Aleem Dar</td>\n",
       "      <td>RB Tiffin</td>\n",
       "      <td>NaN</td>\n",
       "    </tr>\n",
       "    <tr>\n",
       "      <th>124</th>\n",
       "      <td>125</td>\n",
       "      <td>2009</td>\n",
       "      <td>Durban</td>\n",
       "      <td>4/23/2009</td>\n",
       "      <td>Delhi Capitals</td>\n",
       "      <td>Chennai Super Kings</td>\n",
       "      <td>Delhi Capitals</td>\n",
       "      <td>bat</td>\n",
       "      <td>normal</td>\n",
       "      <td>0</td>\n",
       "      <td>Delhi Capitals</td>\n",
       "      <td>9</td>\n",
       "      <td>0</td>\n",
       "      <td>AB de Villiers</td>\n",
       "      <td>Kingsmead</td>\n",
       "      <td>BR Doctrove</td>\n",
       "      <td>SJA Taufel</td>\n",
       "      <td>NaN</td>\n",
       "    </tr>\n",
       "    <tr>\n",
       "      <th>140</th>\n",
       "      <td>141</td>\n",
       "      <td>2009</td>\n",
       "      <td>Johannesburg</td>\n",
       "      <td>5/2/2009</td>\n",
       "      <td>Chennai Super Kings</td>\n",
       "      <td>Delhi Capitals</td>\n",
       "      <td>Delhi Capitals</td>\n",
       "      <td>field</td>\n",
       "      <td>normal</td>\n",
       "      <td>0</td>\n",
       "      <td>Chennai Super Kings</td>\n",
       "      <td>18</td>\n",
       "      <td>0</td>\n",
       "      <td>SB Jakati</td>\n",
       "      <td>New Wanderers Stadium</td>\n",
       "      <td>DJ Harper</td>\n",
       "      <td>RE Koertzen</td>\n",
       "      <td>NaN</td>\n",
       "    </tr>\n",
       "    <tr>\n",
       "      <th>184</th>\n",
       "      <td>185</td>\n",
       "      <td>2010</td>\n",
       "      <td>Delhi</td>\n",
       "      <td>3/19/2010</td>\n",
       "      <td>Delhi Capitals</td>\n",
       "      <td>Chennai Super Kings</td>\n",
       "      <td>Delhi Capitals</td>\n",
       "      <td>bat</td>\n",
       "      <td>normal</td>\n",
       "      <td>0</td>\n",
       "      <td>Chennai Super Kings</td>\n",
       "      <td>0</td>\n",
       "      <td>5</td>\n",
       "      <td>ML Hayden</td>\n",
       "      <td>Feroz Shah Kotla</td>\n",
       "      <td>BR Doctrove</td>\n",
       "      <td>SK Tarapore</td>\n",
       "      <td>NaN</td>\n",
       "    </tr>\n",
       "  </tbody>\n",
       "</table>\n",
       "</div>"
      ],
      "text/plain": [
       "      id  season          city       date                team1  \\\n",
       "78    79    2008       Chennai   5/2/2008  Chennai Super Kings   \n",
       "86    87    2008         Delhi   5/8/2008       Delhi Capitals   \n",
       "124  125    2009        Durban  4/23/2009       Delhi Capitals   \n",
       "140  141    2009  Johannesburg   5/2/2009  Chennai Super Kings   \n",
       "184  185    2010         Delhi  3/19/2010       Delhi Capitals   \n",
       "\n",
       "                   team2          toss_winner toss_decision  result  \\\n",
       "78        Delhi Capitals  Chennai Super Kings           bat  normal   \n",
       "86   Chennai Super Kings  Chennai Super Kings         field  normal   \n",
       "124  Chennai Super Kings       Delhi Capitals           bat  normal   \n",
       "140       Delhi Capitals       Delhi Capitals         field  normal   \n",
       "184  Chennai Super Kings       Delhi Capitals           bat  normal   \n",
       "\n",
       "     dl_applied               winner  win_by_runs  win_by_wickets  \\\n",
       "78            0       Delhi Capitals            0               8   \n",
       "86            0  Chennai Super Kings            0               4   \n",
       "124           0       Delhi Capitals            9               0   \n",
       "140           0  Chennai Super Kings           18               0   \n",
       "184           0  Chennai Super Kings            0               5   \n",
       "\n",
       "    player_of_match                            venue      umpire1  \\\n",
       "78         V Sehwag  MA Chidambaram Stadium, Chepauk    BF Bowden   \n",
       "86         MS Dhoni                 Feroz Shah Kotla    Aleem Dar   \n",
       "124  AB de Villiers                        Kingsmead  BR Doctrove   \n",
       "140       SB Jakati            New Wanderers Stadium    DJ Harper   \n",
       "184       ML Hayden                 Feroz Shah Kotla  BR Doctrove   \n",
       "\n",
       "         umpire2 umpire3  \n",
       "78   K Hariharan     NaN  \n",
       "86     RB Tiffin     NaN  \n",
       "124   SJA Taufel     NaN  \n",
       "140  RE Koertzen     NaN  \n",
       "184  SK Tarapore     NaN  "
      ]
     },
     "execution_count": 7,
     "metadata": {},
     "output_type": "execute_result"
    }
   ],
   "source": [
    "all_matches.head()"
   ]
  },
  {
   "cell_type": "code",
   "execution_count": 8,
   "metadata": {},
   "outputs": [
    {
     "data": {
      "text/plain": [
       "<matplotlib.axes._subplots.AxesSubplot at 0x1b7083f1e08>"
      ]
     },
     "execution_count": 8,
     "metadata": {},
     "output_type": "execute_result"
    },
    {
     "data": {
      "image/png": "[encoded data removed]",
      "text/plain": [
       "<Figure size 432x288 with 1 Axes>"
      ]
     },
     "metadata": {
      "needs_background": "light"
     },
     "output_type": "display_data"
    }
   ],
   "source": [
    "all_matches['winner'].value_counts(normalize=True).plot.bar(title='% Win ratio of each team', color = ['Yellow', 'Red'])"
   ]
  },
  {
   "cell_type": "code",
   "execution_count": 9,
   "metadata": {},
   "outputs": [
    {
     "data": {
      "text/plain": [
       "season  winner             \n",
       "2008    Chennai Super Kings    1\n",
       "        Delhi Capitals         1\n",
       "2009    Chennai Super Kings    1\n",
       "        Delhi Capitals         1\n",
       "2010    Chennai Super Kings    1\n",
       "        Delhi Capitals         1\n",
       "2011    Chennai Super Kings    1\n",
       "2012    Chennai Super Kings    2\n",
       "        Delhi Capitals         1\n",
       "2013    Chennai Super Kings    2\n",
       "2014    Chennai Super Kings    2\n",
       "2015    Chennai Super Kings    1\n",
       "        Delhi Capitals         1\n",
       "2018    Chennai Super Kings    1\n",
       "        Delhi Capitals         1\n",
       "2019    Chennai Super Kings    3\n",
       "Name: winner, dtype: int64"
      ]
     },
     "execution_count": 9,
     "metadata": {},
     "output_type": "execute_result"
    }
   ],
   "source": [
    "all_matches.groupby('season')['winner'].value_counts()"
   ]
  },
  {
   "cell_type": "code",
   "execution_count": 10,
   "metadata": {},
   "outputs": [
    {
     "data": {
      "text/html": [
       "<div>\n",
       "<style scoped>\n",
       "    .dataframe tbody tr th:only-of-type {\n",
       "        vertical-align: middle;\n",
       "    }\n",
       "\n",
       "    .dataframe tbody tr th {\n",
       "        vertical-align: top;\n",
       "    }\n",
       "\n",
       "    .dataframe thead th {\n",
       "        text-align: right;\n",
       "    }\n",
       "</style>\n",
       "<table border=\"1\" class=\"dataframe\">\n",
       "  <thead>\n",
       "    <tr style=\"text-align: right;\">\n",
       "      <th></th>\n",
       "      <th>season</th>\n",
       "      <th>toss_decision</th>\n",
       "      <th>toss_winner</th>\n",
       "      <th>winner</th>\n",
       "      <th>win_by_runs</th>\n",
       "      <th>win_by_wickets</th>\n",
       "    </tr>\n",
       "  </thead>\n",
       "  <tbody>\n",
       "    <tr>\n",
       "      <th>700</th>\n",
       "      <td>2019</td>\n",
       "      <td>bat</td>\n",
       "      <td>Delhi Capitals</td>\n",
       "      <td>Chennai Super Kings</td>\n",
       "      <td>0</td>\n",
       "      <td>6</td>\n",
       "    </tr>\n",
       "    <tr>\n",
       "      <th>745</th>\n",
       "      <td>2019</td>\n",
       "      <td>field</td>\n",
       "      <td>Delhi Capitals</td>\n",
       "      <td>Chennai Super Kings</td>\n",
       "      <td>80</td>\n",
       "      <td>0</td>\n",
       "    </tr>\n",
       "    <tr>\n",
       "      <th>754</th>\n",
       "      <td>2019</td>\n",
       "      <td>field</td>\n",
       "      <td>Chennai Super Kings</td>\n",
       "      <td>Chennai Super Kings</td>\n",
       "      <td>0</td>\n",
       "      <td>6</td>\n",
       "    </tr>\n",
       "  </tbody>\n",
       "</table>\n",
       "</div>"
      ],
      "text/plain": [
       "     season toss_decision          toss_winner               winner  \\\n",
       "700    2019           bat       Delhi Capitals  Chennai Super Kings   \n",
       "745    2019         field       Delhi Capitals  Chennai Super Kings   \n",
       "754    2019         field  Chennai Super Kings  Chennai Super Kings   \n",
       "\n",
       "     win_by_runs  win_by_wickets  \n",
       "700            0               6  \n",
       "745           80               0  \n",
       "754            0               6  "
      ]
     },
     "execution_count": 10,
     "metadata": {},
     "output_type": "execute_result"
    }
   ],
   "source": [
    "all_matches[all_matches['season'] == 2019][['season', 'toss_decision', 'toss_winner', 'winner', 'win_by_runs', 'win_by_wickets']]"
   ]
  },
  {
   "cell_type": "code",
   "execution_count": 11,
   "metadata": {},
   "outputs": [],
   "source": [
    "sub_data1 = sub_data[sub_data['season'] == 2019]"
   ]
  },
  {
   "cell_type": "code",
   "execution_count": 12,
   "metadata": {},
   "outputs": [
    {
     "data": {
      "text/plain": [
       "winner\n",
       "Chennai Super Kings    [SR Watson, MS Dhoni, F du Plessis]\n",
       "Name: player_of_match, dtype: object"
      ]
     },
     "execution_count": 12,
     "metadata": {},
     "output_type": "execute_result"
    }
   ],
   "source": [
    "sub_data1.groupby('winner')['player_of_match'].unique()"
   ]
  },
  {
   "cell_type": "code",
   "execution_count": 13,
   "metadata": {},
   "outputs": [
    {
     "data": {
      "text/plain": [
       "<matplotlib.axes._subplots.AxesSubplot at 0x1b7080a85c8>"
      ]
     },
     "execution_count": 13,
     "metadata": {},
     "output_type": "execute_result"
    },
    {
     "data": {
      "image/png": "[encoded data removed]",
      "text/plain": [
       "<Figure size 432x288 with 1 Axes>"
      ]
     },
     "metadata": {
      "needs_background": "light"
     },
     "output_type": "display_data"
    }
   ],
   "source": [
    "sub_data1[sub_data['batting_team'] == 'Chennai Super Kings'].groupby('batsman')['batsman_runs'].sum().sort_values(ascending=False).plot.bar(title='CSK Batsman with most runs against DC in 2019')"
   ]
  },
  {
   "cell_type": "code",
   "execution_count": 14,
   "metadata": {},
   "outputs": [
    {
     "data": {
      "text/plain": [
       "bowler           player_dismissed\n",
       "DJ Bravo         AR Patel            1\n",
       "                 C Ingram            1\n",
       "                 J Suchith           1\n",
       "                 K Paul              1\n",
       "                 RR Pant             1\n",
       "                 S Dhawan            1\n",
       "DL Chahar        P Shaw              3\n",
       "                 RR Pant             1\n",
       "Harbhajan Singh  S Dhawan            2\n",
       "                 S Rutherford        1\n",
       "Imran Tahir      SS Iyer             2\n",
       "                 A Mishra            1\n",
       "                 AR Patel            1\n",
       "                 RR Pant             1\n",
       "                 S Rutherford        1\n",
       "RA Jadeja        C Ingram            1\n",
       "                 C Munro             1\n",
       "                 CH Morris           1\n",
       "                 K Paul              1\n",
       "                 SS Iyer             1\n",
       "                 TA Boult            1\n",
       "Name: player_dismissed, dtype: int64"
      ]
     },
     "execution_count": 14,
     "metadata": {},
     "output_type": "execute_result"
    }
   ],
   "source": [
    "sub_data1[sub_data1['bowling_team'] == 'Chennai Super Kings'].groupby('bowler')['player_dismissed'].value_counts()"
   ]
  },
  {
   "cell_type": "code",
   "execution_count": 15,
   "metadata": {},
   "outputs": [
    {
     "data": {
      "text/plain": [
       "<matplotlib.axes._subplots.AxesSubplot at 0x1b708c7e548>"
      ]
     },
     "execution_count": 15,
     "metadata": {},
     "output_type": "execute_result"
    },
    {
     "data": {
      "image/png": "[encoded data removed]",
      "text/plain": [
       "<Figure size 432x288 with 1 Axes>"
      ]
     },
     "metadata": {
      "needs_background": "light"
     },
     "output_type": "display_data"
    }
   ],
   "source": [
    "sub_data1[sub_data['batting_team'] == 'Delhi Capitals'].groupby('batsman')['batsman_runs'].sum().sort_values(ascending=False).plot.bar(title='DC Batsman with most runs against CSK in 2019')"
   ]
  },
  {
   "cell_type": "code",
   "execution_count": 16,
   "metadata": {},
   "outputs": [
    {
     "data": {
      "text/plain": [
       "bowler     player_dismissed\n",
       "A Mishra   SK Raina            1\n",
       "           SR Watson           1\n",
       "AR Patel   F du Plessis        1\n",
       "           SK Raina            1\n",
       "CH Morris  RA Jadeja           1\n",
       "I Sharma   AT Rayudu           1\n",
       "           MS Dhoni            1\n",
       "J Suchith  SK Raina            1\n",
       "           SR Watson           1\n",
       "K Rabada   KM Jadhav           1\n",
       "TA Boult   F du Plessis        1\n",
       "Name: player_dismissed, dtype: int64"
      ]
     },
     "execution_count": 16,
     "metadata": {},
     "output_type": "execute_result"
    }
   ],
   "source": [
    "sub_data1[sub_data1['bowling_team'] == 'Delhi Capitals'].groupby('bowler')['player_dismissed'].value_counts()"
   ]
  },
  {
   "cell_type": "code",
   "execution_count": 17,
   "metadata": {},
   "outputs": [
    {
     "data": {
      "text/html": [
       "<div>\n",
       "<style scoped>\n",
       "    .dataframe tbody tr th:only-of-type {\n",
       "        vertical-align: middle;\n",
       "    }\n",
       "\n",
       "    .dataframe tbody tr th {\n",
       "        vertical-align: top;\n",
       "    }\n",
       "\n",
       "    .dataframe thead th {\n",
       "        text-align: right;\n",
       "    }\n",
       "</style>\n",
       "<table border=\"1\" class=\"dataframe\">\n",
       "  <thead>\n",
       "    <tr style=\"text-align: right;\">\n",
       "      <th>winner</th>\n",
       "      <th>Chennai Super Kings</th>\n",
       "      <th>Delhi Capitals</th>\n",
       "    </tr>\n",
       "    <tr>\n",
       "      <th>toss_decision</th>\n",
       "      <th></th>\n",
       "      <th></th>\n",
       "    </tr>\n",
       "  </thead>\n",
       "  <tbody>\n",
       "    <tr>\n",
       "      <th>bat</th>\n",
       "      <td>6</td>\n",
       "      <td>4</td>\n",
       "    </tr>\n",
       "    <tr>\n",
       "      <th>field</th>\n",
       "      <td>9</td>\n",
       "      <td>2</td>\n",
       "    </tr>\n",
       "  </tbody>\n",
       "</table>\n",
       "</div>"
      ],
      "text/plain": [
       "winner         Chennai Super Kings  Delhi Capitals\n",
       "toss_decision                                     \n",
       "bat                              6               4\n",
       "field                            9               2"
      ]
     },
     "execution_count": 17,
     "metadata": {},
     "output_type": "execute_result"
    }
   ],
   "source": [
    "pd.crosstab(all_matches['toss_decision'], all_matches['winner'])"
   ]
  },
  {
   "cell_type": "markdown",
   "metadata": {},
   "source": [
    "### How many runs will CSK score in the match??"
   ]
  },
  {
   "cell_type": "code",
   "execution_count": 18,
   "metadata": {},
   "outputs": [],
   "source": [
    "sub_data2 = sub_data[(sub_data['batting_team'] == 'Chennai Super Kings') & (sub_data['season'] > 2016)]"
   ]
  },
  {
   "cell_type": "code",
   "execution_count": 19,
   "metadata": {},
   "outputs": [
    {
     "data": {
      "text/plain": [
       "<matplotlib.axes._subplots.AxesSubplot at 0x1b708cf9c08>"
      ]
     },
     "execution_count": 19,
     "metadata": {},
     "output_type": "execute_result"
    },
    {
     "data": {
      "image/png": "[encoded data removed]",
      "text/plain": [
       "<Figure size 432x288 with 1 Axes>"
      ]
     },
     "metadata": {
      "needs_background": "light"
     },
     "output_type": "display_data"
    }
   ],
   "source": [
    "sub_data2.groupby('match_id')['total_runs'].sum().plot.bar(title='Runs scored by CSK in all matches against DC')"
   ]
  },
  {
   "cell_type": "code",
   "execution_count": 20,
   "metadata": {},
   "outputs": [
    {
     "data": {
      "text/plain": [
       "<matplotlib.axes._subplots.AxesSubplot at 0x1b708d98348>"
      ]
     },
     "execution_count": 20,
     "metadata": {},
     "output_type": "execute_result"
    },
    {
     "data": {
      "image/png": "[encoded data removed]",
      "text/plain": [
       "<Figure size 432x288 with 1 Axes>"
      ]
     },
     "metadata": {
      "needs_background": "light"
     },
     "output_type": "display_data"
    }
   ],
   "source": [
    "sub_data2.groupby('match_id')['total_runs'].sum().plot.box(title='Box plot distribution of runs scored by CSK')"
   ]
  },
  {
   "cell_type": "code",
   "execution_count": 21,
   "metadata": {},
   "outputs": [
    {
     "data": {
      "text/plain": [
       "<matplotlib.axes._subplots.AxesSubplot at 0x1b708e11948>"
      ]
     },
     "execution_count": 21,
     "metadata": {},
     "output_type": "execute_result"
    },
    {
     "data": {
      "image/png": "[encoded data removed]",
      "text/plain": [
       "<Figure size 432x288 with 1 Axes>"
      ]
     },
     "metadata": {
      "needs_background": "light"
     },
     "output_type": "display_data"
    }
   ],
   "source": [
    "sub_data2.groupby(['batsman'])['batsman_runs'].sum().sort_values(ascending=False).plot.bar(title='Runs scored by CSK batsman against DC since 2017')"
   ]
  },
  {
   "cell_type": "code",
   "execution_count": 22,
   "metadata": {},
   "outputs": [
    {
     "data": {
      "text/plain": [
       "bowler        batsman     \n",
       "A Mishra      AT Rayudu       23\n",
       "              F du Plessis    18\n",
       "              MS Dhoni        27\n",
       "              SR Watson       29\n",
       "AR Patel      AT Rayudu        7\n",
       "              F du Plessis    19\n",
       "              MS Dhoni         7\n",
       "              SR Watson       17\n",
       "Avesh Khan    AT Rayudu       34\n",
       "              F du Plessis     5\n",
       "              MS Dhoni        10\n",
       "              SR Watson        8\n",
       "CH Morris     AT Rayudu        5\n",
       "              F du Plessis    10\n",
       "              MS Dhoni        18\n",
       "GJ Maxwell    AT Rayudu        4\n",
       "              MS Dhoni         5\n",
       "              SR Watson        3\n",
       "HV Patel      AT Rayudu        7\n",
       "              MS Dhoni         1\n",
       "              SR Watson        1\n",
       "I Sharma      AT Rayudu        6\n",
       "              F du Plessis    18\n",
       "              MS Dhoni         2\n",
       "              SR Watson       12\n",
       "J Suchith     F du Plessis     5\n",
       "              MS Dhoni         0\n",
       "              SR Watson        0\n",
       "K Paul        AT Rayudu        8\n",
       "              F du Plessis     5\n",
       "              MS Dhoni        14\n",
       "              SR Watson       35\n",
       "K Rabada      MS Dhoni         3\n",
       "              SR Watson       12\n",
       "L Plunkett    AT Rayudu       15\n",
       "              F du Plessis     8\n",
       "              MS Dhoni         2\n",
       "              SR Watson       27\n",
       "R Tewatia     F du Plessis     8\n",
       "              SR Watson       16\n",
       "S Lamichhane  MS Dhoni         5\n",
       "              SR Watson        2\n",
       "S Rutherford  F du Plessis    12\n",
       "TA Boult      AT Rayudu       10\n",
       "              F du Plessis    16\n",
       "              MS Dhoni        64\n",
       "              SR Watson       22\n",
       "V Shankar     AT Rayudu        6\n",
       "              F du Plessis     4\n",
       "              SR Watson       11\n",
       "Name: batsman_runs, dtype: int64"
      ]
     },
     "execution_count": 22,
     "metadata": {},
     "output_type": "execute_result"
    }
   ],
   "source": [
    "sub_data2[sub_data2['batsman'].isin(['SR Watson', 'MS Dhoni', 'F du Plessis', 'AT Rayudu'])].groupby(['bowler', 'batsman'])['batsman_runs'].sum()"
   ]
  },
  {
   "cell_type": "code",
   "execution_count": 23,
   "metadata": {},
   "outputs": [
    {
     "data": {
      "text/plain": [
       "bowler        player_dismissed\n",
       "A Mishra      SR Watson           3\n",
       "              SK Raina            1\n",
       "              SW Billings         1\n",
       "AR Patel      F du Plessis        1\n",
       "              SK Raina            1\n",
       "CH Morris     RA Jadeja           1\n",
       "GJ Maxwell    SK Raina            1\n",
       "HV Patel      AT Rayudu           1\n",
       "I Sharma      AT Rayudu           1\n",
       "              MS Dhoni            1\n",
       "J Suchith     SK Raina            1\n",
       "              SR Watson           1\n",
       "K Rabada      KM Jadhav           1\n",
       "S Lamichhane  SK Raina            1\n",
       "TA Boult      AT Rayudu           1\n",
       "              DJ Bravo            1\n",
       "              F du Plessis        1\n",
       "              MS Dhoni            1\n",
       "V Shankar     F du Plessis        1\n",
       "Name: player_dismissed, dtype: int64"
      ]
     },
     "execution_count": 23,
     "metadata": {},
     "output_type": "execute_result"
    }
   ],
   "source": [
    "sub_data2.groupby('bowler')['player_dismissed'].value_counts()"
   ]
  },
  {
   "cell_type": "markdown",
   "metadata": {},
   "source": [
    "### How many wickets will CSK take from 91st ball to the 120th ball??"
   ]
  },
  {
   "cell_type": "code",
   "execution_count": 24,
   "metadata": {},
   "outputs": [],
   "source": [
    "sub_data3 = sub_data[(sub_data['over'] > 15) & (sub_data['bowling_team'] == 'Chennai Super Kings') & (sub_data['season'] > 2015)]"
   ]
  },
  {
   "cell_type": "code",
   "execution_count": 25,
   "metadata": {},
   "outputs": [
    {
     "data": {
      "text/plain": [
       "match_id\n",
       "7923     1\n",
       "7945     0\n",
       "11141    4\n",
       "11341    2\n",
       "11414    4\n",
       "Name: player_dismissed, dtype: int64"
      ]
     },
     "execution_count": 25,
     "metadata": {},
     "output_type": "execute_result"
    }
   ],
   "source": [
    "sub_data3.groupby('match_id')['player_dismissed'].agg('count')"
   ]
  },
  {
   "cell_type": "code",
   "execution_count": 26,
   "metadata": {},
   "outputs": [
    {
     "data": {
      "text/plain": [
       "over\n",
       "16    4\n",
       "17    2\n",
       "18    3\n",
       "19    1\n",
       "20    1\n",
       "Name: player_dismissed, dtype: int64"
      ]
     },
     "execution_count": 26,
     "metadata": {},
     "output_type": "execute_result"
    }
   ],
   "source": [
    "sub_data3.groupby('over')['player_dismissed'].agg('count')"
   ]
  },
  {
   "cell_type": "code",
   "execution_count": 27,
   "metadata": {},
   "outputs": [
    {
     "data": {
      "text/plain": [
       "bowler           player_dismissed\n",
       "DJ Bravo         C Ingram            1\n",
       "                 J Suchith           1\n",
       "                 K Paul              1\n",
       "                 RR Pant             1\n",
       "                 S Dhawan            1\n",
       "Harbhajan Singh  S Rutherford        1\n",
       "Imran Tahir      A Mishra            1\n",
       "L Ngidi          RR Pant             1\n",
       "RA Jadeja        K Paul              1\n",
       "Name: player_dismissed, dtype: int64"
      ]
     },
     "execution_count": 27,
     "metadata": {},
     "output_type": "execute_result"
    }
   ],
   "source": [
    "sub_data3[sub_data3['over'].isin([16,17,18])].groupby('bowler')['player_dismissed'].value_counts()"
   ]
  },
  {
   "cell_type": "code",
   "execution_count": 28,
   "metadata": {},
   "outputs": [
    {
     "data": {
      "text/plain": [
       "<matplotlib.axes._subplots.AxesSubplot at 0x1b708eaac08>"
      ]
     },
     "execution_count": 28,
     "metadata": {},
     "output_type": "execute_result"
    },
    {
     "data": {
      "image/png": "[encoded data removed]",
      "text/plain": [
       "<Figure size 432x288 with 1 Axes>"
      ]
     },
     "metadata": {
      "needs_background": "light"
     },
     "output_type": "display_data"
    }
   ],
   "source": [
    "sub_data3.groupby('over')['player_dismissed'].agg('count').plot.box()"
   ]
  },
  {
   "cell_type": "markdown",
   "metadata": {},
   "source": [
    "### How many balls will CSK take to score 100 runs??"
   ]
  },
  {
   "cell_type": "code",
   "execution_count": 29,
   "metadata": {},
   "outputs": [],
   "source": [
    "sub_data4 = sub_data[sub_data['batting_team'] == 'Chennai Super Kings']"
   ]
  },
  {
   "cell_type": "code",
   "execution_count": 30,
   "metadata": {},
   "outputs": [],
   "source": [
    "sub_data5 = sub_data4.groupby('match_id').filter(lambda x : x['total_runs'].sum() >= 100)"
   ]
  },
  {
   "cell_type": "code",
   "execution_count": 31,
   "metadata": {},
   "outputs": [
    {
     "data": {
      "text/plain": [
       "match_id\n",
       "79       False\n",
       "87       False\n",
       "125      False\n",
       "141      False\n",
       "185      False\n",
       "224      False\n",
       "289      False\n",
       "318      False\n",
       "364      False\n",
       "380      False\n",
       "404      False\n",
       "446      False\n",
       "465      False\n",
       "483      False\n",
       "519      False\n",
       "565      False\n",
       "7923     False\n",
       "7945     False\n",
       "11141    False\n",
       "11341    False\n",
       "11414    False\n",
       "dtype: bool"
      ]
     },
     "execution_count": 31,
     "metadata": {},
     "output_type": "execute_result"
    }
   ],
   "source": [
    "sub_data4.groupby('match_id').apply(lambda x : x['total_runs'].sum() == 100)"
   ]
  },
  {
   "cell_type": "code",
   "execution_count": 32,
   "metadata": {},
   "outputs": [],
   "source": [
    "def check(num):\n",
    "    check_sum = 0\n",
    "    balls = 0\n",
    "    while(check_sum != 100):\n",
    "        for i in num:\n",
    "            check_sum = check_sum + i\n",
    "            balls = balls + 1\n",
    "    return balls"
   ]
  },
  {
   "cell_type": "code",
   "execution_count": 34,
   "metadata": {},
   "outputs": [],
   "source": [
    "sub_data6 = sub_data[sub_data['noball_runs']!=0]"
   ]
  },
  {
   "cell_type": "code",
   "execution_count": 37,
   "metadata": {},
   "outputs": [
    {
     "data": {
      "text/html": [
       "<div>\n",
       "<style scoped>\n",
       "    .dataframe tbody tr th:only-of-type {\n",
       "        vertical-align: middle;\n",
       "    }\n",
       "\n",
       "    .dataframe tbody tr th {\n",
       "        vertical-align: top;\n",
       "    }\n",
       "\n",
       "    .dataframe thead th {\n",
       "        text-align: right;\n",
       "    }\n",
       "</style>\n",
       "<table border=\"1\" class=\"dataframe\">\n",
       "  <thead>\n",
       "    <tr style=\"text-align: right;\">\n",
       "      <th></th>\n",
       "      <th>count</th>\n",
       "    </tr>\n",
       "    <tr>\n",
       "      <th>match_id</th>\n",
       "      <th></th>\n",
       "    </tr>\n",
       "  </thead>\n",
       "  <tbody>\n",
       "    <tr>\n",
       "      <th>79</th>\n",
       "      <td>4</td>\n",
       "    </tr>\n",
       "    <tr>\n",
       "      <th>87</th>\n",
       "      <td>2</td>\n",
       "    </tr>\n",
       "    <tr>\n",
       "      <th>125</th>\n",
       "      <td>1</td>\n",
       "    </tr>\n",
       "    <tr>\n",
       "      <th>141</th>\n",
       "      <td>1</td>\n",
       "    </tr>\n",
       "    <tr>\n",
       "      <th>185</th>\n",
       "      <td>1</td>\n",
       "    </tr>\n",
       "    <tr>\n",
       "      <th>224</th>\n",
       "      <td>2</td>\n",
       "    </tr>\n",
       "    <tr>\n",
       "      <th>289</th>\n",
       "      <td>1</td>\n",
       "    </tr>\n",
       "    <tr>\n",
       "      <th>519</th>\n",
       "      <td>1</td>\n",
       "    </tr>\n",
       "    <tr>\n",
       "      <th>7923</th>\n",
       "      <td>1</td>\n",
       "    </tr>\n",
       "    <tr>\n",
       "      <th>11141</th>\n",
       "      <td>1</td>\n",
       "    </tr>\n",
       "    <tr>\n",
       "      <th>11341</th>\n",
       "      <td>1</td>\n",
       "    </tr>\n",
       "    <tr>\n",
       "      <th>11414</th>\n",
       "      <td>1</td>\n",
       "    </tr>\n",
       "  </tbody>\n",
       "</table>\n",
       "</div>"
      ],
      "text/plain": [
       "          count\n",
       "match_id       \n",
       "79            4\n",
       "87            2\n",
       "125           1\n",
       "141           1\n",
       "185           1\n",
       "224           2\n",
       "289           1\n",
       "519           1\n",
       "7923          1\n",
       "11141         1\n",
       "11341         1\n",
       "11414         1"
      ]
     },
     "execution_count": 37,
     "metadata": {},
     "output_type": "execute_result"
    }
   ],
   "source": [
    "sub_data6.groupby('match_id')['noball_runs'].agg({'count'})"
   ]
  },
  {
   "cell_type": "code",
   "execution_count": 41,
   "metadata": {},
   "outputs": [
    {
     "data": {
      "text/plain": [
       "<matplotlib.axes._subplots.AxesSubplot at 0x1b70910a708>"
      ]
     },
     "execution_count": 41,
     "metadata": {},
     "output_type": "execute_result"
    },
    {
     "data": {
      "image/png": "[encoded data removed]",
      "text/plain": [
       "<Figure size 432x288 with 1 Axes>"
      ]
     },
     "metadata": {
      "needs_background": "light"
     },
     "output_type": "display_data"
    }
   ],
   "source": [
    "sub_data6.groupby('match_id')['noball_runs'].sum().plot.box()"
   ]
  }
 ],
 "metadata": {
  "kernelspec": {
   "display_name": "Python 3",
   "language": "python",
   "name": "python3"
  },
  "language_info": {
   "codemirror_mode": {
    "name": "ipython",
    "version": 3
   },
   "file_extension": ".py",
   "mimetype": "text/x-python",
   "name": "python",
   "nbconvert_exporter": "python",
   "pygments_lexer": "ipython3",
   "version": "3.7.6"
  }
 },
 "nbformat": 4,
 "nbformat_minor": 4
}
