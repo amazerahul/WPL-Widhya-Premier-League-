{
 "cells": [
  {
   "cell_type": "code",
   "execution_count": 246,
   "metadata": {},
   "outputs": [],
   "source": [
    "import pandas as pd\n",
    "import numpy as np\n",
    "import matplotlib.pyplot as plt\n",
    "import seaborn as sns\n",
    "import warnings\n",
    "warnings.filterwarnings(\"ignore\")"
   ]
  },
  {
   "cell_type": "code",
   "execution_count": 247,
   "metadata": {},
   "outputs": [],
   "source": [
    "matches = pd.read_csv('C:/Users/Hp/Desktop/WPL/matches.csv')\n",
    "deliveries = pd.read_csv('C:/Users/Hp/Desktop/WPL/deliveries.csv')"
   ]
  },
  {
   "cell_type": "code",
   "execution_count": 248,
   "metadata": {},
   "outputs": [],
   "source": [
    "all_matches = matches[(matches['team1'].isin(['Kolkata Knight Riders', 'Chennai Super Kings'])) & (matches['team2'].isin(['Kolkata Knight Riders', 'Chennai Super Kings']))]"
   ]
  },
  {
   "cell_type": "code",
   "execution_count": 249,
   "metadata": {},
   "outputs": [],
   "source": [
    "data = pd.merge(matches, deliveries, how = \"inner\", left_on = 'id', right_on = 'match_id')"
   ]
  },
  {
   "cell_type": "code",
   "execution_count": 250,
   "metadata": {},
   "outputs": [],
   "source": [
    "sub_data = data[(data['team1'].isin(['Kolkata Knight Riders', 'Chennai Super Kings'])) & (data['team2'].isin(['Kolkata Knight Riders', 'Chennai Super Kings']))]"
   ]
  },
  {
   "cell_type": "markdown",
   "metadata": {},
   "source": [
    "### Who will win the match??"
   ]
  },
  {
   "cell_type": "code",
   "execution_count": 251,
   "metadata": {},
   "outputs": [
    {
     "data": {
      "text/html": [
       "<div>\n",
       "<style scoped>\n",
       "    .dataframe tbody tr th:only-of-type {\n",
       "        vertical-align: middle;\n",
       "    }\n",
       "\n",
       "    .dataframe tbody tr th {\n",
       "        vertical-align: top;\n",
       "    }\n",
       "\n",
       "    .dataframe thead th {\n",
       "        text-align: right;\n",
       "    }\n",
       "</style>\n",
       "<table border=\"1\" class=\"dataframe\">\n",
       "  <thead>\n",
       "    <tr style=\"text-align: right;\">\n",
       "      <th></th>\n",
       "      <th>id</th>\n",
       "      <th>season</th>\n",
       "      <th>city</th>\n",
       "      <th>date</th>\n",
       "      <th>team1</th>\n",
       "      <th>team2</th>\n",
       "      <th>toss_winner</th>\n",
       "      <th>toss_decision</th>\n",
       "      <th>result</th>\n",
       "      <th>dl_applied</th>\n",
       "      <th>winner</th>\n",
       "      <th>win_by_runs</th>\n",
       "      <th>win_by_wickets</th>\n",
       "      <th>player_of_match</th>\n",
       "      <th>venue</th>\n",
       "      <th>umpire1</th>\n",
       "      <th>umpire2</th>\n",
       "      <th>umpire3</th>\n",
       "    </tr>\n",
       "  </thead>\n",
       "  <tbody>\n",
       "    <tr>\n",
       "      <th>70</th>\n",
       "      <td>71</td>\n",
       "      <td>2008</td>\n",
       "      <td>Chennai</td>\n",
       "      <td>4/26/2008</td>\n",
       "      <td>Kolkata Knight Riders</td>\n",
       "      <td>Chennai Super Kings</td>\n",
       "      <td>Kolkata Knight Riders</td>\n",
       "      <td>bat</td>\n",
       "      <td>normal</td>\n",
       "      <td>0</td>\n",
       "      <td>Chennai Super Kings</td>\n",
       "      <td>0</td>\n",
       "      <td>9</td>\n",
       "      <td>JDP Oram</td>\n",
       "      <td>MA Chidambaram Stadium, Chepauk</td>\n",
       "      <td>BF Bowden</td>\n",
       "      <td>AV Jayaprakash</td>\n",
       "      <td>NaN</td>\n",
       "    </tr>\n",
       "    <tr>\n",
       "      <th>102</th>\n",
       "      <td>103</td>\n",
       "      <td>2008</td>\n",
       "      <td>Kolkata</td>\n",
       "      <td>5/18/2008</td>\n",
       "      <td>Kolkata Knight Riders</td>\n",
       "      <td>Chennai Super Kings</td>\n",
       "      <td>Kolkata Knight Riders</td>\n",
       "      <td>bat</td>\n",
       "      <td>normal</td>\n",
       "      <td>1</td>\n",
       "      <td>Chennai Super Kings</td>\n",
       "      <td>3</td>\n",
       "      <td>0</td>\n",
       "      <td>M Ntini</td>\n",
       "      <td>Eden Gardens</td>\n",
       "      <td>Asad Rauf</td>\n",
       "      <td>K Hariharan</td>\n",
       "      <td>NaN</td>\n",
       "    </tr>\n",
       "    <tr>\n",
       "      <th>165</th>\n",
       "      <td>166</td>\n",
       "      <td>2009</td>\n",
       "      <td>Centurion</td>\n",
       "      <td>5/18/2009</td>\n",
       "      <td>Chennai Super Kings</td>\n",
       "      <td>Kolkata Knight Riders</td>\n",
       "      <td>Chennai Super Kings</td>\n",
       "      <td>bat</td>\n",
       "      <td>normal</td>\n",
       "      <td>0</td>\n",
       "      <td>Kolkata Knight Riders</td>\n",
       "      <td>0</td>\n",
       "      <td>7</td>\n",
       "      <td>BJ Hodge</td>\n",
       "      <td>SuperSport Park</td>\n",
       "      <td>SJA Taufel</td>\n",
       "      <td>RB Tiffin</td>\n",
       "      <td>NaN</td>\n",
       "    </tr>\n",
       "    <tr>\n",
       "      <th>181</th>\n",
       "      <td>182</td>\n",
       "      <td>2010</td>\n",
       "      <td>Kolkata</td>\n",
       "      <td>3/16/2010</td>\n",
       "      <td>Chennai Super Kings</td>\n",
       "      <td>Kolkata Knight Riders</td>\n",
       "      <td>Chennai Super Kings</td>\n",
       "      <td>bat</td>\n",
       "      <td>normal</td>\n",
       "      <td>0</td>\n",
       "      <td>Chennai Super Kings</td>\n",
       "      <td>55</td>\n",
       "      <td>0</td>\n",
       "      <td>MS Dhoni</td>\n",
       "      <td>Eden Gardens</td>\n",
       "      <td>HDPK Dharmasena</td>\n",
       "      <td>AM Saheba</td>\n",
       "      <td>NaN</td>\n",
       "    </tr>\n",
       "    <tr>\n",
       "      <th>221</th>\n",
       "      <td>222</td>\n",
       "      <td>2010</td>\n",
       "      <td>Chennai</td>\n",
       "      <td>4/13/2010</td>\n",
       "      <td>Kolkata Knight Riders</td>\n",
       "      <td>Chennai Super Kings</td>\n",
       "      <td>Kolkata Knight Riders</td>\n",
       "      <td>bat</td>\n",
       "      <td>normal</td>\n",
       "      <td>0</td>\n",
       "      <td>Chennai Super Kings</td>\n",
       "      <td>0</td>\n",
       "      <td>9</td>\n",
       "      <td>R Ashwin</td>\n",
       "      <td>MA Chidambaram Stadium, Chepauk</td>\n",
       "      <td>SS Hazare</td>\n",
       "      <td>SJA Taufel</td>\n",
       "      <td>NaN</td>\n",
       "    </tr>\n",
       "  </tbody>\n",
       "</table>\n",
       "</div>"
      ],
      "text/plain": [
       "      id  season       city       date                  team1  \\\n",
       "70    71    2008    Chennai  4/26/2008  Kolkata Knight Riders   \n",
       "102  103    2008    Kolkata  5/18/2008  Kolkata Knight Riders   \n",
       "165  166    2009  Centurion  5/18/2009    Chennai Super Kings   \n",
       "181  182    2010    Kolkata  3/16/2010    Chennai Super Kings   \n",
       "221  222    2010    Chennai  4/13/2010  Kolkata Knight Riders   \n",
       "\n",
       "                     team2            toss_winner toss_decision  result  \\\n",
       "70     Chennai Super Kings  Kolkata Knight Riders           bat  normal   \n",
       "102    Chennai Super Kings  Kolkata Knight Riders           bat  normal   \n",
       "165  Kolkata Knight Riders    Chennai Super Kings           bat  normal   \n",
       "181  Kolkata Knight Riders    Chennai Super Kings           bat  normal   \n",
       "221    Chennai Super Kings  Kolkata Knight Riders           bat  normal   \n",
       "\n",
       "     dl_applied                 winner  win_by_runs  win_by_wickets  \\\n",
       "70            0    Chennai Super Kings            0               9   \n",
       "102           1    Chennai Super Kings            3               0   \n",
       "165           0  Kolkata Knight Riders            0               7   \n",
       "181           0    Chennai Super Kings           55               0   \n",
       "221           0    Chennai Super Kings            0               9   \n",
       "\n",
       "    player_of_match                            venue          umpire1  \\\n",
       "70         JDP Oram  MA Chidambaram Stadium, Chepauk        BF Bowden   \n",
       "102         M Ntini                     Eden Gardens        Asad Rauf   \n",
       "165        BJ Hodge                  SuperSport Park       SJA Taufel   \n",
       "181        MS Dhoni                     Eden Gardens  HDPK Dharmasena   \n",
       "221        R Ashwin  MA Chidambaram Stadium, Chepauk        SS Hazare   \n",
       "\n",
       "            umpire2 umpire3  \n",
       "70   AV Jayaprakash     NaN  \n",
       "102     K Hariharan     NaN  \n",
       "165       RB Tiffin     NaN  \n",
       "181       AM Saheba     NaN  \n",
       "221      SJA Taufel     NaN  "
      ]
     },
     "execution_count": 251,
     "metadata": {},
     "output_type": "execute_result"
    }
   ],
   "source": [
    "all_matches.head()"
   ]
  },
  {
   "cell_type": "code",
   "execution_count": 252,
   "metadata": {},
   "outputs": [
    {
     "data": {
      "text/plain": [
       "<matplotlib.axes._subplots.AxesSubplot at 0x1b58a0b7088>"
      ]
     },
     "execution_count": 252,
     "metadata": {},
     "output_type": "execute_result"
    },
    {
     "data": {
      "image/png": "[encoded data removed]",
      "text/plain": [
       "<Figure size 432x288 with 1 Axes>"
      ]
     },
     "metadata": {
      "needs_background": "light"
     },
     "output_type": "display_data"
    }
   ],
   "source": [
    "all_matches['winner'].value_counts(normalize=True).plot.bar(title='% Win of each team', color=['Yellow', 'Purple'])"
   ]
  },
  {
   "cell_type": "code",
   "execution_count": 253,
   "metadata": {},
   "outputs": [],
   "source": [
    "match_id_1 = all_matches.groupby('season')['id'].unique().apply(lambda x : x[0]).values.tolist()\n",
    "match_id_2 = all_matches.groupby('season')['id'].unique().apply(lambda x : x[1] if len(x)>1 else x[0]).values.tolist()"
   ]
  },
  {
   "cell_type": "code",
   "execution_count": 254,
   "metadata": {},
   "outputs": [
    {
     "data": {
      "text/plain": [
       "<matplotlib.axes._subplots.AxesSubplot at 0x1b589c48048>"
      ]
     },
     "execution_count": 254,
     "metadata": {},
     "output_type": "execute_result"
    },
    {
     "data": {
      "image/png": "[encoded data removed]",
      "text/plain": [
       "<Figure size 1440x396 with 3 Axes>"
      ]
     },
     "metadata": {
      "needs_background": "light"
     },
     "output_type": "display_data"
    }
   ],
   "source": [
    "plt.subplot(1, 3 ,1)\n",
    "all_matches[all_matches['id'].isin(match_id_1)]['winner'].value_counts(normalize=True).plot.bar(title='% Win of each team in 1st match of season', figsize=(20,5.5), color = ['Yellow', 'Purple'])\n",
    "\n",
    "plt.subplot(1, 3, 2)\n",
    "all_matches[all_matches['id'].isin(match_id_2)]['winner'].value_counts(normalize=True).plot.bar(title='% Win of each team in 2nd match of season', color = ['Yellow', 'Purple'])\n",
    "\n",
    "plt.subplot(1, 3, 3)\n",
    "(all_matches[all_matches['id'].isin(match_id_2)]['winner'].value_counts(normalize=True) - all_matches[all_matches['id'].isin(match_id_1)]['winner'].value_counts(normalize=True)).plot.bar(title='% diff in win of 1st and 2nd match', color = ['Yellow', 'Purple'])"
   ]
  },
  {
   "cell_type": "code",
   "execution_count": 255,
   "metadata": {},
   "outputs": [
    {
     "data": {
      "text/plain": [
       "<matplotlib.axes._subplots.AxesSubplot at 0x1b584dce288>"
      ]
     },
     "execution_count": 255,
     "metadata": {},
     "output_type": "execute_result"
    },
    {
     "data": {
      "image/png": "[encoded data removed]",
      "text/plain": [
       "<Figure size 1080x360 with 2 Axes>"
      ]
     },
     "metadata": {
      "needs_background": "light"
     },
     "output_type": "display_data"
    }
   ],
   "source": [
    "plt.subplot(1, 2, 1)\n",
    "all_matches['toss_decision'].value_counts(normalize=True).plot.bar(title='% Toss decision in all matches', figsize=(15,5))\n",
    "\n",
    "plt.subplot(1, 2, 2)\n",
    "all_matches[all_matches['id'].isin(match_id_1)]['toss_decision'].value_counts(normalize=True).plot.bar(title='% Toss decision when played 2nd in a season')"
   ]
  },
  {
   "cell_type": "code",
   "execution_count": 256,
   "metadata": {},
   "outputs": [
    {
     "data": {
      "text/plain": [
       "toss_decision  toss_winner            winner               \n",
       "bat            Chennai Super Kings    Kolkata Knight Riders    4\n",
       "                                      Chennai Super Kings      3\n",
       "               Kolkata Knight Riders  Chennai Super Kings      4\n",
       "field          Chennai Super Kings    Chennai Super Kings      4\n",
       "               Kolkata Knight Riders  Kolkata Knight Riders    3\n",
       "                                      Chennai Super Kings      2\n",
       "Name: winner, dtype: int64"
      ]
     },
     "execution_count": 256,
     "metadata": {},
     "output_type": "execute_result"
    }
   ],
   "source": [
    "all_matches.groupby(['toss_decision', 'toss_winner'])['winner'].value_counts()"
   ]
  },
  {
   "cell_type": "code",
   "execution_count": 257,
   "metadata": {},
   "outputs": [
    {
     "data": {
      "text/plain": [
       "id     winner               \n",
       "71     Chennai Super Kings           [JDP Oram]\n",
       "103    Chennai Super Kings            [M Ntini]\n",
       "166    Kolkata Knight Riders         [BJ Hodge]\n",
       "182    Chennai Super Kings           [MS Dhoni]\n",
       "222    Chennai Super Kings           [R Ashwin]\n",
       "235    Chennai Super Kings         [S Anirudha]\n",
       "281    Kolkata Knight Riders    [Iqbal Abdulla]\n",
       "347    Kolkata Knight Riders        [G Gambhir]\n",
       "368    Chennai Super Kings         [MEK Hussey]\n",
       "381    Kolkata Knight Riders         [MS Bisla]\n",
       "406    Chennai Super Kings          [RA Jadeja]\n",
       "418    Chennai Super Kings         [MEK Hussey]\n",
       "478    Chennai Super Kings          [RA Jadeja]\n",
       "504    Kolkata Knight Riders       [RV Uthappa]\n",
       "527    Kolkata Knight Riders       [AD Russell]\n",
       "547    Chennai Super Kings           [DJ Bravo]\n",
       "7898   Chennai Super Kings        [SW Billings]\n",
       "7926   Kolkata Knight Riders        [SP Narine]\n",
       "11314  Chennai Super Kings          [DL Chahar]\n",
       "11320  Chennai Super Kings        [Imran Tahir]\n",
       "Name: player_of_match, dtype: object"
      ]
     },
     "execution_count": 257,
     "metadata": {},
     "output_type": "execute_result"
    }
   ],
   "source": [
    "all_matches.groupby([\n",
    "    'id', 'winner'])['player_of_match'].unique()"
   ]
  },
  {
   "cell_type": "code",
   "execution_count": 258,
   "metadata": {},
   "outputs": [
    {
     "data": {
      "text/plain": [
       "match_id  winner                 batsman    \n",
       "418       Chennai Super Kings    MEK Hussey     95\n",
       "                                 MS Bisla       92\n",
       "381       Kolkata Knight Riders  MS Bisla       89\n",
       "7898      Chennai Super Kings    AD Russell     89\n",
       "11320     Chennai Super Kings    CA Lynn        84\n",
       "166       Kolkata Knight Riders  BB McCullum    81\n",
       "527       Kolkata Knight Riders  RV Uthappa     80\n",
       "222       Chennai Super Kings    SK Raina       78\n",
       "381       Kolkata Knight Riders  SK Raina       73\n",
       "103       Chennai Super Kings    Salman Butt    73\n",
       "Name: batsman_runs, dtype: int64"
      ]
     },
     "execution_count": 258,
     "metadata": {},
     "output_type": "execute_result"
    }
   ],
   "source": [
    "sub_data.groupby(['match_id', 'winner', 'batsman'])['batsman_runs'].sum().sort_values(ascending=False).head(10)"
   ]
  },
  {
   "cell_type": "code",
   "execution_count": 259,
   "metadata": {},
   "outputs": [
    {
     "data": {
      "text/plain": [
       "match_id  winner                 bowler         \n",
       "527       Kolkata Knight Riders  GB Hogg            4\n",
       "11320     Chennai Super Kings    Imran Tahir        4\n",
       "478       Chennai Super Kings    RA Jadeja          4\n",
       "103       Chennai Super Kings    M Ntini            4\n",
       "222       Chennai Super Kings    R Ashwin           3\n",
       "11320     Chennai Super Kings    SN Thakur          3\n",
       "182       Chennai Super Kings    JM Kemp            3\n",
       "11314     Chennai Super Kings    DL Chahar          3\n",
       "                                 Harbhajan Singh    3\n",
       "547       Chennai Super Kings    DJ Bravo           3\n",
       "Name: player_dismissed, dtype: int64"
      ]
     },
     "execution_count": 259,
     "metadata": {},
     "output_type": "execute_result"
    }
   ],
   "source": [
    "sub_data.groupby(['match_id', 'winner', 'bowler'])['player_dismissed'].count().sort_values(ascending=False).head(10)"
   ]
  },
  {
   "cell_type": "markdown",
   "metadata": {},
   "source": [
    "### How many bowls more or less KKR will take to reach a total score of 75 as compared to CSK"
   ]
  },
  {
   "cell_type": "code",
   "execution_count": 260,
   "metadata": {},
   "outputs": [],
   "source": [
    "def Count(df):\n",
    "    balls = 0\n",
    "    runs = 0\n",
    "    for i in df.total_runs:\n",
    "        if runs >= 75:\n",
    "            break\n",
    "        else:\n",
    "            runs += i\n",
    "            balls += 1\n",
    "    return balls"
   ]
  },
  {
   "cell_type": "code",
   "execution_count": 261,
   "metadata": {},
   "outputs": [
    {
     "data": {
      "text/plain": [
       "<matplotlib.axes._subplots.AxesSubplot at 0x1b58688cb48>"
      ]
     },
     "execution_count": 261,
     "metadata": {},
     "output_type": "execute_result"
    },
    {
     "data": {
      "image/png": "[encoded data removed]",
      "text/plain": [
       "<Figure size 1080x360 with 1 Axes>"
      ]
     },
     "metadata": {
      "needs_background": "light"
     },
     "output_type": "display_data"
    }
   ],
   "source": [
    "sub_data.groupby(['match_id', 'batting_team']).apply(Count).plot.bar(title='Balls taken to reach 75 mark by both teams', figsize=(15,5))"
   ]
  },
  {
   "cell_type": "code",
   "execution_count": 262,
   "metadata": {},
   "outputs": [
    {
     "data": {
      "text/plain": [
       "batting_team\n",
       "Chennai Super Kings      60.65\n",
       "Kolkata Knight Riders    64.75\n",
       "dtype: float64"
      ]
     },
     "execution_count": 262,
     "metadata": {},
     "output_type": "execute_result"
    }
   ],
   "source": [
    "sub_data.groupby(['match_id', 'batting_team']).apply(Count).groupby('batting_team').mean()"
   ]
  },
  {
   "cell_type": "code",
   "execution_count": 263,
   "metadata": {},
   "outputs": [
    {
     "data": {
      "text/plain": [
       "batting_team\n",
       "Chennai Super Kings      57\n",
       "Kolkata Knight Riders    70\n",
       "dtype: int64"
      ]
     },
     "execution_count": 263,
     "metadata": {},
     "output_type": "execute_result"
    }
   ],
   "source": [
    "sub_data[(sub_data['match_id'].isin(match_id_1)) & (sub_data['season']>2015)].groupby(['match_id', 'batting_team']).apply(Count).groupby('batting_team').mean()"
   ]
  },
  {
   "cell_type": "code",
   "execution_count": 264,
   "metadata": {},
   "outputs": [],
   "source": [
    "sub_data1 = sub_data[(sub_data['over']>=1) & (sub_data['over']<=10) & (sub_data['season']>2015)]"
   ]
  },
  {
   "cell_type": "code",
   "execution_count": 265,
   "metadata": {},
   "outputs": [
    {
     "data": {
      "text/plain": [
       "batsman       non_striker \n",
       "CA Lynn       SP Narine       52\n",
       "F du Plessis  SR Watson       51\n",
       "SR Watson     F du Plessis    44\n",
       "              AT Rayudu       42\n",
       "AT Rayudu     SR Watson       33\n",
       "Name: total_runs, dtype: int64"
      ]
     },
     "execution_count": 265,
     "metadata": {},
     "output_type": "execute_result"
    }
   ],
   "source": [
    "sub_data1.groupby(['batsman', 'non_striker'])['total_runs'].sum().sort_values(ascending=False).head()"
   ]
  },
  {
   "cell_type": "code",
   "execution_count": 266,
   "metadata": {},
   "outputs": [
    {
     "data": {
      "text/plain": [
       "batting_team\n",
       "Chennai Super Kings      2.0\n",
       "Kolkata Knight Riders    3.5\n",
       "Name: player_dismissed, dtype: float64"
      ]
     },
     "execution_count": 266,
     "metadata": {},
     "output_type": "execute_result"
    }
   ],
   "source": [
    "sub_data1.groupby(['match_id', 'batting_team'])['player_dismissed'].count().groupby('batting_team').mean()"
   ]
  },
  {
   "cell_type": "code",
   "execution_count": 267,
   "metadata": {},
   "outputs": [
    {
     "data": {
      "text/plain": [
       "<matplotlib.axes._subplots.AxesSubplot at 0x1b5855ef848>"
      ]
     },
     "execution_count": 267,
     "metadata": {},
     "output_type": "execute_result"
    },
    {
     "data": {
      "image/png": "[encoded data removed]",
      "text/plain": [
       "<Figure size 432x288 with 1 Axes>"
      ]
     },
     "metadata": {
      "needs_background": "light"
     },
     "output_type": "display_data"
    }
   ],
   "source": [
    "sub_data1.groupby('bowler')['player_dismissed'].count().plot.bar(title='Wickets taken by bowlers in 1-10 overs')"
   ]
  },
  {
   "cell_type": "markdown",
   "metadata": {},
   "source": [
    "### How many balls will Deepak Chahar take, to get his first wicket??"
   ]
  },
  {
   "cell_type": "code",
   "execution_count": 268,
   "metadata": {},
   "outputs": [],
   "source": [
    "def first_wicket(df):\n",
    "    balls = 1\n",
    "    \n",
    "    for i in df.player_dismissed_bool:\n",
    "        if i == 0:\n",
    "            balls += 1\n",
    "        else:\n",
    "            break\n",
    "    return balls"
   ]
  },
  {
   "cell_type": "code",
   "execution_count": 269,
   "metadata": {},
   "outputs": [],
   "source": [
    "sub_data2 = data[(data['bowler']=='DL Chahar') & (sub_data2['noball_runs']==0) & (sub_data2['wide_runs']==0)]"
   ]
  },
  {
   "cell_type": "code",
   "execution_count": 270,
   "metadata": {},
   "outputs": [],
   "source": [
    "sub_data3 = sub_data[(sub_data['bowler']=='DL Chahar') & (sub_data2['noball_runs']==0) & (sub_data2['wide_runs']==0)]"
   ]
  },
  {
   "cell_type": "code",
   "execution_count": 271,
   "metadata": {},
   "outputs": [
    {
     "data": {
      "text/plain": [
       "<matplotlib.axes._subplots.AxesSubplot at 0x1b58a0b6988>"
      ]
     },
     "execution_count": 271,
     "metadata": {},
     "output_type": "execute_result"
    },
    {
     "data": {
      "image/png": "[encoded data removed]",
      "text/plain": [
       "<Figure size 432x288 with 1 Axes>"
      ]
     },
     "metadata": {
      "needs_background": "light"
     },
     "output_type": "display_data"
    }
   ],
   "source": [
    "sub_data3['over'].plot.hist()"
   ]
  },
  {
   "cell_type": "code",
   "execution_count": 272,
   "metadata": {},
   "outputs": [
    {
     "data": {
      "text/plain": [
       "<matplotlib.axes._subplots.AxesSubplot at 0x1b58573d4c8>"
      ]
     },
     "execution_count": 272,
     "metadata": {},
     "output_type": "execute_result"
    },
    {
     "data": {
      "image/png": "[encoded data removed]",
      "text/plain": [
       "<Figure size 1080x360 with 2 Axes>"
      ]
     },
     "metadata": {
      "needs_background": "light"
     },
     "output_type": "display_data"
    }
   ],
   "source": [
    "plt.subplot(1, 2, 1)\n",
    "sub_data2.groupby(['match_id']).apply(first_wicket).plot.bar(title='Ball taken by D Chahar to take his first wicket', figsize=(15,5))\n",
    "\n",
    "plt.subplot(1, 2, 2)\n",
    "sub_data2.groupby(['match_id']).apply(first_wicket).plot.box(title='Ball taken by D Chahar to take his first wicket')"
   ]
  },
  {
   "cell_type": "code",
   "execution_count": 273,
   "metadata": {},
   "outputs": [
    {
     "data": {
      "text/plain": [
       "<matplotlib.axes._subplots.AxesSubplot at 0x1b585e40648>"
      ]
     },
     "execution_count": 273,
     "metadata": {},
     "output_type": "execute_result"
    },
    {
     "data": {
      "image/png": "[encoded data removed]",
      "text/plain": [
       "<Figure size 1080x360 with 2 Axes>"
      ]
     },
     "metadata": {
      "needs_background": "light"
     },
     "output_type": "display_data"
    }
   ],
   "source": [
    "plt.subplot(1, 2, 1)\n",
    "sub_data3.groupby(['match_id']).apply(first_wicket).plot.bar(title='Ball taken by D Chahar to take his first wicket against KKR', figsize=(15,5))\n",
    "\n",
    "plt.subplot(1, 2, 2)\n",
    "sub_data3.groupby(['match_id']).apply(first_wicket).plot.box(title='Ball taken by D Chahar to take his first wicket against KKR')"
   ]
  },
  {
   "cell_type": "code",
   "execution_count": 274,
   "metadata": {},
   "outputs": [
    {
     "data": {
      "text/plain": [
       "<matplotlib.axes._subplots.AxesSubplot at 0x1b586aaad88>"
      ]
     },
     "execution_count": 274,
     "metadata": {},
     "output_type": "execute_result"
    },
    {
     "data": {
      "image/png": "[encoded data removed]",
      "text/plain": [
       "<Figure size 432x288 with 1 Axes>"
      ]
     },
     "metadata": {
      "needs_background": "light"
     },
     "output_type": "display_data"
    }
   ],
   "source": [
    "(sub_data2.groupby(['match_id'])['total_runs'].sum()/sub_data2.groupby(['match_id'])['over'].unique().apply(lambda x : len(x))).plot.box(title='Economy rate distribution of D Chahar against all teams')"
   ]
  },
  {
   "cell_type": "code",
   "execution_count": 275,
   "metadata": {},
   "outputs": [
    {
     "data": {
      "text/plain": [
       "<matplotlib.axes._subplots.AxesSubplot at 0x1b58826c908>"
      ]
     },
     "execution_count": 275,
     "metadata": {},
     "output_type": "execute_result"
    },
    {
     "data": {
      "image/png": "[encoded data removed]",
      "text/plain": [
       "<Figure size 432x288 with 1 Axes>"
      ]
     },
     "metadata": {
      "needs_background": "light"
     },
     "output_type": "display_data"
    }
   ],
   "source": [
    "(sub_data3.groupby(['match_id'])['total_runs'].sum()/sub_data3.groupby(['match_id'])['over'].unique().apply(lambda x : len(x))).plot.box(title='Economy rate distribution of D Chahar against all teams')"
   ]
  },
  {
   "cell_type": "code",
   "execution_count": 276,
   "metadata": {},
   "outputs": [
    {
     "data": {
      "text/plain": [
       "batsman\n",
       "CA Lynn       36\n",
       "SP Narine     17\n",
       "RV Uthappa     8\n",
       "AD Russell     6\n",
       "S Gill         2\n",
       "PP Chawla      2\n",
       "KD Karthik     2\n",
       "N Rana         0\n",
       "Name: batsman_runs, dtype: int64"
      ]
     },
     "execution_count": 276,
     "metadata": {},
     "output_type": "execute_result"
    }
   ],
   "source": [
    "sub_data3.groupby('batsman')['batsman_runs'].sum().sort_values(ascending=False)"
   ]
  },
  {
   "cell_type": "code",
   "execution_count": 277,
   "metadata": {},
   "outputs": [
    {
     "data": {
      "text/plain": [
       "batsman\n",
       "RV Uthappa    1\n",
       "N Rana        1\n",
       "CA Lynn       1\n",
       "SP Narine     0\n",
       "S Gill        0\n",
       "PP Chawla     0\n",
       "KD Karthik    0\n",
       "AD Russell    0\n",
       "Name: player_dismissed, dtype: int64"
      ]
     },
     "execution_count": 277,
     "metadata": {},
     "output_type": "execute_result"
    }
   ],
   "source": [
    "sub_data3.groupby('batsman')['player_dismissed'].count().sort_values(ascending=False)"
   ]
  },
  {
   "cell_type": "markdown",
   "metadata": {},
   "source": [
    "### How many such overs will be there in a match where 6 and 4 are scored in the same match??"
   ]
  },
  {
   "cell_type": "code",
   "execution_count": 278,
   "metadata": {},
   "outputs": [],
   "source": [
    "sub_data['is_four'] = sub_data['batsman_runs'].apply(lambda x : 1 if x in [4, 5] else 0)"
   ]
  },
  {
   "cell_type": "code",
   "execution_count": 279,
   "metadata": {},
   "outputs": [],
   "source": [
    "sub_data['is_six'] = sub_data['batsman_runs'].apply(lambda x : 1 if x in [6, 7] else 0)"
   ]
  },
  {
   "cell_type": "code",
   "execution_count": 280,
   "metadata": {},
   "outputs": [],
   "source": [
    "dummy = pd.DataFrame(sub_data.groupby(['match_id', 'over'])['is_four', 'is_six'].sum())"
   ]
  },
  {
   "cell_type": "code",
   "execution_count": 281,
   "metadata": {},
   "outputs": [],
   "source": [
    "dummy = dummy[(dummy['is_four']>=1) & (dummy['is_six']>=1)]"
   ]
  },
  {
   "cell_type": "code",
   "execution_count": 282,
   "metadata": {},
   "outputs": [],
   "source": [
    "dummy_index = dummy.index"
   ]
  },
  {
   "cell_type": "code",
   "execution_count": 283,
   "metadata": {},
   "outputs": [],
   "source": [
    "dummy.reset_index(inplace=True)"
   ]
  },
  {
   "cell_type": "code",
   "execution_count": 313,
   "metadata": {},
   "outputs": [
    {
     "data": {
      "text/plain": [
       "<matplotlib.axes._subplots.AxesSubplot at 0x1b58b50d048>"
      ]
     },
     "execution_count": 313,
     "metadata": {},
     "output_type": "execute_result"
    },
    {
     "data": {
      "image/png": "[encoded data removed]",
      "text/plain": [
       "<Figure size 1080x360 with 2 Axes>"
      ]
     },
     "metadata": {
      "needs_background": "light"
     },
     "output_type": "display_data"
    }
   ],
   "source": [
    "plt.subplot(1, 2, 1)\n",
    "dummy.groupby('match_id')['over'].count().plot.bar(title='Matchwise count of overs where 6 and 4 are scored in same over', figsize=(15,5))\n",
    "\n",
    "plt.subplot(1, 2, 2)\n",
    "dummy.groupby('match_id')['over'].count().plot.box(title='Matchwise count of overs where 6 and 4 are scored in same over')"
   ]
  },
  {
   "cell_type": "code",
   "execution_count": 301,
   "metadata": {},
   "outputs": [],
   "source": [
    "dummy1 = pd.DataFrame(sub_data[sub_data['season']>2015].groupby(['match_id', 'bowler', 'batsman', 'over'])['is_four', 'is_six'].sum())"
   ]
  },
  {
   "cell_type": "code",
   "execution_count": 302,
   "metadata": {},
   "outputs": [
    {
     "data": {
      "text/html": [
       "<div>\n",
       "<style scoped>\n",
       "    .dataframe tbody tr th:only-of-type {\n",
       "        vertical-align: middle;\n",
       "    }\n",
       "\n",
       "    .dataframe tbody tr th {\n",
       "        vertical-align: top;\n",
       "    }\n",
       "\n",
       "    .dataframe thead th {\n",
       "        text-align: right;\n",
       "    }\n",
       "</style>\n",
       "<table border=\"1\" class=\"dataframe\">\n",
       "  <thead>\n",
       "    <tr style=\"text-align: right;\">\n",
       "      <th></th>\n",
       "      <th></th>\n",
       "      <th></th>\n",
       "      <th></th>\n",
       "      <th>is_four</th>\n",
       "      <th>is_six</th>\n",
       "    </tr>\n",
       "    <tr>\n",
       "      <th>match_id</th>\n",
       "      <th>bowler</th>\n",
       "      <th>batsman</th>\n",
       "      <th>over</th>\n",
       "      <th></th>\n",
       "      <th></th>\n",
       "    </tr>\n",
       "  </thead>\n",
       "  <tbody>\n",
       "    <tr>\n",
       "      <th rowspan=\"5\" valign=\"top\">7898</th>\n",
       "      <th>Kuldeep Yadav</th>\n",
       "      <th>MS Dhoni</th>\n",
       "      <th>14</th>\n",
       "      <td>1</td>\n",
       "      <td>1</td>\n",
       "    </tr>\n",
       "    <tr>\n",
       "      <th rowspan=\"2\" valign=\"top\">PP Chawla</th>\n",
       "      <th>AT Rayudu</th>\n",
       "      <th>4</th>\n",
       "      <td>1</td>\n",
       "      <td>2</td>\n",
       "    </tr>\n",
       "    <tr>\n",
       "      <th>SR Watson</th>\n",
       "      <th>2</th>\n",
       "      <td>1</td>\n",
       "      <td>1</td>\n",
       "    </tr>\n",
       "    <tr>\n",
       "      <th>R Vinay Kumar</th>\n",
       "      <th>SR Watson</th>\n",
       "      <th>1</th>\n",
       "      <td>2</td>\n",
       "      <td>1</td>\n",
       "    </tr>\n",
       "    <tr>\n",
       "      <th>T Curran</th>\n",
       "      <th>SR Watson</th>\n",
       "      <th>6</th>\n",
       "      <td>1</td>\n",
       "      <td>1</td>\n",
       "    </tr>\n",
       "    <tr>\n",
       "      <th>7926</th>\n",
       "      <th>MG Johnson</th>\n",
       "      <th>SR Watson</th>\n",
       "      <th>5</th>\n",
       "      <td>1</td>\n",
       "      <td>1</td>\n",
       "    </tr>\n",
       "    <tr>\n",
       "      <th rowspan=\"2\" valign=\"top\">11314</th>\n",
       "      <th>PP Chawla</th>\n",
       "      <th>SR Watson</th>\n",
       "      <th>1</th>\n",
       "      <td>1</td>\n",
       "      <td>1</td>\n",
       "    </tr>\n",
       "    <tr>\n",
       "      <th>S Kuggeleijn</th>\n",
       "      <th>AD Russell</th>\n",
       "      <th>20</th>\n",
       "      <td>2</td>\n",
       "      <td>1</td>\n",
       "    </tr>\n",
       "    <tr>\n",
       "      <th rowspan=\"4\" valign=\"top\">11320</th>\n",
       "      <th>DL Chahar</th>\n",
       "      <th>CA Lynn</th>\n",
       "      <th>3</th>\n",
       "      <td>2</td>\n",
       "      <td>1</td>\n",
       "    </tr>\n",
       "    <tr>\n",
       "      <th>Imran Tahir</th>\n",
       "      <th>AD Russell</th>\n",
       "      <th>15</th>\n",
       "      <td>1</td>\n",
       "      <td>1</td>\n",
       "    </tr>\n",
       "    <tr>\n",
       "      <th>Kuldeep Yadav</th>\n",
       "      <th>KM Jadhav</th>\n",
       "      <th>11</th>\n",
       "      <td>1</td>\n",
       "      <td>1</td>\n",
       "    </tr>\n",
       "    <tr>\n",
       "      <th>PP Chawla</th>\n",
       "      <th>SK Raina</th>\n",
       "      <th>14</th>\n",
       "      <td>1</td>\n",
       "      <td>1</td>\n",
       "    </tr>\n",
       "  </tbody>\n",
       "</table>\n",
       "</div>"
      ],
      "text/plain": [
       "                                        is_four  is_six\n",
       "match_id bowler        batsman    over                 \n",
       "7898     Kuldeep Yadav MS Dhoni   14          1       1\n",
       "         PP Chawla     AT Rayudu  4           1       2\n",
       "                       SR Watson  2           1       1\n",
       "         R Vinay Kumar SR Watson  1           2       1\n",
       "         T Curran      SR Watson  6           1       1\n",
       "7926     MG Johnson    SR Watson  5           1       1\n",
       "11314    PP Chawla     SR Watson  1           1       1\n",
       "         S Kuggeleijn  AD Russell 20          2       1\n",
       "11320    DL Chahar     CA Lynn    3           2       1\n",
       "         Imran Tahir   AD Russell 15          1       1\n",
       "         Kuldeep Yadav KM Jadhav  11          1       1\n",
       "         PP Chawla     SK Raina   14          1       1"
      ]
     },
     "execution_count": 302,
     "metadata": {},
     "output_type": "execute_result"
    }
   ],
   "source": [
    "dummy1[(dummy1['is_four']>=1) & (dummy1['is_six']>=1)]"
   ]
  },
  {
   "cell_type": "markdown",
   "metadata": {},
   "source": [
    "### How many no-balls will be bowled in the match??"
   ]
  },
  {
   "cell_type": "code",
   "execution_count": 309,
   "metadata": {},
   "outputs": [],
   "source": [
    "sub_data4 = sub_data[(sub_data['noball_runs']!=0) & (sub_data['season']>2015)]"
   ]
  },
  {
   "cell_type": "code",
   "execution_count": 310,
   "metadata": {},
   "outputs": [
    {
     "data": {
      "text/plain": [
       "<matplotlib.axes._subplots.AxesSubplot at 0x1b58adbd448>"
      ]
     },
     "execution_count": 310,
     "metadata": {},
     "output_type": "execute_result"
    },
    {
     "data": {
      "image/png": "[encoded data removed]",
      "text/plain": [
       "<Figure size 1080x360 with 2 Axes>"
      ]
     },
     "metadata": {
      "needs_background": "light"
     },
     "output_type": "display_data"
    }
   ],
   "source": [
    "plt.subplot(1, 2, 1)\n",
    "sub_data4.groupby('match_id')['ball'].count().plot.bar(title='No of no-balls bowled', figsize=(15,5))\n",
    "\n",
    "plt.subplot(1, 2, 2)\n",
    "sub_data4.groupby('match_id')['ball'].count().plot.box(title='No of no-balls bowled')"
   ]
  },
  {
   "cell_type": "code",
   "execution_count": 311,
   "metadata": {},
   "outputs": [
    {
     "data": {
      "text/plain": [
       "bowler\n",
       "H Gurney         1\n",
       "P Krishna        1\n",
       "R Vinay Kumar    1\n",
       "Name: ball, dtype: int64"
      ]
     },
     "execution_count": 311,
     "metadata": {},
     "output_type": "execute_result"
    }
   ],
   "source": [
    "sub_data4.groupby('bowler')['ball'].count()"
   ]
  }
 ],
 "metadata": {
  "kernelspec": {
   "display_name": "Python 3",
   "language": "python",
   "name": "python3"
  },
  "language_info": {
   "codemirror_mode": {
    "name": "ipython",
    "version": 3
   },
   "file_extension": ".py",
   "mimetype": "text/x-python",
   "name": "python",
   "nbconvert_exporter": "python",
   "pygments_lexer": "ipython3",
   "version": "3.7.6"
  }
 },
 "nbformat": 4,
 "nbformat_minor": 4
}
