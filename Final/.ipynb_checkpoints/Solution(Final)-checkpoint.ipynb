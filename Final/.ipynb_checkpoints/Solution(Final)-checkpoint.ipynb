{
 "cells": [
  {
   "cell_type": "code",
   "execution_count": 2,
   "metadata": {},
   "outputs": [],
   "source": [
    "import pandas as pd\n",
    "import numpy as np\n",
    "import matplotlib.pyplot as plt\n",
    "import seaborn as sns\n",
    "import warnings\n",
    "warnings.filterwarnings(\"ignore\")"
   ]
  },
  {
   "cell_type": "code",
   "execution_count": 3,
   "metadata": {},
   "outputs": [],
   "source": [
    "matches = pd.read_csv('C:/Users/Hp/Desktop/WPL/matches.csv')\n",
    "deliveries = pd.read_csv('C:/Users/Hp/Desktop/WPL/deliveries.csv')"
   ]
  },
  {
   "cell_type": "code",
   "execution_count": 4,
   "metadata": {},
   "outputs": [],
   "source": [
    "all_matches = matches[(matches['team1'].isin(['Mumbai Indians', 'Delhi Capitals'])) & (matches['team2'].isin(['Mumbai Indians', 'Delhi Capitals']))]\n",
    "data = pd.merge(matches, deliveries, how = \"inner\", left_on = 'id', right_on = 'match_id')\n",
    "sub_data = data[(data['team1'].isin(['Mumbai Indians', 'Delhi Capitals'])) & (data['team2'].isin(['Mumbai Indians', 'Delhi Capitals']))]"
   ]
  },
  {
   "cell_type": "markdown",
   "metadata": {},
   "source": [
    "### Who will win the match??"
   ]
  },
  {
   "cell_type": "code",
   "execution_count": 5,
   "metadata": {},
   "outputs": [
    {
     "data": {
      "text/html": [
       "<div>\n",
       "<style scoped>\n",
       "    .dataframe tbody tr th:only-of-type {\n",
       "        vertical-align: middle;\n",
       "    }\n",
       "\n",
       "    .dataframe tbody tr th {\n",
       "        vertical-align: top;\n",
       "    }\n",
       "\n",
       "    .dataframe thead th {\n",
       "        text-align: right;\n",
       "    }\n",
       "</style>\n",
       "<table border=\"1\" class=\"dataframe\">\n",
       "  <thead>\n",
       "    <tr style=\"text-align: right;\">\n",
       "      <th></th>\n",
       "      <th>id</th>\n",
       "      <th>season</th>\n",
       "      <th>city</th>\n",
       "      <th>date</th>\n",
       "      <th>team1</th>\n",
       "      <th>team2</th>\n",
       "      <th>toss_winner</th>\n",
       "      <th>toss_decision</th>\n",
       "      <th>result</th>\n",
       "      <th>dl_applied</th>\n",
       "      <th>winner</th>\n",
       "      <th>win_by_runs</th>\n",
       "      <th>win_by_wickets</th>\n",
       "      <th>player_of_match</th>\n",
       "      <th>venue</th>\n",
       "      <th>umpire1</th>\n",
       "      <th>umpire2</th>\n",
       "      <th>umpire3</th>\n",
       "    </tr>\n",
       "  </thead>\n",
       "  <tbody>\n",
       "    <tr>\n",
       "      <th>23</th>\n",
       "      <td>24</td>\n",
       "      <td>2017</td>\n",
       "      <td>Mumbai</td>\n",
       "      <td>4/22/2017</td>\n",
       "      <td>Mumbai Indians</td>\n",
       "      <td>Delhi Capitals</td>\n",
       "      <td>Delhi Capitals</td>\n",
       "      <td>field</td>\n",
       "      <td>normal</td>\n",
       "      <td>0</td>\n",
       "      <td>Mumbai Indians</td>\n",
       "      <td>14</td>\n",
       "      <td>0</td>\n",
       "      <td>MJ McClenaghan</td>\n",
       "      <td>Wankhede Stadium</td>\n",
       "      <td>A Nand Kishore</td>\n",
       "      <td>S Ravi</td>\n",
       "      <td>NaN</td>\n",
       "    </tr>\n",
       "    <tr>\n",
       "      <th>43</th>\n",
       "      <td>44</td>\n",
       "      <td>2017</td>\n",
       "      <td>Delhi</td>\n",
       "      <td>5/6/2017</td>\n",
       "      <td>Mumbai Indians</td>\n",
       "      <td>Delhi Capitals</td>\n",
       "      <td>Delhi Capitals</td>\n",
       "      <td>field</td>\n",
       "      <td>normal</td>\n",
       "      <td>0</td>\n",
       "      <td>Mumbai Indians</td>\n",
       "      <td>146</td>\n",
       "      <td>0</td>\n",
       "      <td>LMP Simmons</td>\n",
       "      <td>Feroz Shah Kotla</td>\n",
       "      <td>Nitin Menon</td>\n",
       "      <td>CK Nandan</td>\n",
       "      <td>NaN</td>\n",
       "    </tr>\n",
       "    <tr>\n",
       "      <th>81</th>\n",
       "      <td>82</td>\n",
       "      <td>2008</td>\n",
       "      <td>Mumbai</td>\n",
       "      <td>5/4/2008</td>\n",
       "      <td>Mumbai Indians</td>\n",
       "      <td>Delhi Capitals</td>\n",
       "      <td>Delhi Capitals</td>\n",
       "      <td>field</td>\n",
       "      <td>normal</td>\n",
       "      <td>0</td>\n",
       "      <td>Mumbai Indians</td>\n",
       "      <td>29</td>\n",
       "      <td>0</td>\n",
       "      <td>SM Pollock</td>\n",
       "      <td>Dr DY Patil Sports Academy</td>\n",
       "      <td>IL Howell</td>\n",
       "      <td>RE Koertzen</td>\n",
       "      <td>NaN</td>\n",
       "    </tr>\n",
       "    <tr>\n",
       "      <th>108</th>\n",
       "      <td>109</td>\n",
       "      <td>2008</td>\n",
       "      <td>Delhi</td>\n",
       "      <td>5/24/2008</td>\n",
       "      <td>Mumbai Indians</td>\n",
       "      <td>Delhi Capitals</td>\n",
       "      <td>Delhi Capitals</td>\n",
       "      <td>field</td>\n",
       "      <td>normal</td>\n",
       "      <td>0</td>\n",
       "      <td>Delhi Capitals</td>\n",
       "      <td>0</td>\n",
       "      <td>5</td>\n",
       "      <td>KD Karthik</td>\n",
       "      <td>Feroz Shah Kotla</td>\n",
       "      <td>BF Bowden</td>\n",
       "      <td>K Hariharan</td>\n",
       "      <td>NaN</td>\n",
       "    </tr>\n",
       "    <tr>\n",
       "      <th>149</th>\n",
       "      <td>150</td>\n",
       "      <td>2009</td>\n",
       "      <td>East London</td>\n",
       "      <td>5/8/2009</td>\n",
       "      <td>Mumbai Indians</td>\n",
       "      <td>Delhi Capitals</td>\n",
       "      <td>Mumbai Indians</td>\n",
       "      <td>bat</td>\n",
       "      <td>normal</td>\n",
       "      <td>0</td>\n",
       "      <td>Delhi Capitals</td>\n",
       "      <td>0</td>\n",
       "      <td>7</td>\n",
       "      <td>A Nehra</td>\n",
       "      <td>Buffalo Park</td>\n",
       "      <td>M Erasmus</td>\n",
       "      <td>SK Tarapore</td>\n",
       "      <td>NaN</td>\n",
       "    </tr>\n",
       "  </tbody>\n",
       "</table>\n",
       "</div>"
      ],
      "text/plain": [
       "      id  season         city       date           team1           team2  \\\n",
       "23    24    2017       Mumbai  4/22/2017  Mumbai Indians  Delhi Capitals   \n",
       "43    44    2017        Delhi   5/6/2017  Mumbai Indians  Delhi Capitals   \n",
       "81    82    2008       Mumbai   5/4/2008  Mumbai Indians  Delhi Capitals   \n",
       "108  109    2008        Delhi  5/24/2008  Mumbai Indians  Delhi Capitals   \n",
       "149  150    2009  East London   5/8/2009  Mumbai Indians  Delhi Capitals   \n",
       "\n",
       "        toss_winner toss_decision  result  dl_applied          winner  \\\n",
       "23   Delhi Capitals         field  normal           0  Mumbai Indians   \n",
       "43   Delhi Capitals         field  normal           0  Mumbai Indians   \n",
       "81   Delhi Capitals         field  normal           0  Mumbai Indians   \n",
       "108  Delhi Capitals         field  normal           0  Delhi Capitals   \n",
       "149  Mumbai Indians           bat  normal           0  Delhi Capitals   \n",
       "\n",
       "     win_by_runs  win_by_wickets player_of_match                       venue  \\\n",
       "23            14               0  MJ McClenaghan            Wankhede Stadium   \n",
       "43           146               0     LMP Simmons            Feroz Shah Kotla   \n",
       "81            29               0      SM Pollock  Dr DY Patil Sports Academy   \n",
       "108            0               5      KD Karthik            Feroz Shah Kotla   \n",
       "149            0               7         A Nehra                Buffalo Park   \n",
       "\n",
       "            umpire1      umpire2 umpire3  \n",
       "23   A Nand Kishore       S Ravi     NaN  \n",
       "43      Nitin Menon    CK Nandan     NaN  \n",
       "81        IL Howell  RE Koertzen     NaN  \n",
       "108       BF Bowden  K Hariharan     NaN  \n",
       "149       M Erasmus  SK Tarapore     NaN  "
      ]
     },
     "execution_count": 5,
     "metadata": {},
     "output_type": "execute_result"
    }
   ],
   "source": [
    "all_matches.head()"
   ]
  },
  {
   "cell_type": "code",
   "execution_count": 6,
   "metadata": {},
   "outputs": [
    {
     "data": {
      "text/plain": [
       "<matplotlib.axes._subplots.AxesSubplot at 0x2d2af0d3cc8>"
      ]
     },
     "execution_count": 6,
     "metadata": {},
     "output_type": "execute_result"
    },
    {
     "data": {
      "image/png": "[encoded data removed]",
      "text/plain": [
       "<Figure size 432x288 with 1 Axes>"
      ]
     },
     "metadata": {
      "needs_background": "light"
     },
     "output_type": "display_data"
    }
   ],
   "source": [
    "all_matches['winner'].value_counts(normalize=True).plot.bar(title='% Win for each team', color=['Red', 'Blue'])"
   ]
  },
  {
   "cell_type": "code",
   "execution_count": 7,
   "metadata": {},
   "outputs": [],
   "source": [
    "qualifier_round = matches.groupby('season')['id'].unique().apply(lambda x : x[-1])\n",
    "\n",
    "match_id = []\n",
    "for i in qualifier_round:\n",
    "    match_id.append(i)\n",
    "    \n",
    "sub_data1 = matches[matches['id'].isin(match_id)]"
   ]
  },
  {
   "cell_type": "code",
   "execution_count": 8,
   "metadata": {},
   "outputs": [
    {
     "data": {
      "text/plain": [
       "<matplotlib.axes._subplots.AxesSubplot at 0x2d2af8e4908>"
      ]
     },
     "execution_count": 8,
     "metadata": {},
     "output_type": "execute_result"
    },
    {
     "data": {
      "image/png": "[encoded data removed]",
      "text/plain": [
       "<Figure size 432x288 with 1 Axes>"
      ]
     },
     "metadata": {
      "needs_background": "light"
     },
     "output_type": "display_data"
    }
   ],
   "source": [
    "sub_data1['winner'].value_counts(normalize=True).plot.bar(title='% Win for each team in IPL Final', color=['Blue', 'Yellow', 'Purple','Pink', 'DarkBlue', 'Orange'])"
   ]
  },
  {
   "cell_type": "code",
   "execution_count": 9,
   "metadata": {},
   "outputs": [
    {
     "data": {
      "text/plain": [
       "<matplotlib.axes._subplots.AxesSubplot at 0x2d2af964748>"
      ]
     },
     "execution_count": 9,
     "metadata": {},
     "output_type": "execute_result"
    },
    {
     "data": {
      "image/png": "[encoded data removed]",
      "text/plain": [
       "<Figure size 432x288 with 1 Axes>"
      ]
     },
     "metadata": {
      "needs_background": "light"
     },
     "output_type": "display_data"
    }
   ],
   "source": [
    "sub_data1['toss_decision'].value_counts(normalize=True).plot.bar(title='Toss decision of winning captain in IPL Final')"
   ]
  },
  {
   "cell_type": "code",
   "execution_count": 171,
   "metadata": {},
   "outputs": [
    {
     "data": {
      "text/plain": [
       "toss_winner     toss_decision  winner        \n",
       "Delhi Capitals  bat            Mumbai Indians     462\n",
       "                               Delhi Capitals     247\n",
       "                field          Mumbai Indians    1661\n",
       "                               Delhi Capitals     949\n",
       "Mumbai Indians  bat            Mumbai Indians     742\n",
       "                               Delhi Capitals     713\n",
       "                field          Delhi Capitals    1001\n",
       "Name: winner, dtype: int64"
      ]
     },
     "execution_count": 171,
     "metadata": {},
     "output_type": "execute_result"
    }
   ],
   "source": [
    "sub_data.groupby(['toss_winner', 'toss_decision'])['winner'].value_counts()"
   ]
  },
  {
   "cell_type": "code",
   "execution_count": 10,
   "metadata": {},
   "outputs": [
    {
     "data": {
      "text/plain": [
       "toss_winner                  toss_decision  winner               \n",
       "Chennai Super Kings          bat            Chennai Super Kings      2\n",
       "                                            Kolkata Knight Riders    1\n",
       "                             field          Chennai Super Kings      1\n",
       "                                            Mumbai Indians           1\n",
       "Kolkata Knight Riders        field          Kolkata Knight Riders    1\n",
       "Mumbai Indians               bat            Mumbai Indians           3\n",
       "Rajasthan Royals             field          Rajasthan Royals         1\n",
       "Royal Challengers Bangalore  field          Deccan Chargers          1\n",
       "Sunrisers Hyderabad          bat            Sunrisers Hyderabad      1\n",
       "Name: winner, dtype: int64"
      ]
     },
     "execution_count": 10,
     "metadata": {},
     "output_type": "execute_result"
    }
   ],
   "source": [
    "sub_data1.groupby(['toss_winner', 'toss_decision'])['winner'].value_counts()"
   ]
  },
  {
   "cell_type": "code",
   "execution_count": 11,
   "metadata": {},
   "outputs": [
    {
     "data": {
      "text/html": [
       "<div>\n",
       "<style scoped>\n",
       "    .dataframe tbody tr th:only-of-type {\n",
       "        vertical-align: middle;\n",
       "    }\n",
       "\n",
       "    .dataframe tbody tr th {\n",
       "        vertical-align: top;\n",
       "    }\n",
       "\n",
       "    .dataframe thead th {\n",
       "        text-align: right;\n",
       "    }\n",
       "</style>\n",
       "<table border=\"1\" class=\"dataframe\">\n",
       "  <thead>\n",
       "    <tr style=\"text-align: right;\">\n",
       "      <th></th>\n",
       "      <th>win_by_runs</th>\n",
       "      <th>win_by_wickets</th>\n",
       "    </tr>\n",
       "    <tr>\n",
       "      <th>winner</th>\n",
       "      <th></th>\n",
       "      <th></th>\n",
       "    </tr>\n",
       "  </thead>\n",
       "  <tbody>\n",
       "    <tr>\n",
       "      <th>Chennai Super Kings</th>\n",
       "      <td>58</td>\n",
       "      <td>8</td>\n",
       "    </tr>\n",
       "    <tr>\n",
       "      <th>Deccan Chargers</th>\n",
       "      <td>6</td>\n",
       "      <td>0</td>\n",
       "    </tr>\n",
       "    <tr>\n",
       "      <th>Kolkata Knight Riders</th>\n",
       "      <td>0</td>\n",
       "      <td>5</td>\n",
       "    </tr>\n",
       "    <tr>\n",
       "      <th>Mumbai Indians</th>\n",
       "      <td>41</td>\n",
       "      <td>0</td>\n",
       "    </tr>\n",
       "    <tr>\n",
       "      <th>Rajasthan Royals</th>\n",
       "      <td>0</td>\n",
       "      <td>3</td>\n",
       "    </tr>\n",
       "    <tr>\n",
       "      <th>Sunrisers Hyderabad</th>\n",
       "      <td>8</td>\n",
       "      <td>0</td>\n",
       "    </tr>\n",
       "  </tbody>\n",
       "</table>\n",
       "</div>"
      ],
      "text/plain": [
       "                       win_by_runs  win_by_wickets\n",
       "winner                                            \n",
       "Chennai Super Kings             58               8\n",
       "Deccan Chargers                  6               0\n",
       "Kolkata Knight Riders            0               5\n",
       "Mumbai Indians                  41               0\n",
       "Rajasthan Royals                 0               3\n",
       "Sunrisers Hyderabad              8               0"
      ]
     },
     "execution_count": 11,
     "metadata": {},
     "output_type": "execute_result"
    }
   ],
   "source": [
    "sub_data1.groupby(['winner'])['win_by_runs', 'win_by_wickets'].max()"
   ]
  },
  {
   "cell_type": "code",
   "execution_count": 12,
   "metadata": {},
   "outputs": [
    {
     "data": {
      "text/plain": [
       "array(['KH Pandya', 'YK Pathan', 'A Kumble', 'SK Raina', 'M Vijay',\n",
       "       'MS Bisla', 'KA Pollard', 'MK Pandey', 'RG Sharma', 'BCJ Cutting',\n",
       "       'SR Watson', 'JJ Bumrah'], dtype=object)"
      ]
     },
     "execution_count": 12,
     "metadata": {},
     "output_type": "execute_result"
    }
   ],
   "source": [
    "sub_data1['player_of_match'].unique()"
   ]
  },
  {
   "cell_type": "code",
   "execution_count": 13,
   "metadata": {},
   "outputs": [],
   "source": [
    "match_id1 = sub_data1[(sub_data1['team1'].isin(['Mumbai Indians', 'Delhi Capitals'])) | (sub_data1['team2'].isin(['Mumbai Indians', 'Delhi Capitals']))]['id']"
   ]
  },
  {
   "cell_type": "code",
   "execution_count": 14,
   "metadata": {},
   "outputs": [],
   "source": [
    "sub_data2 = data[data['match_id'].isin(match_id1)]"
   ]
  },
  {
   "cell_type": "code",
   "execution_count": 15,
   "metadata": {},
   "outputs": [
    {
     "data": {
      "text/plain": [
       "match_id  batsman     \n",
       "11415     SR Watson       84\n",
       "576       LMP Simmons     68\n",
       "457       MS Dhoni        63\n",
       "          KA Pollard      60\n",
       "234       SK Raina        57\n",
       "576       DR Smith        57\n",
       "59        SPD Smith       51\n",
       "576       RG Sharma       50\n",
       "234       SR Tendulkar    48\n",
       "59        KH Pandya       47\n",
       "Name: batsman_runs, dtype: int64"
      ]
     },
     "execution_count": 15,
     "metadata": {},
     "output_type": "execute_result"
    }
   ],
   "source": [
    "sub_data2.groupby(['match_id', 'batsman'])['batsman_runs'].sum().sort_values(ascending=False).head(10)"
   ]
  },
  {
   "cell_type": "code",
   "execution_count": 16,
   "metadata": {},
   "outputs": [
    {
     "data": {
      "text/plain": [
       "match_id  bowler         \n",
       "59        MG Johnson         4\n",
       "457       DJ Bravo           4\n",
       "11415     DL Chahar          3\n",
       "576       MJ McClenaghan     3\n",
       "234       SK Raina           2\n",
       "11415     SL Malinga         2\n",
       "457       MG Johnson         2\n",
       "          JA Morkel          2\n",
       "          Harbhajan Singh    2\n",
       "          CH Morris          2\n",
       "Name: player_dismissed, dtype: int64"
      ]
     },
     "execution_count": 16,
     "metadata": {},
     "output_type": "execute_result"
    }
   ],
   "source": [
    "sub_data2.groupby(['match_id', 'bowler'])['player_dismissed'].count().sort_values(ascending=False).head(10)"
   ]
  },
  {
   "cell_type": "markdown",
   "metadata": {},
   "source": [
    "### How many wickets will K Rabada will take??"
   ]
  },
  {
   "cell_type": "code",
   "execution_count": 19,
   "metadata": {},
   "outputs": [],
   "source": [
    "sub_data3 = data[data['bowler']=='K Rabada']"
   ]
  },
  {
   "cell_type": "code",
   "execution_count": 18,
   "metadata": {},
   "outputs": [],
   "source": [
    "sub_data4 = sub_data[sub_data['bowler']=='K Rabada']"
   ]
  },
  {
   "cell_type": "code",
   "execution_count": 28,
   "metadata": {},
   "outputs": [
    {
     "data": {
      "text/plain": [
       "<matplotlib.axes._subplots.AxesSubplot at 0x2d2b0a2d4c8>"
      ]
     },
     "execution_count": 28,
     "metadata": {},
     "output_type": "execute_result"
    },
    {
     "data": {
      "image/png": "[encoded data removed]",
      "text/plain": [
       "<Figure size 1080x360 with 2 Axes>"
      ]
     },
     "metadata": {
      "needs_background": "light"
     },
     "output_type": "display_data"
    }
   ],
   "source": [
    "plt.subplot(1, 2, 1)\n",
    "sub_data3.groupby('match_id')['player_dismissed'].count().plot.bar(title='Wickets taken by K Rabada in all matches', figsize=(15, 5))\n",
    "\n",
    "plt.subplot(1, 2, 2)\n",
    "sub_data3.groupby('match_id')['player_dismissed'].count().plot.box(title='Wickets taken by K Rabada in all matches')\n"
   ]
  },
  {
   "cell_type": "code",
   "execution_count": 29,
   "metadata": {},
   "outputs": [
    {
     "data": {
      "text/plain": [
       "<matplotlib.axes._subplots.AxesSubplot at 0x2d2b0981e88>"
      ]
     },
     "execution_count": 29,
     "metadata": {},
     "output_type": "execute_result"
    },
    {
     "data": {
      "image/png": "[encoded data removed]",
      "text/plain": [
       "<Figure size 1080x360 with 2 Axes>"
      ]
     },
     "metadata": {
      "needs_background": "light"
     },
     "output_type": "display_data"
    }
   ],
   "source": [
    "plt.subplot(1, 2, 1)\n",
    "sub_data4.groupby('match_id')['player_dismissed'].count().plot.bar(title='Wickets taken by K Rabada in all matches against MI', figsize=(15, 5))\n",
    "\n",
    "plt.subplot(1, 2, 2)\n",
    "sub_data4.groupby('match_id')['player_dismissed'].count().plot.box(title='Wickets taken by K Rabada in all matches')"
   ]
  },
  {
   "cell_type": "code",
   "execution_count": 33,
   "metadata": {},
   "outputs": [
    {
     "data": {
      "text/plain": [
       "<matplotlib.axes._subplots.AxesSubplot at 0x2d2b0ed8848>"
      ]
     },
     "execution_count": 33,
     "metadata": {},
     "output_type": "execute_result"
    },
    {
     "data": {
      "image/png": "[encoded data removed]",
      "text/plain": [
       "<Figure size 1080x360 with 2 Axes>"
      ]
     },
     "metadata": {
      "needs_background": "light"
     },
     "output_type": "display_data"
    }
   ],
   "source": [
    "plt.subplot(1, 2, 1)\n",
    "(sub_data3.groupby('match_id')['total_runs'].sum() / sub_data3.groupby('match_id')['over'].unique().apply(lambda x : len(x))).plot.box(title='Boxplot distribution of Economy rate of Rabada against all teams', figsize=(15, 5))\n",
    "\n",
    "plt.subplot(1, 2, 2)\n",
    "(sub_data4.groupby('match_id')['total_runs'].sum() / sub_data3.groupby('match_id')['over'].unique().apply(lambda x : len(x))).plot.box(title='Boxplot of Rabada Economy rate against MI')"
   ]
  },
  {
   "cell_type": "code",
   "execution_count": 37,
   "metadata": {},
   "outputs": [
    {
     "data": {
      "text/plain": [
       "toss_decision\n",
       "bat      2.0\n",
       "field    2.0\n",
       "Name: player_dismissed, dtype: float64"
      ]
     },
     "execution_count": 37,
     "metadata": {},
     "output_type": "execute_result"
    }
   ],
   "source": [
    "round(sub_data3.groupby(['match_id', 'toss_decision'])['player_dismissed'].count().groupby('toss_decision').mean())"
   ]
  },
  {
   "cell_type": "code",
   "execution_count": 38,
   "metadata": {},
   "outputs": [
    {
     "data": {
      "text/plain": [
       "toss_decision\n",
       "bat      2.0\n",
       "field    2.0\n",
       "Name: player_dismissed, dtype: float64"
      ]
     },
     "execution_count": 38,
     "metadata": {},
     "output_type": "execute_result"
    }
   ],
   "source": [
    "round(sub_data4.groupby(['match_id', 'toss_decision'])['player_dismissed'].count().groupby('toss_decision').mean())"
   ]
  },
  {
   "cell_type": "code",
   "execution_count": 47,
   "metadata": {},
   "outputs": [
    {
     "data": {
      "text/plain": [
       "match_id\n",
       "24        [1, 4, 11, 19]\n",
       "31        [2, 6, 15, 17]\n",
       "35                [2, 4]\n",
       "39        [2, 5, 18, 20]\n",
       "41        [2, 5, 17, 19]\n",
       "44        [2, 4, 16, 19]\n",
       "11139     [5, 7, 17, 19]\n",
       "11141     [4, 6, 16, 20]\n",
       "11146     [1, 7, 17, 20]\n",
       "11149     [1, 5, 18, 20]\n",
       "11152     [6, 8, 17, 19]\n",
       "11311     [6, 8, 18, 20]\n",
       "11317     [4, 9, 16, 18]\n",
       "11321     [2, 6, 17, 19]\n",
       "11325    [2, 14, 16, 20]\n",
       "11328    [5, 12, 18, 20]\n",
       "11331     [2, 6, 18, 20]\n",
       "11337     [4, 6, 18, 20]\n",
       "Name: over, dtype: object"
      ]
     },
     "execution_count": 47,
     "metadata": {},
     "output_type": "execute_result"
    }
   ],
   "source": [
    "sub_data3.groupby(['match_id'])['over'].unique()"
   ]
  },
  {
   "cell_type": "code",
   "execution_count": 59,
   "metadata": {},
   "outputs": [
    {
     "data": {
      "text/plain": [
       "<matplotlib.axes._subplots.AxesSubplot at 0x2d2b0b94d48>"
      ]
     },
     "execution_count": 59,
     "metadata": {},
     "output_type": "execute_result"
    },
    {
     "data": {
      "image/png": "[encoded data removed]",
      "text/plain": [
       "<Figure size 1080x360 with 2 Axes>"
      ]
     },
     "metadata": {
      "needs_background": "light"
     },
     "output_type": "display_data"
    }
   ],
   "source": [
    "plt.subplot(1, 2 ,1)\n",
    "sub_data3[sub_data3['over'].isin(range(1,7))].groupby('match_id')['player_dismissed'].count().plot.box(title='Wickets taken in powerplay against all teams', figsize=(15,5))\n",
    "\n",
    "plt.subplot(1, 2 ,2)\n",
    "sub_data3[sub_data3['over'].isin(range(15,21))].groupby('match_id')['player_dismissed'].count().plot.box(title='Wickets taken in powerplay')"
   ]
  },
  {
   "cell_type": "code",
   "execution_count": 60,
   "metadata": {},
   "outputs": [
    {
     "data": {
      "text/plain": [
       "<matplotlib.axes._subplots.AxesSubplot at 0x2d2b147b1c8>"
      ]
     },
     "execution_count": 60,
     "metadata": {},
     "output_type": "execute_result"
    },
    {
     "data": {
      "image/png": "[encoded data removed]",
      "text/plain": [
       "<Figure size 1080x360 with 2 Axes>"
      ]
     },
     "metadata": {
      "needs_background": "light"
     },
     "output_type": "display_data"
    }
   ],
   "source": [
    "plt.subplot(1, 2 ,1)\n",
    "sub_data4[sub_data4['over'].isin(range(1,7))].groupby('match_id')['player_dismissed'].count().plot.box(title='Wickets taken in powerplay against MI', figsize=(15,5))\n",
    "\n",
    "plt.subplot(1, 2 ,2)\n",
    "sub_data4[sub_data3['over'].isin(range(15,21))].groupby('match_id')['player_dismissed'].count().plot.box(title='Wickets taken in powerplay')"
   ]
  },
  {
   "cell_type": "code",
   "execution_count": 63,
   "metadata": {},
   "outputs": [
    {
     "data": {
      "text/plain": [
       "<matplotlib.axes._subplots.AxesSubplot at 0x2d2b151ab08>"
      ]
     },
     "execution_count": 63,
     "metadata": {},
     "output_type": "execute_result"
    },
    {
     "data": {
      "image/png": "[encoded data removed]",
      "text/plain": [
       "<Figure size 432x288 with 1 Axes>"
      ]
     },
     "metadata": {
      "needs_background": "light"
     },
     "output_type": "display_data"
    }
   ],
   "source": [
    "sub_data3.groupby(['batsman'])['player_dismissed'].count().sort_values(ascending=False).head(10).plot.bar()"
   ]
  },
  {
   "cell_type": "code",
   "execution_count": 64,
   "metadata": {},
   "outputs": [
    {
     "data": {
      "text/plain": [
       "<matplotlib.axes._subplots.AxesSubplot at 0x2d2b15ae2c8>"
      ]
     },
     "execution_count": 64,
     "metadata": {},
     "output_type": "execute_result"
    },
    {
     "data": {
      "image/png": "[encoded data removed]",
      "text/plain": [
       "<Figure size 432x288 with 1 Axes>"
      ]
     },
     "metadata": {
      "needs_background": "light"
     },
     "output_type": "display_data"
    }
   ],
   "source": [
    "sub_data4.groupby(['batsman'])['player_dismissed'].count().sort_values(ascending=False).head(10).plot.bar()"
   ]
  },
  {
   "cell_type": "code",
   "execution_count": 83,
   "metadata": {},
   "outputs": [
    {
     "data": {
      "text/plain": [
       "(-1.25, 1.25, -1.25, 1.25)"
      ]
     },
     "execution_count": 83,
     "metadata": {},
     "output_type": "execute_result"
    },
    {
     "data": {
      "image/png": "[encoded data removed]",
      "text/plain": [
       "<Figure size 432x288 with 1 Axes>"
      ]
     },
     "metadata": {},
     "output_type": "display_data"
    }
   ],
   "source": [
    "sub_data3['dismissal_kind'].value_counts().plot.pie(title='Dismissal kind of Rabada Wickets', autopct = '%1.1f%%', explode = (0.02, 0.02, 0.02))\n",
    "plt.axis(\"off\")"
   ]
  },
  {
   "cell_type": "code",
   "execution_count": 84,
   "metadata": {},
   "outputs": [
    {
     "data": {
      "text/plain": [
       "dismissal_kind  batsman     \n",
       "bowled          PA Patel        1\n",
       "caught          AS Yadav        1\n",
       "                BCJ Cutting     1\n",
       "                HH Pandya       1\n",
       "                RG Sharma       1\n",
       "                Yuvraj Singh    1\n",
       "run out         HH Pandya       1\n",
       "Name: player_dismissed, dtype: int64"
      ]
     },
     "execution_count": 84,
     "metadata": {},
     "output_type": "execute_result"
    }
   ],
   "source": [
    "sub_data4.groupby(['dismissal_kind', 'batsman'])['player_dismissed'].count()"
   ]
  },
  {
   "cell_type": "markdown",
   "metadata": {},
   "source": [
    "### How many runs will be scored by H Pandya in the match??"
   ]
  },
  {
   "cell_type": "code",
   "execution_count": 86,
   "metadata": {},
   "outputs": [],
   "source": [
    "sub_data5 = sub_data[sub_data['batsman']=='HH Pandya']"
   ]
  },
  {
   "cell_type": "code",
   "execution_count": 122,
   "metadata": {},
   "outputs": [],
   "source": [
    "batting_pos = []\n",
    "for i in sub_data[sub_data['batting_team']=='Mumbai Indians'].groupby('match_id')['player_dismissed'].unique().tolist():\n",
    "    count = 0\n",
    "    for j in i:\n",
    "        if j == 'HH Pandya':\n",
    "            batting_pos.append(count)\n",
    "            break\n",
    "        else:\n",
    "            count += 1"
   ]
  },
  {
   "cell_type": "code",
   "execution_count": 123,
   "metadata": {},
   "outputs": [
    {
     "data": {
      "text/plain": [
       "[8, 6, 2, 7, 7, 5, 5]"
      ]
     },
     "execution_count": 123,
     "metadata": {},
     "output_type": "execute_result"
    }
   ],
   "source": [
    "batting_pos"
   ]
  },
  {
   "cell_type": "code",
   "execution_count": 126,
   "metadata": {},
   "outputs": [
    {
     "data": {
      "text/plain": [
       "<matplotlib.axes._subplots.AxesSubplot at 0x2d2b2079448>"
      ]
     },
     "execution_count": 126,
     "metadata": {},
     "output_type": "execute_result"
    },
    {
     "data": {
      "image/png": "[encoded data removed]",
      "text/plain": [
       "<Figure size 1080x360 with 2 Axes>"
      ]
     },
     "metadata": {
      "needs_background": "light"
     },
     "output_type": "display_data"
    }
   ],
   "source": [
    "plt.subplot(1, 2, 1)\n",
    "sub_data5.groupby('match_id')['batsman_runs'].sum().plot.bar(figsize=(15,5))\n",
    "\n",
    "plt.subplot(1, 2, 2)\n",
    "sub_data5.groupby('match_id')['batsman_runs'].sum().plot.box()"
   ]
  },
  {
   "cell_type": "code",
   "execution_count": 129,
   "metadata": {},
   "outputs": [
    {
     "data": {
      "text/plain": [
       "match_id  bowler         \n",
       "24        A Mishra            2\n",
       "          CH Morris          10\n",
       "          K Rabada            7\n",
       "          PJ Cummins          4\n",
       "          Z Khan              1\n",
       "44        CJ Anderson         8\n",
       "          K Rabada            4\n",
       "          PJ Cummins         17\n",
       "539       Imran Tahir         0\n",
       "556       NM Coulter-Nile     0\n",
       "          Z Khan              5\n",
       "593       CH Morris           2\n",
       "7902      Mohammed Shami      1\n",
       "          TA Boult            1\n",
       "7948      A Mishra            4\n",
       "          HV Patel            2\n",
       "          S Lamichhane       13\n",
       "          TA Boult           10\n",
       "11139     AR Patel            0\n",
       "11325     CH Morris          13\n",
       "          K Paul             12\n",
       "          K Rabada            7\n",
       "Name: batsman_runs, dtype: int64"
      ]
     },
     "execution_count": 129,
     "metadata": {},
     "output_type": "execute_result"
    }
   ],
   "source": [
    "sub_data5.groupby(['match_id', 'bowler'])['batsman_runs'].sum()"
   ]
  },
  {
   "cell_type": "code",
   "execution_count": 136,
   "metadata": {},
   "outputs": [
    {
     "data": {
      "text/plain": [
       "<matplotlib.axes._subplots.AxesSubplot at 0x2d2b363d408>"
      ]
     },
     "execution_count": 136,
     "metadata": {},
     "output_type": "execute_result"
    },
    {
     "data": {
      "image/png": "[encoded data removed]",
      "text/plain": [
       "<Figure size 1080x360 with 2 Axes>"
      ]
     },
     "metadata": {
      "needs_background": "light"
     },
     "output_type": "display_data"
    }
   ],
   "source": [
    "plt.subplot(1, 2, 1)\n",
    "sub_data[sub_data['batting_team']=='Mumbai Indians'].groupby('match_id')['player_dismissed'].count().plot.bar(title='Wickets fallen of MI in all matches', figsize=(15,5))\n",
    "\n",
    "plt.subplot(1, 2, 2)\n",
    "sub_data[sub_data['batting_team']=='Mumbai Indians'].groupby('match_id')['player_dismissed'].count().plot.box(title='Wickets fallen of MI in all matches')"
   ]
  },
  {
   "cell_type": "markdown",
   "metadata": {},
   "source": [
    "### How many no-balls will be bowled in the match??"
   ]
  },
  {
   "cell_type": "code",
   "execution_count": 138,
   "metadata": {},
   "outputs": [],
   "source": [
    "sub_data6 = sub_data[sub_data['noball_runs']!=0]"
   ]
  },
  {
   "cell_type": "code",
   "execution_count": 144,
   "metadata": {},
   "outputs": [
    {
     "data": {
      "text/plain": [
       "<matplotlib.axes._subplots.AxesSubplot at 0x2d2b372f448>"
      ]
     },
     "execution_count": 144,
     "metadata": {},
     "output_type": "execute_result"
    },
    {
     "data": {
      "image/png": "[encoded data removed]",
      "text/plain": [
       "<Figure size 432x288 with 1 Axes>"
      ]
     },
     "metadata": {
      "needs_background": "light"
     },
     "output_type": "display_data"
    }
   ],
   "source": [
    "sub_data6.groupby(['match_id', 'bowling_team'])['ball'].count().plot.bar(title='No balls bowled by both teams')"
   ]
  },
  {
   "cell_type": "code",
   "execution_count": 146,
   "metadata": {},
   "outputs": [
    {
     "data": {
      "text/plain": [
       "bowling_team\n",
       "Delhi Capitals    1.0\n",
       "Mumbai Indians    1.0\n",
       "Name: ball, dtype: float64"
      ]
     },
     "execution_count": 146,
     "metadata": {},
     "output_type": "execute_result"
    }
   ],
   "source": [
    "round(sub_data6.groupby(['match_id', 'bowling_team'])['ball'].count().groupby('bowling_team').mean())"
   ]
  },
  {
   "cell_type": "code",
   "execution_count": 149,
   "metadata": {},
   "outputs": [
    {
     "data": {
      "text/plain": [
       "bowler\n",
       "A Mishra        1.000000\n",
       "A Nehra         1.000000\n",
       "CRD Fernando    1.000000\n",
       "DP Nannes       1.000000\n",
       "DR Smith        1.000000\n",
       "DS Kulkarni     1.000000\n",
       "GD McGrath      1.000000\n",
       "JJ Bumrah       1.500000\n",
       "K Paul          1.000000\n",
       "K Rabada        1.000000\n",
       "M Morkel        1.000000\n",
       "M de Lange      1.000000\n",
       "MF Maharoof     1.000000\n",
       "PJ Sangwan      1.500000\n",
       "R Salam         2.000000\n",
       "SL Malinga      1.333333\n",
       "UT Yadav        1.000000\n",
       "WD Parnell      1.000000\n",
       "Name: ball, dtype: float64"
      ]
     },
     "execution_count": 149,
     "metadata": {},
     "output_type": "execute_result"
    }
   ],
   "source": [
    "sub_data6.groupby(['match_id', 'bowler'])['ball'].count().groupby('bowler').mean()"
   ]
  },
  {
   "cell_type": "markdown",
   "metadata": {},
   "source": [
    "### How many runs will be scored in total by both teams??"
   ]
  },
  {
   "cell_type": "code",
   "execution_count": 154,
   "metadata": {},
   "outputs": [
    {
     "data": {
      "text/plain": [
       "<matplotlib.axes._subplots.AxesSubplot at 0x2d2b3a8a208>"
      ]
     },
     "execution_count": 154,
     "metadata": {},
     "output_type": "execute_result"
    },
    {
     "data": {
      "image/png": "[encoded data removed]",
      "text/plain": [
       "<Figure size 1080x360 with 2 Axes>"
      ]
     },
     "metadata": {
      "needs_background": "light"
     },
     "output_type": "display_data"
    }
   ],
   "source": [
    "plt.subplot(1, 2, 1)\n",
    "sub_data.groupby('match_id')['total_runs'].sum().plot.bar(title='Total runs scored in all matches', figsize=(15,5))\n",
    "\n",
    "plt.subplot(1, 2, 2)\n",
    "sub_data.groupby('match_id')['total_runs'].sum().plot.box(title='Total runs scored in all matches')"
   ]
  },
  {
   "cell_type": "code",
   "execution_count": 157,
   "metadata": {},
   "outputs": [
    {
     "data": {
      "text/plain": [
       "batting_team\n",
       "Delhi Capitals    149.0\n",
       "Mumbai Indians    166.0\n",
       "Name: total_runs, dtype: float64"
      ]
     },
     "execution_count": 157,
     "metadata": {},
     "output_type": "execute_result"
    }
   ],
   "source": [
    "round(sub_data.groupby(['match_id', 'batting_team'])['total_runs'].sum().groupby('batting_team').mean())"
   ]
  },
  {
   "cell_type": "code",
   "execution_count": 166,
   "metadata": {},
   "outputs": [
    {
     "data": {
      "text/plain": [
       "batting_team\n",
       "Delhi Capitals    144.0\n",
       "Mumbai Indians    161.0\n",
       "Name: total_runs, dtype: float64"
      ]
     },
     "execution_count": 166,
     "metadata": {},
     "output_type": "execute_result"
    }
   ],
   "source": [
    "round(sub_data[(sub_data['toss_decision']=='bat') & (sub_data['batting_team']==sub_data['toss_winner'])].groupby(['match_id', 'batting_team'])['total_runs'].sum().groupby('batting_team').mean())"
   ]
  },
  {
   "cell_type": "markdown",
   "metadata": {},
   "source": [
    "It is clear from the above analysis that the average score of MI is more as compared to DC."
   ]
  }
 ],
 "metadata": {
  "kernelspec": {
   "display_name": "Python 3",
   "language": "python",
   "name": "python3"
  },
  "language_info": {
   "codemirror_mode": {
    "name": "ipython",
    "version": 3
   },
   "file_extension": ".py",
   "mimetype": "text/x-python",
   "name": "python",
   "nbconvert_exporter": "python",
   "pygments_lexer": "ipython3",
   "version": "3.7.6"
  }
 },
 "nbformat": 4,
 "nbformat_minor": 4
}
