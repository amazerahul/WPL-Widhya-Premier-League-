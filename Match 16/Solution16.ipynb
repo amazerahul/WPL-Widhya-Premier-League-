{
 "cells": [
  {
   "cell_type": "code",
   "execution_count": 1,
   "metadata": {},
   "outputs": [],
   "source": [
    "import pandas as pd\n",
    "import numpy as np\n",
    "import matplotlib.pyplot as plt\n",
    "import seaborn as sns\n",
    "import warnings \n",
    "warnings.filterwarnings(\"ignore\")"
   ]
  },
  {
   "cell_type": "code",
   "execution_count": 2,
   "metadata": {},
   "outputs": [],
   "source": [
    "matches = pd.read_csv('C:/Users/Hp/Desktop/WPL/matches.csv')\n",
    "deliveries = pd.read_csv('C:/Users/Hp/Desktop/WPL/deliveries.csv')"
   ]
  },
  {
   "cell_type": "code",
   "execution_count": 3,
   "metadata": {},
   "outputs": [],
   "source": [
    "all_matches = matches[(matches['team1'].isin(['Kolkata Knight Riders', 'Kings XI Punjab'])) & (matches['team2'].isin(['Kolkata Knight Riders', 'Kings XI Punjab']))]"
   ]
  },
  {
   "cell_type": "code",
   "execution_count": 4,
   "metadata": {},
   "outputs": [],
   "source": [
    "data = pd.merge(matches, deliveries, how = \"inner\", left_on = 'id', right_on = 'match_id')"
   ]
  },
  {
   "cell_type": "code",
   "execution_count": 5,
   "metadata": {},
   "outputs": [],
   "source": [
    "sub_data = data[(data['team1'].isin(['Kolkata Knight Riders', 'Kings XI Punjab'])) & (data['team2'].isin(['Kolkata Knight Riders', 'Kings XI Punjab']))]"
   ]
  },
  {
   "cell_type": "markdown",
   "metadata": {},
   "source": [
    "### Who will win the match??"
   ]
  },
  {
   "cell_type": "code",
   "execution_count": 6,
   "metadata": {},
   "outputs": [
    {
     "data": {
      "text/html": [
       "<div>\n",
       "<style scoped>\n",
       "    .dataframe tbody tr th:only-of-type {\n",
       "        vertical-align: middle;\n",
       "    }\n",
       "\n",
       "    .dataframe tbody tr th {\n",
       "        vertical-align: top;\n",
       "    }\n",
       "\n",
       "    .dataframe thead th {\n",
       "        text-align: right;\n",
       "    }\n",
       "</style>\n",
       "<table border=\"1\" class=\"dataframe\">\n",
       "  <thead>\n",
       "    <tr style=\"text-align: right;\">\n",
       "      <th></th>\n",
       "      <th>id</th>\n",
       "      <th>season</th>\n",
       "      <th>city</th>\n",
       "      <th>date</th>\n",
       "      <th>team1</th>\n",
       "      <th>team2</th>\n",
       "      <th>toss_winner</th>\n",
       "      <th>toss_decision</th>\n",
       "      <th>result</th>\n",
       "      <th>dl_applied</th>\n",
       "      <th>winner</th>\n",
       "      <th>win_by_runs</th>\n",
       "      <th>win_by_wickets</th>\n",
       "      <th>player_of_match</th>\n",
       "      <th>venue</th>\n",
       "      <th>umpire1</th>\n",
       "      <th>umpire2</th>\n",
       "      <th>umpire3</th>\n",
       "    </tr>\n",
       "  </thead>\n",
       "  <tbody>\n",
       "    <tr>\n",
       "      <th>10</th>\n",
       "      <td>11</td>\n",
       "      <td>2017</td>\n",
       "      <td>Kolkata</td>\n",
       "      <td>4/13/2017</td>\n",
       "      <td>Kings XI Punjab</td>\n",
       "      <td>Kolkata Knight Riders</td>\n",
       "      <td>Kolkata Knight Riders</td>\n",
       "      <td>field</td>\n",
       "      <td>normal</td>\n",
       "      <td>0</td>\n",
       "      <td>Kolkata Knight Riders</td>\n",
       "      <td>0</td>\n",
       "      <td>8</td>\n",
       "      <td>SP Narine</td>\n",
       "      <td>Eden Gardens</td>\n",
       "      <td>A Deshmukh</td>\n",
       "      <td>NJ Llong</td>\n",
       "      <td>NaN</td>\n",
       "    </tr>\n",
       "    <tr>\n",
       "      <th>47</th>\n",
       "      <td>48</td>\n",
       "      <td>2017</td>\n",
       "      <td>Chandigarh</td>\n",
       "      <td>5/9/2017</td>\n",
       "      <td>Kings XI Punjab</td>\n",
       "      <td>Kolkata Knight Riders</td>\n",
       "      <td>Kolkata Knight Riders</td>\n",
       "      <td>field</td>\n",
       "      <td>normal</td>\n",
       "      <td>0</td>\n",
       "      <td>Kings XI Punjab</td>\n",
       "      <td>14</td>\n",
       "      <td>0</td>\n",
       "      <td>MM Sharma</td>\n",
       "      <td>Punjab Cricket Association IS Bindra Stadium, ...</td>\n",
       "      <td>A Nand Kishore</td>\n",
       "      <td>S Ravi</td>\n",
       "      <td>NaN</td>\n",
       "    </tr>\n",
       "    <tr>\n",
       "      <th>80</th>\n",
       "      <td>81</td>\n",
       "      <td>2008</td>\n",
       "      <td>Chandigarh</td>\n",
       "      <td>5/3/2008</td>\n",
       "      <td>Kings XI Punjab</td>\n",
       "      <td>Kolkata Knight Riders</td>\n",
       "      <td>Kings XI Punjab</td>\n",
       "      <td>bat</td>\n",
       "      <td>normal</td>\n",
       "      <td>0</td>\n",
       "      <td>Kings XI Punjab</td>\n",
       "      <td>9</td>\n",
       "      <td>0</td>\n",
       "      <td>IK Pathan</td>\n",
       "      <td>Punjab Cricket Association Stadium, Mohali</td>\n",
       "      <td>DJ Harper</td>\n",
       "      <td>I Shivram</td>\n",
       "      <td>NaN</td>\n",
       "    </tr>\n",
       "    <tr>\n",
       "      <th>111</th>\n",
       "      <td>112</td>\n",
       "      <td>2008</td>\n",
       "      <td>Kolkata</td>\n",
       "      <td>5/25/2008</td>\n",
       "      <td>Kings XI Punjab</td>\n",
       "      <td>Kolkata Knight Riders</td>\n",
       "      <td>Kings XI Punjab</td>\n",
       "      <td>bat</td>\n",
       "      <td>normal</td>\n",
       "      <td>0</td>\n",
       "      <td>Kolkata Knight Riders</td>\n",
       "      <td>0</td>\n",
       "      <td>3</td>\n",
       "      <td>Umar Gul</td>\n",
       "      <td>Eden Gardens</td>\n",
       "      <td>SJ Davis</td>\n",
       "      <td>I Shivram</td>\n",
       "      <td>NaN</td>\n",
       "    </tr>\n",
       "    <tr>\n",
       "      <th>122</th>\n",
       "      <td>123</td>\n",
       "      <td>2009</td>\n",
       "      <td>Durban</td>\n",
       "      <td>4/21/2009</td>\n",
       "      <td>Kings XI Punjab</td>\n",
       "      <td>Kolkata Knight Riders</td>\n",
       "      <td>Kolkata Knight Riders</td>\n",
       "      <td>field</td>\n",
       "      <td>normal</td>\n",
       "      <td>1</td>\n",
       "      <td>Kolkata Knight Riders</td>\n",
       "      <td>11</td>\n",
       "      <td>0</td>\n",
       "      <td>CH Gayle</td>\n",
       "      <td>Kingsmead</td>\n",
       "      <td>DJ Harper</td>\n",
       "      <td>SD Ranade</td>\n",
       "      <td>NaN</td>\n",
       "    </tr>\n",
       "  </tbody>\n",
       "</table>\n",
       "</div>"
      ],
      "text/plain": [
       "      id  season        city       date            team1  \\\n",
       "10    11    2017     Kolkata  4/13/2017  Kings XI Punjab   \n",
       "47    48    2017  Chandigarh   5/9/2017  Kings XI Punjab   \n",
       "80    81    2008  Chandigarh   5/3/2008  Kings XI Punjab   \n",
       "111  112    2008     Kolkata  5/25/2008  Kings XI Punjab   \n",
       "122  123    2009      Durban  4/21/2009  Kings XI Punjab   \n",
       "\n",
       "                     team2            toss_winner toss_decision  result  \\\n",
       "10   Kolkata Knight Riders  Kolkata Knight Riders         field  normal   \n",
       "47   Kolkata Knight Riders  Kolkata Knight Riders         field  normal   \n",
       "80   Kolkata Knight Riders        Kings XI Punjab           bat  normal   \n",
       "111  Kolkata Knight Riders        Kings XI Punjab           bat  normal   \n",
       "122  Kolkata Knight Riders  Kolkata Knight Riders         field  normal   \n",
       "\n",
       "     dl_applied                 winner  win_by_runs  win_by_wickets  \\\n",
       "10            0  Kolkata Knight Riders            0               8   \n",
       "47            0        Kings XI Punjab           14               0   \n",
       "80            0        Kings XI Punjab            9               0   \n",
       "111           0  Kolkata Knight Riders            0               3   \n",
       "122           1  Kolkata Knight Riders           11               0   \n",
       "\n",
       "    player_of_match                                              venue  \\\n",
       "10        SP Narine                                       Eden Gardens   \n",
       "47        MM Sharma  Punjab Cricket Association IS Bindra Stadium, ...   \n",
       "80        IK Pathan         Punjab Cricket Association Stadium, Mohali   \n",
       "111        Umar Gul                                       Eden Gardens   \n",
       "122        CH Gayle                                          Kingsmead   \n",
       "\n",
       "            umpire1    umpire2 umpire3  \n",
       "10       A Deshmukh   NJ Llong     NaN  \n",
       "47   A Nand Kishore     S Ravi     NaN  \n",
       "80        DJ Harper  I Shivram     NaN  \n",
       "111        SJ Davis  I Shivram     NaN  \n",
       "122       DJ Harper  SD Ranade     NaN  "
      ]
     },
     "execution_count": 6,
     "metadata": {},
     "output_type": "execute_result"
    }
   ],
   "source": [
    "all_matches.head()"
   ]
  },
  {
   "cell_type": "code",
   "execution_count": 7,
   "metadata": {},
   "outputs": [
    {
     "data": {
      "text/plain": [
       "<matplotlib.axes._subplots.AxesSubplot at 0x21c061e1308>"
      ]
     },
     "execution_count": 7,
     "metadata": {},
     "output_type": "execute_result"
    },
    {
     "data": {
      "image/png": "[encoded data removed]",
      "text/plain": [
       "<Figure size 432x288 with 1 Axes>"
      ]
     },
     "metadata": {
      "needs_background": "light"
     },
     "output_type": "display_data"
    }
   ],
   "source": [
    "all_matches['winner'].value_counts(normalize=True).plot.bar(title='% Win for each team', color=['Purple', 'Red'])"
   ]
  },
  {
   "cell_type": "code",
   "execution_count": 8,
   "metadata": {},
   "outputs": [
    {
     "data": {
      "text/plain": [
       "venue                                                 winner               \n",
       "Barabati Stadium                                      Kolkata Knight Riders    1\n",
       "Eden Gardens                                          Kolkata Knight Riders    8\n",
       "                                                      Kings XI Punjab          3\n",
       "Holkar Cricket Stadium                                Kolkata Knight Riders    1\n",
       "IS Bindra Stadium                                     Kolkata Knight Riders    1\n",
       "Kingsmead                                             Kolkata Knight Riders    1\n",
       "M Chinnaswamy Stadium                                 Kolkata Knight Riders    1\n",
       "Maharashtra Cricket Association Stadium               Kolkata Knight Riders    1\n",
       "Punjab Cricket Association IS Bindra Stadium, Mohali  Kings XI Punjab          1\n",
       "                                                      Kolkata Knight Riders    1\n",
       "Punjab Cricket Association Stadium, Mohali            Kings XI Punjab          2\n",
       "                                                      Kolkata Knight Riders    2\n",
       "Sheikh Zayed Stadium                                  Kings XI Punjab          1\n",
       "St George's Park                                      Kings XI Punjab          1\n",
       "Name: winner, dtype: int64"
      ]
     },
     "execution_count": 8,
     "metadata": {},
     "output_type": "execute_result"
    }
   ],
   "source": [
    "all_matches.groupby('venue')['winner'].value_counts()"
   ]
  },
  {
   "cell_type": "code",
   "execution_count": 9,
   "metadata": {},
   "outputs": [
    {
     "data": {
      "text/plain": [
       "<matplotlib.axes._subplots.AxesSubplot at 0x21c07eced48>"
      ]
     },
     "execution_count": 9,
     "metadata": {},
     "output_type": "execute_result"
    },
    {
     "data": {
      "image/png": "[encoded data removed]",
      "text/plain": [
       "<Figure size 432x288 with 1 Axes>"
      ]
     },
     "metadata": {
      "needs_background": "light"
     },
     "output_type": "display_data"
    }
   ],
   "source": [
    "sub_data[(sub_data['venue']=='Eden Gardens')].groupby(['match_id', 'inning','batting_team'])['total_runs'].sum().groupby(['batting_team']).mean().plot.bar(title='Average runs scored by both teams', color=['Red', 'Purple'])"
   ]
  },
  {
   "cell_type": "code",
   "execution_count": 10,
   "metadata": {},
   "outputs": [
    {
     "data": {
      "text/plain": [
       "<matplotlib.axes._subplots.AxesSubplot at 0x21c07f4f408>"
      ]
     },
     "execution_count": 10,
     "metadata": {},
     "output_type": "execute_result"
    },
    {
     "data": {
      "image/png": "[encoded data removed]",
      "text/plain": [
       "<Figure size 432x288 with 1 Axes>"
      ]
     },
     "metadata": {
      "needs_background": "light"
     },
     "output_type": "display_data"
    }
   ],
   "source": [
    "sub_data[(sub_data['venue']=='Eden Gardens')].groupby(['match_id', 'inning','bowling_team'])['player_dismissed'].count().groupby(['bowling_team']).mean().plot.bar(title='Average wickets taken by both teams', color=['Red', 'Purple'])"
   ]
  },
  {
   "cell_type": "code",
   "execution_count": 11,
   "metadata": {},
   "outputs": [
    {
     "data": {
      "text/plain": [
       "toss_winner            toss_decision\n",
       "Kings XI Punjab        bat               5\n",
       "                       field             5\n",
       "Kolkata Knight Riders  field            12\n",
       "                       bat               3\n",
       "Name: toss_decision, dtype: int64"
      ]
     },
     "execution_count": 11,
     "metadata": {},
     "output_type": "execute_result"
    }
   ],
   "source": [
    "all_matches.groupby('toss_winner')['toss_decision'].value_counts()"
   ]
  },
  {
   "cell_type": "code",
   "execution_count": 12,
   "metadata": {},
   "outputs": [
    {
     "data": {
      "text/plain": [
       "toss_decision  winner               \n",
       "bat            Kolkata Knight Riders     5\n",
       "               Kings XI Punjab           3\n",
       "field          Kolkata Knight Riders    12\n",
       "               Kings XI Punjab           5\n",
       "Name: winner, dtype: int64"
      ]
     },
     "execution_count": 12,
     "metadata": {},
     "output_type": "execute_result"
    }
   ],
   "source": [
    "all_matches.groupby('toss_decision')['winner'].value_counts()"
   ]
  },
  {
   "cell_type": "code",
   "execution_count": 13,
   "metadata": {},
   "outputs": [
    {
     "data": {
      "text/html": [
       "<div>\n",
       "<style scoped>\n",
       "    .dataframe tbody tr th:only-of-type {\n",
       "        vertical-align: middle;\n",
       "    }\n",
       "\n",
       "    .dataframe tbody tr th {\n",
       "        vertical-align: top;\n",
       "    }\n",
       "\n",
       "    .dataframe thead th {\n",
       "        text-align: right;\n",
       "    }\n",
       "</style>\n",
       "<table border=\"1\" class=\"dataframe\">\n",
       "  <thead>\n",
       "    <tr style=\"text-align: right;\">\n",
       "      <th></th>\n",
       "      <th></th>\n",
       "      <th>win_by_runs</th>\n",
       "      <th>win_by_wickets</th>\n",
       "    </tr>\n",
       "    <tr>\n",
       "      <th>id</th>\n",
       "      <th>winner</th>\n",
       "      <th></th>\n",
       "      <th></th>\n",
       "    </tr>\n",
       "  </thead>\n",
       "  <tbody>\n",
       "    <tr>\n",
       "      <th>11</th>\n",
       "      <th>Kolkata Knight Riders</th>\n",
       "      <td>0</td>\n",
       "      <td>8</td>\n",
       "    </tr>\n",
       "    <tr>\n",
       "      <th>48</th>\n",
       "      <th>Kings XI Punjab</th>\n",
       "      <td>14</td>\n",
       "      <td>0</td>\n",
       "    </tr>\n",
       "    <tr>\n",
       "      <th>81</th>\n",
       "      <th>Kings XI Punjab</th>\n",
       "      <td>9</td>\n",
       "      <td>0</td>\n",
       "    </tr>\n",
       "    <tr>\n",
       "      <th>112</th>\n",
       "      <th>Kolkata Knight Riders</th>\n",
       "      <td>0</td>\n",
       "      <td>3</td>\n",
       "    </tr>\n",
       "    <tr>\n",
       "      <th>123</th>\n",
       "      <th>Kolkata Knight Riders</th>\n",
       "      <td>11</td>\n",
       "      <td>0</td>\n",
       "    </tr>\n",
       "    <tr>\n",
       "      <th>142</th>\n",
       "      <th>Kings XI Punjab</th>\n",
       "      <td>0</td>\n",
       "      <td>6</td>\n",
       "    </tr>\n",
       "    <tr>\n",
       "      <th>196</th>\n",
       "      <th>Kolkata Knight Riders</th>\n",
       "      <td>39</td>\n",
       "      <td>0</td>\n",
       "    </tr>\n",
       "    <tr>\n",
       "      <th>208</th>\n",
       "      <th>Kings XI Punjab</th>\n",
       "      <td>0</td>\n",
       "      <td>8</td>\n",
       "    </tr>\n",
       "    <tr>\n",
       "      <th>270</th>\n",
       "      <th>Kolkata Knight Riders</th>\n",
       "      <td>0</td>\n",
       "      <td>8</td>\n",
       "    </tr>\n",
       "    <tr>\n",
       "      <th>325</th>\n",
       "      <th>Kings XI Punjab</th>\n",
       "      <td>2</td>\n",
       "      <td>0</td>\n",
       "    </tr>\n",
       "    <tr>\n",
       "      <th>330</th>\n",
       "      <th>Kolkata Knight Riders</th>\n",
       "      <td>0</td>\n",
       "      <td>8</td>\n",
       "    </tr>\n",
       "    <tr>\n",
       "      <th>400</th>\n",
       "      <th>Kings XI Punjab</th>\n",
       "      <td>4</td>\n",
       "      <td>0</td>\n",
       "    </tr>\n",
       "    <tr>\n",
       "      <th>415</th>\n",
       "      <th>Kolkata Knight Riders</th>\n",
       "      <td>0</td>\n",
       "      <td>6</td>\n",
       "    </tr>\n",
       "    <tr>\n",
       "      <th>472</th>\n",
       "      <th>Kings XI Punjab</th>\n",
       "      <td>23</td>\n",
       "      <td>0</td>\n",
       "    </tr>\n",
       "    <tr>\n",
       "      <th>491</th>\n",
       "      <th>Kolkata Knight Riders</th>\n",
       "      <td>0</td>\n",
       "      <td>9</td>\n",
       "    </tr>\n",
       "    <tr>\n",
       "      <th>514</th>\n",
       "      <th>Kolkata Knight Riders</th>\n",
       "      <td>28</td>\n",
       "      <td>0</td>\n",
       "    </tr>\n",
       "    <tr>\n",
       "      <th>517</th>\n",
       "      <th>Kolkata Knight Riders</th>\n",
       "      <td>0</td>\n",
       "      <td>3</td>\n",
       "    </tr>\n",
       "    <tr>\n",
       "      <th>532</th>\n",
       "      <th>Kolkata Knight Riders</th>\n",
       "      <td>0</td>\n",
       "      <td>4</td>\n",
       "    </tr>\n",
       "    <tr>\n",
       "      <th>560</th>\n",
       "      <th>Kolkata Knight Riders</th>\n",
       "      <td>0</td>\n",
       "      <td>1</td>\n",
       "    </tr>\n",
       "    <tr>\n",
       "      <th>589</th>\n",
       "      <th>Kolkata Knight Riders</th>\n",
       "      <td>0</td>\n",
       "      <td>6</td>\n",
       "    </tr>\n",
       "    <tr>\n",
       "      <th>608</th>\n",
       "      <th>Kolkata Knight Riders</th>\n",
       "      <td>7</td>\n",
       "      <td>0</td>\n",
       "    </tr>\n",
       "    <tr>\n",
       "      <th>7911</th>\n",
       "      <th>Kings XI Punjab</th>\n",
       "      <td>0</td>\n",
       "      <td>9</td>\n",
       "    </tr>\n",
       "    <tr>\n",
       "      <th>7937</th>\n",
       "      <th>Kolkata Knight Riders</th>\n",
       "      <td>31</td>\n",
       "      <td>0</td>\n",
       "    </tr>\n",
       "    <tr>\n",
       "      <th>11142</th>\n",
       "      <th>Kolkata Knight Riders</th>\n",
       "      <td>28</td>\n",
       "      <td>0</td>\n",
       "    </tr>\n",
       "    <tr>\n",
       "      <th>11343</th>\n",
       "      <th>Kolkata Knight Riders</th>\n",
       "      <td>0</td>\n",
       "      <td>7</td>\n",
       "    </tr>\n",
       "  </tbody>\n",
       "</table>\n",
       "</div>"
      ],
      "text/plain": [
       "                             win_by_runs  win_by_wickets\n",
       "id    winner                                            \n",
       "11    Kolkata Knight Riders            0               8\n",
       "48    Kings XI Punjab                 14               0\n",
       "81    Kings XI Punjab                  9               0\n",
       "112   Kolkata Knight Riders            0               3\n",
       "123   Kolkata Knight Riders           11               0\n",
       "142   Kings XI Punjab                  0               6\n",
       "196   Kolkata Knight Riders           39               0\n",
       "208   Kings XI Punjab                  0               8\n",
       "270   Kolkata Knight Riders            0               8\n",
       "325   Kings XI Punjab                  2               0\n",
       "330   Kolkata Knight Riders            0               8\n",
       "400   Kings XI Punjab                  4               0\n",
       "415   Kolkata Knight Riders            0               6\n",
       "472   Kings XI Punjab                 23               0\n",
       "491   Kolkata Knight Riders            0               9\n",
       "514   Kolkata Knight Riders           28               0\n",
       "517   Kolkata Knight Riders            0               3\n",
       "532   Kolkata Knight Riders            0               4\n",
       "560   Kolkata Knight Riders            0               1\n",
       "589   Kolkata Knight Riders            0               6\n",
       "608   Kolkata Knight Riders            7               0\n",
       "7911  Kings XI Punjab                  0               9\n",
       "7937  Kolkata Knight Riders           31               0\n",
       "11142 Kolkata Knight Riders           28               0\n",
       "11343 Kolkata Knight Riders            0               7"
      ]
     },
     "execution_count": 13,
     "metadata": {},
     "output_type": "execute_result"
    }
   ],
   "source": [
    "all_matches.groupby(['id', 'winner'])['win_by_runs', 'win_by_wickets'].max()"
   ]
  },
  {
   "cell_type": "code",
   "execution_count": 14,
   "metadata": {},
   "outputs": [
    {
     "data": {
      "text/plain": [
       "AD Russell          4\n",
       "SP Narine           3\n",
       "DPMD Jayawardene    2\n",
       "G Gambhir           2\n",
       "KL Rahul            1\n",
       "RV Uthappa          1\n",
       "UT Yadav            1\n",
       "JH Kallis           1\n",
       "S Gill              1\n",
       "Iqbal Abdulla       1\n",
       "MK Tiwary           1\n",
       "MS Gony             1\n",
       "Sandeep Sharma      1\n",
       "MM Sharma           1\n",
       "Umar Gul            1\n",
       "MK Pandey           1\n",
       "CH Gayle            1\n",
       "IK Pathan           1\n",
       "Name: player_of_match, dtype: int64"
      ]
     },
     "execution_count": 14,
     "metadata": {},
     "output_type": "execute_result"
    }
   ],
   "source": [
    "all_matches['player_of_match'].value_counts()"
   ]
  },
  {
   "cell_type": "code",
   "execution_count": 15,
   "metadata": {},
   "outputs": [],
   "source": [
    "sub_data1 = sub_data[(sub_data['batsman'].isin(['AD Russell', 'SP Narine', 'CH Gayle', 'KL Rahul', 'Sandeep Sharma', 'S Gill'])) & (sub_data['bowler'].isin(['AD Russell', 'SP Narine', 'CH Gayle', 'KL Rahul', 'Sandeep Sharma', 'S Gill'])) & (sub_data['player_of_match'].isin(['AD Russell', 'SP Narine', 'CH Gayle', 'KL Rahul', 'Sandeep Sharma', 'S Gill']))]"
   ]
  },
  {
   "cell_type": "code",
   "execution_count": 16,
   "metadata": {},
   "outputs": [
    {
     "data": {
      "text/plain": [
       "match_id  batsman       \n",
       "11        SP Narine         11\n",
       "608       AD Russell         8\n",
       "          Sandeep Sharma     1\n",
       "7911      CH Gayle          26\n",
       "          KL Rahul          27\n",
       "7937      CH Gayle          12\n",
       "          KL Rahul          39\n",
       "11142     CH Gayle           0\n",
       "11343     CH Gayle           2\n",
       "Name: batsman_runs, dtype: int64"
      ]
     },
     "execution_count": 16,
     "metadata": {},
     "output_type": "execute_result"
    }
   ],
   "source": [
    "sub_data1[sub_data1['season']>2015].groupby(['match_id','batsman'])['batsman_runs'].sum()"
   ]
  },
  {
   "cell_type": "code",
   "execution_count": 17,
   "metadata": {},
   "outputs": [
    {
     "data": {
      "text/plain": [
       "match_id  bowler        \n",
       "11        Sandeep Sharma    0\n",
       "608       AD Russell        0\n",
       "          Sandeep Sharma    1\n",
       "7911      AD Russell        0\n",
       "          SP Narine         1\n",
       "7937      AD Russell        1\n",
       "          SP Narine         1\n",
       "11142     AD Russell        1\n",
       "11343     SP Narine         0\n",
       "Name: player_dismissed, dtype: int64"
      ]
     },
     "execution_count": 17,
     "metadata": {},
     "output_type": "execute_result"
    }
   ],
   "source": [
    "sub_data1[sub_data1['season']>2015].groupby(['match_id','bowler'])['player_dismissed'].count()"
   ]
  },
  {
   "cell_type": "code",
   "execution_count": 145,
   "metadata": {},
   "outputs": [
    {
     "data": {
      "text/plain": [
       "batting_team\n",
       "Kings XI Punjab          160.44\n",
       "Kolkata Knight Riders    164.00\n",
       "Name: total_runs, dtype: float64"
      ]
     },
     "execution_count": 145,
     "metadata": {},
     "output_type": "execute_result"
    }
   ],
   "source": [
    "sub_data.groupby(['match_id','inning','batting_team'])['total_runs'].sum().groupby(['batting_team']).mean()"
   ]
  },
  {
   "cell_type": "code",
   "execution_count": 147,
   "metadata": {},
   "outputs": [
    {
     "data": {
      "text/plain": [
       "25.2"
      ]
     },
     "execution_count": 147,
     "metadata": {},
     "output_type": "execute_result"
    }
   ],
   "source": [
    "sub_data[sub_data['batsman']=='GJ Maxwell'].groupby('match_id')['batsman_runs'].sum().mean()"
   ]
  },
  {
   "cell_type": "markdown",
   "metadata": {},
   "source": [
    "### How many dot balls will be bowled in the match??"
   ]
  },
  {
   "cell_type": "code",
   "execution_count": 149,
   "metadata": {},
   "outputs": [
    {
     "data": {
      "text/plain": [
       "<matplotlib.axes._subplots.AxesSubplot at 0x21c09d89308>"
      ]
     },
     "execution_count": 149,
     "metadata": {},
     "output_type": "execute_result"
    },
    {
     "data": {
      "image/png": "[encoded data removed]",
      "text/plain": [
       "<Figure size 1080x360 with 2 Axes>"
      ]
     },
     "metadata": {
      "needs_background": "light"
     },
     "output_type": "display_data"
    }
   ],
   "source": [
    "plt.subplot(1, 2, 1)\n",
    "sub_data[(sub_data['total_runs']==0)&(sub_data['season']>2018)].groupby(['match_id'])['ball'].count().plot.bar(title='Dot balls bowled in a match', figsize=(15,5))\n",
    "\n",
    "plt.subplot(1, 2, 2)\n",
    "sub_data[(sub_data['total_runs']==0)&(sub_data['season']>2018)].groupby(['match_id'])['ball'].count().plot.box(title='Boxplot distribution of dot balls bowled')"
   ]
  },
  {
   "cell_type": "code",
   "execution_count": 54,
   "metadata": {},
   "outputs": [
    {
     "data": {
      "text/plain": [
       "bowling_team           bowler        \n",
       "Kings XI Punjab        AJ Tye            27\n",
       "Kolkata Knight Riders  AD Russell        25\n",
       "                       SP Narine         24\n",
       "Kings XI Punjab        R Ashwin          22\n",
       "Kolkata Knight Riders  P Krishna         20\n",
       "Kings XI Punjab        Mohammed Shami    17\n",
       "Kolkata Knight Riders  PP Chawla         14\n",
       "Kings XI Punjab        M Ur Rahman       13\n",
       "                       BB Sran           12\n",
       "Kolkata Knight Riders  L Ferguson        10\n",
       "Name: ball, dtype: int64"
      ]
     },
     "execution_count": 54,
     "metadata": {},
     "output_type": "execute_result"
    }
   ],
   "source": [
    "sub_data[(sub_data['total_runs']==0) & (sub_data['season']>2017)].groupby(['bowling_team', 'bowler'])['ball'].count().sort_values(ascending=False).head(10)"
   ]
  },
  {
   "cell_type": "code",
   "execution_count": 53,
   "metadata": {},
   "outputs": [
    {
     "data": {
      "text/plain": [
       "batsman\n",
       "CH Gayle      44\n",
       "CA Lynn       30\n",
       "RV Uthappa    30\n",
       "KL Rahul      18\n",
       "SP Narine     17\n",
       "N Rana        17\n",
       "AD Russell    16\n",
       "S Gill        15\n",
       "DA Miller     14\n",
       "MA Agarwal    12\n",
       "Name: ball, dtype: int64"
      ]
     },
     "execution_count": 53,
     "metadata": {},
     "output_type": "execute_result"
    }
   ],
   "source": [
    "sub_data[(sub_data['total_runs']==0) & (sub_data['season']>2017)].groupby('batsman')['ball'].count().sort_values(ascending=False).head(10)"
   ]
  },
  {
   "cell_type": "code",
   "execution_count": 52,
   "metadata": {},
   "outputs": [
    {
     "data": {
      "text/plain": [
       "bowler          batsman   \n",
       "R Ashwin        RV Uthappa    10\n",
       "AD Russell      CH Gayle       8\n",
       "SP Narine       CH Gayle       8\n",
       "Mohammed Shami  CA Lynn        8\n",
       "S Mavi          CH Gayle       8\n",
       "AJ Tye          RV Uthappa     6\n",
       "SP Narine       KL Rahul       6\n",
       "H Viljoen       RV Uthappa     6\n",
       "AJ Tye          AD Russell     6\n",
       "V Chakravarthy  N Rana         5\n",
       "L Ferguson      CH Gayle       5\n",
       "BB Sran         CA Lynn        5\n",
       "P Krishna       CH Gayle       4\n",
       "PP Chawla       DA Miller      4\n",
       "                CH Gayle       4\n",
       "Name: ball, dtype: int64"
      ]
     },
     "execution_count": 52,
     "metadata": {},
     "output_type": "execute_result"
    }
   ],
   "source": [
    "sub_data[(sub_data['total_runs']==0) & (sub_data['season']>2017)].groupby(['bowler', 'batsman'])['ball'].count().sort_values(ascending=False).head(15)"
   ]
  },
  {
   "cell_type": "code",
   "execution_count": 47,
   "metadata": {},
   "outputs": [
    {
     "data": {
      "text/plain": [
       "Text(0.5, 1.0, 'Ball vs Dot balls')"
      ]
     },
     "execution_count": 47,
     "metadata": {},
     "output_type": "execute_result"
    },
    {
     "data": {
      "image/png": "[encoded data removed]",
      "text/plain": [
       "<Figure size 432x288 with 1 Axes>"
      ]
     },
     "metadata": {
      "needs_background": "light"
     },
     "output_type": "display_data"
    }
   ],
   "source": [
    "sns.scatterplot(sub_data.groupby(['match_id'])['player_dismissed'].count(), sub_data[sub_data['total_runs']==0].groupby('match_id')['ball'].count(), size = sub_data.groupby(['match_id'])['player_dismissed'].count())\n",
    "plt.title('Ball vs Dot balls')"
   ]
  },
  {
   "cell_type": "markdown",
   "metadata": {},
   "source": [
    "### How many wickets will fall from 90th ball to 120th ball of both innings??"
   ]
  },
  {
   "cell_type": "code",
   "execution_count": 71,
   "metadata": {},
   "outputs": [
    {
     "data": {
      "text/plain": [
       "<matplotlib.axes._subplots.AxesSubplot at 0x21c09689988>"
      ]
     },
     "execution_count": 71,
     "metadata": {},
     "output_type": "execute_result"
    },
    {
     "data": {
      "image/png": "[encoded data removed]",
      "text/plain": [
       "<Figure size 1080x360 with 2 Axes>"
      ]
     },
     "metadata": {
      "needs_background": "light"
     },
     "output_type": "display_data"
    }
   ],
   "source": [
    "plt.subplot(1, 2, 1)\n",
    "sub_data[(sub_data['season']>2015) & (sub_data['over']>15)].groupby('match_id')['player_dismissed'].count().plot.bar(title='Wickets falled in over 16-20 of both teams', figsize=(15,5))\n",
    "\n",
    "plt.subplot(1, 2, 2)\n",
    "sub_data[(sub_data['season']>2015) & (sub_data['over']>15)].groupby('match_id')['player_dismissed'].count().plot.box(title='Boxplot distribution of wickets fallen')"
   ]
  },
  {
   "cell_type": "code",
   "execution_count": 143,
   "metadata": {},
   "outputs": [
    {
     "data": {
      "text/plain": [
       "count    8.00000\n",
       "mean     4.50000\n",
       "std      1.85164\n",
       "min      2.00000\n",
       "25%      3.50000\n",
       "50%      4.50000\n",
       "75%      6.00000\n",
       "max      7.00000\n",
       "Name: player_dismissed, dtype: float64"
      ]
     },
     "execution_count": 143,
     "metadata": {},
     "output_type": "execute_result"
    }
   ],
   "source": [
    "sub_data[(sub_data['season']>2015) & (sub_data['over']>15)].groupby('match_id')['player_dismissed'].count().describe()"
   ]
  },
  {
   "cell_type": "code",
   "execution_count": 78,
   "metadata": {},
   "outputs": [],
   "source": [
    "sub_data2 = sub_data[(sub_data['match_id'].isin([11142, 11343])) & (sub_data['over']>15) & (sub_data['season']>2015)]"
   ]
  },
  {
   "cell_type": "code",
   "execution_count": 84,
   "metadata": {},
   "outputs": [
    {
     "data": {
      "text/plain": [
       "bowler          batsman      \n",
       "AD Russell      AJ Tye            1\n",
       "                Mandeep Singh     1\n",
       "                R Ashwin          0\n",
       "                S Curran         15\n",
       "AJ Tye          AD Russell       22\n",
       "                KD Karthik        4\n",
       "                RV Uthappa        7\n",
       "                S Gill            6\n",
       "H Gurney        Mandeep Singh     1\n",
       "                R Ashwin          1\n",
       "                S Curran         24\n",
       "H Viljoen       AD Russell        1\n",
       "                RV Uthappa        5\n",
       "L Ferguson      DA Miller        15\n",
       "                Mandeep Singh    15\n",
       "Mohammed Shami  AD Russell       26\n",
       "                RV Uthappa        9\n",
       "P Krishna       DA Miller         5\n",
       "                Mandeep Singh     5\n",
       "PP Chawla       DA Miller         4\n",
       "                MA Agarwal        0\n",
       "                Mandeep Singh    13\n",
       "S Curran        KD Karthik       19\n",
       "                S Gill            6\n",
       "SP Narine       Mandeep Singh     2\n",
       "                S Curran         13\n",
       "Name: batsman_runs, dtype: int64"
      ]
     },
     "execution_count": 84,
     "metadata": {},
     "output_type": "execute_result"
    }
   ],
   "source": [
    "sub_data2.groupby(['bowler','batsman'])['batsman_runs'].sum()"
   ]
  },
  {
   "cell_type": "code",
   "execution_count": 86,
   "metadata": {},
   "outputs": [
    {
     "data": {
      "text/plain": [
       "bowler          batsman      \n",
       "AD Russell      AJ Tye           0\n",
       "                Mandeep Singh    0\n",
       "                R Ashwin         1\n",
       "                S Curran         0\n",
       "AJ Tye          AD Russell       1\n",
       "                KD Karthik       0\n",
       "                RV Uthappa       0\n",
       "                S Gill           0\n",
       "H Gurney        Mandeep Singh    1\n",
       "                R Ashwin         0\n",
       "                S Curran         0\n",
       "H Viljoen       AD Russell       0\n",
       "                RV Uthappa       0\n",
       "L Ferguson      DA Miller        0\n",
       "                Mandeep Singh    0\n",
       "Mohammed Shami  AD Russell       0\n",
       "                RV Uthappa       0\n",
       "P Krishna       DA Miller        0\n",
       "                Mandeep Singh    0\n",
       "PP Chawla       DA Miller        0\n",
       "                MA Agarwal       1\n",
       "                Mandeep Singh    0\n",
       "S Curran        KD Karthik       0\n",
       "                S Gill           0\n",
       "SP Narine       Mandeep Singh    0\n",
       "                S Curran         0\n",
       "Name: player_dismissed, dtype: int64"
      ]
     },
     "execution_count": 86,
     "metadata": {},
     "output_type": "execute_result"
    }
   ],
   "source": [
    "sub_data2.groupby(['bowler','batsman'])['player_dismissed'].count()"
   ]
  },
  {
   "cell_type": "code",
   "execution_count": 89,
   "metadata": {},
   "outputs": [
    {
     "data": {
      "text/plain": [
       "bowler\n",
       "SP Narine          29\n",
       "PP Chawla          24\n",
       "AD Russell         15\n",
       "UT Yadav           15\n",
       "M Morkel           12\n",
       "Sandeep Sharma      9\n",
       "AR Patel            9\n",
       "AJ Tye              8\n",
       "Karanveer Singh     7\n",
       "R Bhatia            7\n",
       "Name: player_dismissed, dtype: int64"
      ]
     },
     "execution_count": 89,
     "metadata": {},
     "output_type": "execute_result"
    }
   ],
   "source": [
    "sub_data.groupby(['bowler'])['player_dismissed'].count().sort_values(ascending=False).head(10)"
   ]
  },
  {
   "cell_type": "markdown",
   "metadata": {},
   "source": [
    "### What would be Glen Maxwell's contribution to the team total?"
   ]
  },
  {
   "cell_type": "code",
   "execution_count": 106,
   "metadata": {},
   "outputs": [
    {
     "data": {
      "text/plain": [
       "<matplotlib.axes._subplots.AxesSubplot at 0x21c0a0f95c8>"
      ]
     },
     "execution_count": 106,
     "metadata": {},
     "output_type": "execute_result"
    },
    {
     "data": {
      "image/png": "[encoded data removed]",
      "text/plain": [
       "<Figure size 1080x360 with 2 Axes>"
      ]
     },
     "metadata": {
      "needs_background": "light"
     },
     "output_type": "display_data"
    }
   ],
   "source": [
    "plt.subplot(1, 2, 1)\n",
    "(sub_data[sub_data['batsman']=='GJ Maxwell'].groupby('match_id')['batsman_runs'].sum()/sub_data[sub_data['batting_team']=='Kings XI Punjab'].groupby('match_id')['total_runs'].sum()).plot.bar(title='Glen Maxwell contribution in team total by match', figsize=(15,5))\n",
    "\n",
    "plt.subplot(1, 2, 2)\n",
    "(sub_data[sub_data['batsman']=='GJ Maxwell'].groupby('match_id')['batsman_runs'].sum()/sub_data[sub_data['batting_team']=='Kings XI Punjab'].groupby('match_id')['total_runs'].sum()).plot.box(title='Boxplot distribution of Maxwell contribution to team total')"
   ]
  },
  {
   "cell_type": "code",
   "execution_count": 116,
   "metadata": {},
   "outputs": [
    {
     "data": {
      "text/plain": [
       "<matplotlib.axes._subplots.AxesSubplot at 0x21c0b8c9548>"
      ]
     },
     "execution_count": 116,
     "metadata": {},
     "output_type": "execute_result"
    },
    {
     "data": {
      "image/png": "[encoded data removed]",
      "text/plain": [
       "<Figure size 1080x360 with 2 Axes>"
      ]
     },
     "metadata": {
      "needs_background": "light"
     },
     "output_type": "display_data"
    }
   ],
   "source": [
    "plt.subplot(1, 2, 1)\n",
    "((sub_data[sub_data['batsman']=='GJ Maxwell'].groupby('match_id')['batsman_runs'].sum()/sub_data[sub_data['batsman']=='GJ Maxwell'].groupby('match_id')['ball'].count())*100).plot.bar(title='Maxwell strike rate in each match', figsize=(15,5))\n",
    "\n",
    "plt.subplot(1, 2, 2)\n",
    "((sub_data[sub_data['batsman']=='GJ Maxwell'].groupby('match_id')['batsman_runs'].sum()/sub_data[sub_data['batsman']=='GJ Maxwell'].groupby('match_id')['ball'].count())*100).plot.box(title='Boxplot distribution of Maxwell strike rate')"
   ]
  },
  {
   "cell_type": "code",
   "execution_count": 119,
   "metadata": {},
   "outputs": [],
   "source": [
    "sub_data3 = sub_data[(sub_data['bowling_team']=='Kolkata Knight Riders') & (sub_data['season']>2015) & (sub_data['batsman']=='GJ Maxwell')]"
   ]
  },
  {
   "cell_type": "code",
   "execution_count": 122,
   "metadata": {},
   "outputs": [
    {
     "data": {
      "text/plain": [
       "bowler\n",
       "AS Rajpoot         125.000000\n",
       "C de Grandhomme    181.818182\n",
       "CR Woakes           88.888889\n",
       "GB Hogg            312.500000\n",
       "Kuldeep Yadav      280.000000\n",
       "M Morkel           128.571429\n",
       "PP Chawla          172.222222\n",
       "SP Narine           87.500000\n",
       "Shakib Al Hasan    125.000000\n",
       "UT Yadav           100.000000\n",
       "YK Pathan           40.000000\n",
       "dtype: float64"
      ]
     },
     "execution_count": 122,
     "metadata": {},
     "output_type": "execute_result"
    }
   ],
   "source": [
    "(sub_data3.groupby('bowler')['batsman_runs'].sum()/sub_data3.groupby('bowler')['ball'].count())*100"
   ]
  },
  {
   "cell_type": "code",
   "execution_count": 123,
   "metadata": {},
   "outputs": [
    {
     "data": {
      "text/plain": [
       "bowler\n",
       "AS Rajpoot         0\n",
       "C de Grandhomme    0\n",
       "CR Woakes          0\n",
       "GB Hogg            0\n",
       "Kuldeep Yadav      1\n",
       "M Morkel           0\n",
       "PP Chawla          1\n",
       "SP Narine          1\n",
       "Shakib Al Hasan    0\n",
       "UT Yadav           1\n",
       "YK Pathan          0\n",
       "Name: player_dismissed, dtype: int64"
      ]
     },
     "execution_count": 123,
     "metadata": {},
     "output_type": "execute_result"
    }
   ],
   "source": [
    "sub_data3.groupby('bowler')['player_dismissed'].count()"
   ]
  },
  {
   "cell_type": "code",
   "execution_count": 139,
   "metadata": {},
   "outputs": [
    {
     "data": {
      "text/plain": [
       "caught    3\n",
       "lbw       1\n",
       "Name: dismissal_kind, dtype: int64"
      ]
     },
     "execution_count": 139,
     "metadata": {},
     "output_type": "execute_result"
    }
   ],
   "source": [
    "sub_data3['dismissal_kind'].value_counts()"
   ]
  },
  {
   "cell_type": "markdown",
   "metadata": {},
   "source": [
    "### How many no-balls will be bowled in the match??"
   ]
  },
  {
   "cell_type": "code",
   "execution_count": 138,
   "metadata": {},
   "outputs": [
    {
     "data": {
      "text/plain": [
       "match_id  bowling_team         \n",
       "11        Kolkata Knight Riders    2\n",
       "81        Kolkata Knight Riders    1\n",
       "196       Kings XI Punjab          2\n",
       "208       Kings XI Punjab          1\n",
       "415       Kings XI Punjab          1\n",
       "472       Kolkata Knight Riders    1\n",
       "517       Kolkata Knight Riders    1\n",
       "7911      Kings XI Punjab          1\n",
       "11142     Kings XI Punjab          1\n",
       "Name: ball, dtype: int64"
      ]
     },
     "execution_count": 138,
     "metadata": {},
     "output_type": "execute_result"
    }
   ],
   "source": [
    "sub_data[sub_data['noball_runs']!=0].groupby(['match_id', 'bowling_team'])['ball'].count()"
   ]
  },
  {
   "cell_type": "code",
   "execution_count": 140,
   "metadata": {},
   "outputs": [
    {
     "data": {
      "text/plain": [
       "match_id  bowler         \n",
       "11        C de Grandhomme    2\n",
       "81        I Sharma           1\n",
       "196       B Lee              1\n",
       "          VS Malik           1\n",
       "208       J Theron           1\n",
       "415       Harmeet Singh      1\n",
       "472       M Morkel           1\n",
       "517       SP Narine          1\n",
       "7911      AJ Tye             1\n",
       "11142     Mohammed Shami     1\n",
       "Name: ball, dtype: int64"
      ]
     },
     "execution_count": 140,
     "metadata": {},
     "output_type": "execute_result"
    }
   ],
   "source": [
    "sub_data[sub_data['noball_runs']!=0].groupby(['match_id', 'bowler'])['ball'].count()"
   ]
  },
  {
   "cell_type": "code",
   "execution_count": 142,
   "metadata": {},
   "outputs": [
    {
     "data": {
      "text/plain": [
       "count    10.000000\n",
       "mean      1.100000\n",
       "std       0.316228\n",
       "min       1.000000\n",
       "25%       1.000000\n",
       "50%       1.000000\n",
       "75%       1.000000\n",
       "max       2.000000\n",
       "Name: ball, dtype: float64"
      ]
     },
     "execution_count": 142,
     "metadata": {},
     "output_type": "execute_result"
    }
   ],
   "source": [
    "sub_data[sub_data['noball_runs']!=0].groupby(['match_id', 'bowler'])['ball'].count().describe()"
   ]
  },
  {
   "cell_type": "code",
   "execution_count": null,
   "metadata": {},
   "outputs": [],
   "source": []
  }
 ],
 "metadata": {
  "kernelspec": {
   "display_name": "Python 3",
   "language": "python",
   "name": "python3"
  },
  "language_info": {
   "codemirror_mode": {
    "name": "ipython",
    "version": 3
   },
   "file_extension": ".py",
   "mimetype": "text/x-python",
   "name": "python",
   "nbconvert_exporter": "python",
   "pygments_lexer": "ipython3",
   "version": "3.7.6"
  }
 },
 "nbformat": 4,
 "nbformat_minor": 4
}
