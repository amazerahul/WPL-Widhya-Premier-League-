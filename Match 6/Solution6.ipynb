{
 "cells": [
  {
   "cell_type": "code",
   "execution_count": 1,
   "metadata": {},
   "outputs": [],
   "source": [
    "import pandas as pd\n",
    "import numpy as np\n",
    "import matplotlib.pyplot as plt\n",
    "import seaborn as sns\n",
    "import warnings \n",
    "warnings.filterwarnings(\"ignore\")"
   ]
  },
  {
   "cell_type": "code",
   "execution_count": 2,
   "metadata": {},
   "outputs": [],
   "source": [
    "matches = pd.read_csv('C:/Users/Hp/Desktop/WPL/matches.csv')\n",
    "deliveries = pd.read_csv('C:/Users/Hp/Desktop/WPL/deliveries.csv')"
   ]
  },
  {
   "cell_type": "code",
   "execution_count": 3,
   "metadata": {},
   "outputs": [],
   "source": [
    "all_matches = matches[(matches['team1'].isin(['Mumbai Indians', 'Kolkata Knight Riders'])) & (matches['team2'].isin(['Mumbai Indians', 'Kolkata Knight Riders']))]"
   ]
  },
  {
   "cell_type": "code",
   "execution_count": 4,
   "metadata": {},
   "outputs": [],
   "source": [
    "data = pd.merge(matches, deliveries, how = \"inner\", left_on = 'id', right_on = 'match_id')"
   ]
  },
  {
   "cell_type": "code",
   "execution_count": 5,
   "metadata": {},
   "outputs": [],
   "source": [
    "sub_data = data[(data['team1'].isin(['Mumbai Indians', 'Kolkata Knight Riders'])) & (data['team2'].isin(['Mumbai Indians', 'Kolkata Knight Riders']))]"
   ]
  },
  {
   "cell_type": "code",
   "execution_count": 6,
   "metadata": {},
   "outputs": [
    {
     "data": {
      "text/plain": [
       "(25, 18)"
      ]
     },
     "execution_count": 6,
     "metadata": {},
     "output_type": "execute_result"
    }
   ],
   "source": [
    "all_matches.shape"
   ]
  },
  {
   "cell_type": "markdown",
   "metadata": {},
   "source": [
    "### Who will win the match??"
   ]
  },
  {
   "cell_type": "code",
   "execution_count": 29,
   "metadata": {},
   "outputs": [
    {
     "data": {
      "text/plain": [
       "<matplotlib.axes._subplots.AxesSubplot at 0x1e0a0550ac8>"
      ]
     },
     "execution_count": 29,
     "metadata": {},
     "output_type": "execute_result"
    },
    {
     "data": {
      "image/png": "[encoded data removed]",
      "text/plain": [
       "<Figure size 432x288 with 1 Axes>"
      ]
     },
     "metadata": {
      "needs_background": "light"
     },
     "output_type": "display_data"
    }
   ],
   "source": [
    "all_matches['winner'].value_counts(normalize=True).plot.bar(title='% Win by Each Team', color = ['blue', 'purple'])"
   ]
  },
  {
   "cell_type": "code",
   "execution_count": 30,
   "metadata": {},
   "outputs": [
    {
     "data": {
      "text/plain": [
       "season  id     winner               \n",
       "2008    75     Mumbai Indians           1\n",
       "        99     Mumbai Indians           1\n",
       "2009    132    Mumbai Indians           1\n",
       "        138    Mumbai Indians           1\n",
       "2010    191    Mumbai Indians           1\n",
       "        230    Kolkata Knight Riders    1\n",
       "2011    303    Mumbai Indians           1\n",
       "        305    Mumbai Indians           1\n",
       "2012    363    Mumbai Indians           1\n",
       "        370    Kolkata Knight Riders    1\n",
       "2013    413    Mumbai Indians           1\n",
       "        434    Mumbai Indians           1\n",
       "2014    458    Kolkata Knight Riders    1\n",
       "        497    Kolkata Knight Riders    1\n",
       "2015    518    Kolkata Knight Riders    1\n",
       "        567    Mumbai Indians           1\n",
       "2016    581    Mumbai Indians           1\n",
       "        600    Mumbai Indians           1\n",
       "2017    7      Mumbai Indians           1\n",
       "        53     Mumbai Indians           1\n",
       "        58     Mumbai Indians           1\n",
       "2018    7930   Mumbai Indians           1\n",
       "        7934   Mumbai Indians           1\n",
       "2019    11338  Kolkata Knight Riders    1\n",
       "        11347  Mumbai Indians           1\n",
       "Name: winner, dtype: int64"
      ]
     },
     "execution_count": 30,
     "metadata": {},
     "output_type": "execute_result"
    }
   ],
   "source": [
    "all_matches.groupby(['season', 'id'])['winner'].value_counts()"
   ]
  },
  {
   "cell_type": "code",
   "execution_count": 31,
   "metadata": {},
   "outputs": [
    {
     "data": {
      "text/html": [
       "<div>\n",
       "<style scoped>\n",
       "    .dataframe tbody tr th:only-of-type {\n",
       "        vertical-align: middle;\n",
       "    }\n",
       "\n",
       "    .dataframe tbody tr th {\n",
       "        vertical-align: top;\n",
       "    }\n",
       "\n",
       "    .dataframe thead th {\n",
       "        text-align: right;\n",
       "    }\n",
       "</style>\n",
       "<table border=\"1\" class=\"dataframe\">\n",
       "  <thead>\n",
       "    <tr style=\"text-align: right;\">\n",
       "      <th></th>\n",
       "      <th>id</th>\n",
       "      <th>season</th>\n",
       "      <th>city</th>\n",
       "      <th>date</th>\n",
       "      <th>team1</th>\n",
       "      <th>team2</th>\n",
       "      <th>toss_winner</th>\n",
       "      <th>toss_decision</th>\n",
       "      <th>result</th>\n",
       "      <th>dl_applied</th>\n",
       "      <th>winner</th>\n",
       "      <th>win_by_runs</th>\n",
       "      <th>win_by_wickets</th>\n",
       "      <th>player_of_match</th>\n",
       "      <th>venue</th>\n",
       "      <th>umpire1</th>\n",
       "      <th>umpire2</th>\n",
       "      <th>umpire3</th>\n",
       "    </tr>\n",
       "  </thead>\n",
       "  <tbody>\n",
       "    <tr>\n",
       "      <th>742</th>\n",
       "      <td>11338</td>\n",
       "      <td>2019</td>\n",
       "      <td>Kolkata</td>\n",
       "      <td>28/04/19</td>\n",
       "      <td>Kolkata Knight Riders</td>\n",
       "      <td>Mumbai Indians</td>\n",
       "      <td>Mumbai Indians</td>\n",
       "      <td>field</td>\n",
       "      <td>normal</td>\n",
       "      <td>0</td>\n",
       "      <td>Kolkata Knight Riders</td>\n",
       "      <td>34</td>\n",
       "      <td>0</td>\n",
       "      <td>AD Russell</td>\n",
       "      <td>Eden Gardens</td>\n",
       "      <td>Ian Gould</td>\n",
       "      <td>Nitin Menon</td>\n",
       "      <td>Anil Dandekar</td>\n",
       "    </tr>\n",
       "  </tbody>\n",
       "</table>\n",
       "</div>"
      ],
      "text/plain": [
       "        id  season     city      date                  team1           team2  \\\n",
       "742  11338    2019  Kolkata  28/04/19  Kolkata Knight Riders  Mumbai Indians   \n",
       "\n",
       "        toss_winner toss_decision  result  dl_applied                 winner  \\\n",
       "742  Mumbai Indians         field  normal           0  Kolkata Knight Riders   \n",
       "\n",
       "     win_by_runs  win_by_wickets player_of_match         venue    umpire1  \\\n",
       "742           34               0      AD Russell  Eden Gardens  Ian Gould   \n",
       "\n",
       "         umpire2        umpire3  \n",
       "742  Nitin Menon  Anil Dandekar  "
      ]
     },
     "execution_count": 31,
     "metadata": {},
     "output_type": "execute_result"
    }
   ],
   "source": [
    "all_matches[all_matches['id'] == 11338]"
   ]
  },
  {
   "cell_type": "code",
   "execution_count": 32,
   "metadata": {},
   "outputs": [
    {
     "data": {
      "text/plain": [
       "city            winner               \n",
       "Abu Dhabi       Kolkata Knight Riders    1\n",
       "Bangalore       Mumbai Indians           1\n",
       "Cuttack         Kolkata Knight Riders    1\n",
       "East London     Mumbai Indians           1\n",
       "Kolkata         Mumbai Indians           7\n",
       "                Kolkata Knight Riders    3\n",
       "Mumbai          Mumbai Indians           9\n",
       "                Kolkata Knight Riders    1\n",
       "Port Elizabeth  Mumbai Indians           1\n",
       "Name: winner, dtype: int64"
      ]
     },
     "execution_count": 32,
     "metadata": {},
     "output_type": "execute_result"
    }
   ],
   "source": [
    "all_matches.groupby('city')['winner'].value_counts()"
   ]
  },
  {
   "cell_type": "code",
   "execution_count": 33,
   "metadata": {},
   "outputs": [
    {
     "data": {
      "text/html": [
       "<div>\n",
       "<style scoped>\n",
       "    .dataframe tbody tr th:only-of-type {\n",
       "        vertical-align: middle;\n",
       "    }\n",
       "\n",
       "    .dataframe tbody tr th {\n",
       "        vertical-align: top;\n",
       "    }\n",
       "\n",
       "    .dataframe thead th {\n",
       "        text-align: right;\n",
       "    }\n",
       "</style>\n",
       "<table border=\"1\" class=\"dataframe\">\n",
       "  <thead>\n",
       "    <tr style=\"text-align: right;\">\n",
       "      <th></th>\n",
       "      <th>id</th>\n",
       "      <th>season</th>\n",
       "      <th>city</th>\n",
       "      <th>date</th>\n",
       "      <th>team1</th>\n",
       "      <th>team2</th>\n",
       "      <th>toss_winner</th>\n",
       "      <th>toss_decision</th>\n",
       "      <th>result</th>\n",
       "      <th>dl_applied</th>\n",
       "      <th>winner</th>\n",
       "      <th>win_by_runs</th>\n",
       "      <th>win_by_wickets</th>\n",
       "      <th>player_of_match</th>\n",
       "      <th>venue</th>\n",
       "      <th>umpire1</th>\n",
       "      <th>umpire2</th>\n",
       "      <th>umpire3</th>\n",
       "    </tr>\n",
       "  </thead>\n",
       "  <tbody>\n",
       "    <tr>\n",
       "      <th>457</th>\n",
       "      <td>458</td>\n",
       "      <td>2014</td>\n",
       "      <td>Abu Dhabi</td>\n",
       "      <td>4/16/2014</td>\n",
       "      <td>Kolkata Knight Riders</td>\n",
       "      <td>Mumbai Indians</td>\n",
       "      <td>Kolkata Knight Riders</td>\n",
       "      <td>bat</td>\n",
       "      <td>normal</td>\n",
       "      <td>0</td>\n",
       "      <td>Kolkata Knight Riders</td>\n",
       "      <td>41</td>\n",
       "      <td>0</td>\n",
       "      <td>JH Kallis</td>\n",
       "      <td>Sheikh Zayed Stadium</td>\n",
       "      <td>M Erasmus</td>\n",
       "      <td>RK Illingworth</td>\n",
       "      <td>NaN</td>\n",
       "    </tr>\n",
       "  </tbody>\n",
       "</table>\n",
       "</div>"
      ],
      "text/plain": [
       "      id  season       city       date                  team1           team2  \\\n",
       "457  458    2014  Abu Dhabi  4/16/2014  Kolkata Knight Riders  Mumbai Indians   \n",
       "\n",
       "               toss_winner toss_decision  result  dl_applied  \\\n",
       "457  Kolkata Knight Riders           bat  normal           0   \n",
       "\n",
       "                    winner  win_by_runs  win_by_wickets player_of_match  \\\n",
       "457  Kolkata Knight Riders           41               0       JH Kallis   \n",
       "\n",
       "                    venue    umpire1         umpire2 umpire3  \n",
       "457  Sheikh Zayed Stadium  M Erasmus  RK Illingworth     NaN  "
      ]
     },
     "execution_count": 33,
     "metadata": {},
     "output_type": "execute_result"
    }
   ],
   "source": [
    "all_matches[all_matches['city'] == 'Abu Dhabi']"
   ]
  },
  {
   "cell_type": "code",
   "execution_count": 34,
   "metadata": {},
   "outputs": [],
   "source": [
    "sub_data1 = sub_data[sub_data['id'] == 458]"
   ]
  },
  {
   "cell_type": "code",
   "execution_count": 35,
   "metadata": {},
   "outputs": [
    {
     "data": {
      "text/plain": [
       "<matplotlib.axes._subplots.AxesSubplot at 0x1e0a0b99408>"
      ]
     },
     "execution_count": 35,
     "metadata": {},
     "output_type": "execute_result"
    },
    {
     "data": {
      "image/png": "[encoded data removed]",
      "text/plain": [
       "<Figure size 432x288 with 1 Axes>"
      ]
     },
     "metadata": {
      "needs_background": "light"
     },
     "output_type": "display_data"
    }
   ],
   "source": [
    "sub_data1.groupby('batsman')['batsman_runs'].sum().sort_values(ascending=False).plot.bar(title='Runs scored by bastman')"
   ]
  },
  {
   "cell_type": "code",
   "execution_count": 36,
   "metadata": {},
   "outputs": [
    {
     "data": {
      "text/plain": [
       "bowler           player_dismissed\n",
       "Z Khan           RV Uthappa          1\n",
       "Shakib Al Hasan  AP Tare             1\n",
       "SP Narine        MEK Hussey          1\n",
       "                 Harbhajan Singh     1\n",
       "                 CJ Anderson         1\n",
       "                 AT Rayudu           1\n",
       "SL Malinga       Shakib Al Hasan     1\n",
       "                 MK Pandey           1\n",
       "                 JH Kallis           1\n",
       "                 G Gambhir           1\n",
       "PP Chawla        CM Gautam           1\n",
       "M Morkel         RG Sharma           1\n",
       "Name: player_dismissed, dtype: int64"
      ]
     },
     "execution_count": 36,
     "metadata": {},
     "output_type": "execute_result"
    }
   ],
   "source": [
    "sub_data1.groupby('bowler')['player_dismissed'].value_counts().sort_values(ascending=False)"
   ]
  },
  {
   "cell_type": "code",
   "execution_count": 37,
   "metadata": {},
   "outputs": [
    {
     "data": {
      "text/html": [
       "<div>\n",
       "<style scoped>\n",
       "    .dataframe tbody tr th:only-of-type {\n",
       "        vertical-align: middle;\n",
       "    }\n",
       "\n",
       "    .dataframe tbody tr th {\n",
       "        vertical-align: top;\n",
       "    }\n",
       "\n",
       "    .dataframe thead th {\n",
       "        text-align: right;\n",
       "    }\n",
       "</style>\n",
       "<table border=\"1\" class=\"dataframe\">\n",
       "  <thead>\n",
       "    <tr style=\"text-align: right;\">\n",
       "      <th></th>\n",
       "      <th></th>\n",
       "      <th>win_by_wickets</th>\n",
       "      <th>win_by_runs</th>\n",
       "    </tr>\n",
       "    <tr>\n",
       "      <th>season</th>\n",
       "      <th>winner</th>\n",
       "      <th></th>\n",
       "      <th></th>\n",
       "    </tr>\n",
       "  </thead>\n",
       "  <tbody>\n",
       "    <tr>\n",
       "      <th>2008</th>\n",
       "      <th>Mumbai Indians</th>\n",
       "      <td>8</td>\n",
       "      <td>0</td>\n",
       "    </tr>\n",
       "    <tr>\n",
       "      <th>2009</th>\n",
       "      <th>Mumbai Indians</th>\n",
       "      <td>0</td>\n",
       "      <td>92</td>\n",
       "    </tr>\n",
       "    <tr>\n",
       "      <th rowspan=\"2\" valign=\"top\">2010</th>\n",
       "      <th>Kolkata Knight Riders</th>\n",
       "      <td>9</td>\n",
       "      <td>0</td>\n",
       "    </tr>\n",
       "    <tr>\n",
       "      <th>Mumbai Indians</th>\n",
       "      <td>7</td>\n",
       "      <td>0</td>\n",
       "    </tr>\n",
       "    <tr>\n",
       "      <th>2011</th>\n",
       "      <th>Mumbai Indians</th>\n",
       "      <td>5</td>\n",
       "      <td>0</td>\n",
       "    </tr>\n",
       "    <tr>\n",
       "      <th rowspan=\"2\" valign=\"top\">2012</th>\n",
       "      <th>Kolkata Knight Riders</th>\n",
       "      <td>0</td>\n",
       "      <td>32</td>\n",
       "    </tr>\n",
       "    <tr>\n",
       "      <th>Mumbai Indians</th>\n",
       "      <td>0</td>\n",
       "      <td>27</td>\n",
       "    </tr>\n",
       "    <tr>\n",
       "      <th>2013</th>\n",
       "      <th>Mumbai Indians</th>\n",
       "      <td>5</td>\n",
       "      <td>65</td>\n",
       "    </tr>\n",
       "    <tr>\n",
       "      <th>2014</th>\n",
       "      <th>Kolkata Knight Riders</th>\n",
       "      <td>6</td>\n",
       "      <td>41</td>\n",
       "    </tr>\n",
       "    <tr>\n",
       "      <th rowspan=\"2\" valign=\"top\">2015</th>\n",
       "      <th>Kolkata Knight Riders</th>\n",
       "      <td>7</td>\n",
       "      <td>0</td>\n",
       "    </tr>\n",
       "    <tr>\n",
       "      <th>Mumbai Indians</th>\n",
       "      <td>0</td>\n",
       "      <td>5</td>\n",
       "    </tr>\n",
       "    <tr>\n",
       "      <th>2016</th>\n",
       "      <th>Mumbai Indians</th>\n",
       "      <td>6</td>\n",
       "      <td>0</td>\n",
       "    </tr>\n",
       "    <tr>\n",
       "      <th>2017</th>\n",
       "      <th>Mumbai Indians</th>\n",
       "      <td>6</td>\n",
       "      <td>9</td>\n",
       "    </tr>\n",
       "    <tr>\n",
       "      <th>2018</th>\n",
       "      <th>Mumbai Indians</th>\n",
       "      <td>0</td>\n",
       "      <td>102</td>\n",
       "    </tr>\n",
       "    <tr>\n",
       "      <th rowspan=\"2\" valign=\"top\">2019</th>\n",
       "      <th>Kolkata Knight Riders</th>\n",
       "      <td>0</td>\n",
       "      <td>34</td>\n",
       "    </tr>\n",
       "    <tr>\n",
       "      <th>Mumbai Indians</th>\n",
       "      <td>9</td>\n",
       "      <td>0</td>\n",
       "    </tr>\n",
       "  </tbody>\n",
       "</table>\n",
       "</div>"
      ],
      "text/plain": [
       "                              win_by_wickets  win_by_runs\n",
       "season winner                                            \n",
       "2008   Mumbai Indians                      8            0\n",
       "2009   Mumbai Indians                      0           92\n",
       "2010   Kolkata Knight Riders               9            0\n",
       "       Mumbai Indians                      7            0\n",
       "2011   Mumbai Indians                      5            0\n",
       "2012   Kolkata Knight Riders               0           32\n",
       "       Mumbai Indians                      0           27\n",
       "2013   Mumbai Indians                      5           65\n",
       "2014   Kolkata Knight Riders               6           41\n",
       "2015   Kolkata Knight Riders               7            0\n",
       "       Mumbai Indians                      0            5\n",
       "2016   Mumbai Indians                      6            0\n",
       "2017   Mumbai Indians                      6            9\n",
       "2018   Mumbai Indians                      0          102\n",
       "2019   Kolkata Knight Riders               0           34\n",
       "       Mumbai Indians                      9            0"
      ]
     },
     "execution_count": 37,
     "metadata": {},
     "output_type": "execute_result"
    }
   ],
   "source": [
    "all_matches.groupby(['season','winner'])['win_by_wickets','win_by_runs'].max()"
   ]
  },
  {
   "cell_type": "code",
   "execution_count": 38,
   "metadata": {},
   "outputs": [
    {
     "data": {
      "text/plain": [
       "'normal'"
      ]
     },
     "execution_count": 38,
     "metadata": {},
     "output_type": "execute_result"
    }
   ],
   "source": [
    "all_matches['result'].unique()[0]"
   ]
  },
  {
   "cell_type": "code",
   "execution_count": 39,
   "metadata": {},
   "outputs": [
    {
     "data": {
      "text/plain": [
       "winner                 player_of_match\n",
       "Kolkata Knight Riders  AD Russell         1\n",
       "                       JH Kallis          1\n",
       "                       M Kartik           1\n",
       "                       M Morkel           1\n",
       "                       RV Uthappa         1\n",
       "                       SP Narine          1\n",
       "Mumbai Indians         HH Pandya          3\n",
       "                       RG Sharma          3\n",
       "                       SR Tendulkar       3\n",
       "                       AT Rayudu          1\n",
       "                       DR Smith           1\n",
       "                       Ishan Kishan       1\n",
       "                       JEC Franklin       1\n",
       "                       JP Duminy          1\n",
       "                       KV Sharma          1\n",
       "                       MM Patel           1\n",
       "                       N Rana             1\n",
       "                       SM Pollock         1\n",
       "                       ST Jayasuriya      1\n",
       "Name: player_of_match, dtype: int64"
      ]
     },
     "execution_count": 39,
     "metadata": {},
     "output_type": "execute_result"
    }
   ],
   "source": [
    "all_matches.groupby('winner')['player_of_match'].value_counts()"
   ]
  },
  {
   "cell_type": "code",
   "execution_count": 40,
   "metadata": {},
   "outputs": [
    {
     "data": {
      "text/plain": [
       "RV Uthappa    2\n",
       "R Singh       2\n",
       "CA Lynn       2\n",
       "C Munro       1\n",
       "G Gambhir     1\n",
       "AD Russell    1\n",
       "SA Yadav      1\n",
       "Name: player_dismissed, dtype: int64"
      ]
     },
     "execution_count": 40,
     "metadata": {},
     "output_type": "execute_result"
    }
   ],
   "source": [
    "sub_data[sub_data['bowler'] == 'JJ Bumrah']['player_dismissed'].value_counts()"
   ]
  },
  {
   "cell_type": "code",
   "execution_count": 44,
   "metadata": {},
   "outputs": [
    {
     "data": {
      "text/plain": [
       "SP Narine     2\n",
       "RV Uthappa    1\n",
       "AD Russell    1\n",
       "Name: player_dismissed, dtype: int64"
      ]
     },
     "execution_count": 44,
     "metadata": {},
     "output_type": "execute_result"
    }
   ],
   "source": [
    "data[(data['bowler'] == 'TA Boult') & (data['batting_team'] == 'Kolkata Knight Riders')]['player_dismissed'].value_counts()"
   ]
  },
  {
   "cell_type": "code",
   "execution_count": 48,
   "metadata": {},
   "outputs": [
    {
     "data": {
      "text/html": [
       "<div>\n",
       "<style scoped>\n",
       "    .dataframe tbody tr th:only-of-type {\n",
       "        vertical-align: middle;\n",
       "    }\n",
       "\n",
       "    .dataframe tbody tr th {\n",
       "        vertical-align: top;\n",
       "    }\n",
       "\n",
       "    .dataframe thead th {\n",
       "        text-align: right;\n",
       "    }\n",
       "</style>\n",
       "<table border=\"1\" class=\"dataframe\">\n",
       "  <thead>\n",
       "    <tr style=\"text-align: right;\">\n",
       "      <th></th>\n",
       "      <th>count</th>\n",
       "    </tr>\n",
       "    <tr>\n",
       "      <th>batsman</th>\n",
       "      <th></th>\n",
       "    </tr>\n",
       "  </thead>\n",
       "  <tbody>\n",
       "    <tr>\n",
       "      <th>AD Russell</th>\n",
       "      <td>5</td>\n",
       "    </tr>\n",
       "    <tr>\n",
       "      <th>SP Narine</th>\n",
       "      <td>8</td>\n",
       "    </tr>\n",
       "  </tbody>\n",
       "</table>\n",
       "</div>"
      ],
      "text/plain": [
       "            count\n",
       "batsman          \n",
       "AD Russell      5\n",
       "SP Narine       8"
      ]
     },
     "execution_count": 48,
     "metadata": {},
     "output_type": "execute_result"
    }
   ],
   "source": [
    "data[(data['bowler'] == 'TA Boult') & (data['batting_team'] == 'Kolkata Knight Riders') & (data['batsman'].isin(['SP Narine', 'AD Russell']))].groupby('batsman')['ball'].agg({'count'})"
   ]
  },
  {
   "cell_type": "markdown",
   "metadata": {},
   "source": [
    "Balls faced by AD Russell and SP Narine is very less which means they are not able to survive most of the time in the pitch when TA Boult is bowling."
   ]
  },
  {
   "cell_type": "code",
   "execution_count": 49,
   "metadata": {},
   "outputs": [
    {
     "data": {
      "text/html": [
       "<div>\n",
       "<style scoped>\n",
       "    .dataframe tbody tr th:only-of-type {\n",
       "        vertical-align: middle;\n",
       "    }\n",
       "\n",
       "    .dataframe tbody tr th {\n",
       "        vertical-align: top;\n",
       "    }\n",
       "\n",
       "    .dataframe thead th {\n",
       "        text-align: right;\n",
       "    }\n",
       "</style>\n",
       "<table border=\"1\" class=\"dataframe\">\n",
       "  <thead>\n",
       "    <tr style=\"text-align: right;\">\n",
       "      <th></th>\n",
       "      <th>count</th>\n",
       "    </tr>\n",
       "    <tr>\n",
       "      <th>batsman</th>\n",
       "      <th></th>\n",
       "    </tr>\n",
       "  </thead>\n",
       "  <tbody>\n",
       "    <tr>\n",
       "      <th>AD Russell</th>\n",
       "      <td>28</td>\n",
       "    </tr>\n",
       "    <tr>\n",
       "      <th>SP Narine</th>\n",
       "      <td>1</td>\n",
       "    </tr>\n",
       "  </tbody>\n",
       "</table>\n",
       "</div>"
      ],
      "text/plain": [
       "            count\n",
       "batsman          \n",
       "AD Russell     28\n",
       "SP Narine       1"
      ]
     },
     "execution_count": 49,
     "metadata": {},
     "output_type": "execute_result"
    }
   ],
   "source": [
    "data[(data['bowler'] == 'JJ Bumrah') & (data['batting_team'] == 'Kolkata Knight Riders') & (data['batsman'].isin(['SP Narine', 'AD Russell']))].groupby('batsman')['ball'].agg({'count'})"
   ]
  },
  {
   "cell_type": "markdown",
   "metadata": {},
   "source": [
    "Balls faced by russell against bumrah is pretty high and narine is not able to survive."
   ]
  },
  {
   "cell_type": "markdown",
   "metadata": {},
   "source": [
    "### How many wickets will MI loose in overs 6-15??"
   ]
  },
  {
   "cell_type": "code",
   "execution_count": 73,
   "metadata": {},
   "outputs": [],
   "source": [
    "sub_data2 = sub_data[(sub_data['over'] >= 6) & (sub_data['over'] <= 15) & (-sub_data['player_dismissed'].isnull()) & (sub_data['batting_team'] == 'Mumbai Indians')]"
   ]
  },
  {
   "cell_type": "code",
   "execution_count": 74,
   "metadata": {},
   "outputs": [
    {
     "data": {
      "text/plain": [
       "(54, 39)"
      ]
     },
     "execution_count": 74,
     "metadata": {},
     "output_type": "execute_result"
    }
   ],
   "source": [
    "sub_data2.shape"
   ]
  },
  {
   "cell_type": "code",
   "execution_count": 75,
   "metadata": {},
   "outputs": [
    {
     "data": {
      "text/plain": [
       "<matplotlib.axes._subplots.AxesSubplot at 0x1e0a1866808>"
      ]
     },
     "execution_count": 75,
     "metadata": {},
     "output_type": "execute_result"
    },
    {
     "data": {
      "image/png": "[encoded data removed]",
      "text/plain": [
       "<Figure size 432x288 with 1 Axes>"
      ]
     },
     "metadata": {
      "needs_background": "light"
     },
     "output_type": "display_data"
    }
   ],
   "source": [
    "sub_data2.groupby('match_id')['player_dismissed'].agg({\"count\"}).plot.bar(title='Distribution of MI wickets in different matches')"
   ]
  },
  {
   "cell_type": "code",
   "execution_count": 76,
   "metadata": {},
   "outputs": [
    {
     "data": {
      "text/plain": [
       "<matplotlib.axes._subplots.AxesSubplot at 0x1e0a193adc8>"
      ]
     },
     "execution_count": 76,
     "metadata": {},
     "output_type": "execute_result"
    },
    {
     "data": {
      "image/png": "[encoded data removed]",
      "text/plain": [
       "<Figure size 432x288 with 1 Axes>"
      ]
     },
     "metadata": {
      "needs_background": "light"
     },
     "output_type": "display_data"
    }
   ],
   "source": [
    "sub_data2.groupby('match_id')['player_dismissed'].agg({\"count\"}).plot.box(title='Box plot of MI wickets')"
   ]
  },
  {
   "cell_type": "code",
   "execution_count": 77,
   "metadata": {},
   "outputs": [
    {
     "name": "stdout",
     "output_type": "stream",
     "text": [
      "Average wickets lost by MI in overs 6-15 is : 3\n"
     ]
    }
   ],
   "source": [
    "print('Average wickets lost by MI in overs 6-15 is : {}'.format(3))"
   ]
  },
  {
   "cell_type": "code",
   "execution_count": 78,
   "metadata": {},
   "outputs": [
    {
     "data": {
      "text/plain": [
       "<matplotlib.axes._subplots.AxesSubplot at 0x1e0a19a2d08>"
      ]
     },
     "execution_count": 78,
     "metadata": {},
     "output_type": "execute_result"
    },
    {
     "data": {
      "image/png": "[encoded data removed]",
      "text/plain": [
       "<Figure size 432x288 with 1 Axes>"
      ]
     },
     "metadata": {
      "needs_background": "light"
     },
     "output_type": "display_data"
    }
   ],
   "source": [
    "sub_data2.groupby('over')['player_dismissed'].agg({'count'}).plot.bar(title='Wickets lost by MI in different overs')"
   ]
  },
  {
   "cell_type": "code",
   "execution_count": 79,
   "metadata": {},
   "outputs": [
    {
     "data": {
      "text/plain": [
       "RG Sharma          3\n",
       "SR Tendulkar       3\n",
       "AT Rayudu          3\n",
       "LMP Simmons        2\n",
       "Harbhajan Singh    2\n",
       "JC Buttler         2\n",
       "AS Yadav           2\n",
       "KH Pandya          2\n",
       "HH Gibbs           1\n",
       "E Lewis            1\n",
       "PA Patel           1\n",
       "JP Duminy          1\n",
       "KD Karthik         1\n",
       "Name: player_dismissed, dtype: int64"
      ]
     },
     "execution_count": 79,
     "metadata": {},
     "output_type": "execute_result"
    }
   ],
   "source": [
    "sub_data2[(sub_data2['over'].isin([6,9,13]))]['player_dismissed'].value_counts()"
   ]
  },
  {
   "cell_type": "code",
   "execution_count": 82,
   "metadata": {},
   "outputs": [
    {
     "data": {
      "text/plain": [
       "player_dismissed  bowler         \n",
       "KH Pandya         AS Rajpoot         1\n",
       "                  SP Narine          1\n",
       "RG Sharma         SP Narine          3\n",
       "                  AS Rajpoot         1\n",
       "                  JH Kallis          1\n",
       "                  NM Coulter-Nile    1\n",
       "                  R Bhatia           1\n",
       "Name: bowler, dtype: int64"
      ]
     },
     "execution_count": 82,
     "metadata": {},
     "output_type": "execute_result"
    }
   ],
   "source": [
    "sub_data2[(sub_data2['player_dismissed'].isin(['RG Sharma', 'KH Pandya']))].groupby('player_dismissed')['bowler'].value_counts()"
   ]
  },
  {
   "cell_type": "code",
   "execution_count": 84,
   "metadata": {},
   "outputs": [
    {
     "data": {
      "text/plain": [
       "array(['SP Narine', 'AS Rajpoot', 'NM Coulter-Nile', 'R Bhatia',\n",
       "       'JH Kallis', 'R McLaren', 'M Morkel', 'P Krishna', 'H Gurney'],\n",
       "      dtype=object)"
      ]
     },
     "execution_count": 84,
     "metadata": {},
     "output_type": "execute_result"
    }
   ],
   "source": [
    "sub_data[(sub_data['player_dismissed'] == 'RG Sharma')]['bowler'].unique()"
   ]
  },
  {
   "cell_type": "code",
   "execution_count": 93,
   "metadata": {},
   "outputs": [
    {
     "data": {
      "text/plain": [
       "<matplotlib.axes._subplots.AxesSubplot at 0x1e0a1dd98c8>"
      ]
     },
     "execution_count": 93,
     "metadata": {},
     "output_type": "execute_result"
    },
    {
     "data": {
      "image/png": "[encoded data removed]",
      "text/plain": [
       "<Figure size 1080x360 with 1 Axes>"
      ]
     },
     "metadata": {
      "needs_background": "light"
     },
     "output_type": "display_data"
    }
   ],
   "source": [
    "sub_data[(sub_data['batting_team'] == 'Mumbai Indians') & (sub_data['over'] >= 6) & (sub_data['over'] <= 15)].groupby('batsman')['batsman_runs'].sum().sort_values(ascending=False).plot.bar(title='Total runs scoreb by MI batsman in overs 6-15', figsize=(15,5))"
   ]
  },
  {
   "cell_type": "code",
   "execution_count": 98,
   "metadata": {},
   "outputs": [
    {
     "data": {
      "text/plain": [
       "bowler           batsman     \n",
       "SP Narine        RG Sharma       62\n",
       "PP Chawla        RG Sharma       62\n",
       "Iqbal Abdulla    DR Smith        37\n",
       "AD Russell       RG Sharma       37\n",
       "PP Chawla        HH Pandya       37\n",
       "R Bhatia         RG Sharma       34\n",
       "JH Kallis        RG Sharma       32\n",
       "Shakib Al Hasan  RG Sharma       32\n",
       "Kuldeep Yadav    Ishan Kishan    31\n",
       "JH Kallis        SR Tendulkar    29\n",
       "UT Yadav         RG Sharma       26\n",
       "Kuldeep Yadav    RG Sharma       24\n",
       "JH Kallis        AT Rayudu       24\n",
       "PP Chawla        CJ Anderson     23\n",
       "SP Narine        HH Pandya       22\n",
       "Name: batsman_runs, dtype: int64"
      ]
     },
     "execution_count": 98,
     "metadata": {},
     "output_type": "execute_result"
    }
   ],
   "source": [
    "sub_data[(sub_data['batting_team'] == 'Mumbai Indians') & (sub_data['over'] >= 6) & (sub_data['over'] <= 15)].groupby(['bowler', 'batsman'])['batsman_runs'].sum().sort_values(ascending=False).head(15)"
   ]
  },
  {
   "cell_type": "markdown",
   "metadata": {},
   "source": [
    "### How many 4s will be hit by KKR in the match??"
   ]
  },
  {
   "cell_type": "code",
   "execution_count": 102,
   "metadata": {},
   "outputs": [],
   "source": [
    "sub_data3 = sub_data[(sub_data['batsman_runs'] == 4) & (sub_data['batting_team'] == 'Kolkata Knight Riders')]"
   ]
  },
  {
   "cell_type": "code",
   "execution_count": 104,
   "metadata": {},
   "outputs": [
    {
     "data": {
      "text/plain": [
       "match_id  batsman_runs\n",
       "7         4               14\n",
       "53        4               14\n",
       "58        4                8\n",
       "75        4               15\n",
       "99        4                7\n",
       "132       4                8\n",
       "138       4               10\n",
       "191       4               15\n",
       "230       4               13\n",
       "303       4               16\n",
       "305       4               15\n",
       "363       4               14\n",
       "370       4               12\n",
       "413       4               16\n",
       "434       4                8\n",
       "458       4               14\n",
       "497       4               14\n",
       "518       4               11\n",
       "567       4               19\n",
       "581       4               11\n",
       "600       4               17\n",
       "7930      4               23\n",
       "7934      4               12\n",
       "11338     4               21\n",
       "11347     4                2\n",
       "Name: batsman_runs, dtype: int64"
      ]
     },
     "execution_count": 104,
     "metadata": {},
     "output_type": "execute_result"
    }
   ],
   "source": [
    "sub_data3.groupby('match_id')['batsman_runs'].value_counts()"
   ]
  },
  {
   "cell_type": "code",
   "execution_count": 114,
   "metadata": {},
   "outputs": [
    {
     "name": "stdout",
     "output_type": "stream",
     "text": [
      "Average boundaries hit by KKR batsman is : 13\n"
     ]
    }
   ],
   "source": [
    "print('Average boundaries hit by KKR batsman is : {}'.format(round(sub_data3.groupby('match_id')['batsman_runs'].value_counts().mean())))"
   ]
  },
  {
   "cell_type": "code",
   "execution_count": 110,
   "metadata": {},
   "outputs": [
    {
     "data": {
      "text/plain": [
       "<matplotlib.axes._subplots.AxesSubplot at 0x1e0a1f6bd08>"
      ]
     },
     "execution_count": 110,
     "metadata": {},
     "output_type": "execute_result"
    },
    {
     "data": {
      "image/png": "[encoded data removed]",
      "text/plain": [
       "<Figure size 432x288 with 1 Axes>"
      ]
     },
     "metadata": {
      "needs_background": "light"
     },
     "output_type": "display_data"
    }
   ],
   "source": [
    "sub_data3.groupby(['batsman'])['batsman_runs'].value_counts().sort_values(ascending=False).head(20).plot.bar(title='Batsman with most boundaries in all matches against MI')"
   ]
  },
  {
   "cell_type": "code",
   "execution_count": 117,
   "metadata": {},
   "outputs": [
    {
     "data": {
      "text/plain": [
       "bowler           batsman_runs\n",
       "SL Malinga       4               38\n",
       "Harbhajan Singh  4               35\n",
       "JJ Bumrah        4               28\n",
       "MJ McClenaghan   4               22\n",
       "KA Pollard       4               16\n",
       "TG Southee       4               13\n",
       "KH Pandya        4               13\n",
       "HH Pandya        4               10\n",
       "MG Johnson       4               10\n",
       "DJ Bravo         4               10\n",
       "Name: batsman_runs, dtype: int64"
      ]
     },
     "execution_count": 117,
     "metadata": {},
     "output_type": "execute_result"
    }
   ],
   "source": [
    "sub_data3.groupby('bowler')['batsman_runs'].value_counts().sort_values(ascending=False).head(10)"
   ]
  },
  {
   "cell_type": "code",
   "execution_count": 122,
   "metadata": {},
   "outputs": [
    {
     "data": {
      "text/plain": [
       "over  bowler      batsman_runs\n",
       "11    KA Pollard  4               7\n",
       "17    JJ Bumrah   4               6\n",
       "2     JJ Bumrah   4               4\n",
       "16    KA Pollard  4               3\n",
       "19    JJ Bumrah   4               3\n",
       "13    KH Pandya   4               3\n",
       "10    KA Pollard  4               2\n",
       "12    KH Pandya   4               2\n",
       "3     JJ Bumrah   4               2\n",
       "4     JJ Bumrah   4               2\n",
       "      KH Pandya   4               2\n",
       "11    JJ Bumrah   4               2\n",
       "20    KH Pandya   4               2\n",
       "14    JJ Bumrah   4               2\n",
       "13    JJ Bumrah   4               1\n",
       "20    KA Pollard  4               1\n",
       "15    JJ Bumrah   4               1\n",
       "9     KH Pandya   4               1\n",
       "      KA Pollard  4               1\n",
       "8     KH Pandya   4               1\n",
       "      KA Pollard  4               1\n",
       "7     KH Pandya   4               1\n",
       "6     JJ Bumrah   4               1\n",
       "5     KH Pandya   4               1\n",
       "      JJ Bumrah   4               1\n",
       "16    JJ Bumrah   4               1\n",
       "20    JJ Bumrah   4               1\n",
       "18    JJ Bumrah   4               1\n",
       "19    KA Pollard  4               1\n",
       "Name: batsman_runs, dtype: int64"
      ]
     },
     "execution_count": 122,
     "metadata": {},
     "output_type": "execute_result"
    }
   ],
   "source": [
    "sub_data3[(sub_data3['bowler'].isin(['JJ Bumrah', 'KA Pollard', 'KH Pandya', 'KK Pandya']))].groupby(['over', 'bowler'])['batsman_runs'].value_counts().sort_values(ascending=False)"
   ]
  },
  {
   "cell_type": "code",
   "execution_count": 127,
   "metadata": {},
   "outputs": [
    {
     "data": {
      "text/plain": [
       "batsman     batsman_runs\n",
       "G Gambhir   4               26\n",
       "YK Pathan   4               20\n",
       "CA Lynn     4               19\n",
       "JH Kallis   4               17\n",
       "SC Ganguly  4               11\n",
       "RV Uthappa  4               11\n",
       "AD Russell  4               10\n",
       "MK Pandey   4                9\n",
       "SA Yadav    4                9\n",
       "CH Gayle    4                7\n",
       "Name: batsman_runs, dtype: int64"
      ]
     },
     "execution_count": 127,
     "metadata": {},
     "output_type": "execute_result"
    }
   ],
   "source": [
    "sub_data3[sub_data3['over'].isin([1,2,3,4,5,6,15,16,17,18,19,20])].groupby('batsman')['batsman_runs'].value_counts().sort_values(ascending=False).head(10)"
   ]
  },
  {
   "cell_type": "markdown",
   "metadata": {},
   "source": [
    "### How many runs will be scored in the match??"
   ]
  },
  {
   "cell_type": "code",
   "execution_count": 129,
   "metadata": {},
   "outputs": [
    {
     "data": {
      "text/plain": [
       "<matplotlib.axes._subplots.AxesSubplot at 0x1e0a2052648>"
      ]
     },
     "execution_count": 129,
     "metadata": {},
     "output_type": "execute_result"
    },
    {
     "data": {
      "image/png": "[encoded data removed]",
      "text/plain": [
       "<Figure size 432x288 with 1 Axes>"
      ]
     },
     "metadata": {
      "needs_background": "light"
     },
     "output_type": "display_data"
    }
   ],
   "source": [
    "sub_data.groupby('match_id')['total_runs'].sum().plot.bar(title='Total runs scored in matches between MI and KKR')"
   ]
  },
  {
   "cell_type": "code",
   "execution_count": 131,
   "metadata": {},
   "outputs": [
    {
     "data": {
      "text/plain": [
       "<matplotlib.axes._subplots.AxesSubplot at 0x1e0a230ec08>"
      ]
     },
     "execution_count": 131,
     "metadata": {},
     "output_type": "execute_result"
    },
    {
     "data": {
      "image/png": "[encoded data removed]",
      "text/plain": [
       "<Figure size 432x288 with 1 Axes>"
      ]
     },
     "metadata": {
      "needs_background": "light"
     },
     "output_type": "display_data"
    }
   ],
   "source": [
    "sub_data.groupby('match_id')['total_runs'].sum().plot.box(title='Box plot distribution of runs scored')"
   ]
  },
  {
   "cell_type": "code",
   "execution_count": 135,
   "metadata": {},
   "outputs": [
    {
     "data": {
      "text/plain": [
       "match_id  team1                  team2                \n",
       "7         Kolkata Knight Riders  Mumbai Indians           358\n",
       "53        Mumbai Indians         Kolkata Knight Riders    337\n",
       "58        Kolkata Knight Riders  Mumbai Indians           218\n",
       "75        Kolkata Knight Riders  Mumbai Indians           275\n",
       "99        Kolkata Knight Riders  Mumbai Indians           135\n",
       "132       Mumbai Indians         Kolkata Knight Riders    282\n",
       "138       Mumbai Indians         Kolkata Knight Riders    287\n",
       "191       Kolkata Knight Riders  Mumbai Indians           311\n",
       "230       Mumbai Indians         Kolkata Knight Riders    268\n",
       "303       Kolkata Knight Riders  Mumbai Indians           353\n",
       "305       Kolkata Knight Riders  Mumbai Indians           295\n",
       "363       Mumbai Indians         Kolkata Knight Riders    337\n",
       "370       Kolkata Knight Riders  Mumbai Indians           248\n",
       "413       Kolkata Knight Riders  Mumbai Indians           321\n",
       "434       Mumbai Indians         Kolkata Knight Riders    275\n",
       "458       Kolkata Knight Riders  Mumbai Indians           285\n",
       "497       Mumbai Indians         Kolkata Knight Riders    283\n",
       "518       Mumbai Indians         Kolkata Knight Riders    338\n",
       "567       Mumbai Indians         Kolkata Knight Riders    337\n",
       "581       Kolkata Knight Riders  Mumbai Indians           375\n",
       "600       Kolkata Knight Riders  Mumbai Indians           352\n",
       "7930      Mumbai Indians         Kolkata Knight Riders    364\n",
       "7934      Mumbai Indians         Kolkata Knight Riders    326\n",
       "11338     Kolkata Knight Riders  Mumbai Indians           445\n",
       "11347     Kolkata Knight Riders  Mumbai Indians           280\n",
       "Name: total_runs, dtype: int64"
      ]
     },
     "execution_count": 135,
     "metadata": {},
     "output_type": "execute_result"
    }
   ],
   "source": [
    "sub_data[(sub_data['batting_team'] == 'Mumbai Indians')].groupby(['match_id', 'batting'])"
   ]
  },
  {
   "cell_type": "code",
   "execution_count": 140,
   "metadata": {},
   "outputs": [
    {
     "data": {
      "text/plain": [
       "<matplotlib.axes._subplots.AxesSubplot at 0x1e0a23b8348>"
      ]
     },
     "execution_count": 140,
     "metadata": {},
     "output_type": "execute_result"
    },
    {
     "data": {
      "image/png": "[encoded data removed]",
      "text/plain": [
       "<Figure size 1080x360 with 1 Axes>"
      ]
     },
     "metadata": {
      "needs_background": "light"
     },
     "output_type": "display_data"
    }
   ],
   "source": [
    "sub_data.groupby(['match_id', 'batting_team'])['total_runs'].sum().plot.bar(figsize=(15,5), color=['purple', 'blue'], title='Contribution of each team in total runs of the match')"
   ]
  },
  {
   "cell_type": "code",
   "execution_count": 144,
   "metadata": {},
   "outputs": [
    {
     "data": {
      "text/plain": [
       "batting_team\n",
       "Kolkata Knight Riders    3730\n",
       "Mumbai Indians           3955\n",
       "Name: total_runs, dtype: int64"
      ]
     },
     "execution_count": 144,
     "metadata": {},
     "output_type": "execute_result"
    }
   ],
   "source": [
    "sub_data.groupby('batting_team')['total_runs'].sum()"
   ]
  },
  {
   "cell_type": "code",
   "execution_count": 147,
   "metadata": {},
   "outputs": [
    {
     "data": {
      "text/plain": [
       "0.6699983059461291"
      ]
     },
     "execution_count": 147,
     "metadata": {},
     "output_type": "execute_result"
    }
   ],
   "source": [
    "sub_data.groupby('batting_team')['total_runs'].sum()[1]/len(sub_data)"
   ]
  },
  {
   "cell_type": "code",
   "execution_count": 151,
   "metadata": {},
   "outputs": [
    {
     "name": "stdout",
     "output_type": "stream",
     "text": [
      "Contribution of KKR in total score of the match is : 0.6318820938505845\n",
      "Contribution of MI in total score of the match is : 0.6699983059461291\n"
     ]
    }
   ],
   "source": [
    "print('Contribution of KKR in total score of the match is : {}'.format(sub_data.groupby('batting_team')['total_runs'].sum()[0]/len(sub_data)))\n",
    "print('Contribution of MI in total score of the match is : {}'.format(sub_data.groupby('batting_team')['total_runs'].sum()[1]/len(sub_data)))"
   ]
  },
  {
   "cell_type": "code",
   "execution_count": 168,
   "metadata": {},
   "outputs": [
    {
     "data": {
      "text/plain": [
       "match_id  batsman         \n",
       "363       RG Sharma           109\n",
       "518       RG Sharma            98\n",
       "11338     HH Pandya            96\n",
       "581       RG Sharma            84\n",
       "7         MK Pandey            81\n",
       "497       RV Uthappa           80\n",
       "191       CH Gayle             75\n",
       "138       BJ Hodge             73\n",
       "458       JH Kallis            72\n",
       "305       RN ten Doeschate     70\n",
       "132       SR Tendulkar         68\n",
       "600       RG Sharma            68\n",
       "75        DJ Bravo             64\n",
       "7934      Ishan Kishan         63\n",
       "53        AT Rayudu            63\n",
       "413       DR Smith             62\n",
       "567       HH Pandya            61\n",
       "7930      AS Yadav             60\n",
       "303       JH Kallis            59\n",
       "230       BB McCullum          57\n",
       "11347     RG Sharma            56\n",
       "434       SR Tendulkar         48\n",
       "99        ST Jayasuriya        48\n",
       "58        KH Pandya            45\n",
       "370       MK Tiwary            41\n",
       "Name: batsman_runs, dtype: int64"
      ]
     },
     "execution_count": 168,
     "metadata": {},
     "output_type": "execute_result"
    }
   ],
   "source": [
    "sub_data.groupby(['match_id', 'batsman'])['batsman_runs'].sum().sort_values(ascending=False).groupby(['match_id']).head(1)"
   ]
  },
  {
   "cell_type": "markdown",
   "metadata": {},
   "source": [
    "#### Players like Rohit Sharma, HH Pandya, Ishan Kishan are among those players who score big when MI plays against KKR."
   ]
  },
  {
   "cell_type": "markdown",
   "metadata": {},
   "source": [
    "### How will Rohit Sharma get out in the match??"
   ]
  },
  {
   "cell_type": "code",
   "execution_count": 170,
   "metadata": {},
   "outputs": [],
   "source": [
    "sub_data4 = sub_data[sub_data['player_dismissed'] == 'RG Sharma']"
   ]
  },
  {
   "cell_type": "code",
   "execution_count": 172,
   "metadata": {},
   "outputs": [
    {
     "data": {
      "text/plain": [
       "<matplotlib.axes._subplots.AxesSubplot at 0x1e0a36eb608>"
      ]
     },
     "execution_count": 172,
     "metadata": {},
     "output_type": "execute_result"
    },
    {
     "data": {
      "image/png": "[encoded data removed]",
      "text/plain": [
       "<Figure size 432x288 with 1 Axes>"
      ]
     },
     "metadata": {
      "needs_background": "light"
     },
     "output_type": "display_data"
    }
   ],
   "source": [
    "sub_data4['dismissal_kind'].value_counts(normalize=True).plot.bar(title='Rohit Sharma wickets')"
   ]
  },
  {
   "cell_type": "code",
   "execution_count": 177,
   "metadata": {},
   "outputs": [
    {
     "data": {
      "text/plain": [
       "bowler           dismissal_kind\n",
       "SP Narine        caught            2\n",
       "                 bowled            2\n",
       "                 lbw               1\n",
       "R McLaren        caught            1\n",
       "R Bhatia         caught            1\n",
       "P Krishna        caught            1\n",
       "NM Coulter-Nile  caught            1\n",
       "M Morkel         caught            1\n",
       "H Gurney         lbw               1\n",
       "AS Rajpoot       lbw               1\n",
       "Name: dismissal_kind, dtype: int64"
      ]
     },
     "execution_count": 177,
     "metadata": {},
     "output_type": "execute_result"
    }
   ],
   "source": [
    "sub_data4[sub_data4['dismissal_kind'].isin(['caught', 'lbw', 'bowled'])].groupby('bowler')['dismissal_kind'].value_counts().sort_values(ascending=False)"
   ]
  },
  {
   "cell_type": "code",
   "execution_count": 178,
   "metadata": {},
   "outputs": [
    {
     "data": {
      "text/plain": [
       "toss_decision  dismissal_kind\n",
       "bat            caught            2\n",
       "field          caught            5\n",
       "               lbw               3\n",
       "               bowled            2\n",
       "Name: dismissal_kind, dtype: int64"
      ]
     },
     "execution_count": 178,
     "metadata": {},
     "output_type": "execute_result"
    }
   ],
   "source": [
    "sub_data4[sub_data4['dismissal_kind'].isin(['caught', 'lbw', 'bowled'])].groupby(['toss_decision'])['dismissal_kind'].value_counts()"
   ]
  },
  {
   "cell_type": "markdown",
   "metadata": {},
   "source": [
    "#### There is higher of Rohit Sharma getting out by caught, bowled and lbw. There is higher probability of Rohit Sharma getting out when batting second."
   ]
  }
 ],
 "metadata": {
  "kernelspec": {
   "display_name": "Python 3",
   "language": "python",
   "name": "python3"
  },
  "language_info": {
   "codemirror_mode": {
    "name": "ipython",
    "version": 3
   },
   "file_extension": ".py",
   "mimetype": "text/x-python",
   "name": "python",
   "nbconvert_exporter": "python",
   "pygments_lexer": "ipython3",
   "version": "3.7.6"
  }
 },
 "nbformat": 4,
 "nbformat_minor": 4
}
