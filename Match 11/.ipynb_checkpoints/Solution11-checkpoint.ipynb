{
 "cells": [
  {
   "cell_type": "code",
   "execution_count": 1,
   "metadata": {},
   "outputs": [],
   "source": [
    "import pandas as pd\n",
    "import numpy as np\n",
    "import matplotlib.pyplot as plt\n",
    "import seaborn as sns\n",
    "import warnings \n",
    "warnings.filterwarnings(\"ignore\")"
   ]
  },
  {
   "cell_type": "code",
   "execution_count": 2,
   "metadata": {},
   "outputs": [],
   "source": [
    "matches = pd.read_csv('C:/Users/Hp/Desktop/WPL/matches.csv')\n",
    "deliveries = pd.read_csv('C:/Users/Hp/Desktop/WPL/deliveries.csv')"
   ]
  },
  {
   "cell_type": "code",
   "execution_count": 3,
   "metadata": {},
   "outputs": [],
   "source": [
    "all_matches = matches[(matches['team1'].isin(['Kolkata Knight Riders', 'Royal Challengers Bangalore'])) & (matches['team2'].isin(['Kolkata Knight Riders', 'Royal Challengers Bangalore']))]"
   ]
  },
  {
   "cell_type": "code",
   "execution_count": 4,
   "metadata": {},
   "outputs": [],
   "source": [
    "data = pd.merge(matches, deliveries, how = \"inner\", left_on = 'id', right_on = 'match_id')"
   ]
  },
  {
   "cell_type": "code",
   "execution_count": 5,
   "metadata": {},
   "outputs": [],
   "source": [
    "sub_data = data[(data['team1'].isin(['Kolkata Knight Riders', 'Royal Challengers Bangalore'])) & (data['team2'].isin(['Kolkata Knight Riders', 'Royal Challengers Bangalore']))]"
   ]
  },
  {
   "cell_type": "markdown",
   "metadata": {},
   "source": [
    "### Who will win the match?"
   ]
  },
  {
   "cell_type": "code",
   "execution_count": 6,
   "metadata": {},
   "outputs": [
    {
     "data": {
      "text/html": [
       "<div>\n",
       "<style scoped>\n",
       "    .dataframe tbody tr th:only-of-type {\n",
       "        vertical-align: middle;\n",
       "    }\n",
       "\n",
       "    .dataframe tbody tr th {\n",
       "        vertical-align: top;\n",
       "    }\n",
       "\n",
       "    .dataframe thead th {\n",
       "        text-align: right;\n",
       "    }\n",
       "</style>\n",
       "<table border=\"1\" class=\"dataframe\">\n",
       "  <thead>\n",
       "    <tr style=\"text-align: right;\">\n",
       "      <th></th>\n",
       "      <th>id</th>\n",
       "      <th>season</th>\n",
       "      <th>city</th>\n",
       "      <th>date</th>\n",
       "      <th>team1</th>\n",
       "      <th>team2</th>\n",
       "      <th>toss_winner</th>\n",
       "      <th>toss_decision</th>\n",
       "      <th>result</th>\n",
       "      <th>dl_applied</th>\n",
       "      <th>winner</th>\n",
       "      <th>win_by_runs</th>\n",
       "      <th>win_by_wickets</th>\n",
       "      <th>player_of_match</th>\n",
       "      <th>venue</th>\n",
       "      <th>umpire1</th>\n",
       "      <th>umpire2</th>\n",
       "      <th>umpire3</th>\n",
       "    </tr>\n",
       "  </thead>\n",
       "  <tbody>\n",
       "    <tr>\n",
       "      <th>26</th>\n",
       "      <td>27</td>\n",
       "      <td>2017</td>\n",
       "      <td>Kolkata</td>\n",
       "      <td>4/23/2017</td>\n",
       "      <td>Kolkata Knight Riders</td>\n",
       "      <td>Royal Challengers Bangalore</td>\n",
       "      <td>Royal Challengers Bangalore</td>\n",
       "      <td>field</td>\n",
       "      <td>normal</td>\n",
       "      <td>0</td>\n",
       "      <td>Kolkata Knight Riders</td>\n",
       "      <td>82</td>\n",
       "      <td>0</td>\n",
       "      <td>NM Coulter-Nile</td>\n",
       "      <td>Eden Gardens</td>\n",
       "      <td>CB Gaffaney</td>\n",
       "      <td>CK Nandan</td>\n",
       "      <td>NaN</td>\n",
       "    </tr>\n",
       "    <tr>\n",
       "      <th>44</th>\n",
       "      <td>45</td>\n",
       "      <td>2017</td>\n",
       "      <td>Bangalore</td>\n",
       "      <td>5/7/2017</td>\n",
       "      <td>Royal Challengers Bangalore</td>\n",
       "      <td>Kolkata Knight Riders</td>\n",
       "      <td>Kolkata Knight Riders</td>\n",
       "      <td>field</td>\n",
       "      <td>normal</td>\n",
       "      <td>0</td>\n",
       "      <td>Kolkata Knight Riders</td>\n",
       "      <td>0</td>\n",
       "      <td>6</td>\n",
       "      <td>SP Narine</td>\n",
       "      <td>M Chinnaswamy Stadium</td>\n",
       "      <td>AY Dandekar</td>\n",
       "      <td>C Shamshuddin</td>\n",
       "      <td>NaN</td>\n",
       "    </tr>\n",
       "    <tr>\n",
       "      <th>59</th>\n",
       "      <td>60</td>\n",
       "      <td>2008</td>\n",
       "      <td>Bangalore</td>\n",
       "      <td>4/18/2008</td>\n",
       "      <td>Kolkata Knight Riders</td>\n",
       "      <td>Royal Challengers Bangalore</td>\n",
       "      <td>Royal Challengers Bangalore</td>\n",
       "      <td>field</td>\n",
       "      <td>normal</td>\n",
       "      <td>0</td>\n",
       "      <td>Kolkata Knight Riders</td>\n",
       "      <td>140</td>\n",
       "      <td>0</td>\n",
       "      <td>BB McCullum</td>\n",
       "      <td>M Chinnaswamy Stadium</td>\n",
       "      <td>Asad Rauf</td>\n",
       "      <td>RE Koertzen</td>\n",
       "      <td>NaN</td>\n",
       "    </tr>\n",
       "    <tr>\n",
       "      <th>87</th>\n",
       "      <td>88</td>\n",
       "      <td>2008</td>\n",
       "      <td>Kolkata</td>\n",
       "      <td>5/8/2008</td>\n",
       "      <td>Kolkata Knight Riders</td>\n",
       "      <td>Royal Challengers Bangalore</td>\n",
       "      <td>Kolkata Knight Riders</td>\n",
       "      <td>bat</td>\n",
       "      <td>normal</td>\n",
       "      <td>0</td>\n",
       "      <td>Kolkata Knight Riders</td>\n",
       "      <td>5</td>\n",
       "      <td>0</td>\n",
       "      <td>SC Ganguly</td>\n",
       "      <td>Eden Gardens</td>\n",
       "      <td>Asad Rauf</td>\n",
       "      <td>IL Howell</td>\n",
       "      <td>NaN</td>\n",
       "    </tr>\n",
       "    <tr>\n",
       "      <th>133</th>\n",
       "      <td>134</td>\n",
       "      <td>2009</td>\n",
       "      <td>Durban</td>\n",
       "      <td>4/29/2009</td>\n",
       "      <td>Kolkata Knight Riders</td>\n",
       "      <td>Royal Challengers Bangalore</td>\n",
       "      <td>Kolkata Knight Riders</td>\n",
       "      <td>bat</td>\n",
       "      <td>normal</td>\n",
       "      <td>0</td>\n",
       "      <td>Royal Challengers Bangalore</td>\n",
       "      <td>0</td>\n",
       "      <td>5</td>\n",
       "      <td>MV Boucher</td>\n",
       "      <td>Kingsmead</td>\n",
       "      <td>MR Benson</td>\n",
       "      <td>TH Wijewardene</td>\n",
       "      <td>NaN</td>\n",
       "    </tr>\n",
       "  </tbody>\n",
       "</table>\n",
       "</div>"
      ],
      "text/plain": [
       "      id  season       city       date                        team1  \\\n",
       "26    27    2017    Kolkata  4/23/2017        Kolkata Knight Riders   \n",
       "44    45    2017  Bangalore   5/7/2017  Royal Challengers Bangalore   \n",
       "59    60    2008  Bangalore  4/18/2008        Kolkata Knight Riders   \n",
       "87    88    2008    Kolkata   5/8/2008        Kolkata Knight Riders   \n",
       "133  134    2009     Durban  4/29/2009        Kolkata Knight Riders   \n",
       "\n",
       "                           team2                  toss_winner toss_decision  \\\n",
       "26   Royal Challengers Bangalore  Royal Challengers Bangalore         field   \n",
       "44         Kolkata Knight Riders        Kolkata Knight Riders         field   \n",
       "59   Royal Challengers Bangalore  Royal Challengers Bangalore         field   \n",
       "87   Royal Challengers Bangalore        Kolkata Knight Riders           bat   \n",
       "133  Royal Challengers Bangalore        Kolkata Knight Riders           bat   \n",
       "\n",
       "     result  dl_applied                       winner  win_by_runs  \\\n",
       "26   normal           0        Kolkata Knight Riders           82   \n",
       "44   normal           0        Kolkata Knight Riders            0   \n",
       "59   normal           0        Kolkata Knight Riders          140   \n",
       "87   normal           0        Kolkata Knight Riders            5   \n",
       "133  normal           0  Royal Challengers Bangalore            0   \n",
       "\n",
       "     win_by_wickets  player_of_match                  venue      umpire1  \\\n",
       "26                0  NM Coulter-Nile           Eden Gardens  CB Gaffaney   \n",
       "44                6        SP Narine  M Chinnaswamy Stadium  AY Dandekar   \n",
       "59                0      BB McCullum  M Chinnaswamy Stadium    Asad Rauf   \n",
       "87                0       SC Ganguly           Eden Gardens    Asad Rauf   \n",
       "133               5       MV Boucher              Kingsmead    MR Benson   \n",
       "\n",
       "            umpire2 umpire3  \n",
       "26        CK Nandan     NaN  \n",
       "44    C Shamshuddin     NaN  \n",
       "59      RE Koertzen     NaN  \n",
       "87        IL Howell     NaN  \n",
       "133  TH Wijewardene     NaN  "
      ]
     },
     "execution_count": 6,
     "metadata": {},
     "output_type": "execute_result"
    }
   ],
   "source": [
    "all_matches.head()"
   ]
  },
  {
   "cell_type": "code",
   "execution_count": 7,
   "metadata": {},
   "outputs": [
    {
     "data": {
      "text/plain": [
       "<matplotlib.axes._subplots.AxesSubplot at 0x19d3e1f0688>"
      ]
     },
     "execution_count": 7,
     "metadata": {},
     "output_type": "execute_result"
    },
    {
     "data": {
      "image/png": "[encoded data removed]",
      "text/plain": [
       "<Figure size 432x288 with 1 Axes>"
      ]
     },
     "metadata": {
      "needs_background": "light"
     },
     "output_type": "display_data"
    }
   ],
   "source": [
    "all_matches['winner'].value_counts(normalize=True).plot.bar(title='% Win for each team', color=['Purple', 'Orange'])"
   ]
  },
  {
   "cell_type": "code",
   "execution_count": 8,
   "metadata": {},
   "outputs": [
    {
     "data": {
      "text/plain": [
       "venue                               winner                     \n",
       "Eden Gardens                        Kolkata Knight Riders          6\n",
       "                                    Royal Challengers Bangalore    4\n",
       "JSCA International Stadium Complex  Kolkata Knight Riders          1\n",
       "Kingsmead                           Royal Challengers Bangalore    1\n",
       "M Chinnaswamy Stadium               Kolkata Knight Riders          5\n",
       "                                    Royal Challengers Bangalore    4\n",
       "M. Chinnaswamy Stadium              Kolkata Knight Riders          1\n",
       "Sharjah Cricket Stadium             Kolkata Knight Riders          1\n",
       "SuperSport Park                     Royal Challengers Bangalore    1\n",
       "Name: winner, dtype: int64"
      ]
     },
     "execution_count": 8,
     "metadata": {},
     "output_type": "execute_result"
    }
   ],
   "source": [
    "all_matches.groupby('venue')['winner'].value_counts()"
   ]
  },
  {
   "cell_type": "code",
   "execution_count": 9,
   "metadata": {},
   "outputs": [
    {
     "data": {
      "text/plain": [
       "toss_winner                  toss_decision  winner                     \n",
       "Kolkata Knight Riders        bat            Kolkata Knight Riders          2\n",
       "                                            Royal Challengers Bangalore    1\n",
       "                             field          Kolkata Knight Riders          7\n",
       "                                            Royal Challengers Bangalore    1\n",
       "Royal Challengers Bangalore  field          Royal Challengers Bangalore    8\n",
       "                                            Kolkata Knight Riders          5\n",
       "Name: winner, dtype: int64"
      ]
     },
     "execution_count": 9,
     "metadata": {},
     "output_type": "execute_result"
    }
   ],
   "source": [
    "all_matches.groupby(['toss_winner', 'toss_decision'])['winner'].value_counts()"
   ]
  },
  {
   "cell_type": "code",
   "execution_count": 10,
   "metadata": {},
   "outputs": [
    {
     "data": {
      "text/plain": [
       "toss_winner                  toss_decision\n",
       "Kolkata Knight Riders        field             8\n",
       "                             bat               3\n",
       "Royal Challengers Bangalore  field            13\n",
       "Name: toss_decision, dtype: int64"
      ]
     },
     "execution_count": 10,
     "metadata": {},
     "output_type": "execute_result"
    }
   ],
   "source": [
    "all_matches.groupby(['toss_winner'])['toss_decision'].value_counts()"
   ]
  },
  {
   "cell_type": "code",
   "execution_count": 11,
   "metadata": {},
   "outputs": [
    {
     "data": {
      "text/plain": [
       "venue                               toss_decision\n",
       "Eden Gardens                        field            8\n",
       "                                    bat              2\n",
       "JSCA International Stadium Complex  field            1\n",
       "Kingsmead                           bat              1\n",
       "M Chinnaswamy Stadium               field            9\n",
       "M. Chinnaswamy Stadium              field            1\n",
       "Sharjah Cricket Stadium             field            1\n",
       "SuperSport Park                     field            1\n",
       "Name: toss_decision, dtype: int64"
      ]
     },
     "execution_count": 11,
     "metadata": {},
     "output_type": "execute_result"
    }
   ],
   "source": [
    "all_matches.groupby('venue')['toss_decision'].value_counts()"
   ]
  },
  {
   "cell_type": "code",
   "execution_count": 12,
   "metadata": {},
   "outputs": [
    {
     "data": {
      "text/html": [
       "<div>\n",
       "<style scoped>\n",
       "    .dataframe tbody tr th:only-of-type {\n",
       "        vertical-align: middle;\n",
       "    }\n",
       "\n",
       "    .dataframe tbody tr th {\n",
       "        vertical-align: top;\n",
       "    }\n",
       "\n",
       "    .dataframe thead th {\n",
       "        text-align: right;\n",
       "    }\n",
       "</style>\n",
       "<table border=\"1\" class=\"dataframe\">\n",
       "  <thead>\n",
       "    <tr style=\"text-align: right;\">\n",
       "      <th></th>\n",
       "      <th>id</th>\n",
       "      <th>season</th>\n",
       "      <th>city</th>\n",
       "      <th>date</th>\n",
       "      <th>team1</th>\n",
       "      <th>team2</th>\n",
       "      <th>toss_winner</th>\n",
       "      <th>toss_decision</th>\n",
       "      <th>result</th>\n",
       "      <th>dl_applied</th>\n",
       "      <th>winner</th>\n",
       "      <th>win_by_runs</th>\n",
       "      <th>win_by_wickets</th>\n",
       "      <th>player_of_match</th>\n",
       "      <th>venue</th>\n",
       "      <th>umpire1</th>\n",
       "      <th>umpire2</th>\n",
       "      <th>umpire3</th>\n",
       "    </tr>\n",
       "  </thead>\n",
       "  <tbody>\n",
       "    <tr>\n",
       "      <th>87</th>\n",
       "      <td>88</td>\n",
       "      <td>2008</td>\n",
       "      <td>Kolkata</td>\n",
       "      <td>5/8/2008</td>\n",
       "      <td>Kolkata Knight Riders</td>\n",
       "      <td>Royal Challengers Bangalore</td>\n",
       "      <td>Kolkata Knight Riders</td>\n",
       "      <td>bat</td>\n",
       "      <td>normal</td>\n",
       "      <td>0</td>\n",
       "      <td>Kolkata Knight Riders</td>\n",
       "      <td>5</td>\n",
       "      <td>0</td>\n",
       "      <td>SC Ganguly</td>\n",
       "      <td>Eden Gardens</td>\n",
       "      <td>Asad Rauf</td>\n",
       "      <td>IL Howell</td>\n",
       "      <td>NaN</td>\n",
       "    </tr>\n",
       "    <tr>\n",
       "      <th>133</th>\n",
       "      <td>134</td>\n",
       "      <td>2009</td>\n",
       "      <td>Durban</td>\n",
       "      <td>4/29/2009</td>\n",
       "      <td>Kolkata Knight Riders</td>\n",
       "      <td>Royal Challengers Bangalore</td>\n",
       "      <td>Kolkata Knight Riders</td>\n",
       "      <td>bat</td>\n",
       "      <td>normal</td>\n",
       "      <td>0</td>\n",
       "      <td>Royal Challengers Bangalore</td>\n",
       "      <td>0</td>\n",
       "      <td>5</td>\n",
       "      <td>MV Boucher</td>\n",
       "      <td>Kingsmead</td>\n",
       "      <td>MR Benson</td>\n",
       "      <td>TH Wijewardene</td>\n",
       "      <td>NaN</td>\n",
       "    </tr>\n",
       "    <tr>\n",
       "      <th>343</th>\n",
       "      <td>344</td>\n",
       "      <td>2012</td>\n",
       "      <td>Kolkata</td>\n",
       "      <td>4/28/2012</td>\n",
       "      <td>Kolkata Knight Riders</td>\n",
       "      <td>Royal Challengers Bangalore</td>\n",
       "      <td>Kolkata Knight Riders</td>\n",
       "      <td>bat</td>\n",
       "      <td>normal</td>\n",
       "      <td>0</td>\n",
       "      <td>Kolkata Knight Riders</td>\n",
       "      <td>47</td>\n",
       "      <td>0</td>\n",
       "      <td>G Gambhir</td>\n",
       "      <td>Eden Gardens</td>\n",
       "      <td>Asad Rauf</td>\n",
       "      <td>BR Doctrove</td>\n",
       "      <td>NaN</td>\n",
       "    </tr>\n",
       "  </tbody>\n",
       "</table>\n",
       "</div>"
      ],
      "text/plain": [
       "      id  season     city       date                  team1  \\\n",
       "87    88    2008  Kolkata   5/8/2008  Kolkata Knight Riders   \n",
       "133  134    2009   Durban  4/29/2009  Kolkata Knight Riders   \n",
       "343  344    2012  Kolkata  4/28/2012  Kolkata Knight Riders   \n",
       "\n",
       "                           team2            toss_winner toss_decision  result  \\\n",
       "87   Royal Challengers Bangalore  Kolkata Knight Riders           bat  normal   \n",
       "133  Royal Challengers Bangalore  Kolkata Knight Riders           bat  normal   \n",
       "343  Royal Challengers Bangalore  Kolkata Knight Riders           bat  normal   \n",
       "\n",
       "     dl_applied                       winner  win_by_runs  win_by_wickets  \\\n",
       "87            0        Kolkata Knight Riders            5               0   \n",
       "133           0  Royal Challengers Bangalore            0               5   \n",
       "343           0        Kolkata Knight Riders           47               0   \n",
       "\n",
       "    player_of_match         venue    umpire1         umpire2 umpire3  \n",
       "87       SC Ganguly  Eden Gardens  Asad Rauf       IL Howell     NaN  \n",
       "133      MV Boucher     Kingsmead  MR Benson  TH Wijewardene     NaN  \n",
       "343       G Gambhir  Eden Gardens  Asad Rauf     BR Doctrove     NaN  "
      ]
     },
     "execution_count": 12,
     "metadata": {},
     "output_type": "execute_result"
    }
   ],
   "source": [
    "all_matches[all_matches['toss_decision'] == 'bat']"
   ]
  },
  {
   "cell_type": "code",
   "execution_count": 13,
   "metadata": {},
   "outputs": [
    {
     "data": {
      "text/html": [
       "<div>\n",
       "<style scoped>\n",
       "    .dataframe tbody tr th:only-of-type {\n",
       "        vertical-align: middle;\n",
       "    }\n",
       "\n",
       "    .dataframe tbody tr th {\n",
       "        vertical-align: top;\n",
       "    }\n",
       "\n",
       "    .dataframe thead tr th {\n",
       "        text-align: left;\n",
       "    }\n",
       "\n",
       "    .dataframe thead tr:last-of-type th {\n",
       "        text-align: right;\n",
       "    }\n",
       "</style>\n",
       "<table border=\"1\" class=\"dataframe\">\n",
       "  <thead>\n",
       "    <tr>\n",
       "      <th></th>\n",
       "      <th></th>\n",
       "      <th>win_by_runs</th>\n",
       "      <th>win_by_wickets</th>\n",
       "    </tr>\n",
       "    <tr>\n",
       "      <th></th>\n",
       "      <th></th>\n",
       "      <th>max</th>\n",
       "      <th>max</th>\n",
       "    </tr>\n",
       "    <tr>\n",
       "      <th>venue</th>\n",
       "      <th>winner</th>\n",
       "      <th></th>\n",
       "      <th></th>\n",
       "    </tr>\n",
       "  </thead>\n",
       "  <tbody>\n",
       "    <tr>\n",
       "      <th rowspan=\"2\" valign=\"top\">Eden Gardens</th>\n",
       "      <th>Kolkata Knight Riders</th>\n",
       "      <td>82</td>\n",
       "      <td>7</td>\n",
       "    </tr>\n",
       "    <tr>\n",
       "      <th>Royal Challengers Bangalore</th>\n",
       "      <td>10</td>\n",
       "      <td>9</td>\n",
       "    </tr>\n",
       "    <tr>\n",
       "      <th>JSCA International Stadium Complex</th>\n",
       "      <th>Kolkata Knight Riders</th>\n",
       "      <td>0</td>\n",
       "      <td>5</td>\n",
       "    </tr>\n",
       "    <tr>\n",
       "      <th>Kingsmead</th>\n",
       "      <th>Royal Challengers Bangalore</th>\n",
       "      <td>0</td>\n",
       "      <td>5</td>\n",
       "    </tr>\n",
       "    <tr>\n",
       "      <th rowspan=\"2\" valign=\"top\">M Chinnaswamy Stadium</th>\n",
       "      <th>Kolkata Knight Riders</th>\n",
       "      <td>140</td>\n",
       "      <td>6</td>\n",
       "    </tr>\n",
       "    <tr>\n",
       "      <th>Royal Challengers Bangalore</th>\n",
       "      <td>0</td>\n",
       "      <td>8</td>\n",
       "    </tr>\n",
       "    <tr>\n",
       "      <th>M. Chinnaswamy Stadium</th>\n",
       "      <th>Kolkata Knight Riders</th>\n",
       "      <td>0</td>\n",
       "      <td>5</td>\n",
       "    </tr>\n",
       "    <tr>\n",
       "      <th>Sharjah Cricket Stadium</th>\n",
       "      <th>Kolkata Knight Riders</th>\n",
       "      <td>2</td>\n",
       "      <td>0</td>\n",
       "    </tr>\n",
       "    <tr>\n",
       "      <th>SuperSport Park</th>\n",
       "      <th>Royal Challengers Bangalore</th>\n",
       "      <td>0</td>\n",
       "      <td>6</td>\n",
       "    </tr>\n",
       "  </tbody>\n",
       "</table>\n",
       "</div>"
      ],
      "text/plain": [
       "                                                               win_by_runs  \\\n",
       "                                                                       max   \n",
       "venue                              winner                                    \n",
       "Eden Gardens                       Kolkata Knight Riders                82   \n",
       "                                   Royal Challengers Bangalore          10   \n",
       "JSCA International Stadium Complex Kolkata Knight Riders                 0   \n",
       "Kingsmead                          Royal Challengers Bangalore           0   \n",
       "M Chinnaswamy Stadium              Kolkata Knight Riders               140   \n",
       "                                   Royal Challengers Bangalore           0   \n",
       "M. Chinnaswamy Stadium             Kolkata Knight Riders                 0   \n",
       "Sharjah Cricket Stadium            Kolkata Knight Riders                 2   \n",
       "SuperSport Park                    Royal Challengers Bangalore           0   \n",
       "\n",
       "                                                               win_by_wickets  \n",
       "                                                                          max  \n",
       "venue                              winner                                      \n",
       "Eden Gardens                       Kolkata Knight Riders                    7  \n",
       "                                   Royal Challengers Bangalore              9  \n",
       "JSCA International Stadium Complex Kolkata Knight Riders                    5  \n",
       "Kingsmead                          Royal Challengers Bangalore              5  \n",
       "M Chinnaswamy Stadium              Kolkata Knight Riders                    6  \n",
       "                                   Royal Challengers Bangalore              8  \n",
       "M. Chinnaswamy Stadium             Kolkata Knight Riders                    5  \n",
       "Sharjah Cricket Stadium            Kolkata Knight Riders                    0  \n",
       "SuperSport Park                    Royal Challengers Bangalore              6  "
      ]
     },
     "execution_count": 13,
     "metadata": {},
     "output_type": "execute_result"
    }
   ],
   "source": [
    "sub_data.groupby(['venue','winner'])['win_by_runs', 'win_by_wickets'].agg({'max'})"
   ]
  },
  {
   "cell_type": "code",
   "execution_count": 14,
   "metadata": {},
   "outputs": [
    {
     "data": {
      "text/plain": [
       "winner                       player_of_match\n",
       "Kolkata Knight Riders        AD Russell         2\n",
       "                             SP Narine          2\n",
       "                             CA Lynn            1\n",
       "                             NM Coulter-Nile    1\n",
       "Royal Challengers Bangalore  V Kohli            2\n",
       "Name: player_of_match, dtype: int64"
      ]
     },
     "execution_count": 14,
     "metadata": {},
     "output_type": "execute_result"
    }
   ],
   "source": [
    "all_matches[all_matches['season']>2015].groupby('winner')['player_of_match'].value_counts()"
   ]
  },
  {
   "cell_type": "code",
   "execution_count": 15,
   "metadata": {},
   "outputs": [
    {
     "data": {
      "text/html": [
       "<div>\n",
       "<style scoped>\n",
       "    .dataframe tbody tr th:only-of-type {\n",
       "        vertical-align: middle;\n",
       "    }\n",
       "\n",
       "    .dataframe tbody tr th {\n",
       "        vertical-align: top;\n",
       "    }\n",
       "\n",
       "    .dataframe thead th {\n",
       "        text-align: right;\n",
       "    }\n",
       "</style>\n",
       "<table border=\"1\" class=\"dataframe\">\n",
       "  <thead>\n",
       "    <tr style=\"text-align: right;\">\n",
       "      <th></th>\n",
       "      <th>id</th>\n",
       "      <th>season</th>\n",
       "      <th>city</th>\n",
       "      <th>date</th>\n",
       "      <th>team1</th>\n",
       "      <th>team2</th>\n",
       "      <th>toss_winner</th>\n",
       "      <th>toss_decision</th>\n",
       "      <th>result</th>\n",
       "      <th>dl_applied</th>\n",
       "      <th>winner</th>\n",
       "      <th>win_by_runs</th>\n",
       "      <th>win_by_wickets</th>\n",
       "      <th>player_of_match</th>\n",
       "      <th>venue</th>\n",
       "      <th>umpire1</th>\n",
       "      <th>umpire2</th>\n",
       "      <th>umpire3</th>\n",
       "    </tr>\n",
       "  </thead>\n",
       "  <tbody>\n",
       "    <tr>\n",
       "      <th>44</th>\n",
       "      <td>45</td>\n",
       "      <td>2017</td>\n",
       "      <td>Bangalore</td>\n",
       "      <td>5/7/2017</td>\n",
       "      <td>Royal Challengers Bangalore</td>\n",
       "      <td>Kolkata Knight Riders</td>\n",
       "      <td>Kolkata Knight Riders</td>\n",
       "      <td>field</td>\n",
       "      <td>normal</td>\n",
       "      <td>0</td>\n",
       "      <td>Kolkata Knight Riders</td>\n",
       "      <td>0</td>\n",
       "      <td>6</td>\n",
       "      <td>SP Narine</td>\n",
       "      <td>M Chinnaswamy Stadium</td>\n",
       "      <td>AY Dandekar</td>\n",
       "      <td>C Shamshuddin</td>\n",
       "      <td>NaN</td>\n",
       "    </tr>\n",
       "    <tr>\n",
       "      <th>605</th>\n",
       "      <td>606</td>\n",
       "      <td>2016</td>\n",
       "      <td>Bangalore</td>\n",
       "      <td>5/2/2016</td>\n",
       "      <td>Royal Challengers Bangalore</td>\n",
       "      <td>Kolkata Knight Riders</td>\n",
       "      <td>Kolkata Knight Riders</td>\n",
       "      <td>field</td>\n",
       "      <td>normal</td>\n",
       "      <td>0</td>\n",
       "      <td>Kolkata Knight Riders</td>\n",
       "      <td>0</td>\n",
       "      <td>5</td>\n",
       "      <td>AD Russell</td>\n",
       "      <td>M Chinnaswamy Stadium</td>\n",
       "      <td>M Erasmus</td>\n",
       "      <td>S Ravi</td>\n",
       "      <td>NaN</td>\n",
       "    </tr>\n",
       "    <tr>\n",
       "      <th>623</th>\n",
       "      <td>624</td>\n",
       "      <td>2016</td>\n",
       "      <td>Kolkata</td>\n",
       "      <td>5/16/2016</td>\n",
       "      <td>Kolkata Knight Riders</td>\n",
       "      <td>Royal Challengers Bangalore</td>\n",
       "      <td>Royal Challengers Bangalore</td>\n",
       "      <td>field</td>\n",
       "      <td>normal</td>\n",
       "      <td>0</td>\n",
       "      <td>Royal Challengers Bangalore</td>\n",
       "      <td>0</td>\n",
       "      <td>9</td>\n",
       "      <td>V Kohli</td>\n",
       "      <td>Eden Gardens</td>\n",
       "      <td>CB Gaffaney</td>\n",
       "      <td>A Nand Kishore</td>\n",
       "      <td>NaN</td>\n",
       "    </tr>\n",
       "    <tr>\n",
       "      <th>638</th>\n",
       "      <td>7896</td>\n",
       "      <td>2018</td>\n",
       "      <td>Kolkata</td>\n",
       "      <td>8/4/2018</td>\n",
       "      <td>Royal Challengers Bangalore</td>\n",
       "      <td>Kolkata Knight Riders</td>\n",
       "      <td>Kolkata Knight Riders</td>\n",
       "      <td>field</td>\n",
       "      <td>normal</td>\n",
       "      <td>0</td>\n",
       "      <td>Kolkata Knight Riders</td>\n",
       "      <td>0</td>\n",
       "      <td>4</td>\n",
       "      <td>SP Narine</td>\n",
       "      <td>Eden Gardens</td>\n",
       "      <td>C Shamshuddin</td>\n",
       "      <td>A.D Deshmukh</td>\n",
       "      <td>S Ravi</td>\n",
       "    </tr>\n",
       "    <tr>\n",
       "      <th>712</th>\n",
       "      <td>11153</td>\n",
       "      <td>2019</td>\n",
       "      <td>Bengaluru</td>\n",
       "      <td>5/4/2019</td>\n",
       "      <td>Royal Challengers Bangalore</td>\n",
       "      <td>Kolkata Knight Riders</td>\n",
       "      <td>Kolkata Knight Riders</td>\n",
       "      <td>field</td>\n",
       "      <td>normal</td>\n",
       "      <td>0</td>\n",
       "      <td>Kolkata Knight Riders</td>\n",
       "      <td>0</td>\n",
       "      <td>5</td>\n",
       "      <td>AD Russell</td>\n",
       "      <td>M. Chinnaswamy Stadium</td>\n",
       "      <td>Anil Chaudhary</td>\n",
       "      <td>Chris Gaffaney</td>\n",
       "      <td>O Nandan</td>\n",
       "    </tr>\n",
       "    <tr>\n",
       "      <th>730</th>\n",
       "      <td>11326</td>\n",
       "      <td>2019</td>\n",
       "      <td>Kolkata</td>\n",
       "      <td>19/04/19</td>\n",
       "      <td>Royal Challengers Bangalore</td>\n",
       "      <td>Kolkata Knight Riders</td>\n",
       "      <td>Kolkata Knight Riders</td>\n",
       "      <td>field</td>\n",
       "      <td>normal</td>\n",
       "      <td>0</td>\n",
       "      <td>Royal Challengers Bangalore</td>\n",
       "      <td>10</td>\n",
       "      <td>0</td>\n",
       "      <td>V Kohli</td>\n",
       "      <td>Eden Gardens</td>\n",
       "      <td>Ian Gould</td>\n",
       "      <td>Nitin Menon</td>\n",
       "      <td>Anil Dandekar</td>\n",
       "    </tr>\n",
       "  </tbody>\n",
       "</table>\n",
       "</div>"
      ],
      "text/plain": [
       "        id  season       city       date                        team1  \\\n",
       "44      45    2017  Bangalore   5/7/2017  Royal Challengers Bangalore   \n",
       "605    606    2016  Bangalore   5/2/2016  Royal Challengers Bangalore   \n",
       "623    624    2016    Kolkata  5/16/2016        Kolkata Knight Riders   \n",
       "638   7896    2018    Kolkata   8/4/2018  Royal Challengers Bangalore   \n",
       "712  11153    2019  Bengaluru   5/4/2019  Royal Challengers Bangalore   \n",
       "730  11326    2019    Kolkata   19/04/19  Royal Challengers Bangalore   \n",
       "\n",
       "                           team2                  toss_winner toss_decision  \\\n",
       "44         Kolkata Knight Riders        Kolkata Knight Riders         field   \n",
       "605        Kolkata Knight Riders        Kolkata Knight Riders         field   \n",
       "623  Royal Challengers Bangalore  Royal Challengers Bangalore         field   \n",
       "638        Kolkata Knight Riders        Kolkata Knight Riders         field   \n",
       "712        Kolkata Knight Riders        Kolkata Knight Riders         field   \n",
       "730        Kolkata Knight Riders        Kolkata Knight Riders         field   \n",
       "\n",
       "     result  dl_applied                       winner  win_by_runs  \\\n",
       "44   normal           0        Kolkata Knight Riders            0   \n",
       "605  normal           0        Kolkata Knight Riders            0   \n",
       "623  normal           0  Royal Challengers Bangalore            0   \n",
       "638  normal           0        Kolkata Knight Riders            0   \n",
       "712  normal           0        Kolkata Knight Riders            0   \n",
       "730  normal           0  Royal Challengers Bangalore           10   \n",
       "\n",
       "     win_by_wickets player_of_match                   venue         umpire1  \\\n",
       "44                6       SP Narine   M Chinnaswamy Stadium     AY Dandekar   \n",
       "605               5      AD Russell   M Chinnaswamy Stadium       M Erasmus   \n",
       "623               9         V Kohli            Eden Gardens     CB Gaffaney   \n",
       "638               4       SP Narine            Eden Gardens   C Shamshuddin   \n",
       "712               5      AD Russell  M. Chinnaswamy Stadium  Anil Chaudhary   \n",
       "730               0         V Kohli            Eden Gardens       Ian Gould   \n",
       "\n",
       "            umpire2        umpire3  \n",
       "44    C Shamshuddin            NaN  \n",
       "605          S Ravi            NaN  \n",
       "623  A Nand Kishore            NaN  \n",
       "638    A.D Deshmukh         S Ravi  \n",
       "712  Chris Gaffaney       O Nandan  \n",
       "730     Nitin Menon  Anil Dandekar  "
      ]
     },
     "execution_count": 15,
     "metadata": {},
     "output_type": "execute_result"
    }
   ],
   "source": [
    "all_matches[all_matches['player_of_match'].isin(['AD Russell', 'SP Narine', 'V Kohli'])]"
   ]
  },
  {
   "cell_type": "code",
   "execution_count": 16,
   "metadata": {},
   "outputs": [],
   "source": [
    "sub_data1 = sub_data[sub_data['player_of_match'].isin(['V Kohli', 'AD Russell', 'SP Narine'])]"
   ]
  },
  {
   "cell_type": "code",
   "execution_count": 17,
   "metadata": {},
   "outputs": [
    {
     "data": {
      "text/plain": [
       "match_id\n",
       "624       75\n",
       "11326    100\n",
       "Name: batsman_runs, dtype: int64"
      ]
     },
     "execution_count": 17,
     "metadata": {},
     "output_type": "execute_result"
    }
   ],
   "source": [
    "sub_data1[(sub_data1['batsman'] == 'V Kohli') & (sub_data1['player_of_match'] == 'V Kohli')].groupby('match_id')['batsman_runs'].sum()"
   ]
  },
  {
   "cell_type": "code",
   "execution_count": 18,
   "metadata": {},
   "outputs": [
    {
     "data": {
      "text/plain": [
       "match_id  batsman   \n",
       "45        SP Narine     54\n",
       "606       AD Russell    39\n",
       "7896      AD Russell    17\n",
       "          SP Narine     51\n",
       "11153     AD Russell    52\n",
       "          SP Narine     12\n",
       "Name: batsman_runs, dtype: int64"
      ]
     },
     "execution_count": 18,
     "metadata": {},
     "output_type": "execute_result"
    }
   ],
   "source": [
    "sub_data1[(sub_data1['batsman'].isin(['AD Russell', 'SP Narine'])) & (sub_data1['player_of_match'].isin(['AD Russell', 'SP Narine']))].groupby(['match_id', 'batsman'])['batsman_runs'].sum()"
   ]
  },
  {
   "cell_type": "code",
   "execution_count": 19,
   "metadata": {},
   "outputs": [
    {
     "data": {
      "text/plain": [
       "match_id  bowler    \n",
       "45        SP Narine     2\n",
       "606       AD Russell    1\n",
       "          SP Narine     0\n",
       "7896      AD Russell    0\n",
       "          SP Narine     1\n",
       "11153     AD Russell    0\n",
       "          SP Narine     1\n",
       "Name: player_dismissed, dtype: int64"
      ]
     },
     "execution_count": 19,
     "metadata": {},
     "output_type": "execute_result"
    }
   ],
   "source": [
    "sub_data1[(sub_data1['bowler'].isin(['AD Russell', 'SP Narine'])) & (sub_data1['player_of_match'].isin(['AD Russell', 'SP Narine']))].groupby(['match_id', 'bowler'])['player_dismissed'].count()"
   ]
  },
  {
   "cell_type": "markdown",
   "metadata": {},
   "source": [
    "### How many wickets will RCB lose in between 31st ball and 120th ball?"
   ]
  },
  {
   "cell_type": "code",
   "execution_count": 20,
   "metadata": {},
   "outputs": [],
   "source": [
    "sub_data2 = sub_data[(sub_data['over']>4) & (sub_data['batting_team'] == 'Royal Challengers Bangalore')]"
   ]
  },
  {
   "cell_type": "code",
   "execution_count": 21,
   "metadata": {},
   "outputs": [
    {
     "data": {
      "text/plain": [
       "<matplotlib.axes._subplots.AxesSubplot at 0x19d40fd6b88>"
      ]
     },
     "execution_count": 21,
     "metadata": {},
     "output_type": "execute_result"
    },
    {
     "data": {
      "image/png": "[encoded data removed]",
      "text/plain": [
       "<Figure size 432x288 with 1 Axes>"
      ]
     },
     "metadata": {
      "needs_background": "light"
     },
     "output_type": "display_data"
    }
   ],
   "source": [
    "sub_data2.groupby('match_id')['player_dismissed'].count().plot.bar(title='Wickets lost by RCB from 31st to 120th ball')"
   ]
  },
  {
   "cell_type": "code",
   "execution_count": 22,
   "metadata": {},
   "outputs": [
    {
     "data": {
      "text/plain": [
       "<matplotlib.axes._subplots.AxesSubplot at 0x19d410c3d08>"
      ]
     },
     "execution_count": 22,
     "metadata": {},
     "output_type": "execute_result"
    },
    {
     "data": {
      "image/png": "[encoded data removed]",
      "text/plain": [
       "<Figure size 432x288 with 1 Axes>"
      ]
     },
     "metadata": {
      "needs_background": "light"
     },
     "output_type": "display_data"
    }
   ],
   "source": [
    "sub_data2.groupby('match_id')['player_dismissed'].count().plot.box(title='Boxplot distribution of wickets lost by RCB from 31st to 120th ball')"
   ]
  },
  {
   "cell_type": "code",
   "execution_count": 260,
   "metadata": {},
   "outputs": [
    {
     "data": {
      "text/plain": [
       "count    24.000000\n",
       "mean      4.500000\n",
       "std       2.245769\n",
       "min       1.000000\n",
       "25%       3.000000\n",
       "50%       4.500000\n",
       "75%       6.000000\n",
       "max       9.000000\n",
       "Name: player_dismissed, dtype: float64"
      ]
     },
     "execution_count": 260,
     "metadata": {},
     "output_type": "execute_result"
    }
   ],
   "source": [
    "sub_data2.groupby('match_id')['player_dismissed'].count().describe()"
   ]
  },
  {
   "cell_type": "code",
   "execution_count": 23,
   "metadata": {},
   "outputs": [
    {
     "data": {
      "text/plain": [
       "V Kohli           15\n",
       "AB de Villiers    11\n",
       "CH Gayle           5\n",
       "R Dravid           4\n",
       "Mandeep Singh      4\n",
       "SS Tiwary          4\n",
       "JH Kallis          3\n",
       "Yuvraj Singh       2\n",
       "CL White           2\n",
       "P Negi             2\n",
       "Name: player_dismissed, dtype: int64"
      ]
     },
     "execution_count": 23,
     "metadata": {},
     "output_type": "execute_result"
    }
   ],
   "source": [
    "sub_data2['player_dismissed'].value_counts().sort_values(ascending=False).head(10)"
   ]
  },
  {
   "cell_type": "code",
   "execution_count": 24,
   "metadata": {},
   "outputs": [
    {
     "data": {
      "text/plain": [
       "season  player_dismissed\n",
       "2009    V Kohli             1\n",
       "2010    V Kohli             1\n",
       "2011    V Kohli             1\n",
       "2012    V Kohli             2\n",
       "2013    V Kohli             2\n",
       "2014    V Kohli             2\n",
       "2015    V Kohli             2\n",
       "2016    V Kohli             1\n",
       "2018    V Kohli             1\n",
       "2019    V Kohli             2\n",
       "Name: player_dismissed, dtype: int64"
      ]
     },
     "execution_count": 24,
     "metadata": {},
     "output_type": "execute_result"
    }
   ],
   "source": [
    "sub_data2[sub_data2['player_dismissed'].isin(['V Kohli', 'AB de Villers'])].groupby('season')['player_dismissed'].value_counts()"
   ]
  },
  {
   "cell_type": "code",
   "execution_count": 25,
   "metadata": {},
   "outputs": [
    {
     "data": {
      "text/plain": [
       "bowler         player_dismissed\n",
       "AD Russell     V Kohli             1\n",
       "BJ Hodge       V Kohli             1\n",
       "H Gurney       V Kohli             1\n",
       "JH Kallis      V Kohli             3\n",
       "Kuldeep Yadav  V Kohli             1\n",
       "L Balaji       V Kohli             2\n",
       "M Kartik       V Kohli             1\n",
       "M Morkel       V Kohli             2\n",
       "N Rana         V Kohli             1\n",
       "SP Narine      V Kohli             2\n",
       "Name: player_dismissed, dtype: int64"
      ]
     },
     "execution_count": 25,
     "metadata": {},
     "output_type": "execute_result"
    }
   ],
   "source": [
    "sub_data2[sub_data2['player_dismissed'].isin(['V Kohli', 'AB de Villers'])].groupby('bowler')['player_dismissed'].value_counts()"
   ]
  },
  {
   "cell_type": "markdown",
   "metadata": {},
   "source": [
    "### How many balls will AB De Villers will take to score 30 runs?"
   ]
  },
  {
   "cell_type": "code",
   "execution_count": 70,
   "metadata": {},
   "outputs": [],
   "source": [
    "def Check(df):\n",
    "    balls = []\n",
    "    runs = 0\n",
    "    ball = 0\n",
    "    for i in df.batsman_runs:\n",
    "        runs += i \n",
    "        ball += 1\n",
    "        if runs >= 30:\n",
    "            balls.append(ball)\n",
    "        else:\n",
    "            continue\n",
    "    return len(balls)"
   ]
  },
  {
   "cell_type": "code",
   "execution_count": 36,
   "metadata": {},
   "outputs": [],
   "source": [
    "sub_data3 = sub_data[sub_data['batsman'] == 'AB de Villiers']"
   ]
  },
  {
   "cell_type": "code",
   "execution_count": 55,
   "metadata": {},
   "outputs": [
    {
     "data": {
      "text/plain": [
       "match_id\n",
       "27        8\n",
       "45       10\n",
       "291      13\n",
       "317      10\n",
       "344       0\n",
       "392      22\n",
       "441      28\n",
       "468      11\n",
       "506      13\n",
       "522      28\n",
       "550       2\n",
       "606       4\n",
       "624      59\n",
       "7896     44\n",
       "11153    65\n",
       "Name: batsman_runs, dtype: int64"
      ]
     },
     "execution_count": 55,
     "metadata": {},
     "output_type": "execute_result"
    }
   ],
   "source": [
    "sub_data3.groupby('match_id')['batsman_runs'].sum()"
   ]
  },
  {
   "cell_type": "code",
   "execution_count": 88,
   "metadata": {},
   "outputs": [
    {
     "data": {
      "text/plain": [
       "<matplotlib.axes._subplots.AxesSubplot at 0x19d42e8c248>"
      ]
     },
     "execution_count": 88,
     "metadata": {},
     "output_type": "execute_result"
    },
    {
     "data": {
      "image/png": "[encoded data removed]",
      "text/plain": [
       "<Figure size 432x288 with 1 Axes>"
      ]
     },
     "metadata": {
      "needs_background": "light"
     },
     "output_type": "display_data"
    }
   ],
   "source": [
    "sub_data3.groupby(['match_id', 'inning']).apply(Check).plot.bar(title='Balls taken by ABD to reach 30 mark against KKR')"
   ]
  },
  {
   "cell_type": "code",
   "execution_count": 72,
   "metadata": {},
   "outputs": [],
   "source": [
    "sub_data4 = data[data['batsman'] == 'AB de Villiers']"
   ]
  },
  {
   "cell_type": "code",
   "execution_count": 76,
   "metadata": {},
   "outputs": [
    {
     "data": {
      "text/plain": [
       "<matplotlib.axes._subplots.AxesSubplot at 0x19d41f8ee88>"
      ]
     },
     "execution_count": 76,
     "metadata": {},
     "output_type": "execute_result"
    },
    {
     "data": {
      "image/png": "[encoded data removed]",
      "text/plain": [
       "<Figure size 1440x360 with 1 Axes>"
      ]
     },
     "metadata": {
      "needs_background": "light"
     },
     "output_type": "display_data"
    }
   ],
   "source": [
    "sub_data4.groupby('match_id').apply(Check).plot.bar(figsize=(20,5))"
   ]
  },
  {
   "cell_type": "code",
   "execution_count": 83,
   "metadata": {},
   "outputs": [
    {
     "data": {
      "text/plain": [
       "6"
      ]
     },
     "execution_count": 83,
     "metadata": {},
     "output_type": "execute_result"
    }
   ],
   "source": [
    "round(sub_data4.groupby('match_id').apply(Check).mean())"
   ]
  },
  {
   "cell_type": "code",
   "execution_count": 87,
   "metadata": {},
   "outputs": [
    {
     "data": {
      "text/plain": [
       "<matplotlib.axes._subplots.AxesSubplot at 0x19d42e1cc48>"
      ]
     },
     "execution_count": 87,
     "metadata": {},
     "output_type": "execute_result"
    },
    {
     "data": {
      "image/png": "[encoded data removed]",
      "text/plain": [
       "<Figure size 432x288 with 1 Axes>"
      ]
     },
     "metadata": {
      "needs_background": "light"
     },
     "output_type": "display_data"
    }
   ],
   "source": [
    "sub_data3.groupby('match_id')['batsman_runs'].sum().plot.box(title='Box plot distribution of runs scored by ABD against KKR')"
   ]
  },
  {
   "cell_type": "code",
   "execution_count": 89,
   "metadata": {},
   "outputs": [
    {
     "data": {
      "text/plain": [
       "<matplotlib.axes._subplots.AxesSubplot at 0x19d4267a688>"
      ]
     },
     "execution_count": 89,
     "metadata": {},
     "output_type": "execute_result"
    },
    {
     "data": {
      "image/png": "[encoded data removed]",
      "text/plain": [
       "<Figure size 432x288 with 1 Axes>"
      ]
     },
     "metadata": {
      "needs_background": "light"
     },
     "output_type": "display_data"
    }
   ],
   "source": [
    "sub_data4.groupby('match_id')['batsman_runs'].sum().plot.box()"
   ]
  },
  {
   "cell_type": "code",
   "execution_count": 95,
   "metadata": {},
   "outputs": [
    {
     "data": {
      "text/plain": [
       "<matplotlib.axes._subplots.AxesSubplot at 0x19d42246308>"
      ]
     },
     "execution_count": 95,
     "metadata": {},
     "output_type": "execute_result"
    },
    {
     "data": {
      "image/png": "[encoded data removed]",
      "text/plain": [
       "<Figure size 432x288 with 1 Axes>"
      ]
     },
     "metadata": {
      "needs_background": "light"
     },
     "output_type": "display_data"
    }
   ],
   "source": [
    "sub_data4.groupby('bowling_team')['batsman_runs'].sum().plot.bar(title='Runs scored by  ABD against all teams')"
   ]
  },
  {
   "cell_type": "code",
   "execution_count": 101,
   "metadata": {},
   "outputs": [
    {
     "data": {
      "text/plain": [
       "match_id  inning\n",
       "11153     1         65\n",
       "624       2         59\n",
       "7896      1         44\n",
       "522       2         28\n",
       "441       1         28\n",
       "392       2         22\n",
       "506       2         13\n",
       "291       2         13\n",
       "468       2         11\n",
       "317       2         10\n",
       "45        1         10\n",
       "27        2          8\n",
       "606       1          4\n",
       "550       2          2\n",
       "344       2          0\n",
       "Name: batsman_runs, dtype: int64"
      ]
     },
     "execution_count": 101,
     "metadata": {},
     "output_type": "execute_result"
    }
   ],
   "source": [
    "sub_data3.groupby(['match_id','inning'])['batsman_runs'].sum().sort_values(ascending=False)"
   ]
  },
  {
   "cell_type": "code",
   "execution_count": 105,
   "metadata": {},
   "outputs": [
    {
     "data": {
      "text/plain": [
       "bowler\n",
       "SP Narine          3\n",
       "PP Chawla          2\n",
       "L Balaji           2\n",
       "R Vinay Kumar      1\n",
       "NM Coulter-Nile    1\n",
       "Name: player_dismissed, dtype: int64"
      ]
     },
     "execution_count": 105,
     "metadata": {},
     "output_type": "execute_result"
    }
   ],
   "source": [
    "sub_data3.groupby('bowler')['player_dismissed'].count().sort_values(ascending=False).head()"
   ]
  },
  {
   "cell_type": "markdown",
   "metadata": {},
   "source": [
    "### What will be the difference in Eoin Morgan's overall strike rate and the strike rate of last 7 balls he played?"
   ]
  },
  {
   "cell_type": "code",
   "execution_count": 109,
   "metadata": {},
   "outputs": [],
   "source": [
    "sub_data5 = data[data['batsman'] == 'EJG Morgan']"
   ]
  },
  {
   "cell_type": "code",
   "execution_count": 118,
   "metadata": {},
   "outputs": [
    {
     "data": {
      "text/plain": [
       "count     45.000000\n",
       "mean     102.772298\n",
       "std       51.375826\n",
       "min        0.000000\n",
       "25%       76.470588\n",
       "50%      100.000000\n",
       "75%      125.000000\n",
       "max      242.857143\n",
       "dtype: float64"
      ]
     },
     "execution_count": 118,
     "metadata": {},
     "output_type": "execute_result"
    }
   ],
   "source": [
    "((sub_data5.groupby('match_id')['batsman_runs'].sum()/sub_data5.groupby('match_id')['ball'].count())*100).describe()"
   ]
  },
  {
   "cell_type": "code",
   "execution_count": 125,
   "metadata": {},
   "outputs": [],
   "source": [
    "sub_data6 = sub_data[(sub_data['batsman'] == 'EJG Morgan') & (sub_data['bowling_team'] == 'Royal Challengers Bangalore')]"
   ]
  },
  {
   "cell_type": "code",
   "execution_count": 228,
   "metadata": {},
   "outputs": [],
   "source": [
    "overall_strike = ((sub_data6.groupby('match_id')['batsman_runs'].sum()/sub_data6.groupby('match_id')['ball'].count())*100).describe()"
   ]
  },
  {
   "cell_type": "code",
   "execution_count": 131,
   "metadata": {},
   "outputs": [
    {
     "data": {
      "text/plain": [
       "array([258, 291, 392], dtype=int64)"
      ]
     },
     "execution_count": 131,
     "metadata": {},
     "output_type": "execute_result"
    }
   ],
   "source": [
    "sub_data6['match_id'].unique()"
   ]
  },
  {
   "cell_type": "code",
   "execution_count": 138,
   "metadata": {},
   "outputs": [
    {
     "data": {
      "text/plain": [
       "match_id\n",
       "15     20\n",
       "19     17\n",
       "32     21\n",
       "54      4\n",
       "178     7\n",
       "Name: ball, dtype: int64"
      ]
     },
     "execution_count": 138,
     "metadata": {},
     "output_type": "execute_result"
    }
   ],
   "source": [
    "sub_data5.groupby('match_id')['ball'].count().head()"
   ]
  },
  {
   "cell_type": "code",
   "execution_count": 194,
   "metadata": {},
   "outputs": [],
   "source": [
    "def Check1(df):\n",
    "    if df['ball'].count() == 7 :\n",
    "        return(True)\n",
    "    else:\n",
    "        return(False)"
   ]
  },
  {
   "cell_type": "code",
   "execution_count": 195,
   "metadata": {},
   "outputs": [],
   "source": [
    "sub_data7 = sub_data5.sort_values(by = ['match_id','over','ball']).groupby('match_id').tail(7)"
   ]
  },
  {
   "cell_type": "code",
   "execution_count": 213,
   "metadata": {},
   "outputs": [],
   "source": [
    "dummy = pd.DataFrame(sub_data7.groupby('match_id')['ball'].count())"
   ]
  },
  {
   "cell_type": "code",
   "execution_count": 218,
   "metadata": {},
   "outputs": [],
   "source": [
    "index = dummy[dummy['ball'] == 7].index"
   ]
  },
  {
   "cell_type": "code",
   "execution_count": 222,
   "metadata": {},
   "outputs": [],
   "source": [
    "sub_data8 = sub_data7[sub_data7['match_id'].isin(index)]"
   ]
  },
  {
   "cell_type": "code",
   "execution_count": 227,
   "metadata": {},
   "outputs": [],
   "source": [
    "last_7_balls = ((sub_data8.groupby('match_id')['batsman_runs'].sum()/sub_data8.groupby('match_id')['ball'].count())*100).describe()"
   ]
  },
  {
   "cell_type": "code",
   "execution_count": 230,
   "metadata": {},
   "outputs": [
    {
     "data": {
      "text/plain": [
       "count     32.000000\n",
       "mean      67.346939\n",
       "std       36.058747\n",
       "min       11.428571\n",
       "25%       17.142857\n",
       "50%       88.571429\n",
       "75%      108.571429\n",
       "max      200.000000\n",
       "dtype: float64"
      ]
     },
     "execution_count": 230,
     "metadata": {},
     "output_type": "execute_result"
    }
   ],
   "source": [
    "abs(last_7_balls - overall_strike)"
   ]
  },
  {
   "cell_type": "markdown",
   "metadata": {},
   "source": [
    "### How many runs will RCB score off KKR in the death??"
   ]
  },
  {
   "cell_type": "code",
   "execution_count": 251,
   "metadata": {},
   "outputs": [],
   "source": [
    "sub_data9 = sub_data[(sub_data['over']>14) & (sub_data['batting_team'] == 'Royal Challengers Bangalore') & (sub_data['season'] > 2015)]"
   ]
  },
  {
   "cell_type": "code",
   "execution_count": 252,
   "metadata": {},
   "outputs": [
    {
     "data": {
      "text/plain": [
       "<matplotlib.axes._subplots.AxesSubplot at 0x19d42ca9c48>"
      ]
     },
     "execution_count": 252,
     "metadata": {},
     "output_type": "execute_result"
    },
    {
     "data": {
      "image/png": "[encoded data removed]",
      "text/plain": [
       "<Figure size 432x288 with 1 Axes>"
      ]
     },
     "metadata": {
      "needs_background": "light"
     },
     "output_type": "display_data"
    }
   ],
   "source": [
    "sub_data9.groupby('match_id')['total_runs'].sum().plot.bar(title='Runs scored in overs 16-20 by RCB')"
   ]
  },
  {
   "cell_type": "code",
   "execution_count": 253,
   "metadata": {},
   "outputs": [
    {
     "data": {
      "text/plain": [
       "<matplotlib.axes._subplots.AxesSubplot at 0x19d42d0c5c8>"
      ]
     },
     "execution_count": 253,
     "metadata": {},
     "output_type": "execute_result"
    },
    {
     "data": {
      "image/png": "[encoded data removed]",
      "text/plain": [
       "<Figure size 432x288 with 1 Axes>"
      ]
     },
     "metadata": {
      "needs_background": "light"
     },
     "output_type": "display_data"
    }
   ],
   "source": [
    "sub_data9.groupby('match_id')['total_runs'].sum().plot.box(title='Runs scored in overs 16-20 by RCB')"
   ]
  },
  {
   "cell_type": "code",
   "execution_count": 256,
   "metadata": {},
   "outputs": [
    {
     "data": {
      "text/plain": [
       "<matplotlib.axes._subplots.AxesSubplot at 0x19d42d7a408>"
      ]
     },
     "execution_count": 256,
     "metadata": {},
     "output_type": "execute_result"
    },
    {
     "data": {
      "image/png": "[encoded data removed]",
      "text/plain": [
       "<Figure size 432x288 with 1 Axes>"
      ]
     },
     "metadata": {
      "needs_background": "light"
     },
     "output_type": "display_data"
    }
   ],
   "source": [
    "sub_data9.groupby('batsman')['batsman_runs'].sum().sort_values(ascending=False).plot.bar(title='Runs scored by RCB players in death overs')"
   ]
  },
  {
   "cell_type": "code",
   "execution_count": 258,
   "metadata": {},
   "outputs": [],
   "source": [
    "sub_data10 = sub_data9[sub_data9['batsman'].isin(['V Kohli', 'AB de Villiers'])]"
   ]
  },
  {
   "cell_type": "code",
   "execution_count": 259,
   "metadata": {},
   "outputs": [
    {
     "data": {
      "text/plain": [
       "bowler         player_dismissed\n",
       "H Gurney       V Kohli             1\n",
       "Kuldeep Yadav  V Kohli             1\n",
       "M Morkel       V Kohli             1\n",
       "N Rana         AB de Villiers      1\n",
       "               V Kohli             1\n",
       "SP Narine      AB de Villiers      1\n",
       "Name: player_dismissed, dtype: int64"
      ]
     },
     "execution_count": 259,
     "metadata": {},
     "output_type": "execute_result"
    }
   ],
   "source": [
    "sub_data10.groupby('bowler')['player_dismissed'].value_counts()"
   ]
  }
 ],
 "metadata": {
  "kernelspec": {
   "display_name": "Python 3",
   "language": "python",
   "name": "python3"
  },
  "language_info": {
   "codemirror_mode": {
    "name": "ipython",
    "version": 3
   },
   "file_extension": ".py",
   "mimetype": "text/x-python",
   "name": "python",
   "nbconvert_exporter": "python",
   "pygments_lexer": "ipython3",
   "version": "3.7.6"
  }
 },
 "nbformat": 4,
 "nbformat_minor": 4
}
