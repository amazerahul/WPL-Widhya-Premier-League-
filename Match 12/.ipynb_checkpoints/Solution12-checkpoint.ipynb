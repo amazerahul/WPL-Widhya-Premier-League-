{
 "cells": [
  {
   "cell_type": "code",
   "execution_count": 93,
   "metadata": {},
   "outputs": [],
   "source": [
    "import pandas as pd\n",
    "import numpy as np\n",
    "import matplotlib.pyplot as plt\n",
    "import seaborn as sns\n",
    "import warnings \n",
    "warnings.filterwarnings(\"ignore\")"
   ]
  },
  {
   "cell_type": "code",
   "execution_count": 94,
   "metadata": {},
   "outputs": [],
   "source": [
    "matches = pd.read_csv('C:/Users/Hp/Desktop/WPL/matches.csv')\n",
    "deliveries = pd.read_csv('C:/Users/Hp/Desktop/WPL/deliveries.csv')"
   ]
  },
  {
   "cell_type": "code",
   "execution_count": 95,
   "metadata": {},
   "outputs": [],
   "source": [
    "all_matches = matches[(matches['team1'].isin(['Rajasthan Royals', 'Sunrisers Hyderabad'])) & (matches['team2'].isin(['Rajasthan Royals', 'Sunrisers Hyderabad']))]"
   ]
  },
  {
   "cell_type": "code",
   "execution_count": 96,
   "metadata": {},
   "outputs": [],
   "source": [
    "data = pd.merge(matches, deliveries, how = \"inner\", left_on = 'id', right_on = 'match_id')"
   ]
  },
  {
   "cell_type": "code",
   "execution_count": 97,
   "metadata": {},
   "outputs": [],
   "source": [
    "sub_data = data[(data['team1'].isin(['Rajasthan Royals', 'Sunrisers Hyderabad'])) & (data['team2'].isin(['Rajasthan Royals', 'Sunrisers Hyderabad']))]"
   ]
  },
  {
   "cell_type": "markdown",
   "metadata": {},
   "source": [
    "### Who will win the match?"
   ]
  },
  {
   "cell_type": "code",
   "execution_count": 98,
   "metadata": {},
   "outputs": [
    {
     "data": {
      "text/html": [
       "<div>\n",
       "<style scoped>\n",
       "    .dataframe tbody tr th:only-of-type {\n",
       "        vertical-align: middle;\n",
       "    }\n",
       "\n",
       "    .dataframe tbody tr th {\n",
       "        vertical-align: top;\n",
       "    }\n",
       "\n",
       "    .dataframe thead th {\n",
       "        text-align: right;\n",
       "    }\n",
       "</style>\n",
       "<table border=\"1\" class=\"dataframe\">\n",
       "  <thead>\n",
       "    <tr style=\"text-align: right;\">\n",
       "      <th></th>\n",
       "      <th>id</th>\n",
       "      <th>season</th>\n",
       "      <th>city</th>\n",
       "      <th>date</th>\n",
       "      <th>team1</th>\n",
       "      <th>team2</th>\n",
       "      <th>toss_winner</th>\n",
       "      <th>toss_decision</th>\n",
       "      <th>result</th>\n",
       "      <th>dl_applied</th>\n",
       "      <th>winner</th>\n",
       "      <th>win_by_runs</th>\n",
       "      <th>win_by_wickets</th>\n",
       "      <th>player_of_match</th>\n",
       "      <th>venue</th>\n",
       "      <th>umpire1</th>\n",
       "      <th>umpire2</th>\n",
       "      <th>umpire3</th>\n",
       "    </tr>\n",
       "  </thead>\n",
       "  <tbody>\n",
       "    <tr>\n",
       "      <th>415</th>\n",
       "      <td>416</td>\n",
       "      <td>2013</td>\n",
       "      <td>Jaipur</td>\n",
       "      <td>4/27/2013</td>\n",
       "      <td>Sunrisers Hyderabad</td>\n",
       "      <td>Rajasthan Royals</td>\n",
       "      <td>Sunrisers Hyderabad</td>\n",
       "      <td>bat</td>\n",
       "      <td>normal</td>\n",
       "      <td>0</td>\n",
       "      <td>Rajasthan Royals</td>\n",
       "      <td>0</td>\n",
       "      <td>8</td>\n",
       "      <td>JP Faulkner</td>\n",
       "      <td>Sawai Mansingh Stadium</td>\n",
       "      <td>VA Kulkarni</td>\n",
       "      <td>K Srinath</td>\n",
       "      <td>NaN</td>\n",
       "    </tr>\n",
       "    <tr>\n",
       "      <th>448</th>\n",
       "      <td>449</td>\n",
       "      <td>2013</td>\n",
       "      <td>Hyderabad</td>\n",
       "      <td>5/17/2013</td>\n",
       "      <td>Sunrisers Hyderabad</td>\n",
       "      <td>Rajasthan Royals</td>\n",
       "      <td>Sunrisers Hyderabad</td>\n",
       "      <td>bat</td>\n",
       "      <td>normal</td>\n",
       "      <td>0</td>\n",
       "      <td>Sunrisers Hyderabad</td>\n",
       "      <td>23</td>\n",
       "      <td>0</td>\n",
       "      <td>A Mishra</td>\n",
       "      <td>Rajiv Gandhi International Stadium, Uppal</td>\n",
       "      <td>Asad Rauf</td>\n",
       "      <td>AK Chaudhary</td>\n",
       "      <td>NaN</td>\n",
       "    </tr>\n",
       "    <tr>\n",
       "      <th>454</th>\n",
       "      <td>455</td>\n",
       "      <td>2013</td>\n",
       "      <td>Delhi</td>\n",
       "      <td>5/22/2013</td>\n",
       "      <td>Sunrisers Hyderabad</td>\n",
       "      <td>Rajasthan Royals</td>\n",
       "      <td>Sunrisers Hyderabad</td>\n",
       "      <td>bat</td>\n",
       "      <td>normal</td>\n",
       "      <td>0</td>\n",
       "      <td>Rajasthan Royals</td>\n",
       "      <td>0</td>\n",
       "      <td>4</td>\n",
       "      <td>BJ Hodge</td>\n",
       "      <td>Feroz Shah Kotla</td>\n",
       "      <td>S Ravi</td>\n",
       "      <td>RJ Tucker</td>\n",
       "      <td>NaN</td>\n",
       "    </tr>\n",
       "    <tr>\n",
       "      <th>460</th>\n",
       "      <td>461</td>\n",
       "      <td>2014</td>\n",
       "      <td>Abu Dhabi</td>\n",
       "      <td>4/18/2014</td>\n",
       "      <td>Sunrisers Hyderabad</td>\n",
       "      <td>Rajasthan Royals</td>\n",
       "      <td>Rajasthan Royals</td>\n",
       "      <td>field</td>\n",
       "      <td>normal</td>\n",
       "      <td>0</td>\n",
       "      <td>Rajasthan Royals</td>\n",
       "      <td>0</td>\n",
       "      <td>4</td>\n",
       "      <td>AM Rahane</td>\n",
       "      <td>Sheikh Zayed Stadium</td>\n",
       "      <td>BF Bowden</td>\n",
       "      <td>RK Illingworth</td>\n",
       "      <td>NaN</td>\n",
       "    </tr>\n",
       "    <tr>\n",
       "      <th>486</th>\n",
       "      <td>487</td>\n",
       "      <td>2014</td>\n",
       "      <td>Ahmedabad</td>\n",
       "      <td>5/8/2014</td>\n",
       "      <td>Sunrisers Hyderabad</td>\n",
       "      <td>Rajasthan Royals</td>\n",
       "      <td>Rajasthan Royals</td>\n",
       "      <td>field</td>\n",
       "      <td>normal</td>\n",
       "      <td>0</td>\n",
       "      <td>Sunrisers Hyderabad</td>\n",
       "      <td>32</td>\n",
       "      <td>0</td>\n",
       "      <td>B Kumar</td>\n",
       "      <td>Sardar Patel Stadium, Motera</td>\n",
       "      <td>AK Chaudhary</td>\n",
       "      <td>NJ Llong</td>\n",
       "      <td>NaN</td>\n",
       "    </tr>\n",
       "  </tbody>\n",
       "</table>\n",
       "</div>"
      ],
      "text/plain": [
       "      id  season       city       date                team1             team2  \\\n",
       "415  416    2013     Jaipur  4/27/2013  Sunrisers Hyderabad  Rajasthan Royals   \n",
       "448  449    2013  Hyderabad  5/17/2013  Sunrisers Hyderabad  Rajasthan Royals   \n",
       "454  455    2013      Delhi  5/22/2013  Sunrisers Hyderabad  Rajasthan Royals   \n",
       "460  461    2014  Abu Dhabi  4/18/2014  Sunrisers Hyderabad  Rajasthan Royals   \n",
       "486  487    2014  Ahmedabad   5/8/2014  Sunrisers Hyderabad  Rajasthan Royals   \n",
       "\n",
       "             toss_winner toss_decision  result  dl_applied  \\\n",
       "415  Sunrisers Hyderabad           bat  normal           0   \n",
       "448  Sunrisers Hyderabad           bat  normal           0   \n",
       "454  Sunrisers Hyderabad           bat  normal           0   \n",
       "460     Rajasthan Royals         field  normal           0   \n",
       "486     Rajasthan Royals         field  normal           0   \n",
       "\n",
       "                  winner  win_by_runs  win_by_wickets player_of_match  \\\n",
       "415     Rajasthan Royals            0               8     JP Faulkner   \n",
       "448  Sunrisers Hyderabad           23               0        A Mishra   \n",
       "454     Rajasthan Royals            0               4        BJ Hodge   \n",
       "460     Rajasthan Royals            0               4       AM Rahane   \n",
       "486  Sunrisers Hyderabad           32               0         B Kumar   \n",
       "\n",
       "                                         venue       umpire1         umpire2  \\\n",
       "415                     Sawai Mansingh Stadium   VA Kulkarni       K Srinath   \n",
       "448  Rajiv Gandhi International Stadium, Uppal     Asad Rauf    AK Chaudhary   \n",
       "454                           Feroz Shah Kotla        S Ravi       RJ Tucker   \n",
       "460                       Sheikh Zayed Stadium     BF Bowden  RK Illingworth   \n",
       "486               Sardar Patel Stadium, Motera  AK Chaudhary        NJ Llong   \n",
       "\n",
       "    umpire3  \n",
       "415     NaN  \n",
       "448     NaN  \n",
       "454     NaN  \n",
       "460     NaN  \n",
       "486     NaN  "
      ]
     },
     "execution_count": 98,
     "metadata": {},
     "output_type": "execute_result"
    }
   ],
   "source": [
    "all_matches.head()"
   ]
  },
  {
   "cell_type": "code",
   "execution_count": 99,
   "metadata": {},
   "outputs": [
    {
     "data": {
      "text/plain": [
       "<matplotlib.axes._subplots.AxesSubplot at 0x244054513c8>"
      ]
     },
     "execution_count": 99,
     "metadata": {},
     "output_type": "execute_result"
    },
    {
     "data": {
      "image/png": "[encoded data removed]",
      "text/plain": [
       "<Figure size 432x288 with 1 Axes>"
      ]
     },
     "metadata": {
      "needs_background": "light"
     },
     "output_type": "display_data"
    }
   ],
   "source": [
    "all_matches['winner'].value_counts(normalize=True).plot.bar(title=\"% Win of each team\", color = ['Orange', 'Pink'])"
   ]
  },
  {
   "cell_type": "code",
   "execution_count": 100,
   "metadata": {},
   "outputs": [
    {
     "data": {
      "text/plain": [
       "venue                                                winner             \n",
       "Brabourne Stadium                                    Sunrisers Hyderabad    1\n",
       "Dr. Y.S. Rajasekhara Reddy ACA-VDCA Cricket Stadium  Rajasthan Royals       1\n",
       "Feroz Shah Kotla                                     Rajasthan Royals       1\n",
       "Rajiv Gandhi International Stadium, Uppal            Sunrisers Hyderabad    2\n",
       "Rajiv Gandhi Intl. Cricket Stadium                   Sunrisers Hyderabad    1\n",
       "Sardar Patel Stadium, Motera                         Sunrisers Hyderabad    1\n",
       "Sawai Mansingh Stadium                               Rajasthan Royals       2\n",
       "                                                     Sunrisers Hyderabad    1\n",
       "Sheikh Zayed Stadium                                 Rajasthan Royals       1\n",
       "Name: winner, dtype: int64"
      ]
     },
     "execution_count": 100,
     "metadata": {},
     "output_type": "execute_result"
    }
   ],
   "source": [
    "all_matches.groupby('venue')['winner'].value_counts()"
   ]
  },
  {
   "cell_type": "code",
   "execution_count": 101,
   "metadata": {},
   "outputs": [
    {
     "data": {
      "text/plain": [
       "<matplotlib.axes._subplots.AxesSubplot at 0x24405457508>"
      ]
     },
     "execution_count": 101,
     "metadata": {},
     "output_type": "execute_result"
    },
    {
     "data": {
      "image/png": "[encoded data removed]",
      "text/plain": [
       "<Figure size 432x288 with 1 Axes>"
      ]
     },
     "metadata": {
      "needs_background": "light"
     },
     "output_type": "display_data"
    }
   ],
   "source": [
    "all_matches['toss_decision'].value_counts(normalize=True).plot.bar(title='Toss decision %')"
   ]
  },
  {
   "cell_type": "code",
   "execution_count": 102,
   "metadata": {},
   "outputs": [
    {
     "data": {
      "text/plain": [
       "toss_winner          toss_decision\n",
       "Rajasthan Royals     field            5\n",
       "                     bat              1\n",
       "Sunrisers Hyderabad  bat              4\n",
       "                     field            1\n",
       "Name: toss_decision, dtype: int64"
      ]
     },
     "execution_count": 102,
     "metadata": {},
     "output_type": "execute_result"
    }
   ],
   "source": [
    "all_matches.groupby('toss_winner')['toss_decision'].value_counts()"
   ]
  },
  {
   "cell_type": "markdown",
   "metadata": {},
   "source": [
    "* It is clearly visible that RR liked to bat first and chase the target and this because they have that batting power house who can chase any target.\n",
    "* SRH likes to bat first and put pressure on the opponent team."
   ]
  },
  {
   "cell_type": "code",
   "execution_count": 103,
   "metadata": {},
   "outputs": [
    {
     "data": {
      "text/plain": [
       "toss_decision  toss_winner          winner             \n",
       "bat            Rajasthan Royals     Sunrisers Hyderabad    1.0\n",
       "               Sunrisers Hyderabad  Rajasthan Royals       0.5\n",
       "                                    Sunrisers Hyderabad    0.5\n",
       "field          Rajasthan Royals     Rajasthan Royals       0.6\n",
       "                                    Sunrisers Hyderabad    0.4\n",
       "               Sunrisers Hyderabad  Sunrisers Hyderabad    1.0\n",
       "Name: winner, dtype: float64"
      ]
     },
     "execution_count": 103,
     "metadata": {},
     "output_type": "execute_result"
    }
   ],
   "source": [
    "all_matches.groupby(['toss_decision', 'toss_winner'])['winner'].value_counts(normalize=True)"
   ]
  },
  {
   "cell_type": "code",
   "execution_count": 104,
   "metadata": {},
   "outputs": [
    {
     "data": {
      "text/html": [
       "<div>\n",
       "<style scoped>\n",
       "    .dataframe tbody tr th:only-of-type {\n",
       "        vertical-align: middle;\n",
       "    }\n",
       "\n",
       "    .dataframe tbody tr th {\n",
       "        vertical-align: top;\n",
       "    }\n",
       "\n",
       "    .dataframe thead tr th {\n",
       "        text-align: left;\n",
       "    }\n",
       "\n",
       "    .dataframe thead tr:last-of-type th {\n",
       "        text-align: right;\n",
       "    }\n",
       "</style>\n",
       "<table border=\"1\" class=\"dataframe\">\n",
       "  <thead>\n",
       "    <tr>\n",
       "      <th></th>\n",
       "      <th></th>\n",
       "      <th>win_by_runs</th>\n",
       "      <th>win_by_wickets</th>\n",
       "    </tr>\n",
       "    <tr>\n",
       "      <th></th>\n",
       "      <th></th>\n",
       "      <th>max</th>\n",
       "      <th>max</th>\n",
       "    </tr>\n",
       "    <tr>\n",
       "      <th>venue</th>\n",
       "      <th>winner</th>\n",
       "      <th></th>\n",
       "      <th></th>\n",
       "    </tr>\n",
       "  </thead>\n",
       "  <tbody>\n",
       "    <tr>\n",
       "      <th>Brabourne Stadium</th>\n",
       "      <th>Sunrisers Hyderabad</th>\n",
       "      <td>7</td>\n",
       "      <td>0</td>\n",
       "    </tr>\n",
       "    <tr>\n",
       "      <th>Dr. Y.S. Rajasekhara Reddy ACA-VDCA Cricket Stadium</th>\n",
       "      <th>Rajasthan Royals</th>\n",
       "      <td>0</td>\n",
       "      <td>6</td>\n",
       "    </tr>\n",
       "    <tr>\n",
       "      <th>Feroz Shah Kotla</th>\n",
       "      <th>Rajasthan Royals</th>\n",
       "      <td>0</td>\n",
       "      <td>4</td>\n",
       "    </tr>\n",
       "    <tr>\n",
       "      <th>Rajiv Gandhi International Stadium, Uppal</th>\n",
       "      <th>Sunrisers Hyderabad</th>\n",
       "      <td>23</td>\n",
       "      <td>9</td>\n",
       "    </tr>\n",
       "    <tr>\n",
       "      <th>Rajiv Gandhi Intl. Cricket Stadium</th>\n",
       "      <th>Sunrisers Hyderabad</th>\n",
       "      <td>0</td>\n",
       "      <td>5</td>\n",
       "    </tr>\n",
       "    <tr>\n",
       "      <th>Sardar Patel Stadium, Motera</th>\n",
       "      <th>Sunrisers Hyderabad</th>\n",
       "      <td>32</td>\n",
       "      <td>0</td>\n",
       "    </tr>\n",
       "    <tr>\n",
       "      <th rowspan=\"2\" valign=\"top\">Sawai Mansingh Stadium</th>\n",
       "      <th>Rajasthan Royals</th>\n",
       "      <td>0</td>\n",
       "      <td>8</td>\n",
       "    </tr>\n",
       "    <tr>\n",
       "      <th>Sunrisers Hyderabad</th>\n",
       "      <td>11</td>\n",
       "      <td>0</td>\n",
       "    </tr>\n",
       "    <tr>\n",
       "      <th>Sheikh Zayed Stadium</th>\n",
       "      <th>Rajasthan Royals</th>\n",
       "      <td>0</td>\n",
       "      <td>4</td>\n",
       "    </tr>\n",
       "  </tbody>\n",
       "</table>\n",
       "</div>"
      ],
      "text/plain": [
       "                                                                       win_by_runs  \\\n",
       "                                                                               max   \n",
       "venue                                              winner                            \n",
       "Brabourne Stadium                                  Sunrisers Hyderabad           7   \n",
       "Dr. Y.S. Rajasekhara Reddy ACA-VDCA Cricket Sta... Rajasthan Royals              0   \n",
       "Feroz Shah Kotla                                   Rajasthan Royals              0   \n",
       "Rajiv Gandhi International Stadium, Uppal          Sunrisers Hyderabad          23   \n",
       "Rajiv Gandhi Intl. Cricket Stadium                 Sunrisers Hyderabad           0   \n",
       "Sardar Patel Stadium, Motera                       Sunrisers Hyderabad          32   \n",
       "Sawai Mansingh Stadium                             Rajasthan Royals              0   \n",
       "                                                   Sunrisers Hyderabad          11   \n",
       "Sheikh Zayed Stadium                               Rajasthan Royals              0   \n",
       "\n",
       "                                                                       win_by_wickets  \n",
       "                                                                                  max  \n",
       "venue                                              winner                              \n",
       "Brabourne Stadium                                  Sunrisers Hyderabad              0  \n",
       "Dr. Y.S. Rajasekhara Reddy ACA-VDCA Cricket Sta... Rajasthan Royals                 6  \n",
       "Feroz Shah Kotla                                   Rajasthan Royals                 4  \n",
       "Rajiv Gandhi International Stadium, Uppal          Sunrisers Hyderabad              9  \n",
       "Rajiv Gandhi Intl. Cricket Stadium                 Sunrisers Hyderabad              5  \n",
       "Sardar Patel Stadium, Motera                       Sunrisers Hyderabad              0  \n",
       "Sawai Mansingh Stadium                             Rajasthan Royals                 8  \n",
       "                                                   Sunrisers Hyderabad              0  \n",
       "Sheikh Zayed Stadium                               Rajasthan Royals                 4  "
      ]
     },
     "execution_count": 104,
     "metadata": {},
     "output_type": "execute_result"
    }
   ],
   "source": [
    "sub_data.groupby(['venue','winner'])['win_by_runs', 'win_by_wickets'].agg({'max'})"
   ]
  },
  {
   "cell_type": "markdown",
   "metadata": {},
   "source": [
    "From the above analysis it can be said that SRH have an edge over RR when it comes to chasing and defending. But, at the same time we also need to consider the current stats to better understand the patterns."
   ]
  },
  {
   "cell_type": "code",
   "execution_count": 105,
   "metadata": {},
   "outputs": [
    {
     "data": {
      "text/plain": [
       "winner               player_of_match\n",
       "Rajasthan Royals     AM Rahane          2\n",
       "                     BJ Hodge           1\n",
       "                     JD Unadkat         1\n",
       "                     JP Faulkner        1\n",
       "Sunrisers Hyderabad  A Mishra           1\n",
       "                     B Kumar            1\n",
       "                     EJG Morgan         1\n",
       "                     KS Williamson      1\n",
       "                     Rashid Khan        1\n",
       "                     S Dhawan           1\n",
       "Name: player_of_match, dtype: int64"
      ]
     },
     "execution_count": 105,
     "metadata": {},
     "output_type": "execute_result"
    }
   ],
   "source": [
    "all_matches.groupby('winner')['player_of_match'].value_counts()"
   ]
  },
  {
   "cell_type": "code",
   "execution_count": 106,
   "metadata": {},
   "outputs": [
    {
     "data": {
      "text/plain": [
       "<matplotlib.axes._subplots.AxesSubplot at 0x24405dce188>"
      ]
     },
     "execution_count": 106,
     "metadata": {},
     "output_type": "execute_result"
    },
    {
     "data": {
      "image/png": "[encoded data removed]",
      "text/plain": [
       "<Figure size 432x288 with 1 Axes>"
      ]
     },
     "metadata": {
      "needs_background": "light"
     },
     "output_type": "display_data"
    }
   ],
   "source": [
    "sub_data[sub_data['season']>2015].groupby('bowler')['player_dismissed'].value_counts().sort_values(ascending=False).head().plot.bar(title='Most wickets takers bowlers')"
   ]
  },
  {
   "cell_type": "code",
   "execution_count": 107,
   "metadata": {},
   "outputs": [
    {
     "data": {
      "text/plain": [
       "<matplotlib.axes._subplots.AxesSubplot at 0x244050a51c8>"
      ]
     },
     "execution_count": 107,
     "metadata": {},
     "output_type": "execute_result"
    },
    {
     "data": {
      "image/png": "[encoded data removed]",
      "text/plain": [
       "<Figure size 432x288 with 1 Axes>"
      ]
     },
     "metadata": {
      "needs_background": "light"
     },
     "output_type": "display_data"
    }
   ],
   "source": [
    "sub_data[sub_data['season']>2015].groupby('batsman')['batsman_runs'].sum().sort_values(ascending=False).head().plot.bar(title='Most runs scored batsman')"
   ]
  },
  {
   "cell_type": "code",
   "execution_count": 108,
   "metadata": {},
   "outputs": [
    {
     "data": {
      "text/plain": [
       "match_id  batsman  \n",
       "11144     SV Samson    106\n",
       "11336     SV Samson     53\n",
       "7897      SV Samson     51\n",
       "Name: batsman_runs, dtype: int64"
      ]
     },
     "execution_count": 108,
     "metadata": {},
     "output_type": "execute_result"
    }
   ],
   "source": [
    "sub_data[sub_data['batsman'] == 'SV Samson'].groupby(['match_id', 'batsman'])['batsman_runs'].sum().sort_values(ascending=False).head(3)"
   ]
  },
  {
   "cell_type": "code",
   "execution_count": 109,
   "metadata": {},
   "outputs": [
    {
     "data": {
      "text/plain": [
       "match_id  bowler       player_dismissed\n",
       "11336     Rashid Khan  L Livingstone       1\n",
       "11144     Rashid Khan  JC Buttler          1\n",
       "7921      Rashid Khan  JC Buttler          1\n",
       "Name: player_dismissed, dtype: int64"
      ]
     },
     "execution_count": 109,
     "metadata": {},
     "output_type": "execute_result"
    }
   ],
   "source": [
    "sub_data[sub_data['bowler'] == 'Rashid Khan'].groupby(['match_id', 'bowler'])['player_dismissed'].value_counts().sort_values(ascending=False).head(3)"
   ]
  },
  {
   "cell_type": "markdown",
   "metadata": {},
   "source": [
    "### How many balls will Rashid Khan take to get his first wicket?"
   ]
  },
  {
   "cell_type": "code",
   "execution_count": 120,
   "metadata": {},
   "outputs": [],
   "source": [
    "def Check(df):\n",
    "    \n",
    "    l = []\n",
    "    count = 1\n",
    "    for i in df.player_dismissed_bool:\n",
    "        if i == 0:\n",
    "            count += 1\n",
    "        else:\n",
    "            l.append(count)\n",
    "            break\n",
    "    return sum(l)"
   ]
  },
  {
   "cell_type": "code",
   "execution_count": 121,
   "metadata": {},
   "outputs": [
    {
     "data": {
      "text/plain": [
       "match_id\n",
       "7897     20\n",
       "7921     12\n",
       "11144     2\n",
       "11336    13\n",
       "dtype: int64"
      ]
     },
     "execution_count": 121,
     "metadata": {},
     "output_type": "execute_result"
    }
   ],
   "source": [
    "sub_data[sub_data['bowler']=='Rashid Khan'].groupby('match_id').apply(Check)"
   ]
  },
  {
   "cell_type": "code",
   "execution_count": 138,
   "metadata": {},
   "outputs": [
    {
     "data": {
      "text/plain": [
       "<matplotlib.axes._subplots.AxesSubplot at 0x24405113588>"
      ]
     },
     "execution_count": 138,
     "metadata": {},
     "output_type": "execute_result"
    },
    {
     "data": {
      "image/png": "[encoded data removed]",
      "text/plain": [
       "<Figure size 432x288 with 1 Axes>"
      ]
     },
     "metadata": {
      "needs_background": "light"
     },
     "output_type": "display_data"
    }
   ],
   "source": [
    "sub_data[sub_data['bowler']=='Rashid Khan'].groupby('match_id').apply(Check).plot.box(title='Box plot distribution of ball taken by Rashid to get his first wicket against RR')"
   ]
  },
  {
   "cell_type": "code",
   "execution_count": 131,
   "metadata": {},
   "outputs": [
    {
     "name": "stdout",
     "output_type": "stream",
     "text": [
      "Average balls that Rashid Khan take to get his first wicket against RR is : 12\n"
     ]
    }
   ],
   "source": [
    "print(\"Average balls that Rashid Khan take to get his first wicket against RR is : {}\".format(round(sub_data[sub_data['bowler']=='Rashid Khan'].groupby('match_id').apply(Check).mean())))"
   ]
  },
  {
   "cell_type": "code",
   "execution_count": 140,
   "metadata": {},
   "outputs": [
    {
     "data": {
      "text/plain": [
       "<matplotlib.axes._subplots.AxesSubplot at 0x24405fe5188>"
      ]
     },
     "execution_count": 140,
     "metadata": {},
     "output_type": "execute_result"
    },
    {
     "data": {
      "image/png": "[encoded data removed]",
      "text/plain": [
       "<Figure size 432x288 with 1 Axes>"
      ]
     },
     "metadata": {
      "needs_background": "light"
     },
     "output_type": "display_data"
    }
   ],
   "source": [
    "data[data['bowler']=='Rashid Khan'].groupby('match_id').apply(Check).plot.box(title='Box plot distribution of ball taken by Rashid to get his first wicket against all teams')"
   ]
  },
  {
   "cell_type": "code",
   "execution_count": 141,
   "metadata": {},
   "outputs": [
    {
     "name": "stdout",
     "output_type": "stream",
     "text": [
      "Average balls that Rashid Khan take to get his first wicket against all teams is : 10\n"
     ]
    }
   ],
   "source": [
    "print(\"Average balls that Rashid Khan take to get his first wicket against all teams is : {}\".format(round(data[data['bowler'] =='Rashid Khan'].groupby('match_id').apply(Check).mean())))"
   ]
  },
  {
   "cell_type": "code",
   "execution_count": 144,
   "metadata": {},
   "outputs": [
    {
     "data": {
      "text/plain": [
       "batting_team                 match_id\n",
       "Chennai Super Kings          7913         1\n",
       "                             7939         0\n",
       "                             7950         4\n",
       "                             7953         0\n",
       "                             11324       13\n",
       "                             11332       13\n",
       "Delhi Capitals               21           0\n",
       "                             39           0\n",
       "                             7929         7\n",
       "                             7935        18\n",
       "                             11152       19\n",
       "                             11321       24\n",
       "                             11413       20\n",
       "Gujarat Lions                6            5\n",
       "                             52          11\n",
       "Kings XI Punjab              19          11\n",
       "                             32          19\n",
       "                             7909        11\n",
       "                             7918         5\n",
       "                             11313        1\n",
       "                             11339       10\n",
       "Kolkata Knight Riders        14           4\n",
       "                             36          25\n",
       "                             57           0\n",
       "                             7903         0\n",
       "                             7947         0\n",
       "                             7952         7\n",
       "                             11138       21\n",
       "                             11329       21\n",
       "Mumbai Indians               10           5\n",
       "                             47          14\n",
       "                             7900        21\n",
       "                             7916        11\n",
       "                             11310       12\n",
       "                             11342        0\n",
       "Rajasthan Royals             7897        20\n",
       "                             7921        12\n",
       "                             11144        2\n",
       "                             11336       13\n",
       "Rising Pune Supergiants      25          17\n",
       "                             43          15\n",
       "Royal Challengers Bangalore  1            4\n",
       "                             7932        17\n",
       "                             7944         5\n",
       "                             11147       21\n",
       "                             11345       23\n",
       "dtype: int64"
      ]
     },
     "execution_count": 144,
     "metadata": {},
     "output_type": "execute_result"
    }
   ],
   "source": [
    "data[data['bowler'] == 'Rashid Khan'].groupby(['batting_team', 'match_id']).apply(Check)"
   ]
  },
  {
   "cell_type": "code",
   "execution_count": 212,
   "metadata": {},
   "outputs": [
    {
     "data": {
      "text/plain": [
       "match_id  player_dismissed\n",
       "7897      JC Buttler          1\n",
       "7921      JC Buttler          1\n",
       "11144     JC Buttler          1\n",
       "11336     L Livingstone       1\n",
       "Name: player_dismissed, dtype: int64"
      ]
     },
     "execution_count": 212,
     "metadata": {},
     "output_type": "execute_result"
    }
   ],
   "source": [
    "sub_data[sub_data['bowler'] == 'Rashid Khan'].groupby('match_id')['player_dismissed'].value_counts()"
   ]
  },
  {
   "cell_type": "markdown",
   "metadata": {},
   "source": [
    "### How will David Warner get out?"
   ]
  },
  {
   "cell_type": "code",
   "execution_count": 146,
   "metadata": {},
   "outputs": [],
   "source": [
    "sub_data2 = data[data['batsman'] == 'DA Warner']"
   ]
  },
  {
   "cell_type": "code",
   "execution_count": 147,
   "metadata": {},
   "outputs": [],
   "source": [
    "sub_data3 = sub_data[sub_data['batsman'] == 'DA Warner']"
   ]
  },
  {
   "cell_type": "code",
   "execution_count": 155,
   "metadata": {},
   "outputs": [
    {
     "data": {
      "text/plain": [
       "<matplotlib.axes._subplots.AxesSubplot at 0x244062642c8>"
      ]
     },
     "execution_count": 155,
     "metadata": {},
     "output_type": "execute_result"
    },
    {
     "data": {
      "image/png": "[encoded data removed]",
      "text/plain": [
       "<Figure size 432x288 with 1 Axes>"
      ]
     },
     "metadata": {
      "needs_background": "light"
     },
     "output_type": "display_data"
    }
   ],
   "source": [
    "sub_data2['dismissal_kind'].value_counts(normalize=True).plot.bar(title='DA Warner most dismissal type against all teams')"
   ]
  },
  {
   "cell_type": "code",
   "execution_count": 156,
   "metadata": {},
   "outputs": [
    {
     "data": {
      "text/plain": [
       "<matplotlib.axes._subplots.AxesSubplot at 0x244062d4288>"
      ]
     },
     "execution_count": 156,
     "metadata": {},
     "output_type": "execute_result"
    },
    {
     "data": {
      "image/png": "[encoded data removed]",
      "text/plain": [
       "<Figure size 432x288 with 1 Axes>"
      ]
     },
     "metadata": {
      "needs_background": "light"
     },
     "output_type": "display_data"
    }
   ],
   "source": [
    "sub_data3['dismissal_kind'].value_counts(normalize=True).plot.bar(title='DA Warner most dismissal type against RR')"
   ]
  },
  {
   "cell_type": "code",
   "execution_count": 162,
   "metadata": {},
   "outputs": [
    {
     "data": {
      "text/plain": [
       "bowler           player_dismissed\n",
       "Harbhajan Singh  DA Warner           4\n",
       "L Balaji         DA Warner           3\n",
       "UT Yadav         DA Warner           3\n",
       "Sandeep Sharma   DA Warner           3\n",
       "P Kumar          DA Warner           3\n",
       "BW Hilfenhaus    DA Warner           3\n",
       "Z Khan           DA Warner           2\n",
       "BA Stokes        DA Warner           2\n",
       "Kuldeep Yadav    DA Warner           2\n",
       "M Morkel         DA Warner           2\n",
       "Name: player_dismissed, dtype: int64"
      ]
     },
     "execution_count": 162,
     "metadata": {},
     "output_type": "execute_result"
    }
   ],
   "source": [
    "sub_data2.groupby('bowler')['player_dismissed'].value_counts().sort_values(ascending=False).head(10)"
   ]
  },
  {
   "cell_type": "code",
   "execution_count": 163,
   "metadata": {},
   "outputs": [
    {
     "data": {
      "text/plain": [
       "bowler     player_dismissed\n",
       "BA Stokes  DA Warner           1\n",
       "O Thomas   DA Warner           1\n",
       "PV Tambe   DA Warner           1\n",
       "R Bhatia   DA Warner           1\n",
       "SR Watson  DA Warner           1\n",
       "Name: player_dismissed, dtype: int64"
      ]
     },
     "execution_count": 163,
     "metadata": {},
     "output_type": "execute_result"
    }
   ],
   "source": [
    "sub_data3.groupby('bowler')['player_dismissed'].value_counts()"
   ]
  },
  {
   "cell_type": "code",
   "execution_count": null,
   "metadata": {},
   "outputs": [],
   "source": [
    "It seems like DA Warner got out "
   ]
  },
  {
   "cell_type": "markdown",
   "metadata": {},
   "source": [
    "### Who will score  most runs for RR in the match?"
   ]
  },
  {
   "cell_type": "code",
   "execution_count": 176,
   "metadata": {},
   "outputs": [],
   "source": [
    "sub_data4 = data[(data['batting_team'] == 'Rajasthan Royals') & (data['season']>2015)]"
   ]
  },
  {
   "cell_type": "code",
   "execution_count": 177,
   "metadata": {},
   "outputs": [],
   "source": [
    "sub_data5 = sub_data[(sub_data['batting_team'] == 'Rajasthan Royals') & (sub_data['season']>2015)]"
   ]
  },
  {
   "cell_type": "code",
   "execution_count": 179,
   "metadata": {},
   "outputs": [
    {
     "data": {
      "text/plain": [
       "<matplotlib.axes._subplots.AxesSubplot at 0x2440657e408>"
      ]
     },
     "execution_count": 179,
     "metadata": {},
     "output_type": "execute_result"
    },
    {
     "data": {
      "image/png": "[encoded data removed]",
      "text/plain": [
       "<Figure size 1080x360 with 1 Axes>"
      ]
     },
     "metadata": {
      "needs_background": "light"
     },
     "output_type": "display_data"
    }
   ],
   "source": [
    "sub_data4.groupby('batsman')['batsman_runs'].sum().sort_values(ascending=False).head(20).plot.bar(title=\"Most run getters of all time for RR \", figsize=(15,5))"
   ]
  },
  {
   "cell_type": "code",
   "execution_count": 180,
   "metadata": {},
   "outputs": [
    {
     "data": {
      "text/plain": [
       "<matplotlib.axes._subplots.AxesSubplot at 0x24406465248>"
      ]
     },
     "execution_count": 180,
     "metadata": {},
     "output_type": "execute_result"
    },
    {
     "data": {
      "image/png": "[encoded data removed]",
      "text/plain": [
       "<Figure size 1080x360 with 1 Axes>"
      ]
     },
     "metadata": {
      "needs_background": "light"
     },
     "output_type": "display_data"
    }
   ],
   "source": [
    "sub_data5.groupby('batsman')['batsman_runs'].sum().sort_values(ascending=False).head(20).plot.bar(title=\"Most run getters of all time for RR against SRH \", figsize=(15,5))"
   ]
  },
  {
   "cell_type": "code",
   "execution_count": 182,
   "metadata": {},
   "outputs": [
    {
     "data": {
      "text/plain": [
       "bowler           player_dismissed\n",
       "Rashid Khan      JC Buttler          3\n",
       "S Kaul           SV Samson           1\n",
       "Shakib Al Hasan  SV Samson           1\n",
       "Name: player_dismissed, dtype: int64"
      ]
     },
     "execution_count": 182,
     "metadata": {},
     "output_type": "execute_result"
    }
   ],
   "source": [
    "sub_data5[sub_data5['batsman'].isin(['JC Buttler', 'SV Samson'])].groupby('bowler')['player_dismissed'].value_counts()"
   ]
  },
  {
   "cell_type": "code",
   "execution_count": 188,
   "metadata": {},
   "outputs": [
    {
     "data": {
      "text/plain": [
       "batsman     bowler         \n",
       "JC Buttler  B Kumar             88.89\n",
       "            Rashid Khan         37.50\n",
       "            S Kaul              50.00\n",
       "            Shakib Al Hasan     83.33\n",
       "            YK Pathan          125.00\n",
       "SV Samson   B Kumar            250.00\n",
       "            B Stanlake         120.00\n",
       "            Basil Thampi       283.33\n",
       "            K Ahmed            185.71\n",
       "            Rashid Khan         96.15\n",
       "            S Kaul             152.38\n",
       "            S Nadeem           177.78\n",
       "            S Sharma           170.00\n",
       "            Sandeep Sharma      37.50\n",
       "            Shakib Al Hasan    128.57\n",
       "            V Shankar          166.67\n",
       "dtype: float64"
      ]
     },
     "execution_count": 188,
     "metadata": {},
     "output_type": "execute_result"
    }
   ],
   "source": [
    "round((sub_data5[sub_data5['batsman'].isin(['JC Buttler', 'SV Samson'])].groupby(['batsman', 'bowler'])['batsman_runs'].sum()/sub_data5[sub_data5['batsman'].isin(['JC Buttler', 'SV Samson'])].groupby(['batsman', 'bowler'])['ball'].count())*100,2)"
   ]
  },
  {
   "cell_type": "code",
   "execution_count": 195,
   "metadata": {},
   "outputs": [],
   "source": [
    "sub_data6 = data[(data['bowler'].isin(['T Natarajan', 'V Shankar', 'Sandeep Sharma', 'Basil Thampi', 'K Ahmed', 'S Nadeem'])) & data['batsman'].isin(['JC Buttler', 'SV Samson'])]"
   ]
  },
  {
   "cell_type": "code",
   "execution_count": 210,
   "metadata": {},
   "outputs": [
    {
     "data": {
      "text/plain": [
       "batsman    bowler          player_dismissed\n",
       "SV Samson  S Nadeem        SV Samson           2\n",
       "           Sandeep Sharma  SV Samson           2\n",
       "Name: player_dismissed, dtype: int64"
      ]
     },
     "execution_count": 210,
     "metadata": {},
     "output_type": "execute_result"
    }
   ],
   "source": [
    "sub_data6.groupby(['batsman', 'bowler'])['player_dismissed'].value_counts()"
   ]
  },
  {
   "cell_type": "code",
   "execution_count": 196,
   "metadata": {},
   "outputs": [
    {
     "data": {
      "text/plain": [
       "batsman     bowler        \n",
       "JC Buttler  Basil Thampi      200.000000\n",
       "            S Nadeem          260.000000\n",
       "            Sandeep Sharma    216.666667\n",
       "SV Samson   Basil Thampi      250.000000\n",
       "            K Ahmed           185.714286\n",
       "            S Nadeem          165.517241\n",
       "            Sandeep Sharma     63.888889\n",
       "            T Natarajan         0.000000\n",
       "            V Shankar         166.666667\n",
       "dtype: float64"
      ]
     },
     "execution_count": 196,
     "metadata": {},
     "output_type": "execute_result"
    }
   ],
   "source": [
    "(sub_data6.groupby(['batsman', 'bowler'])['batsman_runs'].sum()/sub_data6.groupby(['batsman', 'bowler'])['ball'].count())*100"
   ]
  },
  {
   "cell_type": "markdown",
   "metadata": {},
   "source": [
    "### How many no-balls will be bowled in the match?"
   ]
  },
  {
   "cell_type": "code",
   "execution_count": 199,
   "metadata": {},
   "outputs": [],
   "source": [
    "sub_data7 = sub_data[sub_data['noball_runs']!=0]"
   ]
  },
  {
   "cell_type": "code",
   "execution_count": 204,
   "metadata": {},
   "outputs": [
    {
     "data": {
      "text/plain": [
       "1.5"
      ]
     },
     "execution_count": 204,
     "metadata": {},
     "output_type": "execute_result"
    }
   ],
   "source": [
    "sub_data7.groupby('bowling_team')['noball_runs'].count().mean()"
   ]
  },
  {
   "cell_type": "code",
   "execution_count": 201,
   "metadata": {},
   "outputs": [
    {
     "data": {
      "text/plain": [
       "bowler\n",
       "B Laughlin     1\n",
       "JP Faulkner    1\n",
       "S Kaul         1\n",
       "Name: noball_runs, dtype: int64"
      ]
     },
     "execution_count": 201,
     "metadata": {},
     "output_type": "execute_result"
    }
   ],
   "source": [
    "sub_data7.groupby('bowler')['noball_runs'].count()"
   ]
  },
  {
   "cell_type": "code",
   "execution_count": 208,
   "metadata": {},
   "outputs": [],
   "source": [
    "sub_data8 = data[(data['bowler'].isin(['T Natarajan', 'V Shankar', 'Sandeep Sharma', 'Basil Thampi', 'K Ahmed', 'S Nadeem'])) & (data['noball_runs']!=0)]"
   ]
  },
  {
   "cell_type": "code",
   "execution_count": 209,
   "metadata": {},
   "outputs": [
    {
     "data": {
      "text/plain": [
       "match_id  bowler        \n",
       "46        Sandeep Sharma    1\n",
       "429       Sandeep Sharma    1\n",
       "450       Sandeep Sharma    1\n",
       "459       S Nadeem          1\n",
       "496       Sandeep Sharma    3\n",
       "557       Sandeep Sharma    1\n",
       "7923      V Shankar         1\n",
       "11342     Basil Thampi      1\n",
       "Name: noball_runs, dtype: int64"
      ]
     },
     "execution_count": 209,
     "metadata": {},
     "output_type": "execute_result"
    }
   ],
   "source": [
    "sub_data8.groupby(['match_id', 'bowler'])['noball_runs'].count()"
   ]
  }
 ],
 "metadata": {
  "kernelspec": {
   "display_name": "Python 3",
   "language": "python",
   "name": "python3"
  },
  "language_info": {
   "codemirror_mode": {
    "name": "ipython",
    "version": 3
   },
   "file_extension": ".py",
   "mimetype": "text/x-python",
   "name": "python",
   "nbconvert_exporter": "python",
   "pygments_lexer": "ipython3",
   "version": "3.7.6"
  }
 },
 "nbformat": 4,
 "nbformat_minor": 4
}
