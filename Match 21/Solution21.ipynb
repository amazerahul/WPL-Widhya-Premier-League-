{
 "cells": [
  {
   "cell_type": "code",
   "execution_count": 1,
   "metadata": {},
   "outputs": [],
   "source": [
    "import pandas as pd\n",
    "import numpy as np\n",
    "import matplotlib.pyplot as plt\n",
    "import seaborn as sns\n",
    "import warnings\n",
    "warnings.filterwarnings(\"ignore\")"
   ]
  },
  {
   "cell_type": "code",
   "execution_count": 2,
   "metadata": {},
   "outputs": [],
   "source": [
    "matches = pd.read_csv('C:/Users/Hp/Desktop/WPL/matches.csv')\n",
    "deliveries = pd.read_csv('C:/Users/Hp/Desktop/WPL/deliveries.csv')"
   ]
  },
  {
   "cell_type": "code",
   "execution_count": 6,
   "metadata": {},
   "outputs": [],
   "source": [
    "all_matches = matches[(matches['team1'].isin(['Royal Challengers Bangalore', 'Sunrisers Hyderabad'])) & (matches['team2'].isin(['Royal Challengers Bangalore', 'Sunrisers Hyderabad']))]"
   ]
  },
  {
   "cell_type": "code",
   "execution_count": 7,
   "metadata": {},
   "outputs": [],
   "source": [
    "data = pd.merge(matches, deliveries, how = \"inner\", left_on = 'id', right_on = 'match_id')"
   ]
  },
  {
   "cell_type": "code",
   "execution_count": 8,
   "metadata": {},
   "outputs": [],
   "source": [
    "sub_data = data[(data['team1'].isin(['Royal Challengers Bangalore', 'Sunrisers Hyderabad'])) & (data['team2'].isin(['Royal Challengers Bangalore', 'Sunrisers Hyderabad']))]"
   ]
  },
  {
   "cell_type": "markdown",
   "metadata": {},
   "source": [
    "### Who will win the match??"
   ]
  },
  {
   "cell_type": "code",
   "execution_count": 24,
   "metadata": {},
   "outputs": [
    {
     "data": {
      "text/html": [
       "<div>\n",
       "<style scoped>\n",
       "    .dataframe tbody tr th:only-of-type {\n",
       "        vertical-align: middle;\n",
       "    }\n",
       "\n",
       "    .dataframe tbody tr th {\n",
       "        vertical-align: top;\n",
       "    }\n",
       "\n",
       "    .dataframe thead th {\n",
       "        text-align: right;\n",
       "    }\n",
       "</style>\n",
       "<table border=\"1\" class=\"dataframe\">\n",
       "  <thead>\n",
       "    <tr style=\"text-align: right;\">\n",
       "      <th></th>\n",
       "      <th>id</th>\n",
       "      <th>season</th>\n",
       "      <th>city</th>\n",
       "      <th>date</th>\n",
       "      <th>team1</th>\n",
       "      <th>team2</th>\n",
       "      <th>toss_winner</th>\n",
       "      <th>toss_decision</th>\n",
       "      <th>result</th>\n",
       "      <th>dl_applied</th>\n",
       "      <th>winner</th>\n",
       "      <th>win_by_runs</th>\n",
       "      <th>win_by_wickets</th>\n",
       "      <th>player_of_match</th>\n",
       "      <th>venue</th>\n",
       "      <th>umpire1</th>\n",
       "      <th>umpire2</th>\n",
       "      <th>umpire3</th>\n",
       "    </tr>\n",
       "  </thead>\n",
       "  <tbody>\n",
       "    <tr>\n",
       "      <th>0</th>\n",
       "      <td>1</td>\n",
       "      <td>2017</td>\n",
       "      <td>Hyderabad</td>\n",
       "      <td>4/5/2017</td>\n",
       "      <td>Sunrisers Hyderabad</td>\n",
       "      <td>Royal Challengers Bangalore</td>\n",
       "      <td>Royal Challengers Bangalore</td>\n",
       "      <td>field</td>\n",
       "      <td>normal</td>\n",
       "      <td>0</td>\n",
       "      <td>Sunrisers Hyderabad</td>\n",
       "      <td>35</td>\n",
       "      <td>0</td>\n",
       "      <td>Yuvraj Singh</td>\n",
       "      <td>Rajiv Gandhi International Stadium, Uppal</td>\n",
       "      <td>AY Dandekar</td>\n",
       "      <td>NJ Llong</td>\n",
       "      <td>NaN</td>\n",
       "    </tr>\n",
       "    <tr>\n",
       "      <th>387</th>\n",
       "      <td>388</td>\n",
       "      <td>2013</td>\n",
       "      <td>Hyderabad</td>\n",
       "      <td>4/7/2013</td>\n",
       "      <td>Royal Challengers Bangalore</td>\n",
       "      <td>Sunrisers Hyderabad</td>\n",
       "      <td>Royal Challengers Bangalore</td>\n",
       "      <td>bat</td>\n",
       "      <td>tie</td>\n",
       "      <td>0</td>\n",
       "      <td>Sunrisers Hyderabad</td>\n",
       "      <td>0</td>\n",
       "      <td>0</td>\n",
       "      <td>GH Vihari</td>\n",
       "      <td>Rajiv Gandhi International Stadium, Uppal</td>\n",
       "      <td>AK Chaudhary</td>\n",
       "      <td>S Ravi</td>\n",
       "      <td>NaN</td>\n",
       "    </tr>\n",
       "    <tr>\n",
       "      <th>431</th>\n",
       "      <td>432</td>\n",
       "      <td>2013</td>\n",
       "      <td>Bangalore</td>\n",
       "      <td>4/9/2013</td>\n",
       "      <td>Sunrisers Hyderabad</td>\n",
       "      <td>Royal Challengers Bangalore</td>\n",
       "      <td>Sunrisers Hyderabad</td>\n",
       "      <td>bat</td>\n",
       "      <td>normal</td>\n",
       "      <td>0</td>\n",
       "      <td>Royal Challengers Bangalore</td>\n",
       "      <td>0</td>\n",
       "      <td>7</td>\n",
       "      <td>V Kohli</td>\n",
       "      <td>M Chinnaswamy Stadium</td>\n",
       "      <td>S Ravi</td>\n",
       "      <td>SJA Taufel</td>\n",
       "      <td>NaN</td>\n",
       "    </tr>\n",
       "    <tr>\n",
       "      <th>480</th>\n",
       "      <td>481</td>\n",
       "      <td>2014</td>\n",
       "      <td>Bangalore</td>\n",
       "      <td>5/4/2014</td>\n",
       "      <td>Sunrisers Hyderabad</td>\n",
       "      <td>Royal Challengers Bangalore</td>\n",
       "      <td>Royal Challengers Bangalore</td>\n",
       "      <td>field</td>\n",
       "      <td>normal</td>\n",
       "      <td>0</td>\n",
       "      <td>Royal Challengers Bangalore</td>\n",
       "      <td>0</td>\n",
       "      <td>4</td>\n",
       "      <td>AB de Villiers</td>\n",
       "      <td>M Chinnaswamy Stadium</td>\n",
       "      <td>HDPK Dharmasena</td>\n",
       "      <td>VA Kulkarni</td>\n",
       "      <td>NaN</td>\n",
       "    </tr>\n",
       "    <tr>\n",
       "      <th>502</th>\n",
       "      <td>503</td>\n",
       "      <td>2014</td>\n",
       "      <td>Hyderabad</td>\n",
       "      <td>5/20/2014</td>\n",
       "      <td>Royal Challengers Bangalore</td>\n",
       "      <td>Sunrisers Hyderabad</td>\n",
       "      <td>Royal Challengers Bangalore</td>\n",
       "      <td>bat</td>\n",
       "      <td>normal</td>\n",
       "      <td>0</td>\n",
       "      <td>Sunrisers Hyderabad</td>\n",
       "      <td>0</td>\n",
       "      <td>7</td>\n",
       "      <td>DA Warner</td>\n",
       "      <td>Rajiv Gandhi International Stadium, Uppal</td>\n",
       "      <td>AK Chaudhary</td>\n",
       "      <td>NJ Llong</td>\n",
       "      <td>NaN</td>\n",
       "    </tr>\n",
       "  </tbody>\n",
       "</table>\n",
       "</div>"
      ],
      "text/plain": [
       "      id  season       city       date                        team1  \\\n",
       "0      1    2017  Hyderabad   4/5/2017          Sunrisers Hyderabad   \n",
       "387  388    2013  Hyderabad   4/7/2013  Royal Challengers Bangalore   \n",
       "431  432    2013  Bangalore   4/9/2013          Sunrisers Hyderabad   \n",
       "480  481    2014  Bangalore   5/4/2014          Sunrisers Hyderabad   \n",
       "502  503    2014  Hyderabad  5/20/2014  Royal Challengers Bangalore   \n",
       "\n",
       "                           team2                  toss_winner toss_decision  \\\n",
       "0    Royal Challengers Bangalore  Royal Challengers Bangalore         field   \n",
       "387          Sunrisers Hyderabad  Royal Challengers Bangalore           bat   \n",
       "431  Royal Challengers Bangalore          Sunrisers Hyderabad           bat   \n",
       "480  Royal Challengers Bangalore  Royal Challengers Bangalore         field   \n",
       "502          Sunrisers Hyderabad  Royal Challengers Bangalore           bat   \n",
       "\n",
       "     result  dl_applied                       winner  win_by_runs  \\\n",
       "0    normal           0          Sunrisers Hyderabad           35   \n",
       "387     tie           0          Sunrisers Hyderabad            0   \n",
       "431  normal           0  Royal Challengers Bangalore            0   \n",
       "480  normal           0  Royal Challengers Bangalore            0   \n",
       "502  normal           0          Sunrisers Hyderabad            0   \n",
       "\n",
       "     win_by_wickets player_of_match  \\\n",
       "0                 0    Yuvraj Singh   \n",
       "387               0       GH Vihari   \n",
       "431               7         V Kohli   \n",
       "480               4  AB de Villiers   \n",
       "502               7       DA Warner   \n",
       "\n",
       "                                         venue          umpire1      umpire2  \\\n",
       "0    Rajiv Gandhi International Stadium, Uppal      AY Dandekar     NJ Llong   \n",
       "387  Rajiv Gandhi International Stadium, Uppal     AK Chaudhary       S Ravi   \n",
       "431                      M Chinnaswamy Stadium           S Ravi   SJA Taufel   \n",
       "480                      M Chinnaswamy Stadium  HDPK Dharmasena  VA Kulkarni   \n",
       "502  Rajiv Gandhi International Stadium, Uppal     AK Chaudhary     NJ Llong   \n",
       "\n",
       "    umpire3  \n",
       "0       NaN  \n",
       "387     NaN  \n",
       "431     NaN  \n",
       "480     NaN  \n",
       "502     NaN  "
      ]
     },
     "execution_count": 24,
     "metadata": {},
     "output_type": "execute_result"
    }
   ],
   "source": [
    "all_matches.head()"
   ]
  },
  {
   "cell_type": "code",
   "execution_count": 10,
   "metadata": {},
   "outputs": [
    {
     "data": {
      "text/plain": [
       "<matplotlib.axes._subplots.AxesSubplot at 0x1c3aa83c688>"
      ]
     },
     "execution_count": 10,
     "metadata": {},
     "output_type": "execute_result"
    },
    {
     "data": {
      "image/png": "[encoded data removed]",
      "text/plain": [
       "<Figure size 432x288 with 1 Axes>"
      ]
     },
     "metadata": {
      "needs_background": "light"
     },
     "output_type": "display_data"
    }
   ],
   "source": [
    "all_matches['winner'].value_counts(normalize=True).plot.bar(title='% Win for each team', color=['Orange', 'Red'])"
   ]
  },
  {
   "cell_type": "code",
   "execution_count": 11,
   "metadata": {},
   "outputs": [],
   "source": [
    "match_id_1 = all_matches.groupby('season')['id'].unique().apply(lambda x : x[0]).values.tolist()\n",
    "match_id_2 = all_matches.groupby('season')['id'].unique().apply(lambda x : x[1] if len(x)>1 else x[0]).values.tolist()"
   ]
  },
  {
   "cell_type": "code",
   "execution_count": 14,
   "metadata": {},
   "outputs": [
    {
     "data": {
      "text/plain": [
       "<matplotlib.axes._subplots.AxesSubplot at 0x1c3ab32b088>"
      ]
     },
     "execution_count": 14,
     "metadata": {},
     "output_type": "execute_result"
    },
    {
     "data": {
      "image/png": "[encoded data removed]",
      "text/plain": [
       "<Figure size 1440x396 with 2 Axes>"
      ]
     },
     "metadata": {
      "needs_background": "light"
     },
     "output_type": "display_data"
    }
   ],
   "source": [
    "plt.subplot(1, 2 ,1)\n",
    "all_matches[all_matches['id'].isin(match_id_1)]['winner'].value_counts(normalize=True).plot.bar(title='% Win of each team in 1st match of season', figsize=(20,5.5), color = ['Orange', 'Red'])\n",
    "\n",
    "plt.subplot(1, 2, 2)\n",
    "all_matches[all_matches['id'].isin(match_id_2)]['winner'].value_counts(normalize=True).plot.bar(title='% Win of each team in 2nd match of season', color = ['Red', 'Orange'])"
   ]
  },
  {
   "cell_type": "code",
   "execution_count": 23,
   "metadata": {},
   "outputs": [
    {
     "data": {
      "text/plain": [
       "<matplotlib.axes._subplots.AxesSubplot at 0x1c3ab3e56c8>"
      ]
     },
     "execution_count": 23,
     "metadata": {},
     "output_type": "execute_result"
    },
    {
     "data": {
      "image/png": "[encoded data removed]",
      "text/plain": [
       "<Figure size 1440x396 with 2 Axes>"
      ]
     },
     "metadata": {
      "needs_background": "light"
     },
     "output_type": "display_data"
    }
   ],
   "source": [
    "plt.subplot(1, 2 ,1)\n",
    "all_matches[all_matches['id'].isin(match_id_1)]['toss_winner'].value_counts(normalize=True).plot.bar(title='% Toss win of each team in 1st match of season', figsize=(20,5.5), color = ['Red', 'Orange'])\n",
    "\n",
    "plt.subplot(1, 2, 2)\n",
    "all_matches[all_matches['id'].isin(match_id_2)]['toss_winner'].value_counts(normalize=True).plot.bar(title='% Toss win of each team in 2nd match of season', color = ['Red', 'Orange'])"
   ]
  },
  {
   "cell_type": "code",
   "execution_count": 28,
   "metadata": {},
   "outputs": [
    {
     "data": {
      "text/html": [
       "<div>\n",
       "<style scoped>\n",
       "    .dataframe tbody tr th:only-of-type {\n",
       "        vertical-align: middle;\n",
       "    }\n",
       "\n",
       "    .dataframe tbody tr th {\n",
       "        vertical-align: top;\n",
       "    }\n",
       "\n",
       "    .dataframe thead th {\n",
       "        text-align: right;\n",
       "    }\n",
       "</style>\n",
       "<table border=\"1\" class=\"dataframe\">\n",
       "  <thead>\n",
       "    <tr style=\"text-align: right;\">\n",
       "      <th>toss_decision</th>\n",
       "      <th>bat</th>\n",
       "      <th>field</th>\n",
       "    </tr>\n",
       "    <tr>\n",
       "      <th>toss_winner</th>\n",
       "      <th></th>\n",
       "      <th></th>\n",
       "    </tr>\n",
       "  </thead>\n",
       "  <tbody>\n",
       "    <tr>\n",
       "      <th>Royal Challengers Bangalore</th>\n",
       "      <td>2</td>\n",
       "      <td>6</td>\n",
       "    </tr>\n",
       "    <tr>\n",
       "      <th>Sunrisers Hyderabad</th>\n",
       "      <td>3</td>\n",
       "      <td>3</td>\n",
       "    </tr>\n",
       "  </tbody>\n",
       "</table>\n",
       "</div>"
      ],
      "text/plain": [
       "toss_decision                bat  field\n",
       "toss_winner                            \n",
       "Royal Challengers Bangalore    2      6\n",
       "Sunrisers Hyderabad            3      3"
      ]
     },
     "execution_count": 28,
     "metadata": {},
     "output_type": "execute_result"
    }
   ],
   "source": [
    "pd.crosstab(all_matches['toss_winner'], all_matches['toss_decision'])"
   ]
  },
  {
   "cell_type": "code",
   "execution_count": 29,
   "metadata": {},
   "outputs": [
    {
     "data": {
      "text/html": [
       "<div>\n",
       "<style scoped>\n",
       "    .dataframe tbody tr th:only-of-type {\n",
       "        vertical-align: middle;\n",
       "    }\n",
       "\n",
       "    .dataframe tbody tr th {\n",
       "        vertical-align: top;\n",
       "    }\n",
       "\n",
       "    .dataframe thead th {\n",
       "        text-align: right;\n",
       "    }\n",
       "</style>\n",
       "<table border=\"1\" class=\"dataframe\">\n",
       "  <thead>\n",
       "    <tr style=\"text-align: right;\">\n",
       "      <th>winner</th>\n",
       "      <th>Royal Challengers Bangalore</th>\n",
       "      <th>Sunrisers Hyderabad</th>\n",
       "    </tr>\n",
       "    <tr>\n",
       "      <th>toss_decision</th>\n",
       "      <th></th>\n",
       "      <th></th>\n",
       "    </tr>\n",
       "  </thead>\n",
       "  <tbody>\n",
       "    <tr>\n",
       "      <th>bat</th>\n",
       "      <td>2</td>\n",
       "      <td>3</td>\n",
       "    </tr>\n",
       "    <tr>\n",
       "      <th>field</th>\n",
       "      <td>4</td>\n",
       "      <td>5</td>\n",
       "    </tr>\n",
       "  </tbody>\n",
       "</table>\n",
       "</div>"
      ],
      "text/plain": [
       "winner         Royal Challengers Bangalore  Sunrisers Hyderabad\n",
       "toss_decision                                                  \n",
       "bat                                      2                    3\n",
       "field                                    4                    5"
      ]
     },
     "execution_count": 29,
     "metadata": {},
     "output_type": "execute_result"
    }
   ],
   "source": [
    "pd.crosstab(all_matches['toss_decision'], all_matches['winner'])"
   ]
  },
  {
   "cell_type": "code",
   "execution_count": 31,
   "metadata": {},
   "outputs": [
    {
     "data": {
      "text/html": [
       "<div>\n",
       "<style scoped>\n",
       "    .dataframe tbody tr th:only-of-type {\n",
       "        vertical-align: middle;\n",
       "    }\n",
       "\n",
       "    .dataframe tbody tr th {\n",
       "        vertical-align: top;\n",
       "    }\n",
       "\n",
       "    .dataframe thead th {\n",
       "        text-align: right;\n",
       "    }\n",
       "</style>\n",
       "<table border=\"1\" class=\"dataframe\">\n",
       "  <thead>\n",
       "    <tr style=\"text-align: right;\">\n",
       "      <th></th>\n",
       "      <th></th>\n",
       "      <th>win_by_runs</th>\n",
       "      <th>win_by_wickets</th>\n",
       "    </tr>\n",
       "    <tr>\n",
       "      <th>season</th>\n",
       "      <th>winner</th>\n",
       "      <th></th>\n",
       "      <th></th>\n",
       "    </tr>\n",
       "  </thead>\n",
       "  <tbody>\n",
       "    <tr>\n",
       "      <th rowspan=\"2\" valign=\"top\">2013</th>\n",
       "      <th>Royal Challengers Bangalore</th>\n",
       "      <td>0</td>\n",
       "      <td>7</td>\n",
       "    </tr>\n",
       "    <tr>\n",
       "      <th>Sunrisers Hyderabad</th>\n",
       "      <td>0</td>\n",
       "      <td>0</td>\n",
       "    </tr>\n",
       "    <tr>\n",
       "      <th rowspan=\"2\" valign=\"top\">2014</th>\n",
       "      <th>Royal Challengers Bangalore</th>\n",
       "      <td>0</td>\n",
       "      <td>4</td>\n",
       "    </tr>\n",
       "    <tr>\n",
       "      <th>Sunrisers Hyderabad</th>\n",
       "      <td>0</td>\n",
       "      <td>7</td>\n",
       "    </tr>\n",
       "    <tr>\n",
       "      <th rowspan=\"2\" valign=\"top\">2015</th>\n",
       "      <th>Royal Challengers Bangalore</th>\n",
       "      <td>0</td>\n",
       "      <td>6</td>\n",
       "    </tr>\n",
       "    <tr>\n",
       "      <th>Sunrisers Hyderabad</th>\n",
       "      <td>0</td>\n",
       "      <td>8</td>\n",
       "    </tr>\n",
       "    <tr>\n",
       "      <th rowspan=\"2\" valign=\"top\">2016</th>\n",
       "      <th>Royal Challengers Bangalore</th>\n",
       "      <td>45</td>\n",
       "      <td>0</td>\n",
       "    </tr>\n",
       "    <tr>\n",
       "      <th>Sunrisers Hyderabad</th>\n",
       "      <td>15</td>\n",
       "      <td>0</td>\n",
       "    </tr>\n",
       "    <tr>\n",
       "      <th>2017</th>\n",
       "      <th>Sunrisers Hyderabad</th>\n",
       "      <td>35</td>\n",
       "      <td>0</td>\n",
       "    </tr>\n",
       "    <tr>\n",
       "      <th rowspan=\"2\" valign=\"top\">2018</th>\n",
       "      <th>Royal Challengers Bangalore</th>\n",
       "      <td>14</td>\n",
       "      <td>0</td>\n",
       "    </tr>\n",
       "    <tr>\n",
       "      <th>Sunrisers Hyderabad</th>\n",
       "      <td>5</td>\n",
       "      <td>0</td>\n",
       "    </tr>\n",
       "    <tr>\n",
       "      <th rowspan=\"2\" valign=\"top\">2019</th>\n",
       "      <th>Royal Challengers Bangalore</th>\n",
       "      <td>0</td>\n",
       "      <td>4</td>\n",
       "    </tr>\n",
       "    <tr>\n",
       "      <th>Sunrisers Hyderabad</th>\n",
       "      <td>118</td>\n",
       "      <td>0</td>\n",
       "    </tr>\n",
       "  </tbody>\n",
       "</table>\n",
       "</div>"
      ],
      "text/plain": [
       "                                    win_by_runs  win_by_wickets\n",
       "season winner                                                  \n",
       "2013   Royal Challengers Bangalore            0               7\n",
       "       Sunrisers Hyderabad                    0               0\n",
       "2014   Royal Challengers Bangalore            0               4\n",
       "       Sunrisers Hyderabad                    0               7\n",
       "2015   Royal Challengers Bangalore            0               6\n",
       "       Sunrisers Hyderabad                    0               8\n",
       "2016   Royal Challengers Bangalore           45               0\n",
       "       Sunrisers Hyderabad                   15               0\n",
       "2017   Sunrisers Hyderabad                   35               0\n",
       "2018   Royal Challengers Bangalore           14               0\n",
       "       Sunrisers Hyderabad                    5               0\n",
       "2019   Royal Challengers Bangalore            0               4\n",
       "       Sunrisers Hyderabad                  118               0"
      ]
     },
     "execution_count": 31,
     "metadata": {},
     "output_type": "execute_result"
    }
   ],
   "source": [
    "all_matches.groupby(['season', 'winner'])['win_by_runs', 'win_by_wickets'].max()"
   ]
  },
  {
   "cell_type": "code",
   "execution_count": 32,
   "metadata": {},
   "outputs": [
    {
     "data": {
      "text/html": [
       "<div>\n",
       "<style scoped>\n",
       "    .dataframe tbody tr th:only-of-type {\n",
       "        vertical-align: middle;\n",
       "    }\n",
       "\n",
       "    .dataframe tbody tr th {\n",
       "        vertical-align: top;\n",
       "    }\n",
       "\n",
       "    .dataframe thead th {\n",
       "        text-align: right;\n",
       "    }\n",
       "</style>\n",
       "<table border=\"1\" class=\"dataframe\">\n",
       "  <thead>\n",
       "    <tr style=\"text-align: right;\">\n",
       "      <th></th>\n",
       "      <th>id</th>\n",
       "      <th>season</th>\n",
       "      <th>city</th>\n",
       "      <th>date</th>\n",
       "      <th>team1</th>\n",
       "      <th>team2</th>\n",
       "      <th>toss_winner</th>\n",
       "      <th>toss_decision</th>\n",
       "      <th>result</th>\n",
       "      <th>dl_applied</th>\n",
       "      <th>winner</th>\n",
       "      <th>win_by_runs</th>\n",
       "      <th>win_by_wickets</th>\n",
       "      <th>player_of_match</th>\n",
       "      <th>venue</th>\n",
       "      <th>umpire1</th>\n",
       "      <th>umpire2</th>\n",
       "      <th>umpire3</th>\n",
       "    </tr>\n",
       "  </thead>\n",
       "  <tbody>\n",
       "    <tr>\n",
       "      <th>706</th>\n",
       "      <td>11147</td>\n",
       "      <td>2019</td>\n",
       "      <td>Hyderabad</td>\n",
       "      <td>31/03/19</td>\n",
       "      <td>Sunrisers Hyderabad</td>\n",
       "      <td>Royal Challengers Bangalore</td>\n",
       "      <td>Royal Challengers Bangalore</td>\n",
       "      <td>field</td>\n",
       "      <td>normal</td>\n",
       "      <td>0</td>\n",
       "      <td>Sunrisers Hyderabad</td>\n",
       "      <td>118</td>\n",
       "      <td>0</td>\n",
       "      <td>J Bairstow</td>\n",
       "      <td>Rajiv Gandhi Intl. Cricket Stadium</td>\n",
       "      <td>S Ravi</td>\n",
       "      <td>KN Anantapadmanabhan</td>\n",
       "      <td>C Shamshuddin</td>\n",
       "    </tr>\n",
       "  </tbody>\n",
       "</table>\n",
       "</div>"
      ],
      "text/plain": [
       "        id  season       city      date                team1  \\\n",
       "706  11147    2019  Hyderabad  31/03/19  Sunrisers Hyderabad   \n",
       "\n",
       "                           team2                  toss_winner toss_decision  \\\n",
       "706  Royal Challengers Bangalore  Royal Challengers Bangalore         field   \n",
       "\n",
       "     result  dl_applied               winner  win_by_runs  win_by_wickets  \\\n",
       "706  normal           0  Sunrisers Hyderabad          118               0   \n",
       "\n",
       "    player_of_match                               venue umpire1  \\\n",
       "706      J Bairstow  Rajiv Gandhi Intl. Cricket Stadium  S Ravi   \n",
       "\n",
       "                  umpire2        umpire3  \n",
       "706  KN Anantapadmanabhan  C Shamshuddin  "
      ]
     },
     "execution_count": 32,
     "metadata": {},
     "output_type": "execute_result"
    }
   ],
   "source": [
    "all_matches[(all_matches['season']==2019) & (all_matches['winner']=='Sunrisers Hyderabad')]"
   ]
  },
  {
   "cell_type": "code",
   "execution_count": 38,
   "metadata": {},
   "outputs": [
    {
     "data": {
      "text/plain": [
       "batsman\n",
       "J Bairstow         115\n",
       "DA Warner          101\n",
       "C de Grandhomme     37\n",
       "P R Barman          20\n",
       "UT Yadav            15\n",
       "PA Patel            11\n",
       "V Shankar            9\n",
       "S Hetmyer            9\n",
       "YK Pathan            6\n",
       "M Ali                6\n",
       "S Dube               5\n",
       "Mohammed Siraj       5\n",
       "V Kohli              3\n",
       "YS Chahal            1\n",
       "AB de Villiers       1\n",
       "Name: batsman_runs, dtype: int64"
      ]
     },
     "execution_count": 38,
     "metadata": {},
     "output_type": "execute_result"
    }
   ],
   "source": [
    "sub_data[sub_data['match_id']==11147].groupby(['batsman'])['batsman_runs'].sum().sort_values(ascending=False)"
   ]
  },
  {
   "cell_type": "code",
   "execution_count": 39,
   "metadata": {},
   "outputs": [
    {
     "data": {
      "text/plain": [
       "bowler\n",
       "S Sharma           4\n",
       "Mohammad Nabi      4\n",
       "YS Chahal          1\n",
       "Rashid Khan        1\n",
       "Mohammed Siraj     1\n",
       "V Shankar          0\n",
       "UT Yadav           0\n",
       "S Kaul             0\n",
       "P R Barman         0\n",
       "M Ali              0\n",
       "C de Grandhomme    0\n",
       "B Kumar            0\n",
       "Name: player_dismissed, dtype: int64"
      ]
     },
     "execution_count": 39,
     "metadata": {},
     "output_type": "execute_result"
    }
   ],
   "source": [
    "sub_data[sub_data['match_id']==11147].groupby(['bowler'])['player_dismissed'].count().sort_values(ascending=False)"
   ]
  },
  {
   "cell_type": "code",
   "execution_count": 43,
   "metadata": {},
   "outputs": [
    {
     "data": {
      "text/plain": [
       "<matplotlib.axes._subplots.AxesSubplot at 0x1c3abdc4888>"
      ]
     },
     "execution_count": 43,
     "metadata": {},
     "output_type": "execute_result"
    },
    {
     "data": {
      "image/png": "[encoded data removed]",
      "text/plain": [
       "<Figure size 432x288 with 1 Axes>"
      ]
     },
     "metadata": {
      "needs_background": "light"
     },
     "output_type": "display_data"
    }
   ],
   "source": [
    "sub_data[sub_data['season']>2015].groupby('batsman')['batsman_runs'].sum().sort_values(ascending=False).head(10).plot.bar(title='Most runs scored by both team batsmans')"
   ]
  },
  {
   "cell_type": "code",
   "execution_count": 45,
   "metadata": {},
   "outputs": [
    {
     "data": {
      "text/plain": [
       "<matplotlib.axes._subplots.AxesSubplot at 0x1c3abe439c8>"
      ]
     },
     "execution_count": 45,
     "metadata": {},
     "output_type": "execute_result"
    },
    {
     "data": {
      "image/png": "[encoded data removed]",
      "text/plain": [
       "<Figure size 432x288 with 1 Axes>"
      ]
     },
     "metadata": {
      "needs_background": "light"
     },
     "output_type": "display_data"
    }
   ],
   "source": [
    "sub_data[sub_data['season']>2015].groupby('bowler')['player_dismissed'].count().sort_values(ascending=False).head(10).plot.bar(title='Most wickets taken by both team bowlers')"
   ]
  },
  {
   "cell_type": "code",
   "execution_count": 48,
   "metadata": {},
   "outputs": [
    {
     "data": {
      "text/plain": [
       "batsman          bowler      \n",
       "KS Williamson    UT Yadav        64\n",
       "DA Warner        YS Chahal       59\n",
       "BCJ Cutting      SR Watson       48\n",
       "J Bairstow       P R Barman      41\n",
       "AB de Villiers   MC Henriques    38\n",
       "V Kohli          MC Henriques    35\n",
       "S Dhawan         SR Watson       34\n",
       "C de Grandhomme  Rashid Khan     34\n",
       "S Hetmyer        Rashid Khan     33\n",
       "KS Williamson    YS Chahal       32\n",
       "Name: batsman_runs, dtype: int64"
      ]
     },
     "execution_count": 48,
     "metadata": {},
     "output_type": "execute_result"
    }
   ],
   "source": [
    "sub_data[sub_data['season']>2015].groupby(['batsman', 'bowler'])['batsman_runs'].sum().sort_values(ascending=False).head(10)"
   ]
  },
  {
   "cell_type": "code",
   "execution_count": 49,
   "metadata": {},
   "outputs": [
    {
     "data": {
      "text/plain": [
       "bowler             batsman        \n",
       "Rashid Khan        AB de Villiers     2\n",
       "YS Chahal          S Dhawan           2\n",
       "Mustafizur Rahman  SR Watson          2\n",
       "S Aravind          DJ Hooda           1\n",
       "Bipul Sharma       AB de Villiers     1\n",
       "S Kaul             Mandeep Singh      1\n",
       "                   M Ali              1\n",
       "                   C de Grandhomme    1\n",
       "Bipul Sharma       Sachin Baby        1\n",
       "S Aravind          DA Warner          1\n",
       "Name: player_dismissed, dtype: int64"
      ]
     },
     "execution_count": 49,
     "metadata": {},
     "output_type": "execute_result"
    }
   ],
   "source": [
    "sub_data[sub_data['season']>2015].groupby(['bowler', 'batsman'])['player_dismissed'].count().sort_values(ascending=False).head(10)"
   ]
  },
  {
   "cell_type": "code",
   "execution_count": 65,
   "metadata": {},
   "outputs": [
    {
     "data": {
      "text/plain": [
       "<matplotlib.axes._subplots.AxesSubplot at 0x1c3ac1fa408>"
      ]
     },
     "execution_count": 65,
     "metadata": {},
     "output_type": "execute_result"
    },
    {
     "data": {
      "image/png": "[encoded data removed]",
      "text/plain": [
       "<Figure size 432x288 with 1 Axes>"
      ]
     },
     "metadata": {
      "needs_background": "light"
     },
     "output_type": "display_data"
    }
   ],
   "source": [
    "((sub_data[(sub_data['batsman'].isin(['V Kohli', 'AB de Villiers', 'DA Warner', 'J Bairstow', 'MK Pandey', 'KS Williamson', 'WP Saha'])) & (sub_data['season']>2015)].groupby('batsman')['batsman_runs'].sum()/sub_data[sub_data['batsman'].isin(['V Kohli', 'AB de Villiers', 'DA Warner', 'J Bairstow', 'MK Pandey', 'KS Williamson', 'WP Saha'])].groupby('batsman')['ball'].count())*100).plot.bar(title='Strike rate of batsman')"
   ]
  },
  {
   "cell_type": "code",
   "execution_count": 70,
   "metadata": {},
   "outputs": [
    {
     "data": {
      "text/plain": [
       "match_id  bowler           \n",
       "1         Rashid Khan          1.500000\n",
       "          YS Chahal            0.916667\n",
       "481       YS Chahal            1.153846\n",
       "503       YS Chahal            1.333333\n",
       "525       YS Chahal            1.166667\n",
       "568       YS Chahal            2.833333\n",
       "580       YS Chahal            1.692308\n",
       "636       YS Chahal            1.500000\n",
       "7932      Mohammed Siraj       1.120000\n",
       "          Rashid Khan          1.269231\n",
       "          Sandeep Sharma       0.840000\n",
       "          YS Chahal            1.040000\n",
       "7944      Mohammed Siraj       1.920000\n",
       "          Rashid Khan          1.125000\n",
       "          Sandeep Sharma       1.640000\n",
       "          YS Chahal            1.160000\n",
       "11147     Mohammed Siraj       1.666667\n",
       "          Rashid Khan          1.041667\n",
       "          YS Chahal            1.800000\n",
       "11345     Rashid Khan          1.880000\n",
       "          Washington Sundar    1.333333\n",
       "          YS Chahal            1.000000\n",
       "dtype: float64"
      ]
     },
     "execution_count": 70,
     "metadata": {},
     "output_type": "execute_result"
    }
   ],
   "source": [
    "sub_data[(sub_data['bowler'].isin(['Rashid Khan', 'YS Chahal', 'Washington Sundar', 'Mohammed Siraj', 'CH Morris', 'T Natarajan', 'Sandeep Sharma']))].groupby(['match_id', 'bowler'])['total_runs'].sum()/sub_data[(sub_data['bowler'].isin(['Rashid Khan', 'YS Chahal', 'Washington Sundar', 'Mohammed Siraj', 'CH Morris', 'T Natarajan', 'Sandeep Sharma']))].groupby(['match_id', 'bowler'])['ball'].count()"
   ]
  },
  {
   "cell_type": "markdown",
   "metadata": {},
   "source": [
    "### How many runs in total will be scored in the match??"
   ]
  },
  {
   "cell_type": "code",
   "execution_count": 76,
   "metadata": {},
   "outputs": [
    {
     "data": {
      "text/plain": [
       "<matplotlib.axes._subplots.AxesSubplot at 0x1c3ac7b4588>"
      ]
     },
     "execution_count": 76,
     "metadata": {},
     "output_type": "execute_result"
    },
    {
     "data": {
      "image/png": "[encoded data removed]",
      "text/plain": [
       "<Figure size 1080x360 with 2 Axes>"
      ]
     },
     "metadata": {
      "needs_background": "light"
     },
     "output_type": "display_data"
    }
   ],
   "source": [
    "plt.subplot(1, 2, 1)\n",
    "sub_data.groupby(['match_id'])['total_runs'].sum().plot.bar(title='Runs scored in all matches', figsize=(15,5))\n",
    "\n",
    "plt.subplot(1, 2, 2)\n",
    "sub_data.groupby(['match_id'])['total_runs'].sum().plot.box(title='Boxplot distribution of runs scored in all matches')"
   ]
  },
  {
   "cell_type": "code",
   "execution_count": 81,
   "metadata": {},
   "outputs": [
    {
     "data": {
      "text/plain": [
       "<matplotlib.axes._subplots.AxesSubplot at 0x1c3ac86f688>"
      ]
     },
     "execution_count": 81,
     "metadata": {},
     "output_type": "execute_result"
    },
    {
     "data": {
      "image/png": "[encoded data removed]",
      "text/plain": [
       "<Figure size 432x288 with 1 Axes>"
      ]
     },
     "metadata": {
      "needs_background": "light"
     },
     "output_type": "display_data"
    }
   ],
   "source": [
    "sub_data.groupby(['season', 'match_id'])['total_runs'].sum().groupby('season').mean().plot.bar(title='Average runs scored in a match by both teams in diff seasons')"
   ]
  },
  {
   "cell_type": "markdown",
   "metadata": {},
   "source": [
    "### How many balls more or less RCB will take to score total 30 runs from after they reach a team total of 50 as compared to SRH??"
   ]
  },
  {
   "cell_type": "code",
   "execution_count": 82,
   "metadata": {},
   "outputs": [],
   "source": [
    "def Count(df):\n",
    "    balls = 0\n",
    "    runs = 0\n",
    "    for i in df.total_runs:\n",
    "        if runs <= 50 :\n",
    "            runs += i\n",
    "            continue\n",
    "        elif runs > 50:\n",
    "            if runs >= 80:\n",
    "                break\n",
    "            else:\n",
    "                runs += i\n",
    "                balls += 1\n",
    "        elif runs >= 80:\n",
    "            break\n",
    "    return balls"
   ]
  },
  {
   "cell_type": "code",
   "execution_count": 87,
   "metadata": {},
   "outputs": [],
   "source": [
    "def Count_50(df):\n",
    "    balls = 0\n",
    "    runs = 0\n",
    "    for i in df.total_runs:\n",
    "        if runs >= 50:\n",
    "            break\n",
    "        else:\n",
    "            runs += i\n",
    "            balls += 1\n",
    "    return balls"
   ]
  },
  {
   "cell_type": "code",
   "execution_count": 90,
   "metadata": {},
   "outputs": [
    {
     "data": {
      "text/plain": [
       "40"
      ]
     },
     "execution_count": 90,
     "metadata": {},
     "output_type": "execute_result"
    }
   ],
   "source": [
    "round(sub_data.groupby(['match_id', 'batting_team']).apply(Count_50).mean())"
   ]
  },
  {
   "cell_type": "code",
   "execution_count": 86,
   "metadata": {},
   "outputs": [
    {
     "data": {
      "text/html": [
       "<div>\n",
       "<style scoped>\n",
       "    .dataframe tbody tr th:only-of-type {\n",
       "        vertical-align: middle;\n",
       "    }\n",
       "\n",
       "    .dataframe tbody tr th {\n",
       "        vertical-align: top;\n",
       "    }\n",
       "\n",
       "    .dataframe thead th {\n",
       "        text-align: right;\n",
       "    }\n",
       "</style>\n",
       "<table border=\"1\" class=\"dataframe\">\n",
       "  <thead>\n",
       "    <tr style=\"text-align: right;\">\n",
       "      <th></th>\n",
       "      <th>count</th>\n",
       "      <th>mean</th>\n",
       "      <th>std</th>\n",
       "      <th>min</th>\n",
       "      <th>25%</th>\n",
       "      <th>50%</th>\n",
       "      <th>75%</th>\n",
       "      <th>max</th>\n",
       "    </tr>\n",
       "    <tr>\n",
       "      <th>batting_team</th>\n",
       "      <th></th>\n",
       "      <th></th>\n",
       "      <th></th>\n",
       "      <th></th>\n",
       "      <th></th>\n",
       "      <th></th>\n",
       "      <th></th>\n",
       "      <th></th>\n",
       "    </tr>\n",
       "  </thead>\n",
       "  <tbody>\n",
       "    <tr>\n",
       "      <th>Royal Challengers Bangalore</th>\n",
       "      <td>8.0</td>\n",
       "      <td>21.500</td>\n",
       "      <td>4.750940</td>\n",
       "      <td>17.0</td>\n",
       "      <td>17.75</td>\n",
       "      <td>21.0</td>\n",
       "      <td>22.75</td>\n",
       "      <td>31.0</td>\n",
       "    </tr>\n",
       "    <tr>\n",
       "      <th>Sunrisers Hyderabad</th>\n",
       "      <td>8.0</td>\n",
       "      <td>21.875</td>\n",
       "      <td>6.010408</td>\n",
       "      <td>15.0</td>\n",
       "      <td>18.75</td>\n",
       "      <td>20.5</td>\n",
       "      <td>23.25</td>\n",
       "      <td>35.0</td>\n",
       "    </tr>\n",
       "  </tbody>\n",
       "</table>\n",
       "</div>"
      ],
      "text/plain": [
       "                             count    mean       std   min    25%   50%  \\\n",
       "batting_team                                                              \n",
       "Royal Challengers Bangalore    8.0  21.500  4.750940  17.0  17.75  21.0   \n",
       "Sunrisers Hyderabad            8.0  21.875  6.010408  15.0  18.75  20.5   \n",
       "\n",
       "                               75%   max  \n",
       "batting_team                              \n",
       "Royal Challengers Bangalore  22.75  31.0  \n",
       "Sunrisers Hyderabad          23.25  35.0  "
      ]
     },
     "execution_count": 86,
     "metadata": {},
     "output_type": "execute_result"
    }
   ],
   "source": [
    "sub_data[sub_data['season']>2015].groupby(['match_id', 'batting_team']).apply(Count).groupby('batting_team').describe()"
   ]
  },
  {
   "cell_type": "code",
   "execution_count": 97,
   "metadata": {},
   "outputs": [
    {
     "data": {
      "text/plain": [
       "bowler\n",
       "Basil Thampi                  [8, 10, 12]\n",
       "C de Grandhomme                  [12, 10]\n",
       "K Ahmed                               [6]\n",
       "K Khejroliya                       [7, 9]\n",
       "M Ali                         [8, 10, 11]\n",
       "Mohammad Nabi                [6, 8, 7, 9]\n",
       "Mohammed Siraj                    [6, 12]\n",
       "P R Barman                         [7, 9]\n",
       "Rashid Khan            [7, 9, 11, 10, 12]\n",
       "S Kaul                     [6, 12, 9, 11]\n",
       "S Sharma                              [7]\n",
       "Sandeep Sharma                    [8, 10]\n",
       "Shakib Al Hasan                   [10, 9]\n",
       "TG Southee                            [9]\n",
       "UT Yadav                      [7, 12, 11]\n",
       "Washington Sundar                 [8, 10]\n",
       "YS Chahal            [7, 9, 11, 6, 8, 12]\n",
       "Name: over, dtype: object"
      ]
     },
     "execution_count": 97,
     "metadata": {},
     "output_type": "execute_result"
    }
   ],
   "source": [
    "sub_data[(sub_data['over'].isin([6, 7, 8, 9, 10, 11, 12])) & (sub_data['season']>2017)].groupby(['bowler'])['over'].unique()"
   ]
  },
  {
   "cell_type": "markdown",
   "metadata": {},
   "source": [
    "### How many wickets more/less will SRH lose as compared to RCB in the powerplay??"
   ]
  },
  {
   "cell_type": "code",
   "execution_count": 108,
   "metadata": {},
   "outputs": [],
   "source": [
    "sub_data1 = sub_data[(sub_data['over'].isin([1, 2, 3, 4, 5, 6])) & (sub_data['season']>2015)]"
   ]
  },
  {
   "cell_type": "code",
   "execution_count": 109,
   "metadata": {},
   "outputs": [
    {
     "data": {
      "text/plain": [
       "<matplotlib.axes._subplots.AxesSubplot at 0x1c3ace0dec8>"
      ]
     },
     "execution_count": 109,
     "metadata": {},
     "output_type": "execute_result"
    },
    {
     "data": {
      "image/png": "[encoded data removed]",
      "text/plain": [
       "<Figure size 720x360 with 1 Axes>"
      ]
     },
     "metadata": {
      "needs_background": "light"
     },
     "output_type": "display_data"
    }
   ],
   "source": [
    "sub_data1.groupby(['match_id', 'batting_team'])['player_dismissed'].count().plot.bar(title='Wickets lost by both teams in powerplay', figsize=(10, 5))"
   ]
  },
  {
   "cell_type": "code",
   "execution_count": 110,
   "metadata": {},
   "outputs": [
    {
     "data": {
      "text/html": [
       "<div>\n",
       "<style scoped>\n",
       "    .dataframe tbody tr th:only-of-type {\n",
       "        vertical-align: middle;\n",
       "    }\n",
       "\n",
       "    .dataframe tbody tr th {\n",
       "        vertical-align: top;\n",
       "    }\n",
       "\n",
       "    .dataframe thead th {\n",
       "        text-align: right;\n",
       "    }\n",
       "</style>\n",
       "<table border=\"1\" class=\"dataframe\">\n",
       "  <thead>\n",
       "    <tr style=\"text-align: right;\">\n",
       "      <th></th>\n",
       "      <th>count</th>\n",
       "      <th>mean</th>\n",
       "      <th>std</th>\n",
       "      <th>min</th>\n",
       "      <th>25%</th>\n",
       "      <th>50%</th>\n",
       "      <th>75%</th>\n",
       "      <th>max</th>\n",
       "    </tr>\n",
       "    <tr>\n",
       "      <th>batting_team</th>\n",
       "      <th></th>\n",
       "      <th></th>\n",
       "      <th></th>\n",
       "      <th></th>\n",
       "      <th></th>\n",
       "      <th></th>\n",
       "      <th></th>\n",
       "      <th></th>\n",
       "    </tr>\n",
       "  </thead>\n",
       "  <tbody>\n",
       "    <tr>\n",
       "      <th>Royal Challengers Bangalore</th>\n",
       "      <td>8.0</td>\n",
       "      <td>1.500</td>\n",
       "      <td>1.069045</td>\n",
       "      <td>0.0</td>\n",
       "      <td>1.00</td>\n",
       "      <td>1.0</td>\n",
       "      <td>2.25</td>\n",
       "      <td>3.0</td>\n",
       "    </tr>\n",
       "    <tr>\n",
       "      <th>Sunrisers Hyderabad</th>\n",
       "      <td>8.0</td>\n",
       "      <td>0.875</td>\n",
       "      <td>0.640870</td>\n",
       "      <td>0.0</td>\n",
       "      <td>0.75</td>\n",
       "      <td>1.0</td>\n",
       "      <td>1.00</td>\n",
       "      <td>2.0</td>\n",
       "    </tr>\n",
       "  </tbody>\n",
       "</table>\n",
       "</div>"
      ],
      "text/plain": [
       "                             count   mean       std  min   25%  50%   75%  max\n",
       "batting_team                                                                  \n",
       "Royal Challengers Bangalore    8.0  1.500  1.069045  0.0  1.00  1.0  2.25  3.0\n",
       "Sunrisers Hyderabad            8.0  0.875  0.640870  0.0  0.75  1.0  1.00  2.0"
      ]
     },
     "execution_count": 110,
     "metadata": {},
     "output_type": "execute_result"
    }
   ],
   "source": [
    "sub_data1.groupby(['match_id', 'batting_team'])['player_dismissed'].count().groupby('batting_team').describe()"
   ]
  },
  {
   "cell_type": "code",
   "execution_count": 114,
   "metadata": {},
   "outputs": [
    {
     "data": {
      "text/plain": [
       "batting_team                 over  batsman       \n",
       "Royal Challengers Bangalore  1     V Kohli           15\n",
       "                                   PA Patel          14\n",
       "                             2     CH Gayle          14\n",
       "                                   PA Patel          10\n",
       "                             3     V Kohli           16\n",
       "                                   CH Gayle           9\n",
       "                             4     AB de Villiers    13\n",
       "                                   CH Gayle          11\n",
       "                             5     V Kohli           24\n",
       "                                   CH Gayle          10\n",
       "                             6     V Kohli           15\n",
       "                                   AB de Villiers     8\n",
       "Sunrisers Hyderabad          1     S Dhawan          18\n",
       "                                   DA Warner         17\n",
       "                             2     S Dhawan          20\n",
       "                                   DA Warner         18\n",
       "                             3     S Dhawan          16\n",
       "                                   DA Warner         14\n",
       "                             4     S Dhawan          15\n",
       "                                   MC Henriques       7\n",
       "                             5     DA Warner         12\n",
       "                                   KS Williamson      9\n",
       "                             6     S Dhawan          16\n",
       "                                   DA Warner         13\n",
       "Name: batsman, dtype: int64"
      ]
     },
     "execution_count": 114,
     "metadata": {},
     "output_type": "execute_result"
    }
   ],
   "source": [
    "sub_data1.groupby(['batting_team', 'over'])['batsman'].value_counts().groupby(['batting_team', 'over']).head(2)"
   ]
  },
  {
   "cell_type": "code",
   "execution_count": 119,
   "metadata": {},
   "outputs": [
    {
     "data": {
      "text/plain": [
       "bowling_team                 over  bowler           \n",
       "Royal Challengers Bangalore  1     M Ali                12\n",
       "                                   UT Yadav             12\n",
       "                             2     UT Yadav             13\n",
       "                                   SR Watson            12\n",
       "                             3     UT Yadav             12\n",
       "                                   AF Milne              6\n",
       "                             4     YS Chahal            18\n",
       "                                   CH Gayle              6\n",
       "                             5     TG Southee            7\n",
       "                                   HV Patel              6\n",
       "                             6     Mohammed Siraj       12\n",
       "                                   YS Chahal            12\n",
       "Sunrisers Hyderabad          1     B Kumar              19\n",
       "                                   A Nehra              18\n",
       "                             2     B Kumar              25\n",
       "                                   BB Sran               8\n",
       "                             3     B Kumar              19\n",
       "                                   A Nehra              12\n",
       "                             4     B Kumar              20\n",
       "                                   K Ahmed               8\n",
       "                             5     BCJ Cutting          13\n",
       "                                   Rashid Khan          13\n",
       "                             6     Mustafizur Rahman    18\n",
       "                                   S Kaul               12\n",
       "Name: bowler, dtype: int64"
      ]
     },
     "execution_count": 119,
     "metadata": {},
     "output_type": "execute_result"
    }
   ],
   "source": [
    "sub_data1.groupby(['bowling_team', 'over'])['bowler'].value_counts().groupby(['bowling_team', 'over']).head(2)"
   ]
  },
  {
   "cell_type": "code",
   "execution_count": 120,
   "metadata": {},
   "outputs": [
    {
     "data": {
      "text/plain": [
       "bowler             player_dismissed\n",
       "A Choudhary        DA Warner           1\n",
       "B Kumar            AB de Villiers      1\n",
       "                   CH Gayle            1\n",
       "                   PA Patel            1\n",
       "K Ahmed            V Kohli             1\n",
       "KW Richardson      S Dhawan            1\n",
       "Mohammad Nabi      AB de Villiers      1\n",
       "                   PA Patel            1\n",
       "                   S Hetmyer           1\n",
       "Mohammed Siraj     S Dhawan            1\n",
       "Mustafizur Rahman  V Kohli             1\n",
       "N Saini            WP Saha             1\n",
       "Parvez Rasool      S Dhawan            1\n",
       "Rashid Khan        Mandeep Singh       1\n",
       "                   V Kohli             1\n",
       "Sandeep Sharma     PA Patel            1\n",
       "Shakib Al Hasan    PA Patel            1\n",
       "TG Southee         A Hales             1\n",
       "YS Chahal          S Dhawan            1\n",
       "Name: player_dismissed, dtype: int64"
      ]
     },
     "execution_count": 120,
     "metadata": {},
     "output_type": "execute_result"
    }
   ],
   "source": [
    "sub_data1.groupby('bowler')['player_dismissed'].value_counts()"
   ]
  },
  {
   "cell_type": "markdown",
   "metadata": {},
   "source": [
    "### How many dot balls will be bowled in the entire match??"
   ]
  },
  {
   "cell_type": "code",
   "execution_count": 121,
   "metadata": {},
   "outputs": [],
   "source": [
    "sub_data2 = sub_data[(sub_data['total_runs']==0) & (sub_data['season']>2015)]"
   ]
  },
  {
   "cell_type": "code",
   "execution_count": 122,
   "metadata": {},
   "outputs": [
    {
     "data": {
      "text/plain": [
       "<matplotlib.axes._subplots.AxesSubplot at 0x1c3ad21a648>"
      ]
     },
     "execution_count": 122,
     "metadata": {},
     "output_type": "execute_result"
    },
    {
     "data": {
      "image/png": "[encoded data removed]",
      "text/plain": [
       "<Figure size 1080x360 with 2 Axes>"
      ]
     },
     "metadata": {
      "needs_background": "light"
     },
     "output_type": "display_data"
    }
   ],
   "source": [
    "plt.subplot(1, 2, 1)\n",
    "sub_data2.groupby(['match_id'])['ball'].count().plot.bar(title='Dot balls bowled in the match', figsize=(15,5))\n",
    "\n",
    "plt.subplot(1, 2, 2)\n",
    "sub_data2.groupby(['match_id'])['ball'].count().plot.box(title='Boxplot of Dot balls bowled in the match')"
   ]
  },
  {
   "cell_type": "code",
   "execution_count": 126,
   "metadata": {},
   "outputs": [
    {
     "data": {
      "text/plain": [
       "<matplotlib.axes._subplots.AxesSubplot at 0x1c3aed84cc8>"
      ]
     },
     "execution_count": 126,
     "metadata": {},
     "output_type": "execute_result"
    },
    {
     "data": {
      "image/png": "[encoded data removed]",
      "text/plain": [
       "<Figure size 1080x360 with 2 Axes>"
      ]
     },
     "metadata": {
      "needs_background": "light"
     },
     "output_type": "display_data"
    }
   ],
   "source": [
    "plt.subplot(1, 2, 1)\n",
    "sub_data2.groupby(['match_id', 'bowler'])['ball'].count().sort_values(ascending=False).head(10).plot.bar(title='Most dotballs bowled', figsize=(15, 5))\n",
    "\n",
    "plt.subplot(1, 2, 2)\n",
    "sub_data2.groupby(['match_id', 'bowler'])['ball'].count().groupby('bowler').mean().sort_values(ascending=False).head(10).plot.bar(title='Average dotballs bowled by bowlers')"
   ]
  },
  {
   "cell_type": "code",
   "execution_count": 127,
   "metadata": {},
   "outputs": [
    {
     "data": {
      "text/plain": [
       "<matplotlib.axes._subplots.AxesSubplot at 0x1c3aee87408>"
      ]
     },
     "execution_count": 127,
     "metadata": {},
     "output_type": "execute_result"
    },
    {
     "data": {
      "image/png": "[encoded data removed]",
      "text/plain": [
       "<Figure size 1080x360 with 2 Axes>"
      ]
     },
     "metadata": {
      "needs_background": "light"
     },
     "output_type": "display_data"
    }
   ],
   "source": [
    "plt.subplot(1, 2, 1)\n",
    "sub_data2.groupby(['match_id', 'batsman'])['ball'].count().sort_values(ascending=False).head(10).plot.bar(title='Most dotballs faced', figsize=(15, 5))\n",
    "\n",
    "plt.subplot(1, 2, 2)\n",
    "sub_data2.groupby(['match_id', 'batsman'])['ball'].count().groupby('batsman').mean().sort_values(ascending=False).head(10).plot.bar(title='Average dotballs faced by batsman')"
   ]
  }
 ],
 "metadata": {
  "kernelspec": {
   "display_name": "Python 3",
   "language": "python",
   "name": "python3"
  },
  "language_info": {
   "codemirror_mode": {
    "name": "ipython",
    "version": 3
   },
   "file_extension": ".py",
   "mimetype": "text/x-python",
   "name": "python",
   "nbconvert_exporter": "python",
   "pygments_lexer": "ipython3",
   "version": "3.7.6"
  }
 },
 "nbformat": 4,
 "nbformat_minor": 4
}
