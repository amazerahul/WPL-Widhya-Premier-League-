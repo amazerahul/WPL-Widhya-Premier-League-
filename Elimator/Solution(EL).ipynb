{
 "cells": [
  {
   "cell_type": "code",
   "execution_count": 1,
   "metadata": {},
   "outputs": [],
   "source": [
    "import pandas as pd\n",
    "import numpy as np\n",
    "import matplotlib.pyplot as plt\n",
    "import seaborn as sns\n",
    "import warnings\n",
    "warnings.filterwarnings(\"ignore\")"
   ]
  },
  {
   "cell_type": "code",
   "execution_count": 2,
   "metadata": {},
   "outputs": [],
   "source": [
    "matches = pd.read_csv('C:/Users/Hp/Desktop/WPL/matches.csv')\n",
    "deliveries = pd.read_csv('C:/Users/Hp/Desktop/WPL/deliveries.csv')"
   ]
  },
  {
   "cell_type": "code",
   "execution_count": 3,
   "metadata": {},
   "outputs": [],
   "source": [
    "all_matches = matches[(matches['team1'].isin(['Sunrisers Hyderabad', 'Royal Challengers Bangalore'])) & (matches['team2'].isin(['Sunrisers Hyderabad', 'Royal Challengers Bangalore']))]\n",
    "data = pd.merge(matches, deliveries, how = \"inner\", left_on = 'id', right_on = 'match_id')\n",
    "sub_data = data[(data['team1'].isin(['Sunrisers Hyderabad', 'Royal Challengers Bangalore'])) & (data['team2'].isin(['Sunrisers Hyderabad', 'Royal Challengers Bangalore']))]"
   ]
  },
  {
   "cell_type": "markdown",
   "metadata": {},
   "source": [
    "### Who will win the match??"
   ]
  },
  {
   "cell_type": "code",
   "execution_count": 4,
   "metadata": {},
   "outputs": [
    {
     "data": {
      "text/plain": [
       "<matplotlib.axes._subplots.AxesSubplot at 0x169b85a9288>"
      ]
     },
     "execution_count": 4,
     "metadata": {},
     "output_type": "execute_result"
    },
    {
     "data": {
      "image/png": "[encoded data removed]",
      "text/plain": [
       "<Figure size 432x288 with 1 Axes>"
      ]
     },
     "metadata": {
      "needs_background": "light"
     },
     "output_type": "display_data"
    }
   ],
   "source": [
    "all_matches['winner'].value_counts(normalize=True).plot.bar(title='% Win for each team', color=['Orange', 'Red'])"
   ]
  },
  {
   "cell_type": "code",
   "execution_count": 5,
   "metadata": {},
   "outputs": [],
   "source": [
    "eliminator = matches.groupby('season')['id'].unique().apply(lambda x : x[-3])"
   ]
  },
  {
   "cell_type": "code",
   "execution_count": 6,
   "metadata": {},
   "outputs": [],
   "source": [
    "match_id = []\n",
    "for i in eliminator:\n",
    "    match_id.append(i)"
   ]
  },
  {
   "cell_type": "code",
   "execution_count": 7,
   "metadata": {},
   "outputs": [],
   "source": [
    "sub_data1 = matches[matches['id'].isin(match_id)]"
   ]
  },
  {
   "cell_type": "code",
   "execution_count": 8,
   "metadata": {},
   "outputs": [
    {
     "data": {
      "text/plain": [
       "(12, 18)"
      ]
     },
     "execution_count": 8,
     "metadata": {},
     "output_type": "execute_result"
    }
   ],
   "source": [
    "sub_data1.shape"
   ]
  },
  {
   "cell_type": "code",
   "execution_count": 9,
   "metadata": {},
   "outputs": [
    {
     "data": {
      "text/html": [
       "<div>\n",
       "<style scoped>\n",
       "    .dataframe tbody tr th:only-of-type {\n",
       "        vertical-align: middle;\n",
       "    }\n",
       "\n",
       "    .dataframe tbody tr th {\n",
       "        vertical-align: top;\n",
       "    }\n",
       "\n",
       "    .dataframe thead th {\n",
       "        text-align: right;\n",
       "    }\n",
       "</style>\n",
       "<table border=\"1\" class=\"dataframe\">\n",
       "  <thead>\n",
       "    <tr style=\"text-align: right;\">\n",
       "      <th></th>\n",
       "      <th>id</th>\n",
       "      <th>season</th>\n",
       "      <th>city</th>\n",
       "      <th>date</th>\n",
       "      <th>team1</th>\n",
       "      <th>team2</th>\n",
       "      <th>toss_winner</th>\n",
       "      <th>toss_decision</th>\n",
       "      <th>result</th>\n",
       "      <th>dl_applied</th>\n",
       "      <th>winner</th>\n",
       "      <th>win_by_runs</th>\n",
       "      <th>win_by_wickets</th>\n",
       "      <th>player_of_match</th>\n",
       "      <th>venue</th>\n",
       "      <th>umpire1</th>\n",
       "      <th>umpire2</th>\n",
       "      <th>umpire3</th>\n",
       "    </tr>\n",
       "  </thead>\n",
       "  <tbody>\n",
       "    <tr>\n",
       "      <th>56</th>\n",
       "      <td>57</td>\n",
       "      <td>2017</td>\n",
       "      <td>Bangalore</td>\n",
       "      <td>5/17/2017</td>\n",
       "      <td>Sunrisers Hyderabad</td>\n",
       "      <td>Kolkata Knight Riders</td>\n",
       "      <td>Kolkata Knight Riders</td>\n",
       "      <td>field</td>\n",
       "      <td>normal</td>\n",
       "      <td>1</td>\n",
       "      <td>Kolkata Knight Riders</td>\n",
       "      <td>0</td>\n",
       "      <td>7</td>\n",
       "      <td>NM Coulter-Nile</td>\n",
       "      <td>M Chinnaswamy Stadium</td>\n",
       "      <td>AK Chaudhary</td>\n",
       "      <td>Nitin Menon</td>\n",
       "      <td>NaN</td>\n",
       "    </tr>\n",
       "    <tr>\n",
       "      <th>114</th>\n",
       "      <td>115</td>\n",
       "      <td>2008</td>\n",
       "      <td>Mumbai</td>\n",
       "      <td>5/30/2008</td>\n",
       "      <td>Rajasthan Royals</td>\n",
       "      <td>Delhi Capitals</td>\n",
       "      <td>Delhi Capitals</td>\n",
       "      <td>field</td>\n",
       "      <td>normal</td>\n",
       "      <td>0</td>\n",
       "      <td>Rajasthan Royals</td>\n",
       "      <td>105</td>\n",
       "      <td>0</td>\n",
       "      <td>SR Watson</td>\n",
       "      <td>Wankhede Stadium</td>\n",
       "      <td>BF Bowden</td>\n",
       "      <td>RE Koertzen</td>\n",
       "      <td>NaN</td>\n",
       "    </tr>\n",
       "    <tr>\n",
       "      <th>171</th>\n",
       "      <td>172</td>\n",
       "      <td>2009</td>\n",
       "      <td>Centurion</td>\n",
       "      <td>5/22/2009</td>\n",
       "      <td>Delhi Capitals</td>\n",
       "      <td>Deccan Chargers</td>\n",
       "      <td>Deccan Chargers</td>\n",
       "      <td>field</td>\n",
       "      <td>normal</td>\n",
       "      <td>0</td>\n",
       "      <td>Deccan Chargers</td>\n",
       "      <td>0</td>\n",
       "      <td>6</td>\n",
       "      <td>AC Gilchrist</td>\n",
       "      <td>SuperSport Park</td>\n",
       "      <td>BR Doctrove</td>\n",
       "      <td>DJ Harper</td>\n",
       "      <td>NaN</td>\n",
       "    </tr>\n",
       "    <tr>\n",
       "      <th>231</th>\n",
       "      <td>232</td>\n",
       "      <td>2010</td>\n",
       "      <td>Mumbai</td>\n",
       "      <td>4/22/2010</td>\n",
       "      <td>Chennai Super Kings</td>\n",
       "      <td>Deccan Chargers</td>\n",
       "      <td>Chennai Super Kings</td>\n",
       "      <td>bat</td>\n",
       "      <td>normal</td>\n",
       "      <td>0</td>\n",
       "      <td>Chennai Super Kings</td>\n",
       "      <td>38</td>\n",
       "      <td>0</td>\n",
       "      <td>DE Bollinger</td>\n",
       "      <td>Dr DY Patil Sports Academy</td>\n",
       "      <td>BR Doctrove</td>\n",
       "      <td>RB Tiffin</td>\n",
       "      <td>NaN</td>\n",
       "    </tr>\n",
       "    <tr>\n",
       "      <th>304</th>\n",
       "      <td>305</td>\n",
       "      <td>2011</td>\n",
       "      <td>Mumbai</td>\n",
       "      <td>5/25/2011</td>\n",
       "      <td>Kolkata Knight Riders</td>\n",
       "      <td>Mumbai Indians</td>\n",
       "      <td>Mumbai Indians</td>\n",
       "      <td>field</td>\n",
       "      <td>normal</td>\n",
       "      <td>0</td>\n",
       "      <td>Mumbai Indians</td>\n",
       "      <td>0</td>\n",
       "      <td>4</td>\n",
       "      <td>MM Patel</td>\n",
       "      <td>Wankhede Stadium</td>\n",
       "      <td>Asad Rauf</td>\n",
       "      <td>SJA Taufel</td>\n",
       "      <td>NaN</td>\n",
       "    </tr>\n",
       "  </tbody>\n",
       "</table>\n",
       "</div>"
      ],
      "text/plain": [
       "      id  season       city       date                  team1  \\\n",
       "56    57    2017  Bangalore  5/17/2017    Sunrisers Hyderabad   \n",
       "114  115    2008     Mumbai  5/30/2008       Rajasthan Royals   \n",
       "171  172    2009  Centurion  5/22/2009         Delhi Capitals   \n",
       "231  232    2010     Mumbai  4/22/2010    Chennai Super Kings   \n",
       "304  305    2011     Mumbai  5/25/2011  Kolkata Knight Riders   \n",
       "\n",
       "                     team2            toss_winner toss_decision  result  \\\n",
       "56   Kolkata Knight Riders  Kolkata Knight Riders         field  normal   \n",
       "114         Delhi Capitals         Delhi Capitals         field  normal   \n",
       "171        Deccan Chargers        Deccan Chargers         field  normal   \n",
       "231        Deccan Chargers    Chennai Super Kings           bat  normal   \n",
       "304         Mumbai Indians         Mumbai Indians         field  normal   \n",
       "\n",
       "     dl_applied                 winner  win_by_runs  win_by_wickets  \\\n",
       "56            1  Kolkata Knight Riders            0               7   \n",
       "114           0       Rajasthan Royals          105               0   \n",
       "171           0        Deccan Chargers            0               6   \n",
       "231           0    Chennai Super Kings           38               0   \n",
       "304           0         Mumbai Indians            0               4   \n",
       "\n",
       "     player_of_match                       venue       umpire1      umpire2  \\\n",
       "56   NM Coulter-Nile       M Chinnaswamy Stadium  AK Chaudhary  Nitin Menon   \n",
       "114        SR Watson            Wankhede Stadium     BF Bowden  RE Koertzen   \n",
       "171     AC Gilchrist             SuperSport Park   BR Doctrove    DJ Harper   \n",
       "231     DE Bollinger  Dr DY Patil Sports Academy   BR Doctrove    RB Tiffin   \n",
       "304         MM Patel            Wankhede Stadium     Asad Rauf   SJA Taufel   \n",
       "\n",
       "    umpire3  \n",
       "56      NaN  \n",
       "114     NaN  \n",
       "171     NaN  \n",
       "231     NaN  \n",
       "304     NaN  "
      ]
     },
     "execution_count": 9,
     "metadata": {},
     "output_type": "execute_result"
    }
   ],
   "source": [
    "sub_data1.head()"
   ]
  },
  {
   "cell_type": "code",
   "execution_count": 10,
   "metadata": {},
   "outputs": [
    {
     "data": {
      "text/plain": [
       "<matplotlib.axes._subplots.AxesSubplot at 0x169b8df2f88>"
      ]
     },
     "execution_count": 10,
     "metadata": {},
     "output_type": "execute_result"
    },
    {
     "data": {
      "image/png": "[encoded data removed]",
      "text/plain": [
       "<Figure size 432x288 with 1 Axes>"
      ]
     },
     "metadata": {
      "needs_background": "light"
     },
     "output_type": "display_data"
    }
   ],
   "source": [
    "sub_data1['winner'].value_counts(normalize=True).plot.bar(title='Winning % of each in eliminator', color=['Yellow', 'Pink', 'Purple', 'Red', 'Darkblue', 'Orange', 'Blue', 'Brown'])"
   ]
  },
  {
   "cell_type": "code",
   "execution_count": 11,
   "metadata": {},
   "outputs": [
    {
     "data": {
      "text/html": [
       "<div>\n",
       "<style scoped>\n",
       "    .dataframe tbody tr th:only-of-type {\n",
       "        vertical-align: middle;\n",
       "    }\n",
       "\n",
       "    .dataframe tbody tr th {\n",
       "        vertical-align: top;\n",
       "    }\n",
       "\n",
       "    .dataframe thead th {\n",
       "        text-align: right;\n",
       "    }\n",
       "</style>\n",
       "<table border=\"1\" class=\"dataframe\">\n",
       "  <thead>\n",
       "    <tr style=\"text-align: right;\">\n",
       "      <th></th>\n",
       "      <th>id</th>\n",
       "      <th>season</th>\n",
       "      <th>city</th>\n",
       "      <th>date</th>\n",
       "      <th>team1</th>\n",
       "      <th>team2</th>\n",
       "      <th>toss_winner</th>\n",
       "      <th>toss_decision</th>\n",
       "      <th>result</th>\n",
       "      <th>dl_applied</th>\n",
       "      <th>winner</th>\n",
       "      <th>win_by_runs</th>\n",
       "      <th>win_by_wickets</th>\n",
       "      <th>player_of_match</th>\n",
       "      <th>venue</th>\n",
       "      <th>umpire1</th>\n",
       "      <th>umpire2</th>\n",
       "      <th>umpire3</th>\n",
       "    </tr>\n",
       "  </thead>\n",
       "  <tbody>\n",
       "    <tr>\n",
       "      <th>56</th>\n",
       "      <td>57</td>\n",
       "      <td>2017</td>\n",
       "      <td>Bangalore</td>\n",
       "      <td>5/17/2017</td>\n",
       "      <td>Sunrisers Hyderabad</td>\n",
       "      <td>Kolkata Knight Riders</td>\n",
       "      <td>Kolkata Knight Riders</td>\n",
       "      <td>field</td>\n",
       "      <td>normal</td>\n",
       "      <td>1</td>\n",
       "      <td>Kolkata Knight Riders</td>\n",
       "      <td>0</td>\n",
       "      <td>7</td>\n",
       "      <td>NM Coulter-Nile</td>\n",
       "      <td>M Chinnaswamy Stadium</td>\n",
       "      <td>AK Chaudhary</td>\n",
       "      <td>Nitin Menon</td>\n",
       "      <td>NaN</td>\n",
       "    </tr>\n",
       "    <tr>\n",
       "      <th>454</th>\n",
       "      <td>455</td>\n",
       "      <td>2013</td>\n",
       "      <td>Delhi</td>\n",
       "      <td>5/22/2013</td>\n",
       "      <td>Sunrisers Hyderabad</td>\n",
       "      <td>Rajasthan Royals</td>\n",
       "      <td>Sunrisers Hyderabad</td>\n",
       "      <td>bat</td>\n",
       "      <td>normal</td>\n",
       "      <td>0</td>\n",
       "      <td>Rajasthan Royals</td>\n",
       "      <td>0</td>\n",
       "      <td>4</td>\n",
       "      <td>BJ Hodge</td>\n",
       "      <td>Feroz Shah Kotla</td>\n",
       "      <td>S Ravi</td>\n",
       "      <td>RJ Tucker</td>\n",
       "      <td>NaN</td>\n",
       "    </tr>\n",
       "    <tr>\n",
       "      <th>573</th>\n",
       "      <td>574</td>\n",
       "      <td>2015</td>\n",
       "      <td>Pune</td>\n",
       "      <td>5/20/2015</td>\n",
       "      <td>Royal Challengers Bangalore</td>\n",
       "      <td>Rajasthan Royals</td>\n",
       "      <td>Royal Challengers Bangalore</td>\n",
       "      <td>bat</td>\n",
       "      <td>normal</td>\n",
       "      <td>0</td>\n",
       "      <td>Royal Challengers Bangalore</td>\n",
       "      <td>71</td>\n",
       "      <td>0</td>\n",
       "      <td>AB de Villiers</td>\n",
       "      <td>Maharashtra Cricket Association Stadium</td>\n",
       "      <td>AK Chaudhary</td>\n",
       "      <td>C Shamshuddin</td>\n",
       "      <td>NaN</td>\n",
       "    </tr>\n",
       "    <tr>\n",
       "      <th>633</th>\n",
       "      <td>634</td>\n",
       "      <td>2016</td>\n",
       "      <td>Delhi</td>\n",
       "      <td>5/25/2016</td>\n",
       "      <td>Sunrisers Hyderabad</td>\n",
       "      <td>Kolkata Knight Riders</td>\n",
       "      <td>Kolkata Knight Riders</td>\n",
       "      <td>field</td>\n",
       "      <td>normal</td>\n",
       "      <td>0</td>\n",
       "      <td>Sunrisers Hyderabad</td>\n",
       "      <td>22</td>\n",
       "      <td>0</td>\n",
       "      <td>MC Henriques</td>\n",
       "      <td>Feroz Shah Kotla</td>\n",
       "      <td>M Erasmus</td>\n",
       "      <td>C Shamshuddin</td>\n",
       "      <td>NaN</td>\n",
       "    </tr>\n",
       "    <tr>\n",
       "      <th>753</th>\n",
       "      <td>11413</td>\n",
       "      <td>2019</td>\n",
       "      <td>Visakhapatnam</td>\n",
       "      <td>8/5/2019</td>\n",
       "      <td>Sunrisers Hyderabad</td>\n",
       "      <td>Delhi Capitals</td>\n",
       "      <td>Delhi Capitals</td>\n",
       "      <td>field</td>\n",
       "      <td>normal</td>\n",
       "      <td>0</td>\n",
       "      <td>Delhi Capitals</td>\n",
       "      <td>0</td>\n",
       "      <td>2</td>\n",
       "      <td>RR Pant</td>\n",
       "      <td>ACA-VDCA Stadium</td>\n",
       "      <td>NaN</td>\n",
       "      <td>NaN</td>\n",
       "      <td>NaN</td>\n",
       "    </tr>\n",
       "  </tbody>\n",
       "</table>\n",
       "</div>"
      ],
      "text/plain": [
       "        id  season           city       date                        team1  \\\n",
       "56      57    2017      Bangalore  5/17/2017          Sunrisers Hyderabad   \n",
       "454    455    2013          Delhi  5/22/2013          Sunrisers Hyderabad   \n",
       "573    574    2015           Pune  5/20/2015  Royal Challengers Bangalore   \n",
       "633    634    2016          Delhi  5/25/2016          Sunrisers Hyderabad   \n",
       "753  11413    2019  Visakhapatnam   8/5/2019          Sunrisers Hyderabad   \n",
       "\n",
       "                     team2                  toss_winner toss_decision  result  \\\n",
       "56   Kolkata Knight Riders        Kolkata Knight Riders         field  normal   \n",
       "454       Rajasthan Royals          Sunrisers Hyderabad           bat  normal   \n",
       "573       Rajasthan Royals  Royal Challengers Bangalore           bat  normal   \n",
       "633  Kolkata Knight Riders        Kolkata Knight Riders         field  normal   \n",
       "753         Delhi Capitals               Delhi Capitals         field  normal   \n",
       "\n",
       "     dl_applied                       winner  win_by_runs  win_by_wickets  \\\n",
       "56            1        Kolkata Knight Riders            0               7   \n",
       "454           0             Rajasthan Royals            0               4   \n",
       "573           0  Royal Challengers Bangalore           71               0   \n",
       "633           0          Sunrisers Hyderabad           22               0   \n",
       "753           0               Delhi Capitals            0               2   \n",
       "\n",
       "     player_of_match                                    venue       umpire1  \\\n",
       "56   NM Coulter-Nile                    M Chinnaswamy Stadium  AK Chaudhary   \n",
       "454         BJ Hodge                         Feroz Shah Kotla        S Ravi   \n",
       "573   AB de Villiers  Maharashtra Cricket Association Stadium  AK Chaudhary   \n",
       "633     MC Henriques                         Feroz Shah Kotla     M Erasmus   \n",
       "753          RR Pant                         ACA-VDCA Stadium           NaN   \n",
       "\n",
       "           umpire2 umpire3  \n",
       "56     Nitin Menon     NaN  \n",
       "454      RJ Tucker     NaN  \n",
       "573  C Shamshuddin     NaN  \n",
       "633  C Shamshuddin     NaN  \n",
       "753            NaN     NaN  "
      ]
     },
     "execution_count": 11,
     "metadata": {},
     "output_type": "execute_result"
    }
   ],
   "source": [
    "sub_data1[(sub_data1['team1'].isin(['Sunrisers Hyderabad', 'Royal Challengers Bangalore'])) | (sub_data1['team2'].isin(['Sunrisers Hyderabad', 'Royal Challengers Bangalore']))]"
   ]
  },
  {
   "cell_type": "code",
   "execution_count": 12,
   "metadata": {},
   "outputs": [
    {
     "data": {
      "text/plain": [
       "<matplotlib.axes._subplots.AxesSubplot at 0x169b8e843c8>"
      ]
     },
     "execution_count": 12,
     "metadata": {},
     "output_type": "execute_result"
    },
    {
     "data": {
      "image/png": "[encoded data removed]",
      "text/plain": [
       "<Figure size 432x288 with 1 Axes>"
      ]
     },
     "metadata": {
      "needs_background": "light"
     },
     "output_type": "display_data"
    }
   ],
   "source": [
    "sub_data[sub_data['season']>2015].groupby(['batsman'])['batsman_runs'].sum().sort_values(ascending=False).head(10).plot.bar(title='Most runs scored batsmans')"
   ]
  },
  {
   "cell_type": "code",
   "execution_count": 13,
   "metadata": {},
   "outputs": [
    {
     "data": {
      "text/plain": [
       "<matplotlib.axes._subplots.AxesSubplot at 0x169b8f06b48>"
      ]
     },
     "execution_count": 13,
     "metadata": {},
     "output_type": "execute_result"
    },
    {
     "data": {
      "image/png": "[encoded data removed]",
      "text/plain": [
       "<Figure size 432x288 with 1 Axes>"
      ]
     },
     "metadata": {
      "needs_background": "light"
     },
     "output_type": "display_data"
    }
   ],
   "source": [
    "sub_data[sub_data['season']>2015].groupby('bowler')['player_dismissed'].count().sort_values(ascending=False).head(10).plot.bar(title='Most wicket taken bowlers')"
   ]
  },
  {
   "cell_type": "markdown",
   "metadata": {},
   "source": [
    "### Sandeep Sharma Economy Rate and Boundaries conceded"
   ]
  },
  {
   "cell_type": "code",
   "execution_count": 14,
   "metadata": {},
   "outputs": [],
   "source": [
    "sub_data2 = sub_data[sub_data['bowler']=='Sandeep Sharma']"
   ]
  },
  {
   "cell_type": "code",
   "execution_count": 15,
   "metadata": {},
   "outputs": [
    {
     "data": {
      "text/plain": [
       "<matplotlib.axes._subplots.AxesSubplot at 0x169b8f9d448>"
      ]
     },
     "execution_count": 15,
     "metadata": {},
     "output_type": "execute_result"
    },
    {
     "data": {
      "image/png": "[encoded data removed]",
      "text/plain": [
       "<Figure size 432x288 with 1 Axes>"
      ]
     },
     "metadata": {
      "needs_background": "light"
     },
     "output_type": "display_data"
    }
   ],
   "source": [
    "(sub_data2.groupby(['match_id'])['total_runs'].sum()/sub_data2.groupby(['match_id'])['over'].unique().apply(lambda x : len(x))).plot.bar(title='Sandeep Sharma Strike rate against RCB')"
   ]
  },
  {
   "cell_type": "code",
   "execution_count": 16,
   "metadata": {},
   "outputs": [
    {
     "data": {
      "text/plain": [
       "<matplotlib.axes._subplots.AxesSubplot at 0x169b9003108>"
      ]
     },
     "execution_count": 16,
     "metadata": {},
     "output_type": "execute_result"
    },
    {
     "data": {
      "image/png": "[encoded data removed]",
      "text/plain": [
       "<Figure size 432x288 with 1 Axes>"
      ]
     },
     "metadata": {
      "needs_background": "light"
     },
     "output_type": "display_data"
    }
   ],
   "source": [
    "sub_data2[sub_data2['total_runs'].isin([4, 5, 6, 7])].groupby(['match_id'])['ball'].count().plot.bar(title='Boundaries given in all matches against RCB')"
   ]
  },
  {
   "cell_type": "code",
   "execution_count": 17,
   "metadata": {},
   "outputs": [],
   "source": [
    "sub_data3 = data[data['bowler']=='Sandeep Sharma']"
   ]
  },
  {
   "cell_type": "code",
   "execution_count": 18,
   "metadata": {},
   "outputs": [
    {
     "data": {
      "text/plain": [
       "<matplotlib.axes._subplots.AxesSubplot at 0x169b9070d88>"
      ]
     },
     "execution_count": 18,
     "metadata": {},
     "output_type": "execute_result"
    },
    {
     "data": {
      "image/png": "[encoded data removed]",
      "text/plain": [
       "<Figure size 1080x360 with 1 Axes>"
      ]
     },
     "metadata": {
      "needs_background": "light"
     },
     "output_type": "display_data"
    }
   ],
   "source": [
    "(sub_data3.groupby(['match_id'])['total_runs'].sum()/sub_data3.groupby(['match_id'])['over'].unique().apply(lambda x : len(x))).plot.bar(title='Sandeep Sharma Strike rate against all teams', figsize=(15,5))"
   ]
  },
  {
   "cell_type": "code",
   "execution_count": 19,
   "metadata": {},
   "outputs": [
    {
     "data": {
      "text/plain": [
       "<matplotlib.axes._subplots.AxesSubplot at 0x169b9532508>"
      ]
     },
     "execution_count": 19,
     "metadata": {},
     "output_type": "execute_result"
    },
    {
     "data": {
      "image/png": "[encoded data removed]",
      "text/plain": [
       "<Figure size 432x288 with 1 Axes>"
      ]
     },
     "metadata": {
      "needs_background": "light"
     },
     "output_type": "display_data"
    }
   ],
   "source": [
    "(sub_data3.groupby(['match_id'])['total_runs'].sum()/sub_data3.groupby(['match_id'])['over'].unique().apply(lambda x : len(x))).plot.box(title='Boxplot distribution of Sandeep Sharma Strike rate against all teams')"
   ]
  },
  {
   "cell_type": "code",
   "execution_count": 20,
   "metadata": {},
   "outputs": [
    {
     "data": {
      "text/plain": [
       "<matplotlib.axes._subplots.AxesSubplot at 0x169b9259288>"
      ]
     },
     "execution_count": 20,
     "metadata": {},
     "output_type": "execute_result"
    },
    {
     "data": {
      "image/png": "[encoded data removed]",
      "text/plain": [
       "<Figure size 1080x360 with 1 Axes>"
      ]
     },
     "metadata": {
      "needs_background": "light"
     },
     "output_type": "display_data"
    }
   ],
   "source": [
    "sub_data3[sub_data3['total_runs'].isin([4, 5, 6, 7])].groupby(['match_id'])['ball'].count().plot.bar(title='Boundaries given in all matches against all teams', figsize=(15, 5))"
   ]
  },
  {
   "cell_type": "code",
   "execution_count": 21,
   "metadata": {},
   "outputs": [
    {
     "data": {
      "text/plain": [
       "<matplotlib.axes._subplots.AxesSubplot at 0x169b978a4c8>"
      ]
     },
     "execution_count": 21,
     "metadata": {},
     "output_type": "execute_result"
    },
    {
     "data": {
      "image/png": "[encoded data removed]",
      "text/plain": [
       "<Figure size 432x288 with 1 Axes>"
      ]
     },
     "metadata": {
      "needs_background": "light"
     },
     "output_type": "display_data"
    }
   ],
   "source": [
    "sub_data3[sub_data3['total_runs'].isin([4, 5, 6, 7])].groupby(['match_id'])['ball'].count().plot.box(title='Boxplot distribution of boundaries given in all matches against all teams')"
   ]
  },
  {
   "cell_type": "markdown",
   "metadata": {},
   "source": [
    "### Batsman with strike rate above 130 and hit more than 3 boundaries"
   ]
  },
  {
   "cell_type": "code",
   "execution_count": 22,
   "metadata": {},
   "outputs": [],
   "source": [
    "def Repeat(df, filters):\n",
    "    for i, j in filters:\n",
    "        df = df.drop(df[(df['match_id']==i) & (df['bowler']==j)].index)\n",
    "    return df"
   ]
  },
  {
   "cell_type": "code",
   "execution_count": 23,
   "metadata": {},
   "outputs": [],
   "source": [
    "def Power_hitter(df):\n",
    "    balls_faced = pd.DataFrame(df.groupby(['match_id', 'batsman'])['ball'].count())\n",
    "    balls_faced_index = balls_faced[balls_faced['ball']<=10].index\n",
    "    df = Repeat(df, balls_faced_index)\n",
    "    \n",
    "    strike_rate = pd.DataFrame((df.groupby(['match_id', 'batsman'])['batsman_runs'].sum()/df.groupby(['match_id', 'batsman'])['ball'].count())*100)\n",
    "    strike_index = strike_rate[strike_rate[0]<=130].index\n",
    "    df = Repeat(df, strike_index)\n",
    "    \n",
    "    boundaries_hit = pd.DataFrame(df[df['batsman_runs'].isin([4, 5, 6, 7])].groupby(['match_id', 'batsman'])['batsman_runs'].value_counts())\n",
    "    boundaries_hit.rename(columns={'batsman_runs' : 'boundaries_hit'}, inplace=True)\n",
    "    boundaries_hit.reset_index(inplace=True)\n",
    "    boundaries_hit_index = boundaries_hit[(boundaries_hit['batsman_runs'].isin([4, 5])) & (boundaries_hit['boundaries_hit']<2)].set_index(['match_id', 'batsman']).index\n",
    "    \n",
    "    total_boundaries = pd.DataFrame(boundaries_hit.groupby(['match_id', 'batsman'])['boundaries_hit'].sum())\n",
    "    total_boundaries_hit_index = total_boundaries[total_boundaries['boundaries_hit']<=3].index\n",
    "    df = Repeat(df, total_boundaries_hit_index)\n",
    "    df = Repeat(df, boundaries_hit_index)\n",
    "    \n",
    "    return df"
   ]
  },
  {
   "cell_type": "code",
   "execution_count": 24,
   "metadata": {},
   "outputs": [],
   "source": [
    "sub_data4 = Power_hitter(sub_data.copy())"
   ]
  },
  {
   "cell_type": "code",
   "execution_count": 27,
   "metadata": {},
   "outputs": [
    {
     "data": {
      "text/plain": [
       "batsman\n",
       "SN Khan       318.750000\n",
       "AJ Finch      225.000000\n",
       "TS Mills      200.000000\n",
       "AN Ahmed      200.000000\n",
       "VR Aaron      200.000000\n",
       "WP Saha       195.555556\n",
       "MJ Guptill    183.333333\n",
       "DA Warner     173.648990\n",
       "KM Jadhav     171.428571\n",
       "S Rana        171.428571\n",
       "dtype: float64"
      ]
     },
     "execution_count": 27,
     "metadata": {},
     "output_type": "execute_result"
    }
   ],
   "source": [
    "((sub_data4.groupby(['match_id', 'batsman'])['batsman_runs'].sum()/sub_data4.groupby(['match_id', 'batsman'])['ball'].count())*100).groupby('batsman').mean().sort_values(ascending=False).head(10)"
   ]
  },
  {
   "cell_type": "markdown",
   "metadata": {},
   "source": [
    "### (# runs scored of boundaries - # runs scored of 1s, 2s or 3s) / total runs _scored"
   ]
  },
  {
   "cell_type": "code",
   "execution_count": 29,
   "metadata": {},
   "outputs": [],
   "source": [
    "dummy = pd.DataFrame(sub_data.groupby(['match_id', 'batsman'])['ball'].count())"
   ]
  },
  {
   "cell_type": "code",
   "execution_count": 31,
   "metadata": {},
   "outputs": [],
   "source": [
    "index = dummy[dummy['ball']<=10].index"
   ]
  },
  {
   "cell_type": "code",
   "execution_count": 32,
   "metadata": {},
   "outputs": [],
   "source": [
    "sub_data5 = sub_data.copy()"
   ]
  },
  {
   "cell_type": "code",
   "execution_count": 33,
   "metadata": {},
   "outputs": [],
   "source": [
    "for i, j in index:\n",
    "    sub_data5.drop(sub_data5[(sub_data5['match_id']==i) & (sub_data5['bowler']==j)].index, inplace=True)"
   ]
  },
  {
   "cell_type": "code",
   "execution_count": 42,
   "metadata": {},
   "outputs": [
    {
     "data": {
      "text/plain": [
       "<matplotlib.axes._subplots.AxesSubplot at 0x169b999c4c8>"
      ]
     },
     "execution_count": 42,
     "metadata": {},
     "output_type": "execute_result"
    },
    {
     "data": {
      "image/png": "[encoded data removed]",
      "text/plain": [
       "<Figure size 432x288 with 1 Axes>"
      ]
     },
     "metadata": {
      "needs_background": "light"
     },
     "output_type": "display_data"
    }
   ],
   "source": [
    "((sub_data5[sub_data5['batsman_runs'].isin([4, 5, 6, 7])].groupby(['match_id', 'batsman'])['batsman_runs'].sum() - sub_data5[sub_data5['batsman_runs'].isin([1, 2, 3])].groupby(['match_id', 'batsman'])['batsman_runs'].sum()) / (sub_data5.groupby(['match_id', 'batsman'])['batsman_runs'].sum())).groupby('batsman').mean().sort_values(ascending=False).head(20).plot.bar(title='Score for each batsman')"
   ]
  },
  {
   "cell_type": "markdown",
   "metadata": {},
   "source": [
    "### Wickets lose in the powerplay"
   ]
  },
  {
   "cell_type": "code",
   "execution_count": 40,
   "metadata": {},
   "outputs": [
    {
     "data": {
      "text/plain": [
       "<matplotlib.axes._subplots.AxesSubplot at 0x169b9703a88>"
      ]
     },
     "execution_count": 40,
     "metadata": {},
     "output_type": "execute_result"
    },
    {
     "data": {
      "image/png": "[encoded data removed]",
      "text/plain": [
       "<Figure size 1080x360 with 1 Axes>"
      ]
     },
     "metadata": {
      "needs_background": "light"
     },
     "output_type": "display_data"
    }
   ],
   "source": [
    "sub_data[sub_data['over'].isin([1, 2, 3, 4, 5, 6])].groupby(['match_id'])['player_dismissed'].count().plot.bar(title='Wickets lost in every match in first 6 overs', figsize=(15,5))"
   ]
  },
  {
   "cell_type": "code",
   "execution_count": 41,
   "metadata": {},
   "outputs": [
    {
     "data": {
      "text/plain": [
       "<matplotlib.axes._subplots.AxesSubplot at 0x169b992f288>"
      ]
     },
     "execution_count": 41,
     "metadata": {},
     "output_type": "execute_result"
    },
    {
     "data": {
      "image/png": "[encoded data removed]",
      "text/plain": [
       "<Figure size 432x288 with 1 Axes>"
      ]
     },
     "metadata": {
      "needs_background": "light"
     },
     "output_type": "display_data"
    }
   ],
   "source": [
    "sub_data[sub_data['over'].isin([1, 2, 3, 4, 5, 6])].groupby(['match_id'])['player_dismissed'].count().plot.box(title='Wickets lost in every match in first 6 overs')"
   ]
  }
 ],
 "metadata": {
  "kernelspec": {
   "display_name": "Python 3",
   "language": "python",
   "name": "python3"
  },
  "language_info": {
   "codemirror_mode": {
    "name": "ipython",
    "version": 3
   },
   "file_extension": ".py",
   "mimetype": "text/x-python",
   "name": "python",
   "nbconvert_exporter": "python",
   "pygments_lexer": "ipython3",
   "version": "3.7.6"
  }
 },
 "nbformat": 4,
 "nbformat_minor": 4
}
