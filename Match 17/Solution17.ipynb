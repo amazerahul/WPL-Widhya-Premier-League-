{
 "cells": [
  {
   "cell_type": "code",
   "execution_count": 1,
   "metadata": {},
   "outputs": [],
   "source": [
    "import pandas as pd\n",
    "import numpy as np\n",
    "import matplotlib.pyplot as plt\n",
    "import seaborn as sns\n",
    "import warnings \n",
    "warnings.filterwarnings(\"ignore\")"
   ]
  },
  {
   "cell_type": "code",
   "execution_count": 2,
   "metadata": {},
   "outputs": [],
   "source": [
    "matches = pd.read_csv('C:/Users/Hp/Desktop/WPL/matches.csv')\n",
    "deliveries = pd.read_csv('C:/Users/Hp/Desktop/WPL/deliveries.csv')"
   ]
  },
  {
   "cell_type": "code",
   "execution_count": 3,
   "metadata": {},
   "outputs": [],
   "source": [
    "all_matches = matches[(matches['team1'].isin(['Sunrisers Hyderabad', 'Delhi Capitals'])) & (matches['team2'].isin(['Sunrisers Hyderabad', 'Delhi Capitals']))]"
   ]
  },
  {
   "cell_type": "code",
   "execution_count": 4,
   "metadata": {},
   "outputs": [],
   "source": [
    "data = pd.merge(matches, deliveries, how = \"inner\", left_on = 'id', right_on = 'match_id')"
   ]
  },
  {
   "cell_type": "code",
   "execution_count": 5,
   "metadata": {},
   "outputs": [],
   "source": [
    "sub_data = data[(data['team1'].isin(['Sunrisers Hyderabad', 'Delhi Capitals'])) & (data['team2'].isin(['Sunrisers Hyderabad', 'Delhi Capitals']))]"
   ]
  },
  {
   "cell_type": "markdown",
   "metadata": {},
   "source": [
    "### Who will win the match??"
   ]
  },
  {
   "cell_type": "code",
   "execution_count": 6,
   "metadata": {},
   "outputs": [
    {
     "data": {
      "text/html": [
       "<div>\n",
       "<style scoped>\n",
       "    .dataframe tbody tr th:only-of-type {\n",
       "        vertical-align: middle;\n",
       "    }\n",
       "\n",
       "    .dataframe tbody tr th {\n",
       "        vertical-align: top;\n",
       "    }\n",
       "\n",
       "    .dataframe thead th {\n",
       "        text-align: right;\n",
       "    }\n",
       "</style>\n",
       "<table border=\"1\" class=\"dataframe\">\n",
       "  <thead>\n",
       "    <tr style=\"text-align: right;\">\n",
       "      <th></th>\n",
       "      <th>id</th>\n",
       "      <th>season</th>\n",
       "      <th>city</th>\n",
       "      <th>date</th>\n",
       "      <th>team1</th>\n",
       "      <th>team2</th>\n",
       "      <th>toss_winner</th>\n",
       "      <th>toss_decision</th>\n",
       "      <th>result</th>\n",
       "      <th>dl_applied</th>\n",
       "      <th>winner</th>\n",
       "      <th>win_by_runs</th>\n",
       "      <th>win_by_wickets</th>\n",
       "      <th>player_of_match</th>\n",
       "      <th>venue</th>\n",
       "      <th>umpire1</th>\n",
       "      <th>umpire2</th>\n",
       "      <th>umpire3</th>\n",
       "    </tr>\n",
       "  </thead>\n",
       "  <tbody>\n",
       "    <tr>\n",
       "      <th>20</th>\n",
       "      <td>21</td>\n",
       "      <td>2017</td>\n",
       "      <td>Hyderabad</td>\n",
       "      <td>4/19/2017</td>\n",
       "      <td>Sunrisers Hyderabad</td>\n",
       "      <td>Delhi Capitals</td>\n",
       "      <td>Sunrisers Hyderabad</td>\n",
       "      <td>bat</td>\n",
       "      <td>normal</td>\n",
       "      <td>0</td>\n",
       "      <td>Sunrisers Hyderabad</td>\n",
       "      <td>15</td>\n",
       "      <td>0</td>\n",
       "      <td>KS Williamson</td>\n",
       "      <td>Rajiv Gandhi International Stadium, Uppal</td>\n",
       "      <td>CB Gaffaney</td>\n",
       "      <td>NJ Llong</td>\n",
       "      <td>NaN</td>\n",
       "    </tr>\n",
       "    <tr>\n",
       "      <th>38</th>\n",
       "      <td>39</td>\n",
       "      <td>2017</td>\n",
       "      <td>Delhi</td>\n",
       "      <td>5/2/2017</td>\n",
       "      <td>Sunrisers Hyderabad</td>\n",
       "      <td>Delhi Capitals</td>\n",
       "      <td>Delhi Capitals</td>\n",
       "      <td>field</td>\n",
       "      <td>normal</td>\n",
       "      <td>0</td>\n",
       "      <td>Delhi Capitals</td>\n",
       "      <td>0</td>\n",
       "      <td>6</td>\n",
       "      <td>Mohammed Shami</td>\n",
       "      <td>Feroz Shah Kotla</td>\n",
       "      <td>YC Barde</td>\n",
       "      <td>Nitin Menon</td>\n",
       "      <td>NaN</td>\n",
       "    </tr>\n",
       "    <tr>\n",
       "      <th>393</th>\n",
       "      <td>394</td>\n",
       "      <td>2013</td>\n",
       "      <td>Delhi</td>\n",
       "      <td>4/12/2013</td>\n",
       "      <td>Delhi Capitals</td>\n",
       "      <td>Sunrisers Hyderabad</td>\n",
       "      <td>Delhi Capitals</td>\n",
       "      <td>bat</td>\n",
       "      <td>normal</td>\n",
       "      <td>0</td>\n",
       "      <td>Sunrisers Hyderabad</td>\n",
       "      <td>0</td>\n",
       "      <td>3</td>\n",
       "      <td>A Mishra</td>\n",
       "      <td>Feroz Shah Kotla</td>\n",
       "      <td>Aleem Dar</td>\n",
       "      <td>Subroto Das</td>\n",
       "      <td>NaN</td>\n",
       "    </tr>\n",
       "    <tr>\n",
       "      <th>427</th>\n",
       "      <td>428</td>\n",
       "      <td>2013</td>\n",
       "      <td>Hyderabad</td>\n",
       "      <td>5/4/2013</td>\n",
       "      <td>Delhi Capitals</td>\n",
       "      <td>Sunrisers Hyderabad</td>\n",
       "      <td>Delhi Capitals</td>\n",
       "      <td>bat</td>\n",
       "      <td>normal</td>\n",
       "      <td>0</td>\n",
       "      <td>Sunrisers Hyderabad</td>\n",
       "      <td>0</td>\n",
       "      <td>6</td>\n",
       "      <td>DJG Sammy</td>\n",
       "      <td>Rajiv Gandhi International Stadium, Uppal</td>\n",
       "      <td>Asad Rauf</td>\n",
       "      <td>S Asnani</td>\n",
       "      <td>NaN</td>\n",
       "    </tr>\n",
       "    <tr>\n",
       "      <th>468</th>\n",
       "      <td>469</td>\n",
       "      <td>2014</td>\n",
       "      <td>NaN</td>\n",
       "      <td>4/25/2014</td>\n",
       "      <td>Sunrisers Hyderabad</td>\n",
       "      <td>Delhi Capitals</td>\n",
       "      <td>Sunrisers Hyderabad</td>\n",
       "      <td>bat</td>\n",
       "      <td>normal</td>\n",
       "      <td>0</td>\n",
       "      <td>Sunrisers Hyderabad</td>\n",
       "      <td>4</td>\n",
       "      <td>0</td>\n",
       "      <td>AJ Finch</td>\n",
       "      <td>Dubai International Cricket Stadium</td>\n",
       "      <td>M Erasmus</td>\n",
       "      <td>S Ravi</td>\n",
       "      <td>NaN</td>\n",
       "    </tr>\n",
       "  </tbody>\n",
       "</table>\n",
       "</div>"
      ],
      "text/plain": [
       "      id  season       city       date                team1  \\\n",
       "20    21    2017  Hyderabad  4/19/2017  Sunrisers Hyderabad   \n",
       "38    39    2017      Delhi   5/2/2017  Sunrisers Hyderabad   \n",
       "393  394    2013      Delhi  4/12/2013       Delhi Capitals   \n",
       "427  428    2013  Hyderabad   5/4/2013       Delhi Capitals   \n",
       "468  469    2014        NaN  4/25/2014  Sunrisers Hyderabad   \n",
       "\n",
       "                   team2          toss_winner toss_decision  result  \\\n",
       "20        Delhi Capitals  Sunrisers Hyderabad           bat  normal   \n",
       "38        Delhi Capitals       Delhi Capitals         field  normal   \n",
       "393  Sunrisers Hyderabad       Delhi Capitals           bat  normal   \n",
       "427  Sunrisers Hyderabad       Delhi Capitals           bat  normal   \n",
       "468       Delhi Capitals  Sunrisers Hyderabad           bat  normal   \n",
       "\n",
       "     dl_applied               winner  win_by_runs  win_by_wickets  \\\n",
       "20            0  Sunrisers Hyderabad           15               0   \n",
       "38            0       Delhi Capitals            0               6   \n",
       "393           0  Sunrisers Hyderabad            0               3   \n",
       "427           0  Sunrisers Hyderabad            0               6   \n",
       "468           0  Sunrisers Hyderabad            4               0   \n",
       "\n",
       "    player_of_match                                      venue      umpire1  \\\n",
       "20    KS Williamson  Rajiv Gandhi International Stadium, Uppal  CB Gaffaney   \n",
       "38   Mohammed Shami                           Feroz Shah Kotla     YC Barde   \n",
       "393        A Mishra                           Feroz Shah Kotla    Aleem Dar   \n",
       "427       DJG Sammy  Rajiv Gandhi International Stadium, Uppal    Asad Rauf   \n",
       "468        AJ Finch        Dubai International Cricket Stadium    M Erasmus   \n",
       "\n",
       "         umpire2 umpire3  \n",
       "20      NJ Llong     NaN  \n",
       "38   Nitin Menon     NaN  \n",
       "393  Subroto Das     NaN  \n",
       "427     S Asnani     NaN  \n",
       "468       S Ravi     NaN  "
      ]
     },
     "execution_count": 6,
     "metadata": {},
     "output_type": "execute_result"
    }
   ],
   "source": [
    "all_matches.head()"
   ]
  },
  {
   "cell_type": "code",
   "execution_count": 7,
   "metadata": {},
   "outputs": [
    {
     "data": {
      "text/plain": [
       "<seaborn.axisgrid.FacetGrid at 0x1d28bade948>"
      ]
     },
     "execution_count": 7,
     "metadata": {},
     "output_type": "execute_result"
    },
    {
     "data": {
      "image/png": "[encoded data removed]",
      "text/plain": [
       "<Figure size 1440x720 with 7 Axes>"
      ]
     },
     "metadata": {
      "needs_background": "light"
     },
     "output_type": "display_data"
    }
   ],
   "source": [
    "sns.catplot(x='winner', col='season', data=all_matches, kind='count', col_wrap=4)"
   ]
  },
  {
   "cell_type": "code",
   "execution_count": 8,
   "metadata": {},
   "outputs": [
    {
     "data": {
      "text/plain": [
       "<seaborn.axisgrid.FacetGrid at 0x1d28c8ac588>"
      ]
     },
     "execution_count": 8,
     "metadata": {},
     "output_type": "execute_result"
    },
    {
     "data": {
      "image/png": "[encoded data removed]",
      "text/plain": [
       "<Figure size 1440x720 with 8 Axes>"
      ]
     },
     "metadata": {
      "needs_background": "light"
     },
     "output_type": "display_data"
    }
   ],
   "source": [
    "sns.catplot(x='winner', col='venue', data=all_matches, kind='count', col_wrap=4)"
   ]
  },
  {
   "cell_type": "code",
   "execution_count": 9,
   "metadata": {},
   "outputs": [
    {
     "data": {
      "text/plain": [
       "<seaborn.axisgrid.FacetGrid at 0x1d28bdd2c48>"
      ]
     },
     "execution_count": 9,
     "metadata": {},
     "output_type": "execute_result"
    },
    {
     "data": {
      "image/png": "[encoded data removed]",
      "text/plain": [
       "<Figure size 720x720 with 4 Axes>"
      ]
     },
     "metadata": {
      "needs_background": "light"
     },
     "output_type": "display_data"
    }
   ],
   "source": [
    "sns.catplot(x='winner', col = 'toss_winner',row='toss_decision', data=all_matches, kind='count')"
   ]
  },
  {
   "cell_type": "code",
   "execution_count": 10,
   "metadata": {},
   "outputs": [
    {
     "data": {
      "text/plain": [
       "id     winner             \n",
       "21     Sunrisers Hyderabad     [KS Williamson]\n",
       "39     Delhi Capitals         [Mohammed Shami]\n",
       "394    Sunrisers Hyderabad          [A Mishra]\n",
       "428    Sunrisers Hyderabad         [DJG Sammy]\n",
       "469    Sunrisers Hyderabad          [AJ Finch]\n",
       "489    Sunrisers Hyderabad          [DW Steyn]\n",
       "531    Delhi Capitals              [JP Duminy]\n",
       "561    Sunrisers Hyderabad      [MC Henriques]\n",
       "618    Delhi Capitals              [CH Morris]\n",
       "628    Delhi Capitals                [KK Nair]\n",
       "7929   Sunrisers Hyderabad       [Rashid Khan]\n",
       "7935   Sunrisers Hyderabad          [S Dhawan]\n",
       "11152  Sunrisers Hyderabad        [J Bairstow]\n",
       "11321  Delhi Capitals                 [K Paul]\n",
       "11413  Delhi Capitals                [RR Pant]\n",
       "Name: player_of_match, dtype: object"
      ]
     },
     "execution_count": 10,
     "metadata": {},
     "output_type": "execute_result"
    }
   ],
   "source": [
    "all_matches.groupby(['id', 'winner'])['player_of_match'].unique()"
   ]
  },
  {
   "cell_type": "code",
   "execution_count": 11,
   "metadata": {},
   "outputs": [],
   "source": [
    "sub_data1 = sub_data[sub_data['player_of_match'].isin(['J Bairstow', 'RR Pant', 'S Dhawan', 'Rashid Khan']) & (sub_data['batsman'].isin(['J Bairstow', 'RR Pant', 'S Dhawan', 'Rashid Khan'])) & (sub_data['bowler'].isin(['J Bairstow', 'RR Pant', 'S Dhawan', 'Rashid Khan']))]"
   ]
  },
  {
   "cell_type": "code",
   "execution_count": 12,
   "metadata": {},
   "outputs": [
    {
     "data": {
      "text/plain": [
       "batsman\n",
       "RR Pant     33\n",
       "S Dhawan     1\n",
       "Name: batsman_runs, dtype: int64"
      ]
     },
     "execution_count": 12,
     "metadata": {},
     "output_type": "execute_result"
    }
   ],
   "source": [
    "sub_data1.groupby('batsman')['batsman_runs'].sum()"
   ]
  },
  {
   "cell_type": "code",
   "execution_count": 13,
   "metadata": {},
   "outputs": [
    {
     "data": {
      "text/plain": [
       "bowler\n",
       "Rashid Khan    2\n",
       "Name: player_dismissed, dtype: int64"
      ]
     },
     "execution_count": 13,
     "metadata": {},
     "output_type": "execute_result"
    }
   ],
   "source": [
    "sub_data1.groupby('bowler')['player_dismissed'].count()"
   ]
  },
  {
   "cell_type": "code",
   "execution_count": 14,
   "metadata": {},
   "outputs": [
    {
     "data": {
      "text/html": [
       "<div>\n",
       "<style scoped>\n",
       "    .dataframe tbody tr th:only-of-type {\n",
       "        vertical-align: middle;\n",
       "    }\n",
       "\n",
       "    .dataframe tbody tr th {\n",
       "        vertical-align: top;\n",
       "    }\n",
       "\n",
       "    .dataframe thead th {\n",
       "        text-align: right;\n",
       "    }\n",
       "</style>\n",
       "<table border=\"1\" class=\"dataframe\">\n",
       "  <thead>\n",
       "    <tr style=\"text-align: right;\">\n",
       "      <th></th>\n",
       "      <th></th>\n",
       "      <th>win_by_wickets</th>\n",
       "      <th>win_by_runs</th>\n",
       "    </tr>\n",
       "    <tr>\n",
       "      <th>season</th>\n",
       "      <th>id</th>\n",
       "      <th></th>\n",
       "      <th></th>\n",
       "    </tr>\n",
       "  </thead>\n",
       "  <tbody>\n",
       "    <tr>\n",
       "      <th rowspan=\"2\" valign=\"top\">2013</th>\n",
       "      <th>394</th>\n",
       "      <td>3</td>\n",
       "      <td>0</td>\n",
       "    </tr>\n",
       "    <tr>\n",
       "      <th>428</th>\n",
       "      <td>6</td>\n",
       "      <td>0</td>\n",
       "    </tr>\n",
       "    <tr>\n",
       "      <th rowspan=\"2\" valign=\"top\">2014</th>\n",
       "      <th>469</th>\n",
       "      <td>0</td>\n",
       "      <td>4</td>\n",
       "    </tr>\n",
       "    <tr>\n",
       "      <th>489</th>\n",
       "      <td>8</td>\n",
       "      <td>0</td>\n",
       "    </tr>\n",
       "    <tr>\n",
       "      <th rowspan=\"2\" valign=\"top\">2015</th>\n",
       "      <th>531</th>\n",
       "      <td>0</td>\n",
       "      <td>4</td>\n",
       "    </tr>\n",
       "    <tr>\n",
       "      <th>561</th>\n",
       "      <td>0</td>\n",
       "      <td>6</td>\n",
       "    </tr>\n",
       "    <tr>\n",
       "      <th rowspan=\"2\" valign=\"top\">2016</th>\n",
       "      <th>618</th>\n",
       "      <td>7</td>\n",
       "      <td>0</td>\n",
       "    </tr>\n",
       "    <tr>\n",
       "      <th>628</th>\n",
       "      <td>6</td>\n",
       "      <td>0</td>\n",
       "    </tr>\n",
       "    <tr>\n",
       "      <th rowspan=\"2\" valign=\"top\">2017</th>\n",
       "      <th>21</th>\n",
       "      <td>0</td>\n",
       "      <td>15</td>\n",
       "    </tr>\n",
       "    <tr>\n",
       "      <th>39</th>\n",
       "      <td>6</td>\n",
       "      <td>0</td>\n",
       "    </tr>\n",
       "    <tr>\n",
       "      <th rowspan=\"2\" valign=\"top\">2018</th>\n",
       "      <th>7929</th>\n",
       "      <td>7</td>\n",
       "      <td>0</td>\n",
       "    </tr>\n",
       "    <tr>\n",
       "      <th>7935</th>\n",
       "      <td>9</td>\n",
       "      <td>0</td>\n",
       "    </tr>\n",
       "    <tr>\n",
       "      <th rowspan=\"3\" valign=\"top\">2019</th>\n",
       "      <th>11152</th>\n",
       "      <td>5</td>\n",
       "      <td>0</td>\n",
       "    </tr>\n",
       "    <tr>\n",
       "      <th>11321</th>\n",
       "      <td>0</td>\n",
       "      <td>39</td>\n",
       "    </tr>\n",
       "    <tr>\n",
       "      <th>11413</th>\n",
       "      <td>2</td>\n",
       "      <td>0</td>\n",
       "    </tr>\n",
       "  </tbody>\n",
       "</table>\n",
       "</div>"
      ],
      "text/plain": [
       "              win_by_wickets  win_by_runs\n",
       "season id                                \n",
       "2013   394                 3            0\n",
       "       428                 6            0\n",
       "2014   469                 0            4\n",
       "       489                 8            0\n",
       "2015   531                 0            4\n",
       "       561                 0            6\n",
       "2016   618                 7            0\n",
       "       628                 6            0\n",
       "2017   21                  0           15\n",
       "       39                  6            0\n",
       "2018   7929                7            0\n",
       "       7935                9            0\n",
       "2019   11152               5            0\n",
       "       11321               0           39\n",
       "       11413               2            0"
      ]
     },
     "execution_count": 14,
     "metadata": {},
     "output_type": "execute_result"
    }
   ],
   "source": [
    "all_matches.groupby(['season', 'id'])['win_by_wickets', 'win_by_runs'].max()"
   ]
  },
  {
   "cell_type": "markdown",
   "metadata": {},
   "source": [
    "### How many runs will be scored totally in the match??"
   ]
  },
  {
   "cell_type": "code",
   "execution_count": 15,
   "metadata": {},
   "outputs": [
    {
     "data": {
      "text/plain": [
       "<matplotlib.axes._subplots.AxesSubplot at 0x1d28dbf8708>"
      ]
     },
     "execution_count": 15,
     "metadata": {},
     "output_type": "execute_result"
    },
    {
     "data": {
      "image/png": "[encoded data removed]",
      "text/plain": [
       "<Figure size 1080x360 with 2 Axes>"
      ]
     },
     "metadata": {
      "needs_background": "light"
     },
     "output_type": "display_data"
    }
   ],
   "source": [
    "plt.subplot(1, 2, 1)\n",
    "sub_data.groupby('match_id')['total_runs'].sum().plot.bar(title='Runs scored in total per match', figsize=(15,5))\n",
    "\n",
    "plt.subplot(1, 2, 2)\n",
    "sub_data.groupby('match_id')['total_runs'].sum().plot.box(title='Runs scored in total per match')"
   ]
  },
  {
   "cell_type": "code",
   "execution_count": 16,
   "metadata": {},
   "outputs": [
    {
     "data": {
      "text/plain": [
       "batting_team\n",
       "Delhi Capitals         156.066667\n",
       "Sunrisers Hyderabad    148.466667\n",
       "Name: total_runs, dtype: float64"
      ]
     },
     "execution_count": 16,
     "metadata": {},
     "output_type": "execute_result"
    }
   ],
   "source": [
    "sub_data.groupby(['match_id', 'batting_team'])['total_runs'].sum().groupby('batting_team').mean()"
   ]
  },
  {
   "cell_type": "code",
   "execution_count": 17,
   "metadata": {},
   "outputs": [
    {
     "data": {
      "text/plain": [
       "<matplotlib.axes._subplots.AxesSubplot at 0x1d28e236748>"
      ]
     },
     "execution_count": 17,
     "metadata": {},
     "output_type": "execute_result"
    },
    {
     "data": {
      "image/png": "[encoded data removed]",
      "text/plain": [
       "<Figure size 432x288 with 1 Axes>"
      ]
     },
     "metadata": {
      "needs_background": "light"
     },
     "output_type": "display_data"
    }
   ],
   "source": [
    "sub_data.groupby(['batting_team', 'batsman'])['batsman_runs'].sum().sort_values(ascending=False).head(10).plot.bar()"
   ]
  },
  {
   "cell_type": "code",
   "execution_count": 18,
   "metadata": {},
   "outputs": [
    {
     "data": {
      "text/plain": [
       "batsman\n",
       "DA Warner    341\n",
       "RR Pant      333\n",
       "S Dhawan     398\n",
       "SS Iyer      289\n",
       "Name: batsman_runs, dtype: int64"
      ]
     },
     "execution_count": 18,
     "metadata": {},
     "output_type": "execute_result"
    }
   ],
   "source": [
    "sub_data[sub_data['batsman'].isin(['S Dhawan', 'RR Pant', 'DA Warner', 'SS Iyer', 'KS Willliamson'])].groupby([ 'batsman'])['batsman_runs'].sum()"
   ]
  },
  {
   "cell_type": "markdown",
   "metadata": {},
   "source": [
    "#######"
   ]
  },
  {
   "cell_type": "code",
   "execution_count": 19,
   "metadata": {},
   "outputs": [],
   "source": [
    "sub_data2 = sub_data[sub_data['dismissal_kind'].isin(['caught', 'caught and bowled'])]"
   ]
  },
  {
   "cell_type": "code",
   "execution_count": 20,
   "metadata": {},
   "outputs": [
    {
     "data": {
      "text/plain": [
       "<matplotlib.axes._subplots.AxesSubplot at 0x1d28dfc9588>"
      ]
     },
     "execution_count": 20,
     "metadata": {},
     "output_type": "execute_result"
    },
    {
     "data": {
      "image/png": "[encoded data removed]",
      "text/plain": [
       "<Figure size 1080x360 with 2 Axes>"
      ]
     },
     "metadata": {
      "needs_background": "light"
     },
     "output_type": "display_data"
    }
   ],
   "source": [
    "plt.subplot(1, 2, 1)\n",
    "sub_data2.groupby('match_id')['dismissal_kind'].count().plot.bar(title='Caught dismissal type by matches', figsize=(15,5))\n",
    "\n",
    "plt.subplot(1, 2, 2)\n",
    "sub_data2.groupby('match_id')['dismissal_kind'].count().plot.box(title='Boxplot distribution of dismissal')"
   ]
  },
  {
   "cell_type": "code",
   "execution_count": 21,
   "metadata": {},
   "outputs": [
    {
     "data": {
      "text/plain": [
       "bowler           dismissal_kind\n",
       "A Mishra         caught            7\n",
       "B Kumar          caught            7\n",
       "K Paul           caught            6\n",
       "S Kaul           caught            6\n",
       "K Ahmed          caught            5\n",
       "DW Steyn         caught            5\n",
       "NM Coulter-Nile  caught            5\n",
       "CH Morris        caught            5\n",
       "K Rabada         caught            4\n",
       "I Sharma         caught            4\n",
       "Name: dismissal_kind, dtype: int64"
      ]
     },
     "execution_count": 21,
     "metadata": {},
     "output_type": "execute_result"
    }
   ],
   "source": [
    "sub_data2.groupby(['bowler'])['dismissal_kind'].value_counts().sort_values(ascending=False).head(10)"
   ]
  },
  {
   "cell_type": "code",
   "execution_count": 22,
   "metadata": {},
   "outputs": [
    {
     "data": {
      "text/plain": [
       "batsman        bowler           dismissal_kind\n",
       "KV Sharma      NM Coulter-Nile  caught            2\n",
       "S Dhawan       A Mishra         caught            2\n",
       "KC Sangakkara  J Botha          caught            2\n",
       "SV Samson      Mohammed Siraj   caught            2\n",
       "P Shaw         K Ahmed          caught            2\n",
       "DA Warner      K Rabada         caught            2\n",
       "SS Iyer        B Kumar          caught            2\n",
       "Yuvraj Singh   Parvez Rasool    caught            1\n",
       "KK Nair        S Kaul           caught            1\n",
       "J Botha        NLTC Perera      caught            1\n",
       "JJ Roy         Shakib Al Hasan  caught            1\n",
       "JP Duminy      BB Sran          caught            1\n",
       "Name: dismissal_kind, dtype: int64"
      ]
     },
     "execution_count": 22,
     "metadata": {},
     "output_type": "execute_result"
    }
   ],
   "source": [
    "sub_data2.groupby(['batsman', 'bowler'])['dismissal_kind'].value_counts().sort_values(ascending=False).head(12)"
   ]
  },
  {
   "cell_type": "code",
   "execution_count": 23,
   "metadata": {},
   "outputs": [
    {
     "data": {
      "text/plain": [
       "<matplotlib.axes._subplots.AxesSubplot at 0x1d28e0cd448>"
      ]
     },
     "execution_count": 23,
     "metadata": {},
     "output_type": "execute_result"
    },
    {
     "data": {
      "image/png": "[encoded data removed]",
      "text/plain": [
       "<Figure size 1080x360 with 2 Axes>"
      ]
     },
     "metadata": {
      "needs_background": "light"
     },
     "output_type": "display_data"
    }
   ],
   "source": [
    "plt.subplot(1, 2, 1)\n",
    "(sub_data2.groupby('match_id')['player_dismissed'].count()/sub_data.groupby('match_id')['player_dismissed'].count()).plot.bar(title='% of caught dismissal type of total wickets fallen', figsize=(15,5))\n",
    "\n",
    "plt.subplot(1, 2, 2)\n",
    "(sub_data2.groupby('match_id')['player_dismissed'].count()/sub_data.groupby('match_id')['player_dismissed'].count()).plot.box(title='Boxplot distribution of caught dismissal %')"
   ]
  },
  {
   "cell_type": "code",
   "execution_count": 24,
   "metadata": {},
   "outputs": [
    {
     "data": {
      "text/plain": [
       "count    15.00000\n",
       "mean     10.60000\n",
       "std       3.54159\n",
       "min       5.00000\n",
       "25%       8.00000\n",
       "50%      11.00000\n",
       "75%      13.50000\n",
       "max      17.00000\n",
       "Name: player_dismissed, dtype: float64"
      ]
     },
     "execution_count": 24,
     "metadata": {},
     "output_type": "execute_result"
    }
   ],
   "source": [
    "sub_data.groupby('match_id')['player_dismissed'].count().describe()"
   ]
  },
  {
   "cell_type": "code",
   "execution_count": 25,
   "metadata": {},
   "outputs": [
    {
     "data": {
      "text/plain": [
       "8.25"
      ]
     },
     "execution_count": 25,
     "metadata": {},
     "output_type": "execute_result"
    }
   ],
   "source": [
    "(11*75)/100"
   ]
  },
  {
   "cell_type": "markdown",
   "metadata": {},
   "source": [
    "### How many more or less SRH will score in the first six overs as compared to DC??"
   ]
  },
  {
   "cell_type": "code",
   "execution_count": 32,
   "metadata": {},
   "outputs": [],
   "source": [
    "sub_data3 = sub_data[sub_data['over'].isin([1, 2, 3, 4, 5, 6])]"
   ]
  },
  {
   "cell_type": "code",
   "execution_count": 36,
   "metadata": {},
   "outputs": [
    {
     "data": {
      "text/plain": [
       "<matplotlib.axes._subplots.AxesSubplot at 0x1d28e317cc8>"
      ]
     },
     "execution_count": 36,
     "metadata": {},
     "output_type": "execute_result"
    },
    {
     "data": {
      "image/png": "[encoded data removed]",
      "text/plain": [
       "<Figure size 1080x360 with 1 Axes>"
      ]
     },
     "metadata": {
      "needs_background": "light"
     },
     "output_type": "display_data"
    }
   ],
   "source": [
    "sub_data3.groupby(['match_id', 'batting_team'])['total_runs'].sum().plot.bar(title='Runs scored by both teams in powerplay', color=['Red', 'Orange'], figsize=(15,5))"
   ]
  },
  {
   "cell_type": "code",
   "execution_count": 45,
   "metadata": {},
   "outputs": [
    {
     "data": {
      "text/html": [
       "<div>\n",
       "<style scoped>\n",
       "    .dataframe tbody tr th:only-of-type {\n",
       "        vertical-align: middle;\n",
       "    }\n",
       "\n",
       "    .dataframe tbody tr th {\n",
       "        vertical-align: top;\n",
       "    }\n",
       "\n",
       "    .dataframe thead th {\n",
       "        text-align: right;\n",
       "    }\n",
       "</style>\n",
       "<table border=\"1\" class=\"dataframe\">\n",
       "  <thead>\n",
       "    <tr style=\"text-align: right;\">\n",
       "      <th></th>\n",
       "      <th>count</th>\n",
       "      <th>mean</th>\n",
       "      <th>std</th>\n",
       "      <th>min</th>\n",
       "      <th>25%</th>\n",
       "      <th>50%</th>\n",
       "      <th>75%</th>\n",
       "      <th>max</th>\n",
       "    </tr>\n",
       "    <tr>\n",
       "      <th>batting_team</th>\n",
       "      <th></th>\n",
       "      <th></th>\n",
       "      <th></th>\n",
       "      <th></th>\n",
       "      <th></th>\n",
       "      <th></th>\n",
       "      <th></th>\n",
       "      <th></th>\n",
       "    </tr>\n",
       "  </thead>\n",
       "  <tbody>\n",
       "    <tr>\n",
       "      <th>Delhi Capitals</th>\n",
       "      <td>15.0</td>\n",
       "      <td>46.066667</td>\n",
       "      <td>11.119267</td>\n",
       "      <td>26.0</td>\n",
       "      <td>38.0</td>\n",
       "      <td>49.0</td>\n",
       "      <td>54.5</td>\n",
       "      <td>62.0</td>\n",
       "    </tr>\n",
       "    <tr>\n",
       "      <th>Sunrisers Hyderabad</th>\n",
       "      <td>15.0</td>\n",
       "      <td>50.200000</td>\n",
       "      <td>10.345461</td>\n",
       "      <td>38.0</td>\n",
       "      <td>41.0</td>\n",
       "      <td>50.0</td>\n",
       "      <td>54.5</td>\n",
       "      <td>71.0</td>\n",
       "    </tr>\n",
       "  </tbody>\n",
       "</table>\n",
       "</div>"
      ],
      "text/plain": [
       "                     count       mean        std   min   25%   50%   75%   max\n",
       "batting_team                                                                  \n",
       "Delhi Capitals        15.0  46.066667  11.119267  26.0  38.0  49.0  54.5  62.0\n",
       "Sunrisers Hyderabad   15.0  50.200000  10.345461  38.0  41.0  50.0  54.5  71.0"
      ]
     },
     "execution_count": 45,
     "metadata": {},
     "output_type": "execute_result"
    }
   ],
   "source": [
    "sub_data3.groupby(['match_id', 'batting_team'])['total_runs'].sum().groupby(['batting_team']).describe()"
   ]
  },
  {
   "cell_type": "code",
   "execution_count": 48,
   "metadata": {},
   "outputs": [
    {
     "data": {
      "text/html": [
       "<div>\n",
       "<style scoped>\n",
       "    .dataframe tbody tr th:only-of-type {\n",
       "        vertical-align: middle;\n",
       "    }\n",
       "\n",
       "    .dataframe tbody tr th {\n",
       "        vertical-align: top;\n",
       "    }\n",
       "\n",
       "    .dataframe thead th {\n",
       "        text-align: right;\n",
       "    }\n",
       "</style>\n",
       "<table border=\"1\" class=\"dataframe\">\n",
       "  <thead>\n",
       "    <tr style=\"text-align: right;\">\n",
       "      <th></th>\n",
       "      <th>count</th>\n",
       "      <th>mean</th>\n",
       "      <th>std</th>\n",
       "      <th>min</th>\n",
       "      <th>25%</th>\n",
       "      <th>50%</th>\n",
       "      <th>75%</th>\n",
       "      <th>max</th>\n",
       "    </tr>\n",
       "    <tr>\n",
       "      <th>batting_team</th>\n",
       "      <th></th>\n",
       "      <th></th>\n",
       "      <th></th>\n",
       "      <th></th>\n",
       "      <th></th>\n",
       "      <th></th>\n",
       "      <th></th>\n",
       "      <th></th>\n",
       "    </tr>\n",
       "  </thead>\n",
       "  <tbody>\n",
       "    <tr>\n",
       "      <th>Delhi Capitals</th>\n",
       "      <td>15.0</td>\n",
       "      <td>1.2</td>\n",
       "      <td>0.774597</td>\n",
       "      <td>0.0</td>\n",
       "      <td>1.0</td>\n",
       "      <td>1.0</td>\n",
       "      <td>1.5</td>\n",
       "      <td>3.0</td>\n",
       "    </tr>\n",
       "    <tr>\n",
       "      <th>Sunrisers Hyderabad</th>\n",
       "      <td>15.0</td>\n",
       "      <td>0.8</td>\n",
       "      <td>0.774597</td>\n",
       "      <td>0.0</td>\n",
       "      <td>0.0</td>\n",
       "      <td>1.0</td>\n",
       "      <td>1.0</td>\n",
       "      <td>2.0</td>\n",
       "    </tr>\n",
       "  </tbody>\n",
       "</table>\n",
       "</div>"
      ],
      "text/plain": [
       "                     count  mean       std  min  25%  50%  75%  max\n",
       "batting_team                                                       \n",
       "Delhi Capitals        15.0   1.2  0.774597  0.0  1.0  1.0  1.5  3.0\n",
       "Sunrisers Hyderabad   15.0   0.8  0.774597  0.0  0.0  1.0  1.0  2.0"
      ]
     },
     "execution_count": 48,
     "metadata": {},
     "output_type": "execute_result"
    }
   ],
   "source": [
    "sub_data3.groupby(['match_id', 'batting_team'])['player_dismissed'].count().groupby('batting_team').describe()"
   ]
  },
  {
   "cell_type": "code",
   "execution_count": 55,
   "metadata": {},
   "outputs": [
    {
     "data": {
      "text/plain": [
       "batsman\n",
       "S Dhawan      149\n",
       "DA Warner     125\n",
       "P Shaw        113\n",
       "KK Nair        88\n",
       "J Bairstow     79\n",
       "A Hales        57\n",
       "SV Samson      42\n",
       "MJ Guptill     35\n",
       "Name: batsman_runs, dtype: int64"
      ]
     },
     "execution_count": 55,
     "metadata": {},
     "output_type": "execute_result"
    }
   ],
   "source": [
    "sub_data3[sub_data3['season']>2015].groupby(['batsman'])['batsman_runs'].sum().sort_values(ascending=False).head(8)"
   ]
  },
  {
   "cell_type": "code",
   "execution_count": 58,
   "metadata": {},
   "outputs": [
    {
     "data": {
      "text/plain": [
       "bowler           player_dismissed\n",
       "B Kumar          P Shaw              1\n",
       "CH Morris        DA Warner           1\n",
       "CR Brathwaite    S Dhawan            1\n",
       "DW Steyn         DA Warner           1\n",
       "J Botha          S Dhawan            1\n",
       "K Ahmed          P Shaw              1\n",
       "                 S Dhawan            1\n",
       "Mohammad Nabi    S Dhawan            1\n",
       "Mohammed Shami   DA Warner           1\n",
       "NM Coulter-Nile  DA Warner           1\n",
       "S Kaul           S Dhawan            1\n",
       "Sandeep Sharma   GJ Maxwell          1\n",
       "Shakib Al Hasan  P Shaw              1\n",
       "Z Khan           S Dhawan            1\n",
       "Name: player_dismissed, dtype: int64"
      ]
     },
     "execution_count": 58,
     "metadata": {},
     "output_type": "execute_result"
    }
   ],
   "source": [
    "sub_data3[sub_data3['batsman'].isin(['S Dhawan', 'DA Warner', 'P Shaw', 'J Bairstow'])].groupby('bowler')['player_dismissed'].value_counts()"
   ]
  },
  {
   "cell_type": "code",
   "execution_count": 62,
   "metadata": {},
   "outputs": [
    {
     "data": {
      "text/plain": [
       "match_id\n",
       "11152    62\n",
       "11321    40\n",
       "Name: batsman_runs, dtype: int64"
      ]
     },
     "execution_count": 62,
     "metadata": {},
     "output_type": "execute_result"
    }
   ],
   "source": [
    "sub_data3[(sub_data3['batsman'].isin(['DA Warner', 'J Bairstow'])) & (sub_data3['non_striker'].isin(['DA Warner', 'J Bairstow']))].groupby(['match_id'])['batsman_runs'].sum()"
   ]
  },
  {
   "cell_type": "code",
   "execution_count": 63,
   "metadata": {},
   "outputs": [
    {
     "data": {
      "text/plain": [
       "match_id\n",
       "11152    14\n",
       "11321    11\n",
       "11413    55\n",
       "Name: batsman_runs, dtype: int64"
      ]
     },
     "execution_count": 63,
     "metadata": {},
     "output_type": "execute_result"
    }
   ],
   "source": [
    "sub_data3[(sub_data3['batsman'].isin(['P Shaw', 'S Dhawan'])) & (sub_data3['non_striker'].isin(['P Shaw', 'S Dhawan']))].groupby(['match_id'])['batsman_runs'].sum()"
   ]
  },
  {
   "cell_type": "code",
   "execution_count": 67,
   "metadata": {},
   "outputs": [
    {
     "data": {
      "text/html": [
       "<div>\n",
       "<style scoped>\n",
       "    .dataframe tbody tr th:only-of-type {\n",
       "        vertical-align: middle;\n",
       "    }\n",
       "\n",
       "    .dataframe tbody tr th {\n",
       "        vertical-align: top;\n",
       "    }\n",
       "\n",
       "    .dataframe thead th {\n",
       "        text-align: right;\n",
       "    }\n",
       "</style>\n",
       "<table border=\"1\" class=\"dataframe\">\n",
       "  <thead>\n",
       "    <tr style=\"text-align: right;\">\n",
       "      <th></th>\n",
       "      <th>count</th>\n",
       "      <th>mean</th>\n",
       "      <th>std</th>\n",
       "      <th>min</th>\n",
       "      <th>25%</th>\n",
       "      <th>50%</th>\n",
       "      <th>75%</th>\n",
       "      <th>max</th>\n",
       "    </tr>\n",
       "    <tr>\n",
       "      <th>batting_team</th>\n",
       "      <th></th>\n",
       "      <th></th>\n",
       "      <th></th>\n",
       "      <th></th>\n",
       "      <th></th>\n",
       "      <th></th>\n",
       "      <th></th>\n",
       "      <th></th>\n",
       "    </tr>\n",
       "  </thead>\n",
       "  <tbody>\n",
       "    <tr>\n",
       "      <th>Delhi Capitals</th>\n",
       "      <td>15.0</td>\n",
       "      <td>124.787636</td>\n",
       "      <td>31.206361</td>\n",
       "      <td>70.270270</td>\n",
       "      <td>102.670940</td>\n",
       "      <td>135.135135</td>\n",
       "      <td>147.297297</td>\n",
       "      <td>172.222222</td>\n",
       "    </tr>\n",
       "    <tr>\n",
       "      <th>Sunrisers Hyderabad</th>\n",
       "      <td>15.0</td>\n",
       "      <td>137.857963</td>\n",
       "      <td>28.026107</td>\n",
       "      <td>102.702703</td>\n",
       "      <td>110.810811</td>\n",
       "      <td>137.837838</td>\n",
       "      <td>148.333333</td>\n",
       "      <td>191.891892</td>\n",
       "    </tr>\n",
       "  </tbody>\n",
       "</table>\n",
       "</div>"
      ],
      "text/plain": [
       "                     count        mean        std         min         25%  \\\n",
       "batting_team                                                                \n",
       "Delhi Capitals        15.0  124.787636  31.206361   70.270270  102.670940   \n",
       "Sunrisers Hyderabad   15.0  137.857963  28.026107  102.702703  110.810811   \n",
       "\n",
       "                            50%         75%         max  \n",
       "batting_team                                             \n",
       "Delhi Capitals       135.135135  147.297297  172.222222  \n",
       "Sunrisers Hyderabad  137.837838  148.333333  191.891892  "
      ]
     },
     "execution_count": 67,
     "metadata": {},
     "output_type": "execute_result"
    }
   ],
   "source": [
    "((sub_data3.groupby(['match_id', 'batting_team'])['total_runs'].sum()/sub_data3.groupby(['match_id', 'batting_team'])['ball'].count())*100).groupby('batting_team').describe()"
   ]
  },
  {
   "cell_type": "code",
   "execution_count": 73,
   "metadata": {},
   "outputs": [],
   "source": [
    "sub_data4 = sub_data3[sub_data3['batsman'].isin(['S Dhawan', 'DA Warner', 'P Shaw', 'J Bairstow'])]"
   ]
  },
  {
   "cell_type": "code",
   "execution_count": 77,
   "metadata": {},
   "outputs": [
    {
     "data": {
      "text/html": [
       "<div>\n",
       "<style scoped>\n",
       "    .dataframe tbody tr th:only-of-type {\n",
       "        vertical-align: middle;\n",
       "    }\n",
       "\n",
       "    .dataframe tbody tr th {\n",
       "        vertical-align: top;\n",
       "    }\n",
       "\n",
       "    .dataframe thead th {\n",
       "        text-align: right;\n",
       "    }\n",
       "</style>\n",
       "<table border=\"1\" class=\"dataframe\">\n",
       "  <thead>\n",
       "    <tr style=\"text-align: right;\">\n",
       "      <th></th>\n",
       "      <th>count</th>\n",
       "      <th>mean</th>\n",
       "      <th>std</th>\n",
       "      <th>min</th>\n",
       "      <th>25%</th>\n",
       "      <th>50%</th>\n",
       "      <th>75%</th>\n",
       "      <th>max</th>\n",
       "    </tr>\n",
       "    <tr>\n",
       "      <th>batsman</th>\n",
       "      <th></th>\n",
       "      <th></th>\n",
       "      <th></th>\n",
       "      <th></th>\n",
       "      <th></th>\n",
       "      <th></th>\n",
       "      <th></th>\n",
       "      <th></th>\n",
       "    </tr>\n",
       "  </thead>\n",
       "  <tbody>\n",
       "    <tr>\n",
       "      <th>DA Warner</th>\n",
       "      <td>10.0</td>\n",
       "      <td>101.546470</td>\n",
       "      <td>49.129395</td>\n",
       "      <td>0.000000</td>\n",
       "      <td>76.893939</td>\n",
       "      <td>107.670455</td>\n",
       "      <td>137.142857</td>\n",
       "      <td>168.421053</td>\n",
       "    </tr>\n",
       "    <tr>\n",
       "      <th>J Bairstow</th>\n",
       "      <td>2.0</td>\n",
       "      <td>171.052632</td>\n",
       "      <td>40.937761</td>\n",
       "      <td>142.105263</td>\n",
       "      <td>156.578947</td>\n",
       "      <td>171.052632</td>\n",
       "      <td>185.526316</td>\n",
       "      <td>200.000000</td>\n",
       "    </tr>\n",
       "    <tr>\n",
       "      <th>P Shaw</th>\n",
       "      <td>5.0</td>\n",
       "      <td>125.196970</td>\n",
       "      <td>54.787856</td>\n",
       "      <td>80.000000</td>\n",
       "      <td>81.818182</td>\n",
       "      <td>100.000000</td>\n",
       "      <td>160.000000</td>\n",
       "      <td>204.166667</td>\n",
       "    </tr>\n",
       "    <tr>\n",
       "      <th>S Dhawan</th>\n",
       "      <td>14.0</td>\n",
       "      <td>123.634018</td>\n",
       "      <td>42.094149</td>\n",
       "      <td>50.000000</td>\n",
       "      <td>96.113445</td>\n",
       "      <td>125.000000</td>\n",
       "      <td>137.500000</td>\n",
       "      <td>207.692308</td>\n",
       "    </tr>\n",
       "  </tbody>\n",
       "</table>\n",
       "</div>"
      ],
      "text/plain": [
       "            count        mean        std         min         25%         50%  \\\n",
       "batsman                                                                        \n",
       "DA Warner    10.0  101.546470  49.129395    0.000000   76.893939  107.670455   \n",
       "J Bairstow    2.0  171.052632  40.937761  142.105263  156.578947  171.052632   \n",
       "P Shaw        5.0  125.196970  54.787856   80.000000   81.818182  100.000000   \n",
       "S Dhawan     14.0  123.634018  42.094149   50.000000   96.113445  125.000000   \n",
       "\n",
       "                   75%         max  \n",
       "batsman                             \n",
       "DA Warner   137.142857  168.421053  \n",
       "J Bairstow  185.526316  200.000000  \n",
       "P Shaw      160.000000  204.166667  \n",
       "S Dhawan    137.500000  207.692308  "
      ]
     },
     "execution_count": 77,
     "metadata": {},
     "output_type": "execute_result"
    }
   ],
   "source": [
    "((sub_data4.groupby(['match_id', 'batsman'])['batsman_runs'].sum()/sub_data4.groupby(['match_id', 'batsman'])['ball'].count())*100).groupby('batsman').describe()"
   ]
  },
  {
   "cell_type": "markdown",
   "metadata": {},
   "source": [
    "### How many extras will be bowled in total during the match by both teams? Consider all extras-byes, leg-byes, no balls, wides, and penalties too."
   ]
  },
  {
   "cell_type": "code",
   "execution_count": 88,
   "metadata": {},
   "outputs": [],
   "source": [
    "sub_data5 = sub_data[sub_data['batsman_runs']==0]"
   ]
  },
  {
   "cell_type": "code",
   "execution_count": 91,
   "metadata": {},
   "outputs": [
    {
     "data": {
      "text/plain": [
       "<matplotlib.axes._subplots.AxesSubplot at 0x1d2901c8ec8>"
      ]
     },
     "execution_count": 91,
     "metadata": {},
     "output_type": "execute_result"
    },
    {
     "data": {
      "image/png": "[encoded data removed]",
      "text/plain": [
       "<Figure size 432x288 with 1 Axes>"
      ]
     },
     "metadata": {
      "needs_background": "light"
     },
     "output_type": "display_data"
    }
   ],
   "source": [
    "sub_data5.groupby('match_id')['extra_runs'].sum().plot.bar(title='Total runs in form of extra from both teams')"
   ]
  },
  {
   "cell_type": "code",
   "execution_count": 141,
   "metadata": {},
   "outputs": [
    {
     "data": {
      "text/plain": [
       "<matplotlib.axes._subplots.AxesSubplot at 0x1d29058dc48>"
      ]
     },
     "execution_count": 141,
     "metadata": {},
     "output_type": "execute_result"
    },
    {
     "data": {
      "image/png": "[encoded data removed]",
      "text/plain": [
       "<Figure size 432x288 with 1 Axes>"
      ]
     },
     "metadata": {
      "needs_background": "light"
     },
     "output_type": "display_data"
    }
   ],
   "source": [
    "sub_data5.groupby('match_id')['extra_runs'].sum().plot.box()"
   ]
  },
  {
   "cell_type": "code",
   "execution_count": 92,
   "metadata": {},
   "outputs": [
    {
     "data": {
      "text/plain": [
       "bowling_team\n",
       "Delhi Capitals         52\n",
       "Sunrisers Hyderabad    62\n",
       "Name: extra_runs, dtype: int64"
      ]
     },
     "execution_count": 92,
     "metadata": {},
     "output_type": "execute_result"
    }
   ],
   "source": [
    "sub_data5.groupby('bowling_team')['extra_runs'].sum()"
   ]
  },
  {
   "cell_type": "code",
   "execution_count": 100,
   "metadata": {},
   "outputs": [
    {
     "data": {
      "text/plain": [
       "<matplotlib.axes._subplots.AxesSubplot at 0x1d2902dfac8>"
      ]
     },
     "execution_count": 100,
     "metadata": {},
     "output_type": "execute_result"
    },
    {
     "data": {
      "image/png": "[encoded data removed]",
      "text/plain": [
       "<Figure size 432x288 with 1 Axes>"
      ]
     },
     "metadata": {
      "needs_background": "light"
     },
     "output_type": "display_data"
    }
   ],
   "source": [
    "((sub_data5[['wide_runs', 'bye_runs', 'legbye_runs', 'noball_runs', 'penalty_runs']].sum()/sub_data5['extra_runs'].sum())*100).plot.bar(title='% Extra run types of total extra runs')"
   ]
  },
  {
   "cell_type": "code",
   "execution_count": 116,
   "metadata": {},
   "outputs": [
    {
     "data": {
      "text/plain": [
       "<matplotlib.axes._subplots.AxesSubplot at 0x1d2906abcc8>"
      ]
     },
     "execution_count": 116,
     "metadata": {},
     "output_type": "execute_result"
    },
    {
     "data": {
      "image/png": "[encoded data removed]",
      "text/plain": [
       "<Figure size 1080x360 with 2 Axes>"
      ]
     },
     "metadata": {
      "needs_background": "light"
     },
     "output_type": "display_data"
    }
   ],
   "source": [
    "plt.subplot(1, 2, 1)\n",
    "((sub_data5[sub_data5['bowling_team']=='Delhi Capitals'][['wide_runs', 'bye_runs', 'legbye_runs', 'noball_runs', 'penalty_runs']].sum()/sub_data5[sub_data5['bowling_team']=='Delhi Capitals']['extra_runs'].sum())*100).plot.bar(title='Extra runs % by DC', figsize=(15,5))\n",
    "\n",
    "plt.subplot(1, 2, 2)\n",
    "((sub_data5[sub_data5['bowling_team']=='Sunrisers Hyderabad'][['wide_runs', 'bye_runs', 'legbye_runs', 'noball_runs', 'penalty_runs']].sum()/sub_data5[sub_data5['bowling_team']=='Sunrisers Hyderabad']['extra_runs'].sum())*100).plot.bar(title='Extra runs % by SRH', figsize=(15,5), color=['orange'])"
   ]
  },
  {
   "cell_type": "code",
   "execution_count": 125,
   "metadata": {},
   "outputs": [
    {
     "data": {
      "text/html": [
       "<div>\n",
       "<style scoped>\n",
       "    .dataframe tbody tr th:only-of-type {\n",
       "        vertical-align: middle;\n",
       "    }\n",
       "\n",
       "    .dataframe tbody tr th {\n",
       "        vertical-align: top;\n",
       "    }\n",
       "\n",
       "    .dataframe thead th {\n",
       "        text-align: right;\n",
       "    }\n",
       "</style>\n",
       "<table border=\"1\" class=\"dataframe\">\n",
       "  <thead>\n",
       "    <tr style=\"text-align: right;\">\n",
       "      <th></th>\n",
       "      <th>wide_runs</th>\n",
       "      <th>bye_runs</th>\n",
       "      <th>legbye_runs</th>\n",
       "      <th>noball_runs</th>\n",
       "      <th>penalty_runs</th>\n",
       "    </tr>\n",
       "    <tr>\n",
       "      <th>bowler</th>\n",
       "      <th></th>\n",
       "      <th></th>\n",
       "      <th></th>\n",
       "      <th></th>\n",
       "      <th></th>\n",
       "    </tr>\n",
       "  </thead>\n",
       "  <tbody>\n",
       "    <tr>\n",
       "      <th>B Kumar</th>\n",
       "      <td>10</td>\n",
       "      <td>1</td>\n",
       "      <td>5</td>\n",
       "      <td>0</td>\n",
       "      <td>0</td>\n",
       "    </tr>\n",
       "    <tr>\n",
       "      <th>Mustafizur Rahman</th>\n",
       "      <td>3</td>\n",
       "      <td>0</td>\n",
       "      <td>0</td>\n",
       "      <td>0</td>\n",
       "      <td>0</td>\n",
       "    </tr>\n",
       "    <tr>\n",
       "      <th>MC Henriques</th>\n",
       "      <td>2</td>\n",
       "      <td>0</td>\n",
       "      <td>0</td>\n",
       "      <td>0</td>\n",
       "      <td>0</td>\n",
       "    </tr>\n",
       "    <tr>\n",
       "      <th>Mohammed Shami</th>\n",
       "      <td>1</td>\n",
       "      <td>0</td>\n",
       "      <td>6</td>\n",
       "      <td>0</td>\n",
       "      <td>0</td>\n",
       "    </tr>\n",
       "    <tr>\n",
       "      <th>J Yadav</th>\n",
       "      <td>1</td>\n",
       "      <td>0</td>\n",
       "      <td>1</td>\n",
       "      <td>0</td>\n",
       "      <td>0</td>\n",
       "    </tr>\n",
       "    <tr>\n",
       "      <th>A Mishra</th>\n",
       "      <td>1</td>\n",
       "      <td>0</td>\n",
       "      <td>0</td>\n",
       "      <td>0</td>\n",
       "      <td>0</td>\n",
       "    </tr>\n",
       "    <tr>\n",
       "      <th>AD Mathews</th>\n",
       "      <td>1</td>\n",
       "      <td>0</td>\n",
       "      <td>0</td>\n",
       "      <td>0</td>\n",
       "      <td>0</td>\n",
       "    </tr>\n",
       "    <tr>\n",
       "      <th>BB Sran</th>\n",
       "      <td>1</td>\n",
       "      <td>0</td>\n",
       "      <td>0</td>\n",
       "      <td>0</td>\n",
       "      <td>0</td>\n",
       "    </tr>\n",
       "    <tr>\n",
       "      <th>CH Morris</th>\n",
       "      <td>1</td>\n",
       "      <td>0</td>\n",
       "      <td>0</td>\n",
       "      <td>0</td>\n",
       "      <td>0</td>\n",
       "    </tr>\n",
       "    <tr>\n",
       "      <th>CR Brathwaite</th>\n",
       "      <td>1</td>\n",
       "      <td>0</td>\n",
       "      <td>0</td>\n",
       "      <td>0</td>\n",
       "      <td>0</td>\n",
       "    </tr>\n",
       "  </tbody>\n",
       "</table>\n",
       "</div>"
      ],
      "text/plain": [
       "                   wide_runs  bye_runs  legbye_runs  noball_runs  penalty_runs\n",
       "bowler                                                                        \n",
       "B Kumar                   10         1            5            0             0\n",
       "Mustafizur Rahman          3         0            0            0             0\n",
       "MC Henriques               2         0            0            0             0\n",
       "Mohammed Shami             1         0            6            0             0\n",
       "J Yadav                    1         0            1            0             0\n",
       "A Mishra                   1         0            0            0             0\n",
       "AD Mathews                 1         0            0            0             0\n",
       "BB Sran                    1         0            0            0             0\n",
       "CH Morris                  1         0            0            0             0\n",
       "CR Brathwaite              1         0            0            0             0"
      ]
     },
     "execution_count": 125,
     "metadata": {},
     "output_type": "execute_result"
    }
   ],
   "source": [
    "sub_data5[sub_data5['season']>2015].groupby('bowler')[['wide_runs', 'bye_runs', 'legbye_runs', 'noball_runs', 'penalty_runs']].sum().sort_values(by =['wide_runs', 'bye_runs', 'legbye_runs', 'noball_runs', 'penalty_runs'] , ascending=False).head(10)"
   ]
  },
  {
   "cell_type": "code",
   "execution_count": 126,
   "metadata": {},
   "outputs": [
    {
     "data": {
      "text/html": [
       "<div>\n",
       "<style scoped>\n",
       "    .dataframe tbody tr th:only-of-type {\n",
       "        vertical-align: middle;\n",
       "    }\n",
       "\n",
       "    .dataframe tbody tr th {\n",
       "        vertical-align: top;\n",
       "    }\n",
       "\n",
       "    .dataframe thead th {\n",
       "        text-align: right;\n",
       "    }\n",
       "</style>\n",
       "<table border=\"1\" class=\"dataframe\">\n",
       "  <thead>\n",
       "    <tr style=\"text-align: right;\">\n",
       "      <th></th>\n",
       "      <th>wide_runs</th>\n",
       "      <th>bye_runs</th>\n",
       "      <th>legbye_runs</th>\n",
       "      <th>noball_runs</th>\n",
       "      <th>penalty_runs</th>\n",
       "    </tr>\n",
       "    <tr>\n",
       "      <th>batsman</th>\n",
       "      <th></th>\n",
       "      <th></th>\n",
       "      <th></th>\n",
       "      <th></th>\n",
       "      <th></th>\n",
       "    </tr>\n",
       "  </thead>\n",
       "  <tbody>\n",
       "    <tr>\n",
       "      <th>Q de Kock</th>\n",
       "      <td>7</td>\n",
       "      <td>0</td>\n",
       "      <td>0</td>\n",
       "      <td>0</td>\n",
       "      <td>0</td>\n",
       "    </tr>\n",
       "    <tr>\n",
       "      <th>KS Williamson</th>\n",
       "      <td>3</td>\n",
       "      <td>0</td>\n",
       "      <td>7</td>\n",
       "      <td>1</td>\n",
       "      <td>0</td>\n",
       "    </tr>\n",
       "    <tr>\n",
       "      <th>KK Nair</th>\n",
       "      <td>3</td>\n",
       "      <td>0</td>\n",
       "      <td>1</td>\n",
       "      <td>0</td>\n",
       "      <td>0</td>\n",
       "    </tr>\n",
       "    <tr>\n",
       "      <th>SS Iyer</th>\n",
       "      <td>2</td>\n",
       "      <td>3</td>\n",
       "      <td>0</td>\n",
       "      <td>0</td>\n",
       "      <td>0</td>\n",
       "    </tr>\n",
       "    <tr>\n",
       "      <th>RR Pant</th>\n",
       "      <td>2</td>\n",
       "      <td>0</td>\n",
       "      <td>1</td>\n",
       "      <td>0</td>\n",
       "      <td>0</td>\n",
       "    </tr>\n",
       "    <tr>\n",
       "      <th>Yuvraj Singh</th>\n",
       "      <td>2</td>\n",
       "      <td>0</td>\n",
       "      <td>1</td>\n",
       "      <td>0</td>\n",
       "      <td>0</td>\n",
       "    </tr>\n",
       "    <tr>\n",
       "      <th>SV Samson</th>\n",
       "      <td>1</td>\n",
       "      <td>0</td>\n",
       "      <td>4</td>\n",
       "      <td>0</td>\n",
       "      <td>0</td>\n",
       "    </tr>\n",
       "    <tr>\n",
       "      <th>CR Brathwaite</th>\n",
       "      <td>1</td>\n",
       "      <td>0</td>\n",
       "      <td>1</td>\n",
       "      <td>0</td>\n",
       "      <td>0</td>\n",
       "    </tr>\n",
       "    <tr>\n",
       "      <th>AD Mathews</th>\n",
       "      <td>1</td>\n",
       "      <td>0</td>\n",
       "      <td>0</td>\n",
       "      <td>0</td>\n",
       "      <td>0</td>\n",
       "    </tr>\n",
       "    <tr>\n",
       "      <th>DA Warner</th>\n",
       "      <td>1</td>\n",
       "      <td>0</td>\n",
       "      <td>0</td>\n",
       "      <td>0</td>\n",
       "      <td>0</td>\n",
       "    </tr>\n",
       "  </tbody>\n",
       "</table>\n",
       "</div>"
      ],
      "text/plain": [
       "               wide_runs  bye_runs  legbye_runs  noball_runs  penalty_runs\n",
       "batsman                                                                   \n",
       "Q de Kock              7         0            0            0             0\n",
       "KS Williamson          3         0            7            1             0\n",
       "KK Nair                3         0            1            0             0\n",
       "SS Iyer                2         3            0            0             0\n",
       "RR Pant                2         0            1            0             0\n",
       "Yuvraj Singh           2         0            1            0             0\n",
       "SV Samson              1         0            4            0             0\n",
       "CR Brathwaite          1         0            1            0             0\n",
       "AD Mathews             1         0            0            0             0\n",
       "DA Warner              1         0            0            0             0"
      ]
     },
     "execution_count": 126,
     "metadata": {},
     "output_type": "execute_result"
    }
   ],
   "source": [
    "sub_data5[sub_data5['season']>2015].groupby('batsman')[['wide_runs', 'bye_runs', 'legbye_runs', 'noball_runs', 'penalty_runs']].sum().sort_values(by =['wide_runs', 'bye_runs', 'legbye_runs', 'noball_runs', 'penalty_runs'] , ascending=False).head(10)"
   ]
  },
  {
   "cell_type": "code",
   "execution_count": 138,
   "metadata": {},
   "outputs": [],
   "source": [
    "extra_per = round(((sub_data.groupby(['match_id', 'bowling_team'])['extra_runs'].sum()/sub_data.groupby(['match_id', 'bowling_team'])['total_runs'].sum())*100).groupby('bowling_team').mean())"
   ]
  },
  {
   "cell_type": "code",
   "execution_count": 139,
   "metadata": {},
   "outputs": [
    {
     "data": {
      "text/plain": [
       "bowling_team\n",
       "Delhi Capitals         29.693333\n",
       "Sunrisers Hyderabad    39.016667\n",
       "dtype: float64"
      ]
     },
     "execution_count": 139,
     "metadata": {},
     "output_type": "execute_result"
    }
   ],
   "source": [
    "sub_data.groupby(['match_id', 'bowling_team'])['total_runs'].sum().groupby('bowling_team').mean()/extra_per"
   ]
  }
 ],
 "metadata": {
  "kernelspec": {
   "display_name": "Python 3",
   "language": "python",
   "name": "python3"
  },
  "language_info": {
   "codemirror_mode": {
    "name": "ipython",
    "version": 3
   },
   "file_extension": ".py",
   "mimetype": "text/x-python",
   "name": "python",
   "nbconvert_exporter": "python",
   "pygments_lexer": "ipython3",
   "version": "3.7.6"
  }
 },
 "nbformat": 4,
 "nbformat_minor": 4
}
