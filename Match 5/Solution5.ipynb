{
 "cells": [
  {
   "cell_type": "code",
   "execution_count": 1,
   "metadata": {},
   "outputs": [],
   "source": [
    "import pandas as pd\n",
    "import numpy as np\n",
    "import matplotlib.pyplot as plt\n",
    "import seaborn as sns\n",
    "import warnings \n",
    "warnings.filterwarnings(\"ignore\")"
   ]
  },
  {
   "cell_type": "code",
   "execution_count": 2,
   "metadata": {},
   "outputs": [],
   "source": [
    "matches = pd.read_csv('C:/Users/Hp/Desktop/WPL/matches.csv')\n",
    "deliveries = pd.read_csv('C:/Users/Hp/Desktop/WPL/deliveries.csv')"
   ]
  },
  {
   "cell_type": "code",
   "execution_count": 3,
   "metadata": {},
   "outputs": [],
   "source": [
    "all_matches = matches[(matches['team1'].isin(['Royal Challengers Bangalore', 'Kings XI Punjab'])) & (matches['team2'].isin(['Royal Challengers Bangalore', 'Kings XI Punjab']))]"
   ]
  },
  {
   "cell_type": "code",
   "execution_count": 4,
   "metadata": {},
   "outputs": [],
   "source": [
    "data = pd.merge(matches, deliveries, how = \"inner\", left_on = 'id', right_on = 'match_id')"
   ]
  },
  {
   "cell_type": "code",
   "execution_count": 5,
   "metadata": {},
   "outputs": [],
   "source": [
    "sub_data = data[(data['team1'].isin(['Royal Challengers Bangalore', 'Kings XI Punjab'])) & (data['team2'].isin(['Royal Challengers Bangalore', 'Kings XI Punjab']))]"
   ]
  },
  {
   "cell_type": "code",
   "execution_count": 6,
   "metadata": {},
   "outputs": [
    {
     "data": {
      "text/html": [
       "<div>\n",
       "<style scoped>\n",
       "    .dataframe tbody tr th:only-of-type {\n",
       "        vertical-align: middle;\n",
       "    }\n",
       "\n",
       "    .dataframe tbody tr th {\n",
       "        vertical-align: top;\n",
       "    }\n",
       "\n",
       "    .dataframe thead th {\n",
       "        text-align: right;\n",
       "    }\n",
       "</style>\n",
       "<table border=\"1\" class=\"dataframe\">\n",
       "  <thead>\n",
       "    <tr style=\"text-align: right;\">\n",
       "      <th></th>\n",
       "      <th>id</th>\n",
       "      <th>season</th>\n",
       "      <th>city</th>\n",
       "      <th>date</th>\n",
       "      <th>team1</th>\n",
       "      <th>team2</th>\n",
       "      <th>toss_winner</th>\n",
       "      <th>toss_decision</th>\n",
       "      <th>result</th>\n",
       "      <th>dl_applied</th>\n",
       "      <th>winner</th>\n",
       "      <th>win_by_runs</th>\n",
       "      <th>win_by_wickets</th>\n",
       "      <th>player_of_match</th>\n",
       "      <th>venue</th>\n",
       "      <th>umpire1</th>\n",
       "      <th>umpire2</th>\n",
       "      <th>umpire3</th>\n",
       "    </tr>\n",
       "  </thead>\n",
       "  <tbody>\n",
       "    <tr>\n",
       "      <th>7</th>\n",
       "      <td>8</td>\n",
       "      <td>2017</td>\n",
       "      <td>Indore</td>\n",
       "      <td>4/10/2017</td>\n",
       "      <td>Royal Challengers Bangalore</td>\n",
       "      <td>Kings XI Punjab</td>\n",
       "      <td>Royal Challengers Bangalore</td>\n",
       "      <td>bat</td>\n",
       "      <td>normal</td>\n",
       "      <td>0</td>\n",
       "      <td>Kings XI Punjab</td>\n",
       "      <td>0</td>\n",
       "      <td>8</td>\n",
       "      <td>AR Patel</td>\n",
       "      <td>Holkar Cricket Stadium</td>\n",
       "      <td>AK Chaudhary</td>\n",
       "      <td>C Shamshuddin</td>\n",
       "      <td>NaN</td>\n",
       "    </tr>\n",
       "    <tr>\n",
       "      <th>41</th>\n",
       "      <td>42</td>\n",
       "      <td>2017</td>\n",
       "      <td>Bangalore</td>\n",
       "      <td>5/5/2017</td>\n",
       "      <td>Kings XI Punjab</td>\n",
       "      <td>Royal Challengers Bangalore</td>\n",
       "      <td>Royal Challengers Bangalore</td>\n",
       "      <td>field</td>\n",
       "      <td>normal</td>\n",
       "      <td>0</td>\n",
       "      <td>Kings XI Punjab</td>\n",
       "      <td>19</td>\n",
       "      <td>0</td>\n",
       "      <td>Sandeep Sharma</td>\n",
       "      <td>M Chinnaswamy Stadium</td>\n",
       "      <td>CB Gaffaney</td>\n",
       "      <td>C Shamshuddin</td>\n",
       "      <td>NaN</td>\n",
       "    </tr>\n",
       "    <tr>\n",
       "      <th>83</th>\n",
       "      <td>84</td>\n",
       "      <td>2008</td>\n",
       "      <td>Bangalore</td>\n",
       "      <td>5/5/2008</td>\n",
       "      <td>Royal Challengers Bangalore</td>\n",
       "      <td>Kings XI Punjab</td>\n",
       "      <td>Kings XI Punjab</td>\n",
       "      <td>field</td>\n",
       "      <td>normal</td>\n",
       "      <td>0</td>\n",
       "      <td>Kings XI Punjab</td>\n",
       "      <td>0</td>\n",
       "      <td>6</td>\n",
       "      <td>S Sreesanth</td>\n",
       "      <td>M Chinnaswamy Stadium</td>\n",
       "      <td>SJ Davis</td>\n",
       "      <td>BR Doctrove</td>\n",
       "      <td>NaN</td>\n",
       "    </tr>\n",
       "    <tr>\n",
       "      <th>93</th>\n",
       "      <td>94</td>\n",
       "      <td>2008</td>\n",
       "      <td>Chandigarh</td>\n",
       "      <td>5/12/2008</td>\n",
       "      <td>Royal Challengers Bangalore</td>\n",
       "      <td>Kings XI Punjab</td>\n",
       "      <td>Royal Challengers Bangalore</td>\n",
       "      <td>bat</td>\n",
       "      <td>normal</td>\n",
       "      <td>0</td>\n",
       "      <td>Kings XI Punjab</td>\n",
       "      <td>0</td>\n",
       "      <td>9</td>\n",
       "      <td>SE Marsh</td>\n",
       "      <td>Punjab Cricket Association Stadium, Mohali</td>\n",
       "      <td>BR Doctrove</td>\n",
       "      <td>I Shivram</td>\n",
       "      <td>NaN</td>\n",
       "    </tr>\n",
       "    <tr>\n",
       "      <th>126</th>\n",
       "      <td>127</td>\n",
       "      <td>2009</td>\n",
       "      <td>Durban</td>\n",
       "      <td>4/24/2009</td>\n",
       "      <td>Royal Challengers Bangalore</td>\n",
       "      <td>Kings XI Punjab</td>\n",
       "      <td>Royal Challengers Bangalore</td>\n",
       "      <td>bat</td>\n",
       "      <td>normal</td>\n",
       "      <td>0</td>\n",
       "      <td>Kings XI Punjab</td>\n",
       "      <td>0</td>\n",
       "      <td>7</td>\n",
       "      <td>RS Bopara</td>\n",
       "      <td>Kingsmead</td>\n",
       "      <td>BR Doctrove</td>\n",
       "      <td>TH Wijewardene</td>\n",
       "      <td>NaN</td>\n",
       "    </tr>\n",
       "  </tbody>\n",
       "</table>\n",
       "</div>"
      ],
      "text/plain": [
       "      id  season        city       date                        team1  \\\n",
       "7      8    2017      Indore  4/10/2017  Royal Challengers Bangalore   \n",
       "41    42    2017   Bangalore   5/5/2017              Kings XI Punjab   \n",
       "83    84    2008   Bangalore   5/5/2008  Royal Challengers Bangalore   \n",
       "93    94    2008  Chandigarh  5/12/2008  Royal Challengers Bangalore   \n",
       "126  127    2009      Durban  4/24/2009  Royal Challengers Bangalore   \n",
       "\n",
       "                           team2                  toss_winner toss_decision  \\\n",
       "7                Kings XI Punjab  Royal Challengers Bangalore           bat   \n",
       "41   Royal Challengers Bangalore  Royal Challengers Bangalore         field   \n",
       "83               Kings XI Punjab              Kings XI Punjab         field   \n",
       "93               Kings XI Punjab  Royal Challengers Bangalore           bat   \n",
       "126              Kings XI Punjab  Royal Challengers Bangalore           bat   \n",
       "\n",
       "     result  dl_applied           winner  win_by_runs  win_by_wickets  \\\n",
       "7    normal           0  Kings XI Punjab            0               8   \n",
       "41   normal           0  Kings XI Punjab           19               0   \n",
       "83   normal           0  Kings XI Punjab            0               6   \n",
       "93   normal           0  Kings XI Punjab            0               9   \n",
       "126  normal           0  Kings XI Punjab            0               7   \n",
       "\n",
       "    player_of_match                                       venue       umpire1  \\\n",
       "7          AR Patel                      Holkar Cricket Stadium  AK Chaudhary   \n",
       "41   Sandeep Sharma                       M Chinnaswamy Stadium   CB Gaffaney   \n",
       "83      S Sreesanth                       M Chinnaswamy Stadium      SJ Davis   \n",
       "93         SE Marsh  Punjab Cricket Association Stadium, Mohali   BR Doctrove   \n",
       "126       RS Bopara                                   Kingsmead   BR Doctrove   \n",
       "\n",
       "            umpire2 umpire3  \n",
       "7     C Shamshuddin     NaN  \n",
       "41    C Shamshuddin     NaN  \n",
       "83      BR Doctrove     NaN  \n",
       "93        I Shivram     NaN  \n",
       "126  TH Wijewardene     NaN  "
      ]
     },
     "execution_count": 6,
     "metadata": {},
     "output_type": "execute_result"
    }
   ],
   "source": [
    "all_matches.head()"
   ]
  },
  {
   "cell_type": "code",
   "execution_count": 7,
   "metadata": {},
   "outputs": [
    {
     "data": {
      "text/plain": [
       "<matplotlib.axes._subplots.AxesSubplot at 0x2249ea84a48>"
      ]
     },
     "execution_count": 7,
     "metadata": {},
     "output_type": "execute_result"
    },
    {
     "data": {
      "image/png": "[encoded data removed]",
      "text/plain": [
       "<Figure size 432x288 with 1 Axes>"
      ]
     },
     "metadata": {
      "needs_background": "light"
     },
     "output_type": "display_data"
    }
   ],
   "source": [
    "all_matches['winner'].value_counts(normalize=True).plot.bar(title='% Win of Each Team', color=['Orange', 'Red'])"
   ]
  },
  {
   "cell_type": "code",
   "execution_count": 8,
   "metadata": {},
   "outputs": [
    {
     "data": {
      "text/plain": [
       "city        winner                     \n",
       "Bangalore   Kings XI Punjab                5\n",
       "            Royal Challengers Bangalore    4\n",
       "Bengaluru   Royal Challengers Bangalore    2\n",
       "Chandigarh  Kings XI Punjab                3\n",
       "            Royal Challengers Bangalore    3\n",
       "Dharamsala  Kings XI Punjab                1\n",
       "Durban      Kings XI Punjab                1\n",
       "            Royal Challengers Bangalore    1\n",
       "Indore      Kings XI Punjab                1\n",
       "            Royal Challengers Bangalore    1\n",
       "Mohali      Royal Challengers Bangalore    1\n",
       "Name: winner, dtype: int64"
      ]
     },
     "execution_count": 8,
     "metadata": {},
     "output_type": "execute_result"
    }
   ],
   "source": [
    "all_matches.groupby('city')['winner'].value_counts()"
   ]
  },
  {
   "cell_type": "code",
   "execution_count": 9,
   "metadata": {},
   "outputs": [
    {
     "data": {
      "text/plain": [
       "season  winner                     \n",
       "2008    Kings XI Punjab                2\n",
       "2009    Kings XI Punjab                1\n",
       "        Royal Challengers Bangalore    1\n",
       "2010    Royal Challengers Bangalore    2\n",
       "2011    Kings XI Punjab                1\n",
       "        Royal Challengers Bangalore    1\n",
       "2012    Kings XI Punjab                1\n",
       "        Royal Challengers Bangalore    1\n",
       "2013    Kings XI Punjab                2\n",
       "2014    Kings XI Punjab                2\n",
       "2015    Kings XI Punjab                1\n",
       "        Royal Challengers Bangalore    1\n",
       "2016    Royal Challengers Bangalore    2\n",
       "2017    Kings XI Punjab                2\n",
       "2018    Royal Challengers Bangalore    2\n",
       "2019    Royal Challengers Bangalore    2\n",
       "Name: winner, dtype: int64"
      ]
     },
     "execution_count": 9,
     "metadata": {},
     "output_type": "execute_result"
    }
   ],
   "source": [
    "all_matches.groupby('season')['winner'].value_counts()"
   ]
  },
  {
   "cell_type": "code",
   "execution_count": 10,
   "metadata": {},
   "outputs": [
    {
     "data": {
      "text/plain": [
       "normal    24\n",
       "Name: result, dtype: int64"
      ]
     },
     "execution_count": 10,
     "metadata": {},
     "output_type": "execute_result"
    }
   ],
   "source": [
    "all_matches['result'].value_counts()"
   ]
  },
  {
   "cell_type": "code",
   "execution_count": 11,
   "metadata": {},
   "outputs": [
    {
     "data": {
      "text/html": [
       "<div>\n",
       "<style scoped>\n",
       "    .dataframe tbody tr th:only-of-type {\n",
       "        vertical-align: middle;\n",
       "    }\n",
       "\n",
       "    .dataframe tbody tr th {\n",
       "        vertical-align: top;\n",
       "    }\n",
       "\n",
       "    .dataframe thead th {\n",
       "        text-align: right;\n",
       "    }\n",
       "</style>\n",
       "<table border=\"1\" class=\"dataframe\">\n",
       "  <thead>\n",
       "    <tr style=\"text-align: right;\">\n",
       "      <th></th>\n",
       "      <th>win_by_runs</th>\n",
       "      <th>win_by_wickets</th>\n",
       "    </tr>\n",
       "    <tr>\n",
       "      <th>winner</th>\n",
       "      <th></th>\n",
       "      <th></th>\n",
       "    </tr>\n",
       "  </thead>\n",
       "  <tbody>\n",
       "    <tr>\n",
       "      <th>Kings XI Punjab</th>\n",
       "      <td>111</td>\n",
       "      <td>9</td>\n",
       "    </tr>\n",
       "    <tr>\n",
       "      <th>Royal Challengers Bangalore</th>\n",
       "      <td>138</td>\n",
       "      <td>10</td>\n",
       "    </tr>\n",
       "  </tbody>\n",
       "</table>\n",
       "</div>"
      ],
      "text/plain": [
       "                             win_by_runs  win_by_wickets\n",
       "winner                                                  \n",
       "Kings XI Punjab                      111               9\n",
       "Royal Challengers Bangalore          138              10"
      ]
     },
     "execution_count": 11,
     "metadata": {},
     "output_type": "execute_result"
    }
   ],
   "source": [
    "all_matches.groupby('winner')['win_by_runs', 'win_by_wickets'].max()"
   ]
  },
  {
   "cell_type": "code",
   "execution_count": 12,
   "metadata": {},
   "outputs": [
    {
     "data": {
      "text/plain": [
       "<matplotlib.axes._subplots.AxesSubplot at 0x2249f242bc8>"
      ]
     },
     "execution_count": 12,
     "metadata": {},
     "output_type": "execute_result"
    },
    {
     "data": {
      "image/png": "[encoded data removed]",
      "text/plain": [
       "<Figure size 432x288 with 1 Axes>"
      ]
     },
     "metadata": {
      "needs_background": "light"
     },
     "output_type": "display_data"
    }
   ],
   "source": [
    "all_matches['player_of_match'].value_counts().head(10).plot.bar(title='Most man of the Matches')"
   ]
  },
  {
   "cell_type": "markdown",
   "metadata": {},
   "source": [
    "### How many wickets Kings XI Punjab will lose?"
   ]
  },
  {
   "cell_type": "code",
   "execution_count": 13,
   "metadata": {},
   "outputs": [],
   "source": [
    "sub_data1 = sub_data[(sub_data['batting_team'] == 'Kings XI Punjab') & (-sub_data['player_dismissed'].isnull())]"
   ]
  },
  {
   "cell_type": "code",
   "execution_count": 14,
   "metadata": {},
   "outputs": [
    {
     "data": {
      "text/plain": [
       "<matplotlib.axes._subplots.AxesSubplot at 0x2249f30a908>"
      ]
     },
     "execution_count": 14,
     "metadata": {},
     "output_type": "execute_result"
    },
    {
     "data": {
      "image/png": "[encoded data removed]",
      "text/plain": [
       "<Figure size 432x288 with 1 Axes>"
      ]
     },
     "metadata": {
      "needs_background": "light"
     },
     "output_type": "display_data"
    }
   ],
   "source": [
    "sub_data1.groupby('match_id')['player_dismissed'].agg({'count'}).plot.bar(title='Wickets lost by KXIP over Matches')"
   ]
  },
  {
   "cell_type": "code",
   "execution_count": 15,
   "metadata": {},
   "outputs": [],
   "source": [
    "avg_wick = int(round(sub_data1.groupby('match_id')['player_dismissed'].agg({'count'}).mean()[0]))"
   ]
  },
  {
   "cell_type": "code",
   "execution_count": 16,
   "metadata": {},
   "outputs": [
    {
     "name": "stdout",
     "output_type": "stream",
     "text": [
      "Average wicket lost by KXIP is : 6\n"
     ]
    }
   ],
   "source": [
    "print(\"Average wicket lost by KXIP is : {}\".format(avg_wick))"
   ]
  },
  {
   "cell_type": "code",
   "execution_count": 17,
   "metadata": {},
   "outputs": [
    {
     "data": {
      "text/plain": [
       "<matplotlib.axes._subplots.AxesSubplot at 0x2249f3fc3c8>"
      ]
     },
     "execution_count": 17,
     "metadata": {},
     "output_type": "execute_result"
    },
    {
     "data": {
      "image/png": "[encoded data removed]",
      "text/plain": [
       "<Figure size 432x288 with 1 Axes>"
      ]
     },
     "metadata": {
      "needs_background": "light"
     },
     "output_type": "display_data"
    }
   ],
   "source": [
    "sub_data1['player_dismissed'].value_counts().head(10).plot.bar(title='Most dismissed players from KXIP')"
   ]
  },
  {
   "cell_type": "code",
   "execution_count": 28,
   "metadata": {},
   "outputs": [
    {
     "data": {
      "text/plain": [
       "<matplotlib.axes._subplots.AxesSubplot at 0x2249f522cc8>"
      ]
     },
     "execution_count": 28,
     "metadata": {},
     "output_type": "execute_result"
    },
    {
     "data": {
      "image/png": "[encoded data removed]",
      "text/plain": [
       "<Figure size 432x288 with 1 Axes>"
      ]
     },
     "metadata": {
      "needs_background": "light"
     },
     "output_type": "display_data"
    }
   ],
   "source": [
    "sub_data1.groupby('bowler')['player_dismissed'].agg({'count'}).sort_values(by = 'count', ascending=False).head(10).plot.bar(title = 'Top Wicket-takers against KXIP')"
   ]
  },
  {
   "cell_type": "code",
   "execution_count": 19,
   "metadata": {},
   "outputs": [
    {
     "data": {
      "text/plain": [
       "bowler     player_dismissed\n",
       "M Ali      AJ Finch            1\n",
       "           AS Rajpoot          1\n",
       "           KL Rahul            1\n",
       "           MM Sharma           1\n",
       "           R Ashwin            1\n",
       "           S Curran            1\n",
       "YS Chahal  DA Miller           3\n",
       "           GJ Maxwell          2\n",
       "           V Sehwag            2\n",
       "           WP Saha             2\n",
       "           AR Patel            1\n",
       "           F Behardien         1\n",
       "           GJ Bailey           1\n",
       "           Gurkeerat Singh     1\n",
       "           KJ Abbott           1\n",
       "           KL Rahul            1\n",
       "           M Vohra             1\n",
       "           MA Agarwal          1\n",
       "           MP Stoinis          1\n",
       "           R Ashwin            1\n",
       "           Sandeep Sharma      1\n",
       "Name: player_dismissed, dtype: int64"
      ]
     },
     "execution_count": 19,
     "metadata": {},
     "output_type": "execute_result"
    }
   ],
   "source": [
    "sub_data1[sub_data1['bowler'].isin(['YS Chahal', 'M Ali'])].groupby('bowler')['player_dismissed'].value_counts()"
   ]
  },
  {
   "cell_type": "code",
   "execution_count": 20,
   "metadata": {},
   "outputs": [],
   "source": [
    "sub_data2 = sub_data[(sub_data['batting_team'] == 'Kings XI Punjab') & (sub_data['bowling_team'] == 'Royal Challengers Bangalore')]"
   ]
  },
  {
   "cell_type": "code",
   "execution_count": 21,
   "metadata": {},
   "outputs": [
    {
     "data": {
      "text/plain": [
       "array(['B Stanlake', 'Iqbal Abdulla', 'SR Watson', 'TS Mills',\n",
       "       'YS Chahal', 'P Negi', 'A Choudhary', 'S Aravind', 'S Badree',\n",
       "       'DW Steyn', 'Z Khan', 'P Kumar', 'JH Kallis', 'A Kumble',\n",
       "       'R Vinay Kumar', 'V Kohli', 'Pankaj Singh', 'KP Pietersen',\n",
       "       'JD Ryder', 'RE van der Merwe', 'KP Appanna', 'CH Gayle',\n",
       "       'A Mithun', 'DL Vettori', 'JJ van der Wath', 'CK Langeveldt',\n",
       "       'HV Patel', 'AB McDonald', 'AUK Pathan', 'MC Henriques',\n",
       "       'JD Unadkat', 'M Muralitharan', 'R Rampaul', 'RP Singh',\n",
       "       'M Kartik', 'MA Starc', 'JA Morkel', 'VR Aaron', 'AB Dinda',\n",
       "       'Yuvraj Singh', 'D Wiese', 'STR Binny', 'CJ Jordan', 'Sachin Baby',\n",
       "       'CR Woakes', 'UT Yadav', 'K Khejroliya', 'Washington Sundar',\n",
       "       'TG Southee', 'Mohammed Siraj', 'C de Grandhomme', 'M Ali',\n",
       "       'N Saini', 'MP Stoinis'], dtype=object)"
      ]
     },
     "execution_count": 21,
     "metadata": {},
     "output_type": "execute_result"
    }
   ],
   "source": [
    "sub_data2['bowler'].unique()"
   ]
  },
  {
   "cell_type": "code",
   "execution_count": 22,
   "metadata": {},
   "outputs": [],
   "source": [
    "bowlers = ['YS Chahal', 'Washington Sundar', 'Mohammed Siraj', 'M Ali', 'N Saini']"
   ]
  },
  {
   "cell_type": "code",
   "execution_count": 23,
   "metadata": {},
   "outputs": [],
   "source": [
    "batsman = ['M Vohra', 'GJ Maxwell', 'Mandeep Singh', 'Gurkeerat Singh', 'KL Rahul', 'KK Nair', 'CH Gayle', 'N Pooran']"
   ]
  },
  {
   "cell_type": "code",
   "execution_count": 24,
   "metadata": {},
   "outputs": [
    {
     "data": {
      "text/plain": [
       "season  match_id  bowler             batsman        \n",
       "2014    475       YS Chahal          GJ Maxwell          6\n",
       "        488       YS Chahal          GJ Maxwell          4\n",
       "2015    566       YS Chahal          Gurkeerat Singh     1\n",
       "2016    626       YS Chahal          Gurkeerat Singh     7\n",
       "2017    8         YS Chahal          GJ Maxwell          9\n",
       "        42        YS Chahal          GJ Maxwell          1\n",
       "                                     M Vohra             1\n",
       "2018    7901      Washington Sundar  KK Nair             4\n",
       "                                     KL Rahul            2\n",
       "                  YS Chahal          KK Nair            10\n",
       "                                     KL Rahul           19\n",
       "        7941      Mohammed Siraj     KK Nair             0\n",
       "2019    11319     M Ali              CH Gayle            7\n",
       "                                     Mandeep Singh       1\n",
       "                  Mohammed Siraj     CH Gayle           43\n",
       "                                     Mandeep Singh       4\n",
       "                  N Saini            CH Gayle           13\n",
       "                                     KL Rahul            1\n",
       "                                     Mandeep Singh       9\n",
       "                  YS Chahal          CH Gayle           14\n",
       "                                     KL Rahul            6\n",
       "                                     Mandeep Singh       2\n",
       "        11333     M Ali              KL Rahul            0\n",
       "                                     N Pooran           17\n",
       "                  N Saini            CH Gayle            5\n",
       "                                     KL Rahul           12\n",
       "                                     Mandeep Singh       2\n",
       "                                     N Pooran            6\n",
       "                  Washington Sundar  N Pooran           20\n",
       "                  YS Chahal          KL Rahul           12\n",
       "Name: batsman_runs, dtype: int64"
      ]
     },
     "execution_count": 24,
     "metadata": {},
     "output_type": "execute_result"
    }
   ],
   "source": [
    "sub_data[sub_data['bowler'].isin(bowlers) & (sub_data['batsman'].isin(batsman))].groupby(['season','match_id','bowler','batsman'])['batsman_runs'].sum()"
   ]
  },
  {
   "cell_type": "code",
   "execution_count": 25,
   "metadata": {},
   "outputs": [
    {
     "data": {
      "text/plain": [
       "season  match_id  bowler             batsman          player_dismissed\n",
       "2014    488       YS Chahal          GJ Maxwell       GJ Maxwell          1\n",
       "2016    626       YS Chahal          Gurkeerat Singh  Gurkeerat Singh     1\n",
       "2017    42        YS Chahal          GJ Maxwell       GJ Maxwell          1\n",
       "                                     M Vohra          M Vohra             1\n",
       "2018    7901      Washington Sundar  KL Rahul         KL Rahul            1\n",
       "        7941      Mohammed Siraj     KK Nair          KK Nair             1\n",
       "2019    11319     YS Chahal          KL Rahul         KL Rahul            1\n",
       "        11333     M Ali              KL Rahul         KL Rahul            1\n",
       "                  N Saini            N Pooran         N Pooran            1\n",
       "Name: player_dismissed, dtype: int64"
      ]
     },
     "execution_count": 25,
     "metadata": {},
     "output_type": "execute_result"
    }
   ],
   "source": [
    "sub_data[sub_data['bowler'].isin(bowlers) & (sub_data['batsman'].isin(batsman))].groupby(['season','match_id','bowler','batsman'])['player_dismissed'].value_counts()"
   ]
  },
  {
   "cell_type": "markdown",
   "metadata": {},
   "source": [
    "### How many runs partnership will Virat Kohli and AB De Villers put up?"
   ]
  },
  {
   "cell_type": "code",
   "execution_count": 26,
   "metadata": {},
   "outputs": [],
   "source": [
    "sub_data3 = sub_data[(sub_data['batsman'].isin(['V Kohli', 'AB de Villiers'])) & (sub_data['non_striker'].isin(['V Kohli', 'AB de Villiers']))]"
   ]
  },
  {
   "cell_type": "code",
   "execution_count": 47,
   "metadata": {},
   "outputs": [
    {
     "data": {
      "text/plain": [
       "<matplotlib.axes._subplots.AxesSubplot at 0x2249fa63ec8>"
      ]
     },
     "execution_count": 47,
     "metadata": {},
     "output_type": "execute_result"
    },
    {
     "data": {
      "image/png": "[encoded data removed]",
      "text/plain": [
       "<Figure size 432x288 with 1 Axes>"
      ]
     },
     "metadata": {
      "needs_background": "light"
     },
     "output_type": "display_data"
    }
   ],
   "source": [
    "sub_data3.groupby('match_id')['total_runs'].sum().sort_values(ascending=False).plot.bar(title = 'Runs Scored by V Kohli and ABD Together against KXIP')"
   ]
  },
  {
   "cell_type": "code",
   "execution_count": 51,
   "metadata": {},
   "outputs": [],
   "source": [
    "sub_del = deliveries[deliveries['batsman'].isin(['V Kohli', 'AB de Villiers']) & deliveries['non_striker'].isin(['V Kohli', 'AB de Villiers'])]"
   ]
  },
  {
   "cell_type": "code",
   "execution_count": 57,
   "metadata": {},
   "outputs": [
    {
     "data": {
      "text/plain": [
       "<matplotlib.axes._subplots.AxesSubplot at 0x2249ffe0688>"
      ]
     },
     "execution_count": 57,
     "metadata": {},
     "output_type": "execute_result"
    },
    {
     "data": {
      "image/png": "[encoded data removed]",
      "text/plain": [
       "<Figure size 1080x360 with 1 Axes>"
      ]
     },
     "metadata": {
      "needs_background": "light"
     },
     "output_type": "display_data"
    }
   ],
   "source": [
    "sub_del.groupby('match_id')['total_runs'].sum().sort_values(ascending=False).plot.bar(title='Runs Scored by V Kohli and ABD together against all teams', figsize=(15,5))"
   ]
  },
  {
   "cell_type": "code",
   "execution_count": 68,
   "metadata": {},
   "outputs": [
    {
     "data": {
      "text/plain": [
       "<matplotlib.axes._subplots.AxesSubplot at 0x224a01d9bc8>"
      ]
     },
     "execution_count": 68,
     "metadata": {},
     "output_type": "execute_result"
    },
    {
     "data": {
      "image/png": "[encoded data removed]",
      "text/plain": [
       "<Figure size 432x288 with 1 Axes>"
      ]
     },
     "metadata": {
      "needs_background": "light"
     },
     "output_type": "display_data"
    }
   ],
   "source": [
    "sub_del.groupby(['match_id'])['total_runs'].sum().plot.box(title='V Kohli and ABD total Partnership Distribution')"
   ]
  },
  {
   "cell_type": "code",
   "execution_count": 73,
   "metadata": {},
   "outputs": [
    {
     "data": {
      "text/plain": [
       "<matplotlib.axes._subplots.AxesSubplot at 0x224a02cb548>"
      ]
     },
     "execution_count": 73,
     "metadata": {},
     "output_type": "execute_result"
    },
    {
     "data": {
      "image/png": "[encoded data removed]",
      "text/plain": [
       "<Figure size 432x288 with 1 Axes>"
      ]
     },
     "metadata": {
      "needs_background": "light"
     },
     "output_type": "display_data"
    }
   ],
   "source": [
    "sub_data3.groupby('bowler')['total_runs'].sum().sort_values(ascending=False).plot.bar(title='Total runs conceded against VK and ABD')"
   ]
  },
  {
   "cell_type": "code",
   "execution_count": 74,
   "metadata": {},
   "outputs": [
    {
     "data": {
      "text/plain": [
       "bowler          player_dismissed\n",
       "KC Cariappa     V Kohli             1\n",
       "KJ Abbott       AB de Villiers      1\n",
       "Mohammed Shami  V Kohli             1\n",
       "P Awana         AB de Villiers      1\n",
       "                V Kohli             1\n",
       "PP Chawla       V Kohli             2\n",
       "Name: player_dismissed, dtype: int64"
      ]
     },
     "execution_count": 74,
     "metadata": {},
     "output_type": "execute_result"
    }
   ],
   "source": [
    "sub_data3.groupby(['bowler'])['player_dismissed'].value_counts()"
   ]
  },
  {
   "cell_type": "code",
   "execution_count": 76,
   "metadata": {},
   "outputs": [
    {
     "data": {
      "text/plain": [
       "bowler    player_dismissed\n",
       "M Ali     AJ Finch            1\n",
       "UT Yadav  AJ Finch            1\n",
       "Name: player_dismissed, dtype: int64"
      ]
     },
     "execution_count": 76,
     "metadata": {},
     "output_type": "execute_result"
    }
   ],
   "source": [
    "sub_data[sub_data['batsman'].isin(['AJ Finch'])].groupby('bowler')['player_dismissed'].value_counts()"
   ]
  },
  {
   "cell_type": "markdown",
   "metadata": {},
   "source": [
    "### How many 6s will be hit in the match?"
   ]
  },
  {
   "cell_type": "code",
   "execution_count": 80,
   "metadata": {},
   "outputs": [],
   "source": [
    "sub_data4 = sub_data[sub_data['batsman_runs'] == 6]"
   ]
  },
  {
   "cell_type": "code",
   "execution_count": 90,
   "metadata": {},
   "outputs": [
    {
     "data": {
      "text/plain": [
       "<matplotlib.axes._subplots.AxesSubplot at 0x224a06446c8>"
      ]
     },
     "execution_count": 90,
     "metadata": {},
     "output_type": "execute_result"
    },
    {
     "data": {
      "image/png": "[encoded data removed]",
      "text/plain": [
       "<Figure size 432x288 with 1 Axes>"
      ]
     },
     "metadata": {
      "needs_background": "light"
     },
     "output_type": "display_data"
    }
   ],
   "source": [
    "sub_data4.groupby('batsman')['batsman_runs'].value_counts().sort_values(ascending=False).head(15).plot.bar(title='Batsman with most no. of 6s')"
   ]
  },
  {
   "cell_type": "code",
   "execution_count": 105,
   "metadata": {},
   "outputs": [
    {
     "data": {
      "text/plain": [
       "<matplotlib.axes._subplots.AxesSubplot at 0x224a19372c8>"
      ]
     },
     "execution_count": 105,
     "metadata": {},
     "output_type": "execute_result"
    },
    {
     "data": {
      "image/png": "[encoded data removed]",
      "text/plain": [
       "<Figure size 432x288 with 1 Axes>"
      ]
     },
     "metadata": {
      "needs_background": "light"
     },
     "output_type": "display_data"
    }
   ],
   "source": [
    "sub_data4.groupby('match_id')['batsman_runs'].value_counts().sort_values(ascending=False).plot.bar()"
   ]
  },
  {
   "cell_type": "code",
   "execution_count": 93,
   "metadata": {},
   "outputs": [
    {
     "data": {
      "text/plain": [
       "<matplotlib.axes._subplots.AxesSubplot at 0x224a06fb7c8>"
      ]
     },
     "execution_count": 93,
     "metadata": {},
     "output_type": "execute_result"
    },
    {
     "data": {
      "image/png": "[encoded data removed]",
      "text/plain": [
       "<Figure size 432x288 with 1 Axes>"
      ]
     },
     "metadata": {
      "needs_background": "light"
     },
     "output_type": "display_data"
    }
   ],
   "source": [
    "sub_data4.groupby(['bowler'])['batsman_runs'].value_counts().sort_values(ascending=False).head(10).plot.bar(title='Bowlers who concede most 6s')"
   ]
  },
  {
   "cell_type": "code",
   "execution_count": 96,
   "metadata": {},
   "outputs": [
    {
     "data": {
      "text/plain": [
       "bowler          batsman         batsman_runs\n",
       "AR Patel        CH Gayle        6               8\n",
       "MM Sharma       AB de Villiers  6               6\n",
       "KC Cariappa     V Kohli         6               6\n",
       "MS Gony         CH Gayle        6               5\n",
       "Sandeep Sharma  AB de Villiers  6               5\n",
       "PP Chawla       CH Gayle        6               5\n",
       "Sandeep Sharma  CH Gayle        6               4\n",
       "GJ Maxwell      CH Gayle        6               4\n",
       "Mohammed Shami  AB de Villiers  6               4\n",
       "S Sreesanth     RV Uthappa      6               3\n",
       "Name: batsman_runs, dtype: int64"
      ]
     },
     "execution_count": 96,
     "metadata": {},
     "output_type": "execute_result"
    }
   ],
   "source": [
    "sub_data4.groupby(['bowler','batsman'])['batsman_runs'].value_counts().sort_values(ascending=False).head(10)"
   ]
  },
  {
   "cell_type": "code",
   "execution_count": 103,
   "metadata": {},
   "outputs": [
    {
     "data": {
      "text/plain": [
       "<matplotlib.axes._subplots.AxesSubplot at 0x224a18ca2c8>"
      ]
     },
     "execution_count": 103,
     "metadata": {},
     "output_type": "execute_result"
    },
    {
     "data": {
      "image/png": "[encoded data removed]",
      "text/plain": [
       "<Figure size 432x288 with 1 Axes>"
      ]
     },
     "metadata": {
      "needs_background": "light"
     },
     "output_type": "display_data"
    }
   ],
   "source": [
    "deliveries[deliveries['batsman'].isin(['N Pooran', 'KL Rahul', 'CH Gayle', 'AB de Villiers', 'AR Finch', 'S Dube', 'V Kohli']) & (deliveries['batsman_runs'] == 6)].groupby(['batsman'])['batsman_runs'].value_counts().sort_values(ascending=False).plot.bar()"
   ]
  },
  {
   "cell_type": "markdown",
   "metadata": {},
   "source": [
    "### How many no balls will be bowled?"
   ]
  },
  {
   "cell_type": "code",
   "execution_count": 115,
   "metadata": {},
   "outputs": [],
   "source": [
    "sub_data5 = sub_data[sub_data['noball_runs']!=0]"
   ]
  },
  {
   "cell_type": "code",
   "execution_count": 117,
   "metadata": {},
   "outputs": [
    {
     "data": {
      "text/html": [
       "<div>\n",
       "<style scoped>\n",
       "    .dataframe tbody tr th:only-of-type {\n",
       "        vertical-align: middle;\n",
       "    }\n",
       "\n",
       "    .dataframe tbody tr th {\n",
       "        vertical-align: top;\n",
       "    }\n",
       "\n",
       "    .dataframe thead th {\n",
       "        text-align: right;\n",
       "    }\n",
       "</style>\n",
       "<table border=\"1\" class=\"dataframe\">\n",
       "  <thead>\n",
       "    <tr style=\"text-align: right;\">\n",
       "      <th></th>\n",
       "      <th>count</th>\n",
       "    </tr>\n",
       "    <tr>\n",
       "      <th>match_id</th>\n",
       "      <th></th>\n",
       "    </tr>\n",
       "  </thead>\n",
       "  <tbody>\n",
       "    <tr>\n",
       "      <th>181</th>\n",
       "      <td>2</td>\n",
       "    </tr>\n",
       "    <tr>\n",
       "      <th>205</th>\n",
       "      <td>2</td>\n",
       "    </tr>\n",
       "    <tr>\n",
       "      <th>280</th>\n",
       "      <td>1</td>\n",
       "    </tr>\n",
       "    <tr>\n",
       "      <th>296</th>\n",
       "      <td>2</td>\n",
       "    </tr>\n",
       "    <tr>\n",
       "      <th>333</th>\n",
       "      <td>1</td>\n",
       "    </tr>\n",
       "    <tr>\n",
       "      <th>429</th>\n",
       "      <td>3</td>\n",
       "    </tr>\n",
       "    <tr>\n",
       "      <th>448</th>\n",
       "      <td>2</td>\n",
       "    </tr>\n",
       "    <tr>\n",
       "      <th>475</th>\n",
       "      <td>2</td>\n",
       "    </tr>\n",
       "    <tr>\n",
       "      <th>488</th>\n",
       "      <td>2</td>\n",
       "    </tr>\n",
       "    <tr>\n",
       "      <th>557</th>\n",
       "      <td>1</td>\n",
       "    </tr>\n",
       "    <tr>\n",
       "      <th>566</th>\n",
       "      <td>1</td>\n",
       "    </tr>\n",
       "    <tr>\n",
       "      <th>626</th>\n",
       "      <td>2</td>\n",
       "    </tr>\n",
       "    <tr>\n",
       "      <th>7941</th>\n",
       "      <td>1</td>\n",
       "    </tr>\n",
       "    <tr>\n",
       "      <th>11333</th>\n",
       "      <td>2</td>\n",
       "    </tr>\n",
       "  </tbody>\n",
       "</table>\n",
       "</div>"
      ],
      "text/plain": [
       "          count\n",
       "match_id       \n",
       "181           2\n",
       "205           2\n",
       "280           1\n",
       "296           2\n",
       "333           1\n",
       "429           3\n",
       "448           2\n",
       "475           2\n",
       "488           2\n",
       "557           1\n",
       "566           1\n",
       "626           2\n",
       "7941          1\n",
       "11333         2"
      ]
     },
     "execution_count": 117,
     "metadata": {},
     "output_type": "execute_result"
    }
   ],
   "source": [
    "sub_data5.groupby('match_id')['noball_runs'].agg({'count'})"
   ]
  },
  {
   "cell_type": "code",
   "execution_count": 120,
   "metadata": {},
   "outputs": [
    {
     "data": {
      "text/plain": [
       "<matplotlib.axes._subplots.AxesSubplot at 0x224a1a7ac88>"
      ]
     },
     "execution_count": 120,
     "metadata": {},
     "output_type": "execute_result"
    },
    {
     "data": {
      "image/png": "[encoded data removed]",
      "text/plain": [
       "<Figure size 432x288 with 1 Axes>"
      ]
     },
     "metadata": {
      "needs_background": "light"
     },
     "output_type": "display_data"
    }
   ],
   "source": [
    "sub_data5.groupby('bowler')['noball_runs'].agg({'count'}).plot.bar(title='Most noballs bowled')"
   ]
  }
 ],
 "metadata": {
  "kernelspec": {
   "display_name": "Python 3",
   "language": "python",
   "name": "python3"
  },
  "language_info": {
   "codemirror_mode": {
    "name": "ipython",
    "version": 3
   },
   "file_extension": ".py",
   "mimetype": "text/x-python",
   "name": "python",
   "nbconvert_exporter": "python",
   "pygments_lexer": "ipython3",
   "version": "3.7.6"
  }
 },
 "nbformat": 4,
 "nbformat_minor": 4
}
