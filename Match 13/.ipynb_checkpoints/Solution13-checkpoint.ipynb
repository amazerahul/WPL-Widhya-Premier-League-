{
 "cells": [
  {
   "cell_type": "code",
   "execution_count": 1,
   "metadata": {},
   "outputs": [],
   "source": [
    "import pandas as pd\n",
    "import numpy as np\n",
    "import matplotlib.pyplot as plt\n",
    "import seaborn as sns\n",
    "import warnings \n",
    "warnings.filterwarnings(\"ignore\")"
   ]
  },
  {
   "cell_type": "code",
   "execution_count": 2,
   "metadata": {},
   "outputs": [],
   "source": [
    "matches = pd.read_csv('C:/Users/Hp/Desktop/WPL/matches.csv')\n",
    "deliveries = pd.read_csv('C:/Users/Hp/Desktop/WPL/deliveries.csv')"
   ]
  },
  {
   "cell_type": "code",
   "execution_count": 3,
   "metadata": {},
   "outputs": [],
   "source": [
    "all_matches = matches[(matches['team1'].isin(['Chennai Super Kings', 'Mumbai Indians'])) & (matches['team2'].isin(['Chennai Super Kings', 'Mumbai Indians']))]"
   ]
  },
  {
   "cell_type": "code",
   "execution_count": 4,
   "metadata": {},
   "outputs": [],
   "source": [
    "data = pd.merge(matches, deliveries, how = \"inner\", left_on = 'id', right_on = 'match_id')"
   ]
  },
  {
   "cell_type": "code",
   "execution_count": 5,
   "metadata": {},
   "outputs": [],
   "source": [
    "sub_data = data[(data['team1'].isin(['Chennai Super Kings', 'Mumbai Indians'])) & (data['team2'].isin(['Chennai Super Kings', 'Mumbai Indians']))]"
   ]
  },
  {
   "cell_type": "markdown",
   "metadata": {},
   "source": [
    "### Who will win the match?"
   ]
  },
  {
   "cell_type": "code",
   "execution_count": 6,
   "metadata": {},
   "outputs": [
    {
     "data": {
      "text/html": [
       "<div>\n",
       "<style scoped>\n",
       "    .dataframe tbody tr th:only-of-type {\n",
       "        vertical-align: middle;\n",
       "    }\n",
       "\n",
       "    .dataframe tbody tr th {\n",
       "        vertical-align: top;\n",
       "    }\n",
       "\n",
       "    .dataframe thead th {\n",
       "        text-align: right;\n",
       "    }\n",
       "</style>\n",
       "<table border=\"1\" class=\"dataframe\">\n",
       "  <thead>\n",
       "    <tr style=\"text-align: right;\">\n",
       "      <th></th>\n",
       "      <th>id</th>\n",
       "      <th>season</th>\n",
       "      <th>city</th>\n",
       "      <th>date</th>\n",
       "      <th>team1</th>\n",
       "      <th>team2</th>\n",
       "      <th>toss_winner</th>\n",
       "      <th>toss_decision</th>\n",
       "      <th>result</th>\n",
       "      <th>dl_applied</th>\n",
       "      <th>winner</th>\n",
       "      <th>win_by_runs</th>\n",
       "      <th>win_by_wickets</th>\n",
       "      <th>player_of_match</th>\n",
       "      <th>venue</th>\n",
       "      <th>umpire1</th>\n",
       "      <th>umpire2</th>\n",
       "      <th>umpire3</th>\n",
       "    </tr>\n",
       "  </thead>\n",
       "  <tbody>\n",
       "    <tr>\n",
       "      <th>66</th>\n",
       "      <td>67</td>\n",
       "      <td>2008</td>\n",
       "      <td>Chennai</td>\n",
       "      <td>4/23/2008</td>\n",
       "      <td>Chennai Super Kings</td>\n",
       "      <td>Mumbai Indians</td>\n",
       "      <td>Mumbai Indians</td>\n",
       "      <td>field</td>\n",
       "      <td>normal</td>\n",
       "      <td>0</td>\n",
       "      <td>Chennai Super Kings</td>\n",
       "      <td>6</td>\n",
       "      <td>0</td>\n",
       "      <td>ML Hayden</td>\n",
       "      <td>MA Chidambaram Stadium, Chepauk</td>\n",
       "      <td>DJ Harper</td>\n",
       "      <td>GA Pratapkumar</td>\n",
       "      <td>NaN</td>\n",
       "    </tr>\n",
       "    <tr>\n",
       "      <th>95</th>\n",
       "      <td>96</td>\n",
       "      <td>2008</td>\n",
       "      <td>Mumbai</td>\n",
       "      <td>5/14/2008</td>\n",
       "      <td>Chennai Super Kings</td>\n",
       "      <td>Mumbai Indians</td>\n",
       "      <td>Mumbai Indians</td>\n",
       "      <td>field</td>\n",
       "      <td>normal</td>\n",
       "      <td>0</td>\n",
       "      <td>Mumbai Indians</td>\n",
       "      <td>0</td>\n",
       "      <td>9</td>\n",
       "      <td>ST Jayasuriya</td>\n",
       "      <td>Wankhede Stadium</td>\n",
       "      <td>BR Doctrove</td>\n",
       "      <td>AM Saheba</td>\n",
       "      <td>NaN</td>\n",
       "    </tr>\n",
       "    <tr>\n",
       "      <th>117</th>\n",
       "      <td>118</td>\n",
       "      <td>2009</td>\n",
       "      <td>Cape Town</td>\n",
       "      <td>4/18/2009</td>\n",
       "      <td>Mumbai Indians</td>\n",
       "      <td>Chennai Super Kings</td>\n",
       "      <td>Chennai Super Kings</td>\n",
       "      <td>field</td>\n",
       "      <td>normal</td>\n",
       "      <td>0</td>\n",
       "      <td>Mumbai Indians</td>\n",
       "      <td>19</td>\n",
       "      <td>0</td>\n",
       "      <td>SR Tendulkar</td>\n",
       "      <td>Newlands</td>\n",
       "      <td>BR Doctrove</td>\n",
       "      <td>K Hariharan</td>\n",
       "      <td>NaN</td>\n",
       "    </tr>\n",
       "    <tr>\n",
       "      <th>161</th>\n",
       "      <td>162</td>\n",
       "      <td>2009</td>\n",
       "      <td>Port Elizabeth</td>\n",
       "      <td>5/16/2009</td>\n",
       "      <td>Mumbai Indians</td>\n",
       "      <td>Chennai Super Kings</td>\n",
       "      <td>Mumbai Indians</td>\n",
       "      <td>bat</td>\n",
       "      <td>normal</td>\n",
       "      <td>0</td>\n",
       "      <td>Chennai Super Kings</td>\n",
       "      <td>0</td>\n",
       "      <td>7</td>\n",
       "      <td>ML Hayden</td>\n",
       "      <td>St George's Park</td>\n",
       "      <td>SK Tarapore</td>\n",
       "      <td>SJA Taufel</td>\n",
       "      <td>NaN</td>\n",
       "    </tr>\n",
       "    <tr>\n",
       "      <th>193</th>\n",
       "      <td>194</td>\n",
       "      <td>2010</td>\n",
       "      <td>Mumbai</td>\n",
       "      <td>3/25/2010</td>\n",
       "      <td>Chennai Super Kings</td>\n",
       "      <td>Mumbai Indians</td>\n",
       "      <td>Mumbai Indians</td>\n",
       "      <td>field</td>\n",
       "      <td>normal</td>\n",
       "      <td>0</td>\n",
       "      <td>Mumbai Indians</td>\n",
       "      <td>0</td>\n",
       "      <td>5</td>\n",
       "      <td>SR Tendulkar</td>\n",
       "      <td>Brabourne Stadium</td>\n",
       "      <td>BF Bowden</td>\n",
       "      <td>AM Saheba</td>\n",
       "      <td>NaN</td>\n",
       "    </tr>\n",
       "  </tbody>\n",
       "</table>\n",
       "</div>"
      ],
      "text/plain": [
       "      id  season            city       date                team1  \\\n",
       "66    67    2008         Chennai  4/23/2008  Chennai Super Kings   \n",
       "95    96    2008          Mumbai  5/14/2008  Chennai Super Kings   \n",
       "117  118    2009       Cape Town  4/18/2009       Mumbai Indians   \n",
       "161  162    2009  Port Elizabeth  5/16/2009       Mumbai Indians   \n",
       "193  194    2010          Mumbai  3/25/2010  Chennai Super Kings   \n",
       "\n",
       "                   team2          toss_winner toss_decision  result  \\\n",
       "66        Mumbai Indians       Mumbai Indians         field  normal   \n",
       "95        Mumbai Indians       Mumbai Indians         field  normal   \n",
       "117  Chennai Super Kings  Chennai Super Kings         field  normal   \n",
       "161  Chennai Super Kings       Mumbai Indians           bat  normal   \n",
       "193       Mumbai Indians       Mumbai Indians         field  normal   \n",
       "\n",
       "     dl_applied               winner  win_by_runs  win_by_wickets  \\\n",
       "66            0  Chennai Super Kings            6               0   \n",
       "95            0       Mumbai Indians            0               9   \n",
       "117           0       Mumbai Indians           19               0   \n",
       "161           0  Chennai Super Kings            0               7   \n",
       "193           0       Mumbai Indians            0               5   \n",
       "\n",
       "    player_of_match                            venue      umpire1  \\\n",
       "66        ML Hayden  MA Chidambaram Stadium, Chepauk    DJ Harper   \n",
       "95    ST Jayasuriya                 Wankhede Stadium  BR Doctrove   \n",
       "117    SR Tendulkar                         Newlands  BR Doctrove   \n",
       "161       ML Hayden                 St George's Park  SK Tarapore   \n",
       "193    SR Tendulkar                Brabourne Stadium    BF Bowden   \n",
       "\n",
       "            umpire2 umpire3  \n",
       "66   GA Pratapkumar     NaN  \n",
       "95        AM Saheba     NaN  \n",
       "117     K Hariharan     NaN  \n",
       "161      SJA Taufel     NaN  \n",
       "193       AM Saheba     NaN  "
      ]
     },
     "execution_count": 6,
     "metadata": {},
     "output_type": "execute_result"
    }
   ],
   "source": [
    "all_matches.head()"
   ]
  },
  {
   "cell_type": "code",
   "execution_count": 7,
   "metadata": {},
   "outputs": [
    {
     "data": {
      "text/plain": [
       "<matplotlib.axes._subplots.AxesSubplot at 0x21a60e83988>"
      ]
     },
     "execution_count": 7,
     "metadata": {},
     "output_type": "execute_result"
    },
    {
     "data": {
      "image/png": "[encoded data removed]",
      "text/plain": [
       "<Figure size 432x288 with 1 Axes>"
      ]
     },
     "metadata": {
      "needs_background": "light"
     },
     "output_type": "display_data"
    }
   ],
   "source": [
    "all_matches['winner'].value_counts(normalize=True).plot.bar(title='% Win for each team', color = ['Blue', 'Yellow'])"
   ]
  },
  {
   "cell_type": "code",
   "execution_count": 8,
   "metadata": {},
   "outputs": [
    {
     "data": {
      "text/plain": [
       "venue                                    winner             \n",
       "Brabourne Stadium                        Chennai Super Kings    1\n",
       "                                         Mumbai Indians         1\n",
       "Dr DY Patil Sports Academy               Chennai Super Kings    1\n",
       "Dubai International Cricket Stadium      Chennai Super Kings    1\n",
       "Eden Gardens                             Mumbai Indians         2\n",
       "Feroz Shah Kotla                         Chennai Super Kings    1\n",
       "M Chinnaswamy Stadium                    Chennai Super Kings    1\n",
       "M. A. Chidambaram Stadium                Mumbai Indians         2\n",
       "MA Chidambaram Stadium, Chepauk          Mumbai Indians         3\n",
       "                                         Chennai Super Kings    2\n",
       "Maharashtra Cricket Association Stadium  Mumbai Indians         1\n",
       "Newlands                                 Mumbai Indians         1\n",
       "Rajiv Gandhi Intl. Cricket Stadium       Mumbai Indians         1\n",
       "St George's Park                         Chennai Super Kings    1\n",
       "Wankhede Stadium                         Mumbai Indians         6\n",
       "                                         Chennai Super Kings    3\n",
       "Name: winner, dtype: int64"
      ]
     },
     "execution_count": 8,
     "metadata": {},
     "output_type": "execute_result"
    }
   ],
   "source": [
    "all_matches.groupby('venue')['winner'].value_counts()"
   ]
  },
  {
   "cell_type": "code",
   "execution_count": 9,
   "metadata": {},
   "outputs": [
    {
     "data": {
      "text/html": [
       "<div>\n",
       "<style scoped>\n",
       "    .dataframe tbody tr th:only-of-type {\n",
       "        vertical-align: middle;\n",
       "    }\n",
       "\n",
       "    .dataframe tbody tr th {\n",
       "        vertical-align: top;\n",
       "    }\n",
       "\n",
       "    .dataframe thead th {\n",
       "        text-align: right;\n",
       "    }\n",
       "</style>\n",
       "<table border=\"1\" class=\"dataframe\">\n",
       "  <thead>\n",
       "    <tr style=\"text-align: right;\">\n",
       "      <th></th>\n",
       "      <th>winner</th>\n",
       "      <th>win_by_runs</th>\n",
       "      <th>win_by_wickets</th>\n",
       "    </tr>\n",
       "    <tr>\n",
       "      <th>venue</th>\n",
       "      <th></th>\n",
       "      <th></th>\n",
       "      <th></th>\n",
       "    </tr>\n",
       "  </thead>\n",
       "  <tbody>\n",
       "    <tr>\n",
       "      <th>Brabourne Stadium</th>\n",
       "      <td>Mumbai Indians</td>\n",
       "      <td>0</td>\n",
       "      <td>7</td>\n",
       "    </tr>\n",
       "    <tr>\n",
       "      <th>Dr DY Patil Sports Academy</th>\n",
       "      <td>Chennai Super Kings</td>\n",
       "      <td>22</td>\n",
       "      <td>0</td>\n",
       "    </tr>\n",
       "    <tr>\n",
       "      <th>Dubai International Cricket Stadium</th>\n",
       "      <td>Chennai Super Kings</td>\n",
       "      <td>0</td>\n",
       "      <td>7</td>\n",
       "    </tr>\n",
       "    <tr>\n",
       "      <th>Eden Gardens</th>\n",
       "      <td>Mumbai Indians</td>\n",
       "      <td>41</td>\n",
       "      <td>0</td>\n",
       "    </tr>\n",
       "    <tr>\n",
       "      <th>Feroz Shah Kotla</th>\n",
       "      <td>Chennai Super Kings</td>\n",
       "      <td>48</td>\n",
       "      <td>0</td>\n",
       "    </tr>\n",
       "    <tr>\n",
       "      <th>M Chinnaswamy Stadium</th>\n",
       "      <td>Chennai Super Kings</td>\n",
       "      <td>38</td>\n",
       "      <td>0</td>\n",
       "    </tr>\n",
       "    <tr>\n",
       "      <th>M. A. Chidambaram Stadium</th>\n",
       "      <td>Mumbai Indians</td>\n",
       "      <td>46</td>\n",
       "      <td>6</td>\n",
       "    </tr>\n",
       "    <tr>\n",
       "      <th>MA Chidambaram Stadium, Chepauk</th>\n",
       "      <td>Mumbai Indians</td>\n",
       "      <td>24</td>\n",
       "      <td>8</td>\n",
       "    </tr>\n",
       "    <tr>\n",
       "      <th>Maharashtra Cricket Association Stadium</th>\n",
       "      <td>Mumbai Indians</td>\n",
       "      <td>0</td>\n",
       "      <td>8</td>\n",
       "    </tr>\n",
       "    <tr>\n",
       "      <th>Newlands</th>\n",
       "      <td>Mumbai Indians</td>\n",
       "      <td>19</td>\n",
       "      <td>0</td>\n",
       "    </tr>\n",
       "    <tr>\n",
       "      <th>Rajiv Gandhi Intl. Cricket Stadium</th>\n",
       "      <td>Mumbai Indians</td>\n",
       "      <td>1</td>\n",
       "      <td>0</td>\n",
       "    </tr>\n",
       "    <tr>\n",
       "      <th>St George's Park</th>\n",
       "      <td>Chennai Super Kings</td>\n",
       "      <td>0</td>\n",
       "      <td>7</td>\n",
       "    </tr>\n",
       "    <tr>\n",
       "      <th>Wankhede Stadium</th>\n",
       "      <td>Mumbai Indians</td>\n",
       "      <td>60</td>\n",
       "      <td>9</td>\n",
       "    </tr>\n",
       "  </tbody>\n",
       "</table>\n",
       "</div>"
      ],
      "text/plain": [
       "                                                      winner  win_by_runs  \\\n",
       "venue                                                                       \n",
       "Brabourne Stadium                             Mumbai Indians            0   \n",
       "Dr DY Patil Sports Academy               Chennai Super Kings           22   \n",
       "Dubai International Cricket Stadium      Chennai Super Kings            0   \n",
       "Eden Gardens                                  Mumbai Indians           41   \n",
       "Feroz Shah Kotla                         Chennai Super Kings           48   \n",
       "M Chinnaswamy Stadium                    Chennai Super Kings           38   \n",
       "M. A. Chidambaram Stadium                     Mumbai Indians           46   \n",
       "MA Chidambaram Stadium, Chepauk               Mumbai Indians           24   \n",
       "Maharashtra Cricket Association Stadium       Mumbai Indians            0   \n",
       "Newlands                                      Mumbai Indians           19   \n",
       "Rajiv Gandhi Intl. Cricket Stadium            Mumbai Indians            1   \n",
       "St George's Park                         Chennai Super Kings            0   \n",
       "Wankhede Stadium                              Mumbai Indians           60   \n",
       "\n",
       "                                         win_by_wickets  \n",
       "venue                                                    \n",
       "Brabourne Stadium                                     7  \n",
       "Dr DY Patil Sports Academy                            0  \n",
       "Dubai International Cricket Stadium                   7  \n",
       "Eden Gardens                                          0  \n",
       "Feroz Shah Kotla                                      0  \n",
       "M Chinnaswamy Stadium                                 0  \n",
       "M. A. Chidambaram Stadium                             6  \n",
       "MA Chidambaram Stadium, Chepauk                       8  \n",
       "Maharashtra Cricket Association Stadium               8  \n",
       "Newlands                                              0  \n",
       "Rajiv Gandhi Intl. Cricket Stadium                    0  \n",
       "St George's Park                                      7  \n",
       "Wankhede Stadium                                      9  "
      ]
     },
     "execution_count": 9,
     "metadata": {},
     "output_type": "execute_result"
    }
   ],
   "source": [
    "all_matches.groupby('venue')['winner', 'win_by_runs', 'win_by_wickets'].max()"
   ]
  },
  {
   "cell_type": "code",
   "execution_count": 10,
   "metadata": {},
   "outputs": [
    {
     "data": {
      "text/plain": [
       "<matplotlib.axes._subplots.AxesSubplot at 0x21a61624508>"
      ]
     },
     "execution_count": 10,
     "metadata": {},
     "output_type": "execute_result"
    },
    {
     "data": {
      "image/png": "[encoded data removed]",
      "text/plain": [
       "<Figure size 432x288 with 1 Axes>"
      ]
     },
     "metadata": {
      "needs_background": "light"
     },
     "output_type": "display_data"
    }
   ],
   "source": [
    "all_matches['toss_decision'].value_counts(normalize=True).plot.bar(title='% Choice of toss winning captain')"
   ]
  },
  {
   "cell_type": "code",
   "execution_count": 11,
   "metadata": {},
   "outputs": [
    {
     "data": {
      "text/plain": [
       "toss_winner          toss_decision\n",
       "Chennai Super Kings  field            62.0\n",
       "                     bat              38.0\n",
       "Mumbai Indians       bat              53.0\n",
       "                     field            47.0\n",
       "Name: toss_decision, dtype: float64"
      ]
     },
     "execution_count": 11,
     "metadata": {},
     "output_type": "execute_result"
    }
   ],
   "source": [
    "round(all_matches.groupby('toss_winner')['toss_decision'].value_counts(normalize=True), 2)*100"
   ]
  },
  {
   "cell_type": "markdown",
   "metadata": {},
   "source": [
    "* CSK likes to field first most of the time and chase the target."
   ]
  },
  {
   "cell_type": "code",
   "execution_count": 12,
   "metadata": {},
   "outputs": [
    {
     "data": {
      "text/plain": [
       "toss_decision  toss_winner          winner             \n",
       "bat            Chennai Super Kings  Chennai Super Kings    60.0\n",
       "                                    Mumbai Indians         40.0\n",
       "               Mumbai Indians       Mumbai Indians         62.0\n",
       "                                    Chennai Super Kings    38.0\n",
       "field          Chennai Super Kings  Mumbai Indians         62.0\n",
       "                                    Chennai Super Kings    38.0\n",
       "               Mumbai Indians       Mumbai Indians         71.0\n",
       "                                    Chennai Super Kings    29.0\n",
       "Name: winner, dtype: float64"
      ]
     },
     "execution_count": 12,
     "metadata": {},
     "output_type": "execute_result"
    }
   ],
   "source": [
    "round(all_matches.groupby(['toss_decision', 'toss_winner'])['winner'].value_counts(normalize=True),2)*100"
   ]
  },
  {
   "cell_type": "markdown",
   "metadata": {},
   "source": [
    "* MI when chase the target have 71% chances of winning the match."
   ]
  },
  {
   "cell_type": "code",
   "execution_count": 13,
   "metadata": {},
   "outputs": [
    {
     "data": {
      "text/plain": [
       "winner               player_of_match\n",
       "Chennai Super Kings  DJ Bravo           1\n",
       "Mumbai Indians       RG Sharma          2\n",
       "                     AS Yadav           1\n",
       "                     HH Pandya          1\n",
       "                     JJ Bumrah          1\n",
       "Name: player_of_match, dtype: int64"
      ]
     },
     "execution_count": 13,
     "metadata": {},
     "output_type": "execute_result"
    }
   ],
   "source": [
    "all_matches[all_matches['season']>2015].groupby('winner')['player_of_match'].value_counts()"
   ]
  },
  {
   "cell_type": "code",
   "execution_count": 14,
   "metadata": {},
   "outputs": [],
   "source": [
    "sub_data1 = sub_data[(sub_data['player_of_match'] == 'RG Sharma') & (sub_data['batsman']=='RG Sharma')]"
   ]
  },
  {
   "cell_type": "code",
   "execution_count": 15,
   "metadata": {},
   "outputs": [
    {
     "data": {
      "text/plain": [
       "match_id\n",
       "576      50\n",
       "7920     59\n",
       "11335    67\n",
       "Name: batsman_runs, dtype: int64"
      ]
     },
     "execution_count": 15,
     "metadata": {},
     "output_type": "execute_result"
    }
   ],
   "source": [
    "sub_data1.groupby('match_id')['batsman_runs'].sum()"
   ]
  },
  {
   "cell_type": "markdown",
   "metadata": {},
   "source": [
    "### How many runs will Quinton De Kock score off boundaries in the first 10 balls he faces? Id he dosen't face 10 balls and gets out before , the the number of runs he scored off boundaries until the point he got out?"
   ]
  },
  {
   "cell_type": "code",
   "execution_count": 28,
   "metadata": {},
   "outputs": [],
   "source": [
    "sub_data2 = sub_data[(sub_data['batsman'] == 'Q de Kock')].sort_values(['match_id','over', 'ball']).groupby('match_id').head(10)"
   ]
  },
  {
   "cell_type": "code",
   "execution_count": 17,
   "metadata": {},
   "outputs": [],
   "source": [
    "dummy = pd.DataFrame(sub_data2.groupby('match_id')['ball'].count())"
   ]
  },
  {
   "cell_type": "code",
   "execution_count": 18,
   "metadata": {},
   "outputs": [],
   "source": [
    "index = dummy[dummy['ball'] == 10].index"
   ]
  },
  {
   "cell_type": "code",
   "execution_count": 19,
   "metadata": {},
   "outputs": [],
   "source": [
    "runs_by_bound = sub_data2[(sub_data2['match_id'].isin(index)) & (sub_data2['batsman_runs'].isin([4,6]))].groupby('match_id')['batsman_runs'].sum()"
   ]
  },
  {
   "cell_type": "code",
   "execution_count": 20,
   "metadata": {},
   "outputs": [],
   "source": [
    "tot_runs = sub_data2[(sub_data2['match_id'].isin(index))].groupby('match_id')['batsman_runs'].sum()"
   ]
  },
  {
   "cell_type": "code",
   "execution_count": 47,
   "metadata": {},
   "outputs": [
    {
     "data": {
      "text/plain": [
       "<matplotlib.axes._subplots.AxesSubplot at 0x21a61e9b488>"
      ]
     },
     "execution_count": 47,
     "metadata": {},
     "output_type": "execute_result"
    },
    {
     "data": {
      "image/png": "[encoded data removed]",
      "text/plain": [
       "<Figure size 432x288 with 1 Axes>"
      ]
     },
     "metadata": {
      "needs_background": "light"
     },
     "output_type": "display_data"
    }
   ],
   "source": [
    "runs_by_bound.plot.box(title='Runs scored by Q de Kock by boundaries against CSK in first 10 balls')"
   ]
  },
  {
   "cell_type": "code",
   "execution_count": 21,
   "metadata": {},
   "outputs": [
    {
     "data": {
      "text/plain": [
       "<matplotlib.axes._subplots.AxesSubplot at 0x21a616cc288>"
      ]
     },
     "execution_count": 21,
     "metadata": {},
     "output_type": "execute_result"
    },
    {
     "data": {
      "image/png": "[encoded data removed]",
      "text/plain": [
       "<Figure size 432x288 with 1 Axes>"
      ]
     },
     "metadata": {
      "needs_background": "light"
     },
     "output_type": "display_data"
    }
   ],
   "source": [
    "round((runs_by_bound/tot_runs)*100, 2).plot.bar(title=\"% score from boundary of total batsman score\")"
   ]
  },
  {
   "cell_type": "code",
   "execution_count": 52,
   "metadata": {},
   "outputs": [
    {
     "data": {
      "text/plain": [
       "match_id\n",
       "11151    0.8\n",
       "Name: batsman_runs, dtype: float64"
      ]
     },
     "execution_count": 52,
     "metadata": {},
     "output_type": "execute_result"
    }
   ],
   "source": [
    "sub_data2[(sub_data2['match_id'] == (dummy[dummy['ball'] == 7].index[0])) & (sub_data2['batsman_runs'].isin([4,6]))].groupby('match_id')['batsman_runs'].sum()/sub_data2[sub_data2['match_id'] == (dummy[dummy['ball'] < 10].index[0])].groupby('match_id')['batsman_runs'].sum()"
   ]
  },
  {
   "cell_type": "code",
   "execution_count": 29,
   "metadata": {},
   "outputs": [],
   "source": [
    "sub_data3 = data[(data['batsman'] == 'Q de Kock')].sort_values(['match_id','over', 'ball']).groupby('match_id').head(10)"
   ]
  },
  {
   "cell_type": "code",
   "execution_count": 30,
   "metadata": {},
   "outputs": [],
   "source": [
    "dummy1 = pd.DataFrame(sub_data3.groupby('match_id')['ball'].count())"
   ]
  },
  {
   "cell_type": "code",
   "execution_count": 32,
   "metadata": {},
   "outputs": [],
   "source": [
    "index = dummy1[dummy1['ball'] == 10].index"
   ]
  },
  {
   "cell_type": "code",
   "execution_count": 33,
   "metadata": {},
   "outputs": [],
   "source": [
    "runs_by_bound1 = sub_data3[(sub_data3['match_id'].isin(index)) & (sub_data3['batsman_runs'].isin([4,6]))].groupby('match_id')['batsman_runs'].sum()"
   ]
  },
  {
   "cell_type": "code",
   "execution_count": 34,
   "metadata": {},
   "outputs": [],
   "source": [
    "tot_runs1 = sub_data3[(sub_data3['match_id'].isin(index))].groupby('match_id')['batsman_runs'].sum()"
   ]
  },
  {
   "cell_type": "code",
   "execution_count": 46,
   "metadata": {},
   "outputs": [
    {
     "data": {
      "text/plain": [
       "<matplotlib.axes._subplots.AxesSubplot at 0x21a61a9fd88>"
      ]
     },
     "execution_count": 46,
     "metadata": {},
     "output_type": "execute_result"
    },
    {
     "data": {
      "image/png": "[encoded data removed]",
      "text/plain": [
       "<Figure size 432x288 with 1 Axes>"
      ]
     },
     "metadata": {
      "needs_background": "light"
     },
     "output_type": "display_data"
    }
   ],
   "source": [
    "runs_by_bound1.plot.box(title='Runs scored by Q de Kock by boundaries against all teams in first 10 balls')"
   ]
  },
  {
   "cell_type": "code",
   "execution_count": 39,
   "metadata": {},
   "outputs": [
    {
     "data": {
      "text/plain": [
       "<matplotlib.axes._subplots.AxesSubplot at 0x21a61932788>"
      ]
     },
     "execution_count": 39,
     "metadata": {},
     "output_type": "execute_result"
    },
    {
     "data": {
      "image/png": "[encoded data removed]",
      "text/plain": [
       "<Figure size 1080x360 with 1 Axes>"
      ]
     },
     "metadata": {
      "needs_background": "light"
     },
     "output_type": "display_data"
    }
   ],
   "source": [
    "round((runs_by_bound1/tot_runs1)*100, 2).plot.bar(title=\"% score from boundary of total batsman score against all teams\", figsize=(15,5))"
   ]
  },
  {
   "cell_type": "code",
   "execution_count": 44,
   "metadata": {},
   "outputs": [
    {
     "data": {
      "text/plain": [
       "match_id\n",
       "405    0\n",
       "Name: batsman_runs, dtype: int64"
      ]
     },
     "execution_count": 44,
     "metadata": {},
     "output_type": "execute_result"
    }
   ],
   "source": [
    "sub_data3[(sub_data3['match_id'] == (dummy1[dummy1['ball'] <= 7].index[0]))].groupby('match_id')['batsman_runs'].sum()"
   ]
  },
  {
   "cell_type": "code",
   "execution_count": 58,
   "metadata": {},
   "outputs": [],
   "source": [
    "index1 = (dummy1[dummy1['ball']<10]).index"
   ]
  },
  {
   "cell_type": "code",
   "execution_count": 62,
   "metadata": {},
   "outputs": [
    {
     "data": {
      "text/plain": [
       "match_id  batsman_runs\n",
       "414       4               1\n",
       "485       4               2\n",
       "495       4               1\n",
       "593       4               2\n",
       "7896      4               1\n",
       "11151     4               1\n",
       "Name: batsman_runs, dtype: int64"
      ]
     },
     "execution_count": 62,
     "metadata": {},
     "output_type": "execute_result"
    }
   ],
   "source": [
    "sub_data3[(sub_data3['match_id'].isin(index1)) & (sub_data3['batsman_runs'].isin([4,6]))].groupby('match_id')['batsman_runs'].value_counts()"
   ]
  },
  {
   "cell_type": "markdown",
   "metadata": {},
   "source": [
    "### Which MI bowlers will have the best dot balls to  total bowled ratio?"
   ]
  },
  {
   "cell_type": "code",
   "execution_count": 68,
   "metadata": {},
   "outputs": [],
   "source": [
    "sub_data4 = sub_data[(sub_data['bowling_team'] == 'Mumbai Indians') & (sub_data['season']>2015) & (sub_data['total_runs'] == 0)]"
   ]
  },
  {
   "cell_type": "code",
   "execution_count": 71,
   "metadata": {},
   "outputs": [],
   "source": [
    "sub_data5 = sub_data[(sub_data['bowling_team'] == 'Mumbai Indians') & (sub_data['season']>2015)]"
   ]
  },
  {
   "cell_type": "code",
   "execution_count": 77,
   "metadata": {},
   "outputs": [
    {
     "data": {
      "text/plain": [
       "match_id  bowler           \n",
       "7894      HH Pandya            44.44\n",
       "          JJ Bumrah            40.00\n",
       "          M Markande           41.67\n",
       "          MJ McClenaghan       20.00\n",
       "          Mustafizur Rahman    30.43\n",
       "7920      BCJ Cutting          14.29\n",
       "          HH Pandya            29.17\n",
       "          JJ Bumrah            44.00\n",
       "          KH Pandya            36.00\n",
       "          M Markande           21.05\n",
       "          MJ McClenaghan       41.67\n",
       "11151     HH Pandya            52.00\n",
       "          J Behrendorff        56.00\n",
       "          JJ Bumrah            44.00\n",
       "          KH Pandya            35.71\n",
       "          RD Chahar            38.46\n",
       "          SL Malinga           52.00\n",
       "11335     A Roy                26.67\n",
       "          HH Pandya            35.71\n",
       "          JJ Bumrah            57.89\n",
       "          KH Pandya            66.67\n",
       "          RD Chahar            29.17\n",
       "          SL Malinga           36.36\n",
       "11412     HH Pandya            25.00\n",
       "          J Yadav              42.11\n",
       "          JJ Bumrah            24.00\n",
       "          KH Pandya            54.17\n",
       "          RD Chahar            54.17\n",
       "          SL Malinga           30.00\n",
       "11415     HH Pandya            57.14\n",
       "          JJ Bumrah            45.83\n",
       "          KH Pandya            44.44\n",
       "          MJ McClenaghan       46.15\n",
       "          RD Chahar            54.17\n",
       "          SL Malinga           28.00\n",
       "Name: ball, dtype: float64"
      ]
     },
     "execution_count": 77,
     "metadata": {},
     "output_type": "execute_result"
    }
   ],
   "source": [
    "round((sub_data4.groupby(['match_id', 'bowler'])['ball'].count()/sub_data5.groupby(['match_id', 'bowler'])['ball'].count())*100, 2)"
   ]
  },
  {
   "cell_type": "code",
   "execution_count": 97,
   "metadata": {},
   "outputs": [],
   "source": [
    "sub_data6 = data[(data['bowler'].isin(['TA Boult', 'JJ Bumrah', 'HH Pandya', 'KH Pandya', 'NM Coulter-Nile', 'RD Chahar'])) & (data['season']>2015)]"
   ]
  },
  {
   "cell_type": "code",
   "execution_count": 98,
   "metadata": {},
   "outputs": [
    {
     "data": {
      "text/plain": [
       "<matplotlib.axes._subplots.AxesSubplot at 0x21a621a2688>"
      ]
     },
     "execution_count": 98,
     "metadata": {},
     "output_type": "execute_result"
    },
    {
     "data": {
      "image/png": "[encoded data removed]",
      "text/plain": [
       "<Figure size 432x288 with 1 Axes>"
      ]
     },
     "metadata": {
      "needs_background": "light"
     },
     "output_type": "display_data"
    }
   ],
   "source": [
    "round((sub_data6[sub_data6['total_runs'] == 0].groupby(['bowler'])['ball'].count()/sub_data6.groupby(['bowler'])['ball'].count())*100,2).plot.bar(title='Dot ball % of bowlers')"
   ]
  },
  {
   "cell_type": "code",
   "execution_count": 99,
   "metadata": {},
   "outputs": [
    {
     "data": {
      "text/plain": [
       "season  bowler         \n",
       "2016    HH Pandya          27.36\n",
       "        JJ Bumrah          33.54\n",
       "        KH Pandya          27.32\n",
       "        NM Coulter-Nile    39.78\n",
       "        TA Boult           42.31\n",
       "2017    HH Pandya          27.78\n",
       "        JJ Bumrah          33.24\n",
       "        KH Pandya          29.67\n",
       "        NM Coulter-Nile    39.33\n",
       "        RD Chahar          34.78\n",
       "        TA Boult           35.81\n",
       "2018    HH Pandya          34.81\n",
       "        JJ Bumrah          38.44\n",
       "        KH Pandya          33.33\n",
       "        TA Boult           33.94\n",
       "2019    HH Pandya          33.46\n",
       "        JJ Bumrah          40.94\n",
       "        KH Pandya          32.62\n",
       "        RD Chahar          42.86\n",
       "        TA Boult           36.67\n",
       "Name: ball, dtype: float64"
      ]
     },
     "execution_count": 99,
     "metadata": {},
     "output_type": "execute_result"
    }
   ],
   "source": [
    "round((sub_data6[sub_data6['total_runs'] == 0].groupby(['season', 'bowler'])['ball'].count()/sub_data6.groupby(['season', 'bowler'])['ball'].count())*100,2)"
   ]
  },
  {
   "cell_type": "code",
   "execution_count": 100,
   "metadata": {},
   "outputs": [
    {
     "data": {
      "text/plain": [
       "batting_team                 bowler         \n",
       "Chennai Super Kings          HH Pandya          40.37\n",
       "                             JJ Bumrah          41.96\n",
       "                             KH Pandya          47.47\n",
       "                             RD Chahar          44.71\n",
       "                             TA Boult           43.30\n",
       "Delhi Capitals               HH Pandya          31.13\n",
       "                             JJ Bumrah          37.22\n",
       "                             KH Pandya          31.31\n",
       "                             NM Coulter-Nile    46.94\n",
       "                             RD Chahar          57.69\n",
       "Gujarat Lions                HH Pandya          33.33\n",
       "                             JJ Bumrah          29.46\n",
       "                             KH Pandya          36.71\n",
       "                             NM Coulter-Nile    28.57\n",
       "                             RD Chahar          44.44\n",
       "                             TA Boult           37.25\n",
       "Kings XI Punjab              HH Pandya          21.43\n",
       "                             JJ Bumrah          36.07\n",
       "                             KH Pandya          16.28\n",
       "                             RD Chahar          38.46\n",
       "                             TA Boult           41.79\n",
       "Kolkata Knight Riders        HH Pandya          41.61\n",
       "                             JJ Bumrah          38.17\n",
       "                             KH Pandya          34.93\n",
       "                             NM Coulter-Nile    54.17\n",
       "                             RD Chahar          35.48\n",
       "                             TA Boult           44.00\n",
       "Mumbai Indians               NM Coulter-Nile    33.33\n",
       "                             TA Boult           30.40\n",
       "Rajasthan Royals             HH Pandya          31.08\n",
       "                             JJ Bumrah          36.96\n",
       "                             KH Pandya          25.29\n",
       "                             RD Chahar          33.33\n",
       "                             TA Boult           36.36\n",
       "Rising Pune Supergiants      HH Pandya          22.92\n",
       "                             JJ Bumrah          33.09\n",
       "                             KH Pandya          31.51\n",
       "                             NM Coulter-Nile    41.03\n",
       "Royal Challengers Bangalore  HH Pandya          29.67\n",
       "                             JJ Bumrah          37.95\n",
       "                             KH Pandya          32.78\n",
       "                             NM Coulter-Nile    52.38\n",
       "                             RD Chahar          37.50\n",
       "                             TA Boult           22.92\n",
       "Sunrisers Hyderabad          HH Pandya          30.34\n",
       "                             JJ Bumrah          36.31\n",
       "                             KH Pandya          22.37\n",
       "                             NM Coulter-Nile    32.32\n",
       "                             RD Chahar          44.90\n",
       "                             TA Boult           29.91\n",
       "Name: ball, dtype: float64"
      ]
     },
     "execution_count": 100,
     "metadata": {},
     "output_type": "execute_result"
    }
   ],
   "source": [
    "round((sub_data6[sub_data6['total_runs'] == 0].groupby(['batting_team','bowler'])['ball'].count()/sub_data6.groupby(['batting_team','bowler'])['ball'].count())*100,2)"
   ]
  },
  {
   "cell_type": "markdown",
   "metadata": {},
   "source": [
    "### How many such overs will be there in a match where a 6 and 4 are scored in the same over?"
   ]
  },
  {
   "cell_type": "code",
   "execution_count": 102,
   "metadata": {},
   "outputs": [
    {
     "data": {
      "text/plain": [
       "match_id  over\n",
       "67        1       15\n",
       "          2       12\n",
       "          3       12\n",
       "          4       12\n",
       "          5       12\n",
       "          6       14\n",
       "          7       13\n",
       "          8       13\n",
       "          9       12\n",
       "          10      12\n",
       "          11      15\n",
       "          12      13\n",
       "          13      13\n",
       "          14      12\n",
       "          15      12\n",
       "          16      13\n",
       "          17      12\n",
       "          18      12\n",
       "          19      13\n",
       "          20      13\n",
       "Name: ball, dtype: int64"
      ]
     },
     "execution_count": 102,
     "metadata": {},
     "output_type": "execute_result"
    }
   ],
   "source": []
  },
  {
   "cell_type": "code",
   "execution_count": 138,
   "metadata": {},
   "outputs": [],
   "source": [
    "def Check(df):\n",
    "    \n",
    "    if (4 in df.total_runs.unique()) and (6 in df.total_runs.unique()): \n",
    "        return 1"
   ]
  },
  {
   "cell_type": "code",
   "execution_count": 145,
   "metadata": {},
   "outputs": [
    {
     "data": {
      "text/plain": [
       "match_id  inning  over  ball\n",
       "67        1       1     1       [1]\n",
       "                        2       [0]\n",
       "                        3       [0]\n",
       "                        4       [0]\n",
       "                        5       [4]\n",
       "                               ... \n",
       "11415     2       20    2       [1]\n",
       "                        3       [2]\n",
       "                        4       [1]\n",
       "                        5       [2]\n",
       "                        6       [0]\n",
       "Name: total_runs, Length: 6811, dtype: object"
      ]
     },
     "execution_count": 145,
     "metadata": {},
     "output_type": "execute_result"
    }
   ],
   "source": [
    "sub_data.groupby(['match_id','inning','over','ball'])['total_runs'].unique()"
   ]
  },
  {
   "cell_type": "code",
   "execution_count": 149,
   "metadata": {},
   "outputs": [
    {
     "data": {
      "text/plain": [
       "<matplotlib.axes._subplots.AxesSubplot at 0x21a62835248>"
      ]
     },
     "execution_count": 149,
     "metadata": {},
     "output_type": "execute_result"
    },
    {
     "data": {
      "image/png": "[encoded data removed]",
      "text/plain": [
       "<Figure size 432x288 with 1 Axes>"
      ]
     },
     "metadata": {
      "needs_background": "light"
     },
     "output_type": "display_data"
    }
   ],
   "source": [
    "pd.DataFrame(sub_data.groupby(['match_id','inning','over']).apply(Check)).groupby(['match_id'])[0].value_counts().plot.box(title='Boxplot distribution of overs with 6 and 4 runs in the same over')"
   ]
  },
  {
   "cell_type": "code",
   "execution_count": 154,
   "metadata": {},
   "outputs": [],
   "source": [
    "dummy = pd.DataFrame(sub_data.groupby(['bowler','over']).apply(Check))"
   ]
  },
  {
   "cell_type": "code",
   "execution_count": 160,
   "metadata": {},
   "outputs": [
    {
     "data": {
      "text/plain": [
       "<matplotlib.axes._subplots.AxesSubplot at 0x21a6276c288>"
      ]
     },
     "execution_count": 160,
     "metadata": {},
     "output_type": "execute_result"
    },
    {
     "data": {
      "image/png": "[encoded data removed]",
      "text/plain": [
       "<Figure size 432x288 with 1 Axes>"
      ]
     },
     "metadata": {
      "needs_background": "light"
     },
     "output_type": "display_data"
    }
   ],
   "source": [
    "dummy[dummy[0]==1].groupby('bowler')[0].count().sort_values(ascending=False).head(10).plot.bar(title='Bowlers who bowled overs with most 6 and 4 runs in same over')"
   ]
  },
  {
   "cell_type": "markdown",
   "metadata": {},
   "source": [
    "### Bowler Lethality Score(BLS)"
   ]
  },
  {
   "cell_type": "code",
   "execution_count": 224,
   "metadata": {},
   "outputs": [],
   "source": [
    "sub_data7 = sub_data[sub_data['season']>2015]"
   ]
  },
  {
   "cell_type": "code",
   "execution_count": 225,
   "metadata": {},
   "outputs": [
    {
     "data": {
      "text/plain": [
       "(1465, 40)"
      ]
     },
     "execution_count": 225,
     "metadata": {},
     "output_type": "execute_result"
    }
   ],
   "source": [
    "sub_data7.shape"
   ]
  },
  {
   "cell_type": "code",
   "execution_count": 226,
   "metadata": {},
   "outputs": [],
   "source": [
    "dummy1 = pd.DataFrame(sub_data7.groupby(['match_id','bowler'])['over'].unique())"
   ]
  },
  {
   "cell_type": "code",
   "execution_count": 227,
   "metadata": {},
   "outputs": [],
   "source": [
    "dummy1 = pd.DataFrame(dummy1['over'].apply(lambda x : len(x)))"
   ]
  },
  {
   "cell_type": "code",
   "execution_count": 228,
   "metadata": {},
   "outputs": [],
   "source": [
    "hire_index = dummy1[dummy1['over'] == 1].index"
   ]
  },
  {
   "cell_type": "code",
   "execution_count": 229,
   "metadata": {},
   "outputs": [],
   "source": [
    "for i in hire_index:\n",
    "    sub_data7.drop((sub_data7[(sub_data7['match_id']==i[0]) & (sub_data7['bowler']==i[1])]).index, inplace=True)"
   ]
  },
  {
   "cell_type": "code",
   "execution_count": 243,
   "metadata": {},
   "outputs": [],
   "source": [
    "player_dismissed = sub_data7.groupby(['match_id', 'bowler'])['player_dismissed'].count()"
   ]
  },
  {
   "cell_type": "code",
   "execution_count": 245,
   "metadata": {},
   "outputs": [],
   "source": [
    "dot_balls = sub_data7[sub_data7['total_runs']==0].groupby(['match_id', 'bowler'])['ball'].count()"
   ]
  },
  {
   "cell_type": "code",
   "execution_count": 253,
   "metadata": {},
   "outputs": [],
   "source": [
    "boundary_runs = sub_data7[sub_data7['total_runs'].isin([4,6])].groupby(['match_id','bowler'])['total_runs'].sum()"
   ]
  },
  {
   "cell_type": "code",
   "execution_count": 259,
   "metadata": {},
   "outputs": [],
   "source": [
    "no_boundaries = sub_data7[sub_data7['total_runs'].isin([4,6])].groupby(['match_id','bowler'])['total_runs'].count()"
   ]
  },
  {
   "cell_type": "code",
   "execution_count": 262,
   "metadata": {},
   "outputs": [],
   "source": [
    "ball_bowled = sub_data7.groupby(['match_id','bowler'])['ball'].count()"
   ]
  },
  {
   "cell_type": "code",
   "execution_count": 267,
   "metadata": {},
   "outputs": [],
   "source": [
    "BLS = (((player_dismissed + dot_balls) - (boundary_runs / no_boundaries))/ball_bowled)"
   ]
  },
  {
   "cell_type": "code",
   "execution_count": 275,
   "metadata": {},
   "outputs": [
    {
     "data": {
      "text/plain": [
       "<matplotlib.axes._subplots.AxesSubplot at 0x21a62f9b088>"
      ]
     },
     "execution_count": 275,
     "metadata": {},
     "output_type": "execute_result"
    },
    {
     "data": {
      "image/png": "[encoded data removed]",
      "text/plain": [
       "<Figure size 1080x360 with 1 Axes>"
      ]
     },
     "metadata": {
      "needs_background": "light"
     },
     "output_type": "display_data"
    }
   ],
   "source": [
    "BLS.sort_values(ascending=False).head(25).plot.bar(title='BLS of MI and CSK bowlers', figsize=(15,5))"
   ]
  },
  {
   "cell_type": "code",
   "execution_count": null,
   "metadata": {},
   "outputs": [],
   "source": []
  }
 ],
 "metadata": {
  "kernelspec": {
   "display_name": "Python 3",
   "language": "python",
   "name": "python3"
  },
  "language_info": {
   "codemirror_mode": {
    "name": "ipython",
    "version": 3
   },
   "file_extension": ".py",
   "mimetype": "text/x-python",
   "name": "python",
   "nbconvert_exporter": "python",
   "pygments_lexer": "ipython3",
   "version": "3.7.6"
  }
 },
 "nbformat": 4,
 "nbformat_minor": 4
}
