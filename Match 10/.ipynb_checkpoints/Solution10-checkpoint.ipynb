{
 "cells": [
  {
   "cell_type": "code",
   "execution_count": 1,
   "metadata": {},
   "outputs": [],
   "source": [
    "import pandas as pd\n",
    "import numpy as np\n",
    "import matplotlib.pyplot as plt\n",
    "import seaborn as sns\n",
    "import warnings \n",
    "warnings.filterwarnings(\"ignore\")"
   ]
  },
  {
   "cell_type": "code",
   "execution_count": 2,
   "metadata": {},
   "outputs": [],
   "source": [
    "matches = pd.read_csv('C:/Users/Hp/Desktop/WPL/matches.csv')\n",
    "deliveries = pd.read_csv('C:/Users/Hp/Desktop/WPL/deliveries.csv')"
   ]
  },
  {
   "cell_type": "code",
   "execution_count": 3,
   "metadata": {},
   "outputs": [],
   "source": [
    "all_matches = matches[(matches['team1'].isin(['Delhi Capitals', 'Kings XI Punjab'])) & (matches['team2'].isin(['Delhi Capitals', 'Kings XI Punjab']))]"
   ]
  },
  {
   "cell_type": "code",
   "execution_count": 4,
   "metadata": {},
   "outputs": [],
   "source": [
    "data = pd.merge(matches, deliveries, how = \"inner\", left_on = 'id', right_on = 'match_id')"
   ]
  },
  {
   "cell_type": "code",
   "execution_count": 175,
   "metadata": {},
   "outputs": [],
   "source": [
    "sub_data = data[(data['team1'].isin(['Delhi Capitals', 'Kings XI Punjab'])) & (data['team2'].isin(['Delhi Capitals', 'Kings XI Punjab']))]"
   ]
  },
  {
   "cell_type": "markdown",
   "metadata": {},
   "source": [
    "### Who will win the match?"
   ]
  },
  {
   "cell_type": "code",
   "execution_count": 6,
   "metadata": {},
   "outputs": [
    {
     "data": {
      "text/html": [
       "<div>\n",
       "<style scoped>\n",
       "    .dataframe tbody tr th:only-of-type {\n",
       "        vertical-align: middle;\n",
       "    }\n",
       "\n",
       "    .dataframe tbody tr th {\n",
       "        vertical-align: top;\n",
       "    }\n",
       "\n",
       "    .dataframe thead th {\n",
       "        text-align: right;\n",
       "    }\n",
       "</style>\n",
       "<table border=\"1\" class=\"dataframe\">\n",
       "  <thead>\n",
       "    <tr style=\"text-align: right;\">\n",
       "      <th></th>\n",
       "      <th>id</th>\n",
       "      <th>season</th>\n",
       "      <th>city</th>\n",
       "      <th>date</th>\n",
       "      <th>team1</th>\n",
       "      <th>team2</th>\n",
       "      <th>toss_winner</th>\n",
       "      <th>toss_decision</th>\n",
       "      <th>result</th>\n",
       "      <th>dl_applied</th>\n",
       "      <th>winner</th>\n",
       "      <th>win_by_runs</th>\n",
       "      <th>win_by_wickets</th>\n",
       "      <th>player_of_match</th>\n",
       "      <th>venue</th>\n",
       "      <th>umpire1</th>\n",
       "      <th>umpire2</th>\n",
       "      <th>umpire3</th>\n",
       "    </tr>\n",
       "  </thead>\n",
       "  <tbody>\n",
       "    <tr>\n",
       "      <th>14</th>\n",
       "      <td>15</td>\n",
       "      <td>2017</td>\n",
       "      <td>Delhi</td>\n",
       "      <td>4/15/2017</td>\n",
       "      <td>Delhi Capitals</td>\n",
       "      <td>Kings XI Punjab</td>\n",
       "      <td>Delhi Capitals</td>\n",
       "      <td>bat</td>\n",
       "      <td>normal</td>\n",
       "      <td>0</td>\n",
       "      <td>Delhi Capitals</td>\n",
       "      <td>51</td>\n",
       "      <td>0</td>\n",
       "      <td>CJ Anderson</td>\n",
       "      <td>Feroz Shah Kotla</td>\n",
       "      <td>YC Barde</td>\n",
       "      <td>Nitin Menon</td>\n",
       "      <td>NaN</td>\n",
       "    </tr>\n",
       "    <tr>\n",
       "      <th>34</th>\n",
       "      <td>35</td>\n",
       "      <td>2017</td>\n",
       "      <td>Chandigarh</td>\n",
       "      <td>4/30/2017</td>\n",
       "      <td>Delhi Capitals</td>\n",
       "      <td>Kings XI Punjab</td>\n",
       "      <td>Kings XI Punjab</td>\n",
       "      <td>field</td>\n",
       "      <td>normal</td>\n",
       "      <td>0</td>\n",
       "      <td>Kings XI Punjab</td>\n",
       "      <td>0</td>\n",
       "      <td>10</td>\n",
       "      <td>Sandeep Sharma</td>\n",
       "      <td>Punjab Cricket Association IS Bindra Stadium, ...</td>\n",
       "      <td>YC Barde</td>\n",
       "      <td>CK Nandan</td>\n",
       "      <td>NaN</td>\n",
       "    </tr>\n",
       "    <tr>\n",
       "      <th>72</th>\n",
       "      <td>73</td>\n",
       "      <td>2008</td>\n",
       "      <td>Chandigarh</td>\n",
       "      <td>4/27/2008</td>\n",
       "      <td>Delhi Capitals</td>\n",
       "      <td>Kings XI Punjab</td>\n",
       "      <td>Delhi Capitals</td>\n",
       "      <td>bat</td>\n",
       "      <td>normal</td>\n",
       "      <td>0</td>\n",
       "      <td>Kings XI Punjab</td>\n",
       "      <td>0</td>\n",
       "      <td>4</td>\n",
       "      <td>SM Katich</td>\n",
       "      <td>Punjab Cricket Association Stadium, Mohali</td>\n",
       "      <td>RE Koertzen</td>\n",
       "      <td>I Shivram</td>\n",
       "      <td>NaN</td>\n",
       "    </tr>\n",
       "    <tr>\n",
       "      <th>99</th>\n",
       "      <td>100</td>\n",
       "      <td>2008</td>\n",
       "      <td>Delhi</td>\n",
       "      <td>5/17/2008</td>\n",
       "      <td>Delhi Capitals</td>\n",
       "      <td>Kings XI Punjab</td>\n",
       "      <td>Delhi Capitals</td>\n",
       "      <td>bat</td>\n",
       "      <td>normal</td>\n",
       "      <td>1</td>\n",
       "      <td>Kings XI Punjab</td>\n",
       "      <td>6</td>\n",
       "      <td>0</td>\n",
       "      <td>DPMD Jayawardene</td>\n",
       "      <td>Feroz Shah Kotla</td>\n",
       "      <td>AV Jayaprakash</td>\n",
       "      <td>RE Koertzen</td>\n",
       "      <td>NaN</td>\n",
       "    </tr>\n",
       "    <tr>\n",
       "      <th>119</th>\n",
       "      <td>120</td>\n",
       "      <td>2009</td>\n",
       "      <td>Cape Town</td>\n",
       "      <td>4/19/2009</td>\n",
       "      <td>Kings XI Punjab</td>\n",
       "      <td>Delhi Capitals</td>\n",
       "      <td>Delhi Capitals</td>\n",
       "      <td>field</td>\n",
       "      <td>normal</td>\n",
       "      <td>1</td>\n",
       "      <td>Delhi Capitals</td>\n",
       "      <td>0</td>\n",
       "      <td>10</td>\n",
       "      <td>DL Vettori</td>\n",
       "      <td>Newlands</td>\n",
       "      <td>MR Benson</td>\n",
       "      <td>SD Ranade</td>\n",
       "      <td>NaN</td>\n",
       "    </tr>\n",
       "  </tbody>\n",
       "</table>\n",
       "</div>"
      ],
      "text/plain": [
       "      id  season        city       date            team1            team2  \\\n",
       "14    15    2017       Delhi  4/15/2017   Delhi Capitals  Kings XI Punjab   \n",
       "34    35    2017  Chandigarh  4/30/2017   Delhi Capitals  Kings XI Punjab   \n",
       "72    73    2008  Chandigarh  4/27/2008   Delhi Capitals  Kings XI Punjab   \n",
       "99   100    2008       Delhi  5/17/2008   Delhi Capitals  Kings XI Punjab   \n",
       "119  120    2009   Cape Town  4/19/2009  Kings XI Punjab   Delhi Capitals   \n",
       "\n",
       "         toss_winner toss_decision  result  dl_applied           winner  \\\n",
       "14    Delhi Capitals           bat  normal           0   Delhi Capitals   \n",
       "34   Kings XI Punjab         field  normal           0  Kings XI Punjab   \n",
       "72    Delhi Capitals           bat  normal           0  Kings XI Punjab   \n",
       "99    Delhi Capitals           bat  normal           1  Kings XI Punjab   \n",
       "119   Delhi Capitals         field  normal           1   Delhi Capitals   \n",
       "\n",
       "     win_by_runs  win_by_wickets   player_of_match  \\\n",
       "14            51               0       CJ Anderson   \n",
       "34             0              10    Sandeep Sharma   \n",
       "72             0               4         SM Katich   \n",
       "99             6               0  DPMD Jayawardene   \n",
       "119            0              10        DL Vettori   \n",
       "\n",
       "                                                 venue         umpire1  \\\n",
       "14                                    Feroz Shah Kotla        YC Barde   \n",
       "34   Punjab Cricket Association IS Bindra Stadium, ...        YC Barde   \n",
       "72          Punjab Cricket Association Stadium, Mohali     RE Koertzen   \n",
       "99                                    Feroz Shah Kotla  AV Jayaprakash   \n",
       "119                                           Newlands       MR Benson   \n",
       "\n",
       "         umpire2 umpire3  \n",
       "14   Nitin Menon     NaN  \n",
       "34     CK Nandan     NaN  \n",
       "72     I Shivram     NaN  \n",
       "99   RE Koertzen     NaN  \n",
       "119    SD Ranade     NaN  "
      ]
     },
     "execution_count": 6,
     "metadata": {},
     "output_type": "execute_result"
    }
   ],
   "source": [
    "all_matches.head()"
   ]
  },
  {
   "cell_type": "code",
   "execution_count": 7,
   "metadata": {},
   "outputs": [
    {
     "data": {
      "text/plain": [
       "<matplotlib.axes._subplots.AxesSubplot at 0x2422c1dec88>"
      ]
     },
     "execution_count": 7,
     "metadata": {},
     "output_type": "execute_result"
    },
    {
     "data": {
      "image/png": "[encoded data removed]",
      "text/plain": [
       "<Figure size 432x288 with 1 Axes>"
      ]
     },
     "metadata": {
      "needs_background": "light"
     },
     "output_type": "display_data"
    }
   ],
   "source": [
    "all_matches['winner'].value_counts(normalize=True).plot.bar(title='% Win of each team', color = ['Red', 'Blue'])"
   ]
  },
  {
   "cell_type": "code",
   "execution_count": 8,
   "metadata": {},
   "outputs": [
    {
     "data": {
      "text/plain": [
       "season  winner         \n",
       "2008    Kings XI Punjab    2\n",
       "2009    Delhi Capitals     1\n",
       "        Kings XI Punjab    1\n",
       "2010    Delhi Capitals     1\n",
       "        Kings XI Punjab    1\n",
       "2011    Delhi Capitals     1\n",
       "        Kings XI Punjab    1\n",
       "2012    Delhi Capitals     2\n",
       "2013    Kings XI Punjab    2\n",
       "2014    Kings XI Punjab    2\n",
       "2015    Delhi Capitals     2\n",
       "2016    Delhi Capitals     1\n",
       "        Kings XI Punjab    1\n",
       "2017    Delhi Capitals     1\n",
       "        Kings XI Punjab    1\n",
       "2018    Kings XI Punjab    2\n",
       "2019    Delhi Capitals     1\n",
       "        Kings XI Punjab    1\n",
       "Name: winner, dtype: int64"
      ]
     },
     "execution_count": 8,
     "metadata": {},
     "output_type": "execute_result"
    }
   ],
   "source": [
    "all_matches.groupby('season')['winner'].value_counts()"
   ]
  },
  {
   "cell_type": "code",
   "execution_count": 9,
   "metadata": {},
   "outputs": [
    {
     "data": {
      "text/plain": [
       "city          winner         \n",
       "Bloemfontein  Kings XI Punjab    1\n",
       "Cape Town     Delhi Capitals     1\n",
       "Chandigarh    Kings XI Punjab    4\n",
       "              Delhi Capitals     1\n",
       "Delhi         Delhi Capitals     6\n",
       "              Kings XI Punjab    5\n",
       "Dharamsala    Kings XI Punjab    2\n",
       "              Delhi Capitals     1\n",
       "Mohali        Kings XI Punjab    2\n",
       "Pune          Delhi Capitals     1\n",
       "Name: winner, dtype: int64"
      ]
     },
     "execution_count": 9,
     "metadata": {},
     "output_type": "execute_result"
    }
   ],
   "source": [
    "all_matches.groupby('city')['winner'].value_counts()"
   ]
  },
  {
   "cell_type": "code",
   "execution_count": 10,
   "metadata": {},
   "outputs": [
    {
     "data": {
      "text/html": [
       "<div>\n",
       "<style scoped>\n",
       "    .dataframe tbody tr th:only-of-type {\n",
       "        vertical-align: middle;\n",
       "    }\n",
       "\n",
       "    .dataframe tbody tr th {\n",
       "        vertical-align: top;\n",
       "    }\n",
       "\n",
       "    .dataframe thead th {\n",
       "        text-align: right;\n",
       "    }\n",
       "</style>\n",
       "<table border=\"1\" class=\"dataframe\">\n",
       "  <thead>\n",
       "    <tr style=\"text-align: right;\">\n",
       "      <th></th>\n",
       "      <th></th>\n",
       "      <th>count</th>\n",
       "    </tr>\n",
       "    <tr>\n",
       "      <th>venue</th>\n",
       "      <th>winner</th>\n",
       "      <th></th>\n",
       "    </tr>\n",
       "  </thead>\n",
       "  <tbody>\n",
       "    <tr>\n",
       "      <th rowspan=\"2\" valign=\"top\">Feroz Shah Kotla</th>\n",
       "      <th>Delhi Capitals</th>\n",
       "      <td>1152</td>\n",
       "    </tr>\n",
       "    <tr>\n",
       "      <th>Kings XI Punjab</th>\n",
       "      <td>1092</td>\n",
       "    </tr>\n",
       "    <tr>\n",
       "      <th>Feroz Shah Kotla Ground</th>\n",
       "      <th>Delhi Capitals</th>\n",
       "      <td>248</td>\n",
       "    </tr>\n",
       "    <tr>\n",
       "      <th rowspan=\"2\" valign=\"top\">Himachal Pradesh Cricket Association Stadium</th>\n",
       "      <th>Delhi Capitals</th>\n",
       "      <td>236</td>\n",
       "    </tr>\n",
       "    <tr>\n",
       "      <th>Kings XI Punjab</th>\n",
       "      <td>495</td>\n",
       "    </tr>\n",
       "    <tr>\n",
       "      <th>IS Bindra Stadium</th>\n",
       "      <th>Kings XI Punjab</th>\n",
       "      <td>245</td>\n",
       "    </tr>\n",
       "    <tr>\n",
       "      <th>Maharashtra Cricket Association Stadium</th>\n",
       "      <th>Delhi Capitals</th>\n",
       "      <td>253</td>\n",
       "    </tr>\n",
       "    <tr>\n",
       "      <th>Newlands</th>\n",
       "      <th>Delhi Capitals</th>\n",
       "      <td>108</td>\n",
       "    </tr>\n",
       "    <tr>\n",
       "      <th>OUTsurance Oval</th>\n",
       "      <th>Kings XI Punjab</th>\n",
       "      <td>249</td>\n",
       "    </tr>\n",
       "    <tr>\n",
       "      <th>Punjab Cricket Association IS Bindra Stadium, Mohali</th>\n",
       "      <th>Kings XI Punjab</th>\n",
       "      <td>640</td>\n",
       "    </tr>\n",
       "    <tr>\n",
       "      <th rowspan=\"2\" valign=\"top\">Punjab Cricket Association Stadium, Mohali</th>\n",
       "      <th>Delhi Capitals</th>\n",
       "      <td>246</td>\n",
       "    </tr>\n",
       "    <tr>\n",
       "      <th>Kings XI Punjab</th>\n",
       "      <td>448</td>\n",
       "    </tr>\n",
       "  </tbody>\n",
       "</table>\n",
       "</div>"
      ],
      "text/plain": [
       "                                                                    count\n",
       "venue                                              winner                \n",
       "Feroz Shah Kotla                                   Delhi Capitals    1152\n",
       "                                                   Kings XI Punjab   1092\n",
       "Feroz Shah Kotla Ground                            Delhi Capitals     248\n",
       "Himachal Pradesh Cricket Association Stadium       Delhi Capitals     236\n",
       "                                                   Kings XI Punjab    495\n",
       "IS Bindra Stadium                                  Kings XI Punjab    245\n",
       "Maharashtra Cricket Association Stadium            Delhi Capitals     253\n",
       "Newlands                                           Delhi Capitals     108\n",
       "OUTsurance Oval                                    Kings XI Punjab    249\n",
       "Punjab Cricket Association IS Bindra Stadium, M... Kings XI Punjab    640\n",
       "Punjab Cricket Association Stadium, Mohali         Delhi Capitals     246\n",
       "                                                   Kings XI Punjab    448"
      ]
     },
     "execution_count": 10,
     "metadata": {},
     "output_type": "execute_result"
    }
   ],
   "source": [
    "sub_data.groupby(['venue','winner'])['winner'].agg({'count'})"
   ]
  },
  {
   "cell_type": "code",
   "execution_count": 11,
   "metadata": {},
   "outputs": [
    {
     "data": {
      "text/html": [
       "<div>\n",
       "<style scoped>\n",
       "    .dataframe tbody tr th:only-of-type {\n",
       "        vertical-align: middle;\n",
       "    }\n",
       "\n",
       "    .dataframe tbody tr th {\n",
       "        vertical-align: top;\n",
       "    }\n",
       "\n",
       "    .dataframe thead tr th {\n",
       "        text-align: left;\n",
       "    }\n",
       "\n",
       "    .dataframe thead tr:last-of-type th {\n",
       "        text-align: right;\n",
       "    }\n",
       "</style>\n",
       "<table border=\"1\" class=\"dataframe\">\n",
       "  <thead>\n",
       "    <tr>\n",
       "      <th></th>\n",
       "      <th></th>\n",
       "      <th>win_by_runs</th>\n",
       "      <th>win_by_wickets</th>\n",
       "    </tr>\n",
       "    <tr>\n",
       "      <th></th>\n",
       "      <th></th>\n",
       "      <th>max</th>\n",
       "      <th>max</th>\n",
       "    </tr>\n",
       "    <tr>\n",
       "      <th>venue</th>\n",
       "      <th>winner</th>\n",
       "      <th></th>\n",
       "      <th></th>\n",
       "    </tr>\n",
       "  </thead>\n",
       "  <tbody>\n",
       "    <tr>\n",
       "      <th rowspan=\"2\" valign=\"top\">Feroz Shah Kotla</th>\n",
       "      <th>Delhi Capitals</th>\n",
       "      <td>51</td>\n",
       "      <td>9</td>\n",
       "    </tr>\n",
       "    <tr>\n",
       "      <th>Kings XI Punjab</th>\n",
       "      <td>6</td>\n",
       "      <td>7</td>\n",
       "    </tr>\n",
       "    <tr>\n",
       "      <th>Feroz Shah Kotla Ground</th>\n",
       "      <th>Delhi Capitals</th>\n",
       "      <td>0</td>\n",
       "      <td>5</td>\n",
       "    </tr>\n",
       "    <tr>\n",
       "      <th rowspan=\"2\" valign=\"top\">Himachal Pradesh Cricket Association Stadium</th>\n",
       "      <th>Delhi Capitals</th>\n",
       "      <td>0</td>\n",
       "      <td>6</td>\n",
       "    </tr>\n",
       "    <tr>\n",
       "      <th>Kings XI Punjab</th>\n",
       "      <td>29</td>\n",
       "      <td>0</td>\n",
       "    </tr>\n",
       "    <tr>\n",
       "      <th>IS Bindra Stadium</th>\n",
       "      <th>Kings XI Punjab</th>\n",
       "      <td>14</td>\n",
       "      <td>0</td>\n",
       "    </tr>\n",
       "    <tr>\n",
       "      <th>Maharashtra Cricket Association Stadium</th>\n",
       "      <th>Delhi Capitals</th>\n",
       "      <td>0</td>\n",
       "      <td>5</td>\n",
       "    </tr>\n",
       "    <tr>\n",
       "      <th>Newlands</th>\n",
       "      <th>Delhi Capitals</th>\n",
       "      <td>0</td>\n",
       "      <td>10</td>\n",
       "    </tr>\n",
       "    <tr>\n",
       "      <th>OUTsurance Oval</th>\n",
       "      <th>Kings XI Punjab</th>\n",
       "      <td>0</td>\n",
       "      <td>6</td>\n",
       "    </tr>\n",
       "    <tr>\n",
       "      <th>Punjab Cricket Association IS Bindra Stadium, Mohali</th>\n",
       "      <th>Kings XI Punjab</th>\n",
       "      <td>9</td>\n",
       "      <td>10</td>\n",
       "    </tr>\n",
       "    <tr>\n",
       "      <th rowspan=\"2\" valign=\"top\">Punjab Cricket Association Stadium, Mohali</th>\n",
       "      <th>Delhi Capitals</th>\n",
       "      <td>0</td>\n",
       "      <td>5</td>\n",
       "    </tr>\n",
       "    <tr>\n",
       "      <th>Kings XI Punjab</th>\n",
       "      <td>0</td>\n",
       "      <td>7</td>\n",
       "    </tr>\n",
       "  </tbody>\n",
       "</table>\n",
       "</div>"
      ],
      "text/plain": [
       "                                                                   win_by_runs  \\\n",
       "                                                                           max   \n",
       "venue                                              winner                        \n",
       "Feroz Shah Kotla                                   Delhi Capitals           51   \n",
       "                                                   Kings XI Punjab           6   \n",
       "Feroz Shah Kotla Ground                            Delhi Capitals            0   \n",
       "Himachal Pradesh Cricket Association Stadium       Delhi Capitals            0   \n",
       "                                                   Kings XI Punjab          29   \n",
       "IS Bindra Stadium                                  Kings XI Punjab          14   \n",
       "Maharashtra Cricket Association Stadium            Delhi Capitals            0   \n",
       "Newlands                                           Delhi Capitals            0   \n",
       "OUTsurance Oval                                    Kings XI Punjab           0   \n",
       "Punjab Cricket Association IS Bindra Stadium, M... Kings XI Punjab           9   \n",
       "Punjab Cricket Association Stadium, Mohali         Delhi Capitals            0   \n",
       "                                                   Kings XI Punjab           0   \n",
       "\n",
       "                                                                   win_by_wickets  \n",
       "                                                                              max  \n",
       "venue                                              winner                          \n",
       "Feroz Shah Kotla                                   Delhi Capitals               9  \n",
       "                                                   Kings XI Punjab              7  \n",
       "Feroz Shah Kotla Ground                            Delhi Capitals               5  \n",
       "Himachal Pradesh Cricket Association Stadium       Delhi Capitals               6  \n",
       "                                                   Kings XI Punjab              0  \n",
       "IS Bindra Stadium                                  Kings XI Punjab              0  \n",
       "Maharashtra Cricket Association Stadium            Delhi Capitals               5  \n",
       "Newlands                                           Delhi Capitals              10  \n",
       "OUTsurance Oval                                    Kings XI Punjab              6  \n",
       "Punjab Cricket Association IS Bindra Stadium, M... Kings XI Punjab             10  \n",
       "Punjab Cricket Association Stadium, Mohali         Delhi Capitals               5  \n",
       "                                                   Kings XI Punjab              7  "
      ]
     },
     "execution_count": 11,
     "metadata": {},
     "output_type": "execute_result"
    }
   ],
   "source": [
    "sub_data.groupby(['venue','winner'])['win_by_runs', 'win_by_wickets'].agg({'max'})"
   ]
  },
  {
   "cell_type": "code",
   "execution_count": 12,
   "metadata": {},
   "outputs": [
    {
     "data": {
      "text/plain": [
       "toss_decision  toss_winner      winner         \n",
       "bat            Delhi Capitals   Kings XI Punjab    0.750000\n",
       "                                Delhi Capitals     0.250000\n",
       "               Kings XI Punjab  Delhi Capitals     1.000000\n",
       "field          Delhi Capitals   Delhi Capitals     0.545455\n",
       "                                Kings XI Punjab    0.454545\n",
       "               Kings XI Punjab  Kings XI Punjab    0.857143\n",
       "                                Delhi Capitals     0.142857\n",
       "Name: winner, dtype: float64"
      ]
     },
     "execution_count": 12,
     "metadata": {},
     "output_type": "execute_result"
    }
   ],
   "source": [
    "all_matches.groupby(['toss_decision', 'toss_winner'])['winner'].value_counts(normalize=True)"
   ]
  },
  {
   "cell_type": "markdown",
   "metadata": {},
   "source": [
    "KXIP has very high winning probability when chasing the target and they are not able to defend the target most of the time."
   ]
  },
  {
   "cell_type": "code",
   "execution_count": 13,
   "metadata": {},
   "outputs": [
    {
     "data": {
      "text/plain": [
       "winner           player_of_match \n",
       "Delhi Capitals   UT Yadav            2\n",
       "                 A Mishra            1\n",
       "                 CJ Anderson         1\n",
       "                 DA Warner           1\n",
       "                 DL Vettori          1\n",
       "                 G Gambhir           1\n",
       "                 MA Agarwal          1\n",
       "                 NM Coulter-Nile     1\n",
       "                 SS Iyer             1\n",
       "Kings XI Punjab  PP Chawla           2\n",
       "                 AR Patel            1\n",
       "                 AS Rajpoot          1\n",
       "                 B Lee               1\n",
       "                 DA Miller           1\n",
       "                 DPMD Jayawardene    1\n",
       "                 Harmeet Singh       1\n",
       "                 KL Rahul            1\n",
       "                 M Vohra             1\n",
       "                 MP Stoinis          1\n",
       "                 S Curran            1\n",
       "                 SM Katich           1\n",
       "                 Sandeep Sharma      1\n",
       "Name: player_of_match, dtype: int64"
      ]
     },
     "execution_count": 13,
     "metadata": {},
     "output_type": "execute_result"
    }
   ],
   "source": [
    "all_matches.groupby('winner')['player_of_match'].value_counts()"
   ]
  },
  {
   "cell_type": "markdown",
   "metadata": {},
   "source": [
    "### What will KL Rahul strike rate be in the first 6 overs?"
   ]
  },
  {
   "cell_type": "code",
   "execution_count": 17,
   "metadata": {},
   "outputs": [],
   "source": [
    "sub_data1 = data[(data['over'].isin([1,2,3,4,5,6])) & (data['batsman'] == 'KL Rahul')]"
   ]
  },
  {
   "cell_type": "code",
   "execution_count": 23,
   "metadata": {},
   "outputs": [],
   "source": [
    "all_strike_rate = round((sub_data1['batsman_runs'].sum()/sub_data1['ball'].count()) * 100,2)"
   ]
  },
  {
   "cell_type": "code",
   "execution_count": 24,
   "metadata": {},
   "outputs": [
    {
     "name": "stdout",
     "output_type": "stream",
     "text": [
      "Strike rate of KL Rahul against all bolwers in first 6 overs is : 135.47\n"
     ]
    }
   ],
   "source": [
    "print('Strike rate of KL Rahul against all bolwers in first 6 overs is : {}'.format(all_strike_rate))"
   ]
  },
  {
   "cell_type": "code",
   "execution_count": 28,
   "metadata": {},
   "outputs": [],
   "source": [
    "sub_data2 = sub_data[(sub_data['bowling_team'] == 'Delhi Capitals') & (sub_data['batsman'] == 'KL Rahul')]"
   ]
  },
  {
   "cell_type": "code",
   "execution_count": 32,
   "metadata": {},
   "outputs": [],
   "source": [
    "all_dc_strike_rate = round((sub_data2['batsman_runs'].sum()/sub_data2['ball'].count()) * 100,2)"
   ]
  },
  {
   "cell_type": "code",
   "execution_count": 33,
   "metadata": {},
   "outputs": [
    {
     "name": "stdout",
     "output_type": "stream",
     "text": [
      "Strike rate of KL Rahul against DC bolwers in first 6 overs is : 198.04\n"
     ]
    }
   ],
   "source": [
    "print('Strike rate of KL Rahul against DC bolwers in first 6 overs is : {}'.format(all_dc_strike_rate))"
   ]
  },
  {
   "cell_type": "code",
   "execution_count": 36,
   "metadata": {},
   "outputs": [],
   "source": [
    "balls_faced = sub_data2.groupby('match_id')['ball'].count()"
   ]
  },
  {
   "cell_type": "code",
   "execution_count": 38,
   "metadata": {},
   "outputs": [],
   "source": [
    "runs_scored = sub_data2.groupby(['match_id'])['batsman_runs'].sum()"
   ]
  },
  {
   "cell_type": "code",
   "execution_count": 315,
   "metadata": {},
   "outputs": [],
   "source": [
    "all_match_strike_rate = (np.array(runs_scored) / np.array(balls_faced)) * 100"
   ]
  },
  {
   "cell_type": "code",
   "execution_count": 318,
   "metadata": {},
   "outputs": [
    {
     "data": {
      "text/html": [
       "<div>\n",
       "<style scoped>\n",
       "    .dataframe tbody tr th:only-of-type {\n",
       "        vertical-align: middle;\n",
       "    }\n",
       "\n",
       "    .dataframe tbody tr th {\n",
       "        vertical-align: top;\n",
       "    }\n",
       "\n",
       "    .dataframe thead th {\n",
       "        text-align: right;\n",
       "    }\n",
       "</style>\n",
       "<table border=\"1\" class=\"dataframe\">\n",
       "  <thead>\n",
       "    <tr style=\"text-align: right;\">\n",
       "      <th></th>\n",
       "      <th>0</th>\n",
       "    </tr>\n",
       "  </thead>\n",
       "  <tbody>\n",
       "    <tr>\n",
       "      <th>count</th>\n",
       "      <td>4.000000</td>\n",
       "    </tr>\n",
       "    <tr>\n",
       "      <th>mean</th>\n",
       "      <td>185.445076</td>\n",
       "    </tr>\n",
       "    <tr>\n",
       "      <th>std</th>\n",
       "      <td>89.304700</td>\n",
       "    </tr>\n",
       "    <tr>\n",
       "      <th>min</th>\n",
       "      <td>133.333333</td>\n",
       "    </tr>\n",
       "    <tr>\n",
       "      <th>25%</th>\n",
       "      <td>135.606061</td>\n",
       "    </tr>\n",
       "    <tr>\n",
       "      <th>50%</th>\n",
       "      <td>144.848485</td>\n",
       "    </tr>\n",
       "    <tr>\n",
       "      <th>75%</th>\n",
       "      <td>194.687500</td>\n",
       "    </tr>\n",
       "    <tr>\n",
       "      <th>max</th>\n",
       "      <td>318.750000</td>\n",
       "    </tr>\n",
       "  </tbody>\n",
       "</table>\n",
       "</div>"
      ],
      "text/plain": [
       "                0\n",
       "count    4.000000\n",
       "mean   185.445076\n",
       "std     89.304700\n",
       "min    133.333333\n",
       "25%    135.606061\n",
       "50%    144.848485\n",
       "75%    194.687500\n",
       "max    318.750000"
      ]
     },
     "execution_count": 318,
     "metadata": {},
     "output_type": "execute_result"
    }
   ],
   "source": [
    "pd.DataFrame(all_match_strike_rate).describe()"
   ]
  },
  {
   "cell_type": "code",
   "execution_count": 50,
   "metadata": {},
   "outputs": [
    {
     "data": {
      "text/plain": [
       "<matplotlib.axes._subplots.AxesSubplot at 0x2422cbc7808>"
      ]
     },
     "execution_count": 50,
     "metadata": {},
     "output_type": "execute_result"
    },
    {
     "data": {
      "image/png": "[encoded data removed]",
      "text/plain": [
       "<Figure size 432x288 with 1 Axes>"
      ]
     },
     "metadata": {
      "needs_background": "light"
     },
     "output_type": "display_data"
    }
   ],
   "source": [
    "pd.DataFrame(all_match_strike_rate).plot.box(title='Box plot distribution of KL Rahul strike rate in all matches against DC')"
   ]
  },
  {
   "cell_type": "code",
   "execution_count": 59,
   "metadata": {},
   "outputs": [
    {
     "data": {
      "text/plain": [
       "<matplotlib.axes._subplots.AxesSubplot at 0x2422cbc7c88>"
      ]
     },
     "execution_count": 59,
     "metadata": {},
     "output_type": "execute_result"
    },
    {
     "data": {
      "image/png": "[encoded data removed]",
      "text/plain": [
       "<Figure size 432x288 with 1 Axes>"
      ]
     },
     "metadata": {
      "needs_background": "light"
     },
     "output_type": "display_data"
    }
   ],
   "source": [
    "round((sub_data2.groupby('bowler')['batsman_runs'].sum()/sub_data2.groupby('bowler')['ball'].count()) * 100, 2).plot.bar(title='Strike rate of KL Rahul against DC bowlers')"
   ]
  },
  {
   "cell_type": "markdown",
   "metadata": {},
   "source": [
    "### What will Shreyas Iyer contribution to DC's total score?"
   ]
  },
  {
   "cell_type": "code",
   "execution_count": 74,
   "metadata": {},
   "outputs": [],
   "source": [
    "sub_data3 = data[data['batsman'] == 'SS Iyer']"
   ]
  },
  {
   "cell_type": "code",
   "execution_count": 87,
   "metadata": {},
   "outputs": [],
   "source": [
    "per_all = round((sub_data3['batsman_runs'].sum()/data[data['batting_team'] == 'Delhi Capitals']['batsman_runs'].sum()) * 100)"
   ]
  },
  {
   "cell_type": "code",
   "execution_count": 88,
   "metadata": {},
   "outputs": [
    {
     "name": "stdout",
     "output_type": "stream",
     "text": [
      "Contribution of SS Iyer in total score of DC against all teams is 7.0%\n"
     ]
    }
   ],
   "source": [
    "print('Contribution of SS Iyer in total score of DC against all teams is {}%'.format(per_all))"
   ]
  },
  {
   "cell_type": "code",
   "execution_count": 90,
   "metadata": {},
   "outputs": [],
   "source": [
    "sub_data4 = sub_data[sub_data['batsman'] == 'SS Iyer']"
   ]
  },
  {
   "cell_type": "code",
   "execution_count": 96,
   "metadata": {},
   "outputs": [],
   "source": [
    "per_dc = round((sub_data4['batsman_runs'].sum()/sub_data['batsman_runs'].sum())*100)"
   ]
  },
  {
   "cell_type": "code",
   "execution_count": 97,
   "metadata": {},
   "outputs": [
    {
     "name": "stdout",
     "output_type": "stream",
     "text": [
      "Contribution of SS Iyer in total score of DC against KXIP is 4.0%\n"
     ]
    }
   ],
   "source": [
    "print('Contribution of SS Iyer in total score of DC against KXIP is {}%'.format(per_dc))"
   ]
  },
  {
   "cell_type": "code",
   "execution_count": 114,
   "metadata": {},
   "outputs": [
    {
     "data": {
      "image/png": "[encoded data removed]",
      "text/plain": [
       "<Figure size 432x288 with 1 Axes>"
      ]
     },
     "metadata": {
      "needs_background": "light"
     },
     "output_type": "display_data"
    }
   ],
   "source": [
    "fig = round((sub_data4.groupby('match_id')['batsman_runs'].sum()/sub_data[sub_data['batting_team'] == 'Delhi Capitals']['batsman_runs'].sum())*100).plot.bar(title='Contribution of SS Iyer in totoal score of DC against KXIP in every match')\n",
    "fig.set_ylabel('% score')\n",
    "plt.show()"
   ]
  },
  {
   "cell_type": "code",
   "execution_count": 118,
   "metadata": {},
   "outputs": [
    {
     "data": {
      "text/plain": [
       "<matplotlib.axes._subplots.AxesSubplot at 0x2422d991248>"
      ]
     },
     "execution_count": 118,
     "metadata": {},
     "output_type": "execute_result"
    },
    {
     "data": {
      "image/png": "[encoded data removed]",
      "text/plain": [
       "<Figure size 432x288 with 1 Axes>"
      ]
     },
     "metadata": {
      "needs_background": "light"
     },
     "output_type": "display_data"
    }
   ],
   "source": [
    "sub_data4.groupby('bowler')['batsman_runs'].sum().sort_values(ascending=False).plot.bar(title='Runs scored by SS Iyer against KXIP bowlers')"
   ]
  },
  {
   "cell_type": "markdown",
   "metadata": {},
   "source": [
    "### How many wickets will be taken by KXIP bowlers excluding that taken by Mohammed Shami, from 31st ball to the 120th ball?"
   ]
  },
  {
   "cell_type": "code",
   "execution_count": 124,
   "metadata": {},
   "outputs": [],
   "source": [
    "sub_data5 = data[(data['over']>15) & (data['bowler'] != 'Mohammed Shami') & (data['bowling_team'] == 'Kings XI Punjab')]"
   ]
  },
  {
   "cell_type": "code",
   "execution_count": 127,
   "metadata": {},
   "outputs": [],
   "source": [
    "sub_data6 = sub_data[(sub_data['over']>15) & (sub_data['bowler'] != 'Mohammed Shami') & (sub_data['bowling_team'] == 'Kings XI Punjab')]"
   ]
  },
  {
   "cell_type": "code",
   "execution_count": 134,
   "metadata": {},
   "outputs": [
    {
     "data": {
      "text/plain": [
       "<matplotlib.axes._subplots.AxesSubplot at 0x24236a9c508>"
      ]
     },
     "execution_count": 134,
     "metadata": {},
     "output_type": "execute_result"
    },
    {
     "data": {
      "image/png": "[encoded data removed]",
      "text/plain": [
       "<Figure size 432x288 with 1 Axes>"
      ]
     },
     "metadata": {
      "needs_background": "light"
     },
     "output_type": "display_data"
    }
   ],
   "source": [
    "sub_data5.groupby('match_id')['player_dismissed'].count().plot.box(title='Box plot distribution of wickets taken by KXIP bowlers against all teams')"
   ]
  },
  {
   "cell_type": "code",
   "execution_count": 319,
   "metadata": {},
   "outputs": [
    {
     "data": {
      "text/plain": [
       "<matplotlib.axes._subplots.AxesSubplot at 0x2423c15ee88>"
      ]
     },
     "execution_count": 319,
     "metadata": {},
     "output_type": "execute_result"
    },
    {
     "data": {
      "image/png": "[encoded data removed]",
      "text/plain": [
       "<Figure size 1080x360 with 1 Axes>"
      ]
     },
     "metadata": {
      "needs_background": "light"
     },
     "output_type": "display_data"
    }
   ],
   "source": [
    "sub_data5.groupby('bowler')['player_dismissed'].count().sort_values(ascending=False).plot.bar(title='Wickets taken by KXIP bowlers in overs 16-20 against all team', figsize=(15,5))"
   ]
  },
  {
   "cell_type": "code",
   "execution_count": 144,
   "metadata": {},
   "outputs": [
    {
     "data": {
      "text/plain": [
       "<matplotlib.axes._subplots.AxesSubplot at 0x2423a3995c8>"
      ]
     },
     "execution_count": 144,
     "metadata": {},
     "output_type": "execute_result"
    },
    {
     "data": {
      "image/png": "[encoded data removed]",
      "text/plain": [
       "<Figure size 432x288 with 1 Axes>"
      ]
     },
     "metadata": {
      "needs_background": "light"
     },
     "output_type": "display_data"
    }
   ],
   "source": [
    "sub_data6.groupby('match_id')['player_dismissed'].count().plot.box(title='Box plot distribution of wickets taken by KXIP bowlers against DC')"
   ]
  },
  {
   "cell_type": "code",
   "execution_count": 146,
   "metadata": {},
   "outputs": [
    {
     "data": {
      "text/plain": [
       "<matplotlib.axes._subplots.AxesSubplot at 0x2423a821088>"
      ]
     },
     "execution_count": 146,
     "metadata": {},
     "output_type": "execute_result"
    },
    {
     "data": {
      "image/png": "[encoded data removed]",
      "text/plain": [
       "<Figure size 1080x360 with 1 Axes>"
      ]
     },
     "metadata": {
      "needs_background": "light"
     },
     "output_type": "display_data"
    }
   ],
   "source": [
    "sub_data6[sub_data6['season'] > 2015].groupby('bowler')['player_dismissed'].count().sort_values(ascending=False).plot.bar(title='Wickets taken by KXIP bowlers in overs 1-6 against all team', figsize=(15,5))"
   ]
  },
  {
   "cell_type": "code",
   "execution_count": 149,
   "metadata": {},
   "outputs": [
    {
     "data": {
      "text/plain": [
       "<matplotlib.axes._subplots.AxesSubplot at 0x2423a3ad7c8>"
      ]
     },
     "execution_count": 149,
     "metadata": {},
     "output_type": "execute_result"
    },
    {
     "data": {
      "image/png": "[encoded data removed]",
      "text/plain": [
       "<Figure size 432x288 with 1 Axes>"
      ]
     },
     "metadata": {
      "needs_background": "light"
     },
     "output_type": "display_data"
    }
   ],
   "source": [
    "sub_data6[sub_data6['season'] > 2015]['player_dismissed'].value_counts().plot.bar(title='PLayer dismissed most number of times')"
   ]
  },
  {
   "cell_type": "markdown",
   "metadata": {},
   "source": [
    "### What will be the status of Chris Gayle's batting during KXIP's innings?"
   ]
  },
  {
   "cell_type": "code",
   "execution_count": 178,
   "metadata": {},
   "outputs": [],
   "source": [
    "sub_data7 = sub_data[sub_data['batsman'] == 'CH Gayle']"
   ]
  },
  {
   "cell_type": "code",
   "execution_count": 217,
   "metadata": {},
   "outputs": [],
   "source": [
    "sub_data8 = data[(data['batsman'] == 'CH Gayle') & (data['player_dismissed'] != 'SA Abbott')]"
   ]
  },
  {
   "cell_type": "code",
   "execution_count": 218,
   "metadata": {},
   "outputs": [],
   "source": [
    "all_time_out = round(sub_data8[sub_data8['player_dismissed'] == 'CH Gayle'].shape[0]/sub_data8['match_id'].unique().shape[0], 2)*100"
   ]
  },
  {
   "cell_type": "code",
   "execution_count": 219,
   "metadata": {},
   "outputs": [
    {
     "name": "stdout",
     "output_type": "stream",
     "text": [
      "The total matches played by CH Gayle is 124 and his getting out per is 88.0%\n"
     ]
    }
   ],
   "source": [
    "print('The total matches played by CH Gayle is {} and his getting out per is {}%'.format(sub_data8['match_id'].unique().shape[0],all_time_out))"
   ]
  },
  {
   "cell_type": "code",
   "execution_count": 259,
   "metadata": {},
   "outputs": [],
   "source": [
    "matches_played = []\n",
    "for i in sub_data8.groupby(['season'])['match_id'].unique():\n",
    "    matches_played.append(len(i))"
   ]
  },
  {
   "cell_type": "code",
   "execution_count": 266,
   "metadata": {},
   "outputs": [
    {
     "data": {
      "text/plain": [
       "<matplotlib.axes._subplots.AxesSubplot at 0x2423ad4f808>"
      ]
     },
     "execution_count": 266,
     "metadata": {},
     "output_type": "execute_result"
    },
    {
     "data": {
      "image/png": "[encoded data removed]",
      "text/plain": [
       "<Figure size 432x288 with 1 Axes>"
      ]
     },
     "metadata": {
      "needs_background": "light"
     },
     "output_type": "display_data"
    }
   ],
   "source": [
    "(round(sub_data8.groupby('season')['player_dismissed'].count()/matches_played,2) * 100).plot.bar(title='CH Gayle getting out % by season')"
   ]
  },
  {
   "cell_type": "code",
   "execution_count": 272,
   "metadata": {},
   "outputs": [],
   "source": [
    "matches_played1 = []\n",
    "for i in sub_data8.groupby(['bowling_team'])['match_id'].unique():\n",
    "    matches_played1.append(len(i))"
   ]
  },
  {
   "cell_type": "code",
   "execution_count": 273,
   "metadata": {},
   "outputs": [
    {
     "data": {
      "text/plain": [
       "[13, 4, 14, 4, 16, 1, 17, 17, 5, 15, 5, 13]"
      ]
     },
     "execution_count": 273,
     "metadata": {},
     "output_type": "execute_result"
    }
   ],
   "source": [
    "matches_played1"
   ]
  },
  {
   "cell_type": "code",
   "execution_count": 282,
   "metadata": {},
   "outputs": [
    {
     "data": {
      "text/plain": [
       "<matplotlib.axes._subplots.AxesSubplot at 0x2423ae73ec8>"
      ]
     },
     "execution_count": 282,
     "metadata": {},
     "output_type": "execute_result"
    },
    {
     "data": {
      "image/png": "[encoded data removed]",
      "text/plain": [
       "<Figure size 432x288 with 1 Axes>"
      ]
     },
     "metadata": {
      "needs_background": "light"
     },
     "output_type": "display_data"
    }
   ],
   "source": [
    "(sub_data8.groupby('bowling_team')['player_dismissed'].count()/matches_played1).plot.bar(title='CH Gayle getting out % against all teams')"
   ]
  },
  {
   "cell_type": "code",
   "execution_count": 283,
   "metadata": {},
   "outputs": [],
   "source": [
    "sub_data9 = sub_data[(sub_data['bowling_team'] == 'Delhi Capitals') & (sub_data['season'] > 2015) & (sub_data['batsman'] == 'CH Gayle')]"
   ]
  },
  {
   "cell_type": "code",
   "execution_count": 288,
   "metadata": {},
   "outputs": [
    {
     "data": {
      "text/plain": [
       "<matplotlib.axes._subplots.AxesSubplot at 0x24230641dc8>"
      ]
     },
     "execution_count": 288,
     "metadata": {},
     "output_type": "execute_result"
    },
    {
     "data": {
      "image/png": "[encoded data removed]",
      "text/plain": [
       "<Figure size 432x288 with 1 Axes>"
      ]
     },
     "metadata": {
      "needs_background": "light"
     },
     "output_type": "display_data"
    }
   ],
   "source": [
    "(sub_data9.groupby('bowler')['player_dismissed'].count()/sub_data9.groupby('bowler')['ball'].count()).plot.bar(title='% chances of getting out against DC bowlers')"
   ]
  },
  {
   "cell_type": "code",
   "execution_count": 293,
   "metadata": {},
   "outputs": [],
   "source": [
    "sub_data10 = data[(data['season']>2015) & (data['batsman'] == 'CH Gayle')]"
   ]
  },
  {
   "cell_type": "code",
   "execution_count": 301,
   "metadata": {},
   "outputs": [
    {
     "data": {
      "text/plain": [
       "<matplotlib.axes._subplots.AxesSubplot at 0x2423bfcde08>"
      ]
     },
     "execution_count": 301,
     "metadata": {},
     "output_type": "execute_result"
    },
    {
     "data": {
      "image/png": "[encoded data removed]",
      "text/plain": [
       "<Figure size 432x288 with 1 Axes>"
      ]
     },
     "metadata": {
      "needs_background": "light"
     },
     "output_type": "display_data"
    }
   ],
   "source": [
    "((sub_data10.groupby('bowling_team')['batsman_runs'].sum()/sub_data10.groupby('bowling_team')['ball'].count())*100).plot.bar(title='CH Gayle strike rate against all teams in past few years')"
   ]
  },
  {
   "cell_type": "code",
   "execution_count": 302,
   "metadata": {},
   "outputs": [],
   "source": [
    "sub_data11 = sub_data[(sub_data['season']>2015) & (sub_data['batsman'] == 'CH Gayle')]"
   ]
  },
  {
   "cell_type": "code",
   "execution_count": 309,
   "metadata": {},
   "outputs": [
    {
     "data": {
      "text/plain": [
       "<matplotlib.axes._subplots.AxesSubplot at 0x2423bf9b788>"
      ]
     },
     "execution_count": 309,
     "metadata": {},
     "output_type": "execute_result"
    },
    {
     "data": {
      "image/png": "[encoded data removed]",
      "text/plain": [
       "<Figure size 432x288 with 1 Axes>"
      ]
     },
     "metadata": {
      "needs_background": "light"
     },
     "output_type": "display_data"
    }
   ],
   "source": [
    "((sub_data11.groupby('bowler')['batsman_runs'].sum()/sub_data11.groupby('bowler')['ball'].count())*100).plot.bar(title='CH Gayle strike rate against DC bowlers')"
   ]
  },
  {
   "cell_type": "code",
   "execution_count": 312,
   "metadata": {},
   "outputs": [
    {
     "data": {
      "text/plain": [
       "match_id\n",
       "11328    186.486486\n",
       "dtype: float64"
      ]
     },
     "execution_count": 312,
     "metadata": {},
     "output_type": "execute_result"
    }
   ],
   "source": [
    "(sub_data11.groupby('match_id')['batsman_runs'].sum()/sub_data11.groupby('match_id')['ball'].count())*100"
   ]
  }
 ],
 "metadata": {
  "kernelspec": {
   "display_name": "Python 3",
   "language": "python",
   "name": "python3"
  },
  "language_info": {
   "codemirror_mode": {
    "name": "ipython",
    "version": 3
   },
   "file_extension": ".py",
   "mimetype": "text/x-python",
   "name": "python",
   "nbconvert_exporter": "python",
   "pygments_lexer": "ipython3",
   "version": "3.7.6"
  }
 },
 "nbformat": 4,
 "nbformat_minor": 4
}
