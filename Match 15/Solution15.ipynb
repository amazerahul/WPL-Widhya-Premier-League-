{
 "cells": [
  {
   "cell_type": "code",
   "execution_count": 229,
   "metadata": {},
   "outputs": [],
   "source": [
    "import pandas as pd\n",
    "import numpy as np\n",
    "import matplotlib.pyplot as plt\n",
    "import seaborn as sns\n",
    "import warnings \n",
    "warnings.filterwarnings(\"ignore\")"
   ]
  },
  {
   "cell_type": "code",
   "execution_count": 230,
   "metadata": {},
   "outputs": [],
   "source": [
    "matches = pd.read_csv('C:/Users/Hp/Desktop/WPL/matches.csv')\n",
    "deliveries = pd.read_csv('C:/Users/Hp/Desktop/WPL/deliveries.csv')"
   ]
  },
  {
   "cell_type": "code",
   "execution_count": 231,
   "metadata": {},
   "outputs": [],
   "source": [
    "all_matches = matches[(matches['team1'].isin(['Rajasthan Royals', 'Mumbai Indians'])) & (matches['team2'].isin(['Rajasthan Royals', 'Mumbai Indians']))]"
   ]
  },
  {
   "cell_type": "code",
   "execution_count": 232,
   "metadata": {},
   "outputs": [],
   "source": [
    "data = pd.merge(matches, deliveries, how = \"inner\", left_on = 'id', right_on = 'match_id')"
   ]
  },
  {
   "cell_type": "code",
   "execution_count": 233,
   "metadata": {},
   "outputs": [],
   "source": [
    "sub_data = data[(data['team1'].isin(['Rajasthan Royals', 'Mumbai Indians'])) & (data['team2'].isin(['Rajasthan Royals', 'Mumbai Indians']))]"
   ]
  },
  {
   "cell_type": "markdown",
   "metadata": {},
   "source": [
    "### Who will win the match?"
   ]
  },
  {
   "cell_type": "code",
   "execution_count": 234,
   "metadata": {},
   "outputs": [
    {
     "data": {
      "text/html": [
       "<div>\n",
       "<style scoped>\n",
       "    .dataframe tbody tr th:only-of-type {\n",
       "        vertical-align: middle;\n",
       "    }\n",
       "\n",
       "    .dataframe tbody tr th {\n",
       "        vertical-align: top;\n",
       "    }\n",
       "\n",
       "    .dataframe thead th {\n",
       "        text-align: right;\n",
       "    }\n",
       "</style>\n",
       "<table border=\"1\" class=\"dataframe\">\n",
       "  <thead>\n",
       "    <tr style=\"text-align: right;\">\n",
       "      <th></th>\n",
       "      <th>id</th>\n",
       "      <th>season</th>\n",
       "      <th>city</th>\n",
       "      <th>date</th>\n",
       "      <th>team1</th>\n",
       "      <th>team2</th>\n",
       "      <th>toss_winner</th>\n",
       "      <th>toss_decision</th>\n",
       "      <th>result</th>\n",
       "      <th>dl_applied</th>\n",
       "      <th>winner</th>\n",
       "      <th>win_by_runs</th>\n",
       "      <th>win_by_wickets</th>\n",
       "      <th>player_of_match</th>\n",
       "      <th>venue</th>\n",
       "      <th>umpire1</th>\n",
       "      <th>umpire2</th>\n",
       "      <th>umpire3</th>\n",
       "    </tr>\n",
       "  </thead>\n",
       "  <tbody>\n",
       "    <tr>\n",
       "      <th>85</th>\n",
       "      <td>86</td>\n",
       "      <td>2008</td>\n",
       "      <td>Mumbai</td>\n",
       "      <td>5/7/2008</td>\n",
       "      <td>Rajasthan Royals</td>\n",
       "      <td>Mumbai Indians</td>\n",
       "      <td>Mumbai Indians</td>\n",
       "      <td>field</td>\n",
       "      <td>normal</td>\n",
       "      <td>0</td>\n",
       "      <td>Mumbai Indians</td>\n",
       "      <td>0</td>\n",
       "      <td>7</td>\n",
       "      <td>A Nehra</td>\n",
       "      <td>Dr DY Patil Sports Academy</td>\n",
       "      <td>DJ Harper</td>\n",
       "      <td>RE Koertzen</td>\n",
       "      <td>NaN</td>\n",
       "    </tr>\n",
       "    <tr>\n",
       "      <th>112</th>\n",
       "      <td>113</td>\n",
       "      <td>2008</td>\n",
       "      <td>Jaipur</td>\n",
       "      <td>5/26/2008</td>\n",
       "      <td>Mumbai Indians</td>\n",
       "      <td>Rajasthan Royals</td>\n",
       "      <td>Rajasthan Royals</td>\n",
       "      <td>field</td>\n",
       "      <td>normal</td>\n",
       "      <td>0</td>\n",
       "      <td>Rajasthan Royals</td>\n",
       "      <td>0</td>\n",
       "      <td>5</td>\n",
       "      <td>Sohail Tanvir</td>\n",
       "      <td>Sawai Mansingh Stadium</td>\n",
       "      <td>BF Bowden</td>\n",
       "      <td>K Hariharan</td>\n",
       "      <td>NaN</td>\n",
       "    </tr>\n",
       "    <tr>\n",
       "      <th>159</th>\n",
       "      <td>160</td>\n",
       "      <td>2009</td>\n",
       "      <td>Durban</td>\n",
       "      <td>5/14/2009</td>\n",
       "      <td>Rajasthan Royals</td>\n",
       "      <td>Mumbai Indians</td>\n",
       "      <td>Rajasthan Royals</td>\n",
       "      <td>bat</td>\n",
       "      <td>normal</td>\n",
       "      <td>0</td>\n",
       "      <td>Rajasthan Royals</td>\n",
       "      <td>2</td>\n",
       "      <td>0</td>\n",
       "      <td>SK Warne</td>\n",
       "      <td>Kingsmead</td>\n",
       "      <td>BR Doctrove</td>\n",
       "      <td>DJ Harper</td>\n",
       "      <td>NaN</td>\n",
       "    </tr>\n",
       "    <tr>\n",
       "      <th>175</th>\n",
       "      <td>176</td>\n",
       "      <td>2010</td>\n",
       "      <td>Mumbai</td>\n",
       "      <td>3/13/2010</td>\n",
       "      <td>Mumbai Indians</td>\n",
       "      <td>Rajasthan Royals</td>\n",
       "      <td>Mumbai Indians</td>\n",
       "      <td>bat</td>\n",
       "      <td>normal</td>\n",
       "      <td>0</td>\n",
       "      <td>Mumbai Indians</td>\n",
       "      <td>4</td>\n",
       "      <td>0</td>\n",
       "      <td>YK Pathan</td>\n",
       "      <td>Brabourne Stadium</td>\n",
       "      <td>RE Koertzen</td>\n",
       "      <td>RB Tiffin</td>\n",
       "      <td>NaN</td>\n",
       "    </tr>\n",
       "    <tr>\n",
       "      <th>218</th>\n",
       "      <td>219</td>\n",
       "      <td>2010</td>\n",
       "      <td>Jaipur</td>\n",
       "      <td>4/11/2010</td>\n",
       "      <td>Mumbai Indians</td>\n",
       "      <td>Rajasthan Royals</td>\n",
       "      <td>Rajasthan Royals</td>\n",
       "      <td>field</td>\n",
       "      <td>normal</td>\n",
       "      <td>0</td>\n",
       "      <td>Mumbai Indians</td>\n",
       "      <td>37</td>\n",
       "      <td>0</td>\n",
       "      <td>SR Tendulkar</td>\n",
       "      <td>Sawai Mansingh Stadium</td>\n",
       "      <td>BR Doctrove</td>\n",
       "      <td>SK Tarapore</td>\n",
       "      <td>NaN</td>\n",
       "    </tr>\n",
       "  </tbody>\n",
       "</table>\n",
       "</div>"
      ],
      "text/plain": [
       "      id  season    city       date             team1             team2  \\\n",
       "85    86    2008  Mumbai   5/7/2008  Rajasthan Royals    Mumbai Indians   \n",
       "112  113    2008  Jaipur  5/26/2008    Mumbai Indians  Rajasthan Royals   \n",
       "159  160    2009  Durban  5/14/2009  Rajasthan Royals    Mumbai Indians   \n",
       "175  176    2010  Mumbai  3/13/2010    Mumbai Indians  Rajasthan Royals   \n",
       "218  219    2010  Jaipur  4/11/2010    Mumbai Indians  Rajasthan Royals   \n",
       "\n",
       "          toss_winner toss_decision  result  dl_applied            winner  \\\n",
       "85     Mumbai Indians         field  normal           0    Mumbai Indians   \n",
       "112  Rajasthan Royals         field  normal           0  Rajasthan Royals   \n",
       "159  Rajasthan Royals           bat  normal           0  Rajasthan Royals   \n",
       "175    Mumbai Indians           bat  normal           0    Mumbai Indians   \n",
       "218  Rajasthan Royals         field  normal           0    Mumbai Indians   \n",
       "\n",
       "     win_by_runs  win_by_wickets player_of_match                       venue  \\\n",
       "85             0               7         A Nehra  Dr DY Patil Sports Academy   \n",
       "112            0               5   Sohail Tanvir      Sawai Mansingh Stadium   \n",
       "159            2               0        SK Warne                   Kingsmead   \n",
       "175            4               0       YK Pathan           Brabourne Stadium   \n",
       "218           37               0    SR Tendulkar      Sawai Mansingh Stadium   \n",
       "\n",
       "         umpire1      umpire2 umpire3  \n",
       "85     DJ Harper  RE Koertzen     NaN  \n",
       "112    BF Bowden  K Hariharan     NaN  \n",
       "159  BR Doctrove    DJ Harper     NaN  \n",
       "175  RE Koertzen    RB Tiffin     NaN  \n",
       "218  BR Doctrove  SK Tarapore     NaN  "
      ]
     },
     "execution_count": 234,
     "metadata": {},
     "output_type": "execute_result"
    }
   ],
   "source": [
    "all_matches.head()"
   ]
  },
  {
   "cell_type": "code",
   "execution_count": 235,
   "metadata": {},
   "outputs": [
    {
     "data": {
      "text/plain": [
       "<matplotlib.axes._subplots.AxesSubplot at 0x1a2f1e2fa08>"
      ]
     },
     "execution_count": 235,
     "metadata": {},
     "output_type": "execute_result"
    },
    {
     "data": {
      "image/png": "[encoded data removed]",
      "text/plain": [
       "<Figure size 432x288 with 1 Axes>"
      ]
     },
     "metadata": {
      "needs_background": "light"
     },
     "output_type": "display_data"
    }
   ],
   "source": [
    "all_matches['winner'].value_counts(normalize=True).plot.bar(title='% Win for each team', color = ['pink', 'Blue'])"
   ]
  },
  {
   "cell_type": "code",
   "execution_count": 236,
   "metadata": {},
   "outputs": [
    {
     "data": {
      "text/plain": [
       "venue                         winner          \n",
       "Brabourne Stadium             Mumbai Indians      1\n",
       "Dr DY Patil Sports Academy    Mumbai Indians      1\n",
       "Eden Gardens                  Mumbai Indians      1\n",
       "Kingsmead                     Rajasthan Royals    1\n",
       "Sardar Patel Stadium, Motera  Mumbai Indians      1\n",
       "                              Rajasthan Royals    1\n",
       "Sawai Mansingh Stadium        Rajasthan Royals    5\n",
       "                              Mumbai Indians      2\n",
       "Wankhede Stadium              Mumbai Indians      4\n",
       "                              Rajasthan Royals    3\n",
       "Name: winner, dtype: int64"
      ]
     },
     "execution_count": 236,
     "metadata": {},
     "output_type": "execute_result"
    }
   ],
   "source": [
    "all_matches.groupby('venue')['winner'].value_counts()"
   ]
  },
  {
   "cell_type": "code",
   "execution_count": 237,
   "metadata": {},
   "outputs": [
    {
     "data": {
      "text/plain": [
       "match_id  inning  batting_team    \n",
       "7914      1       Mumbai Indians      167\n",
       "          2       Rajasthan Royals    168\n",
       "11327     1       Mumbai Indians      162\n",
       "          2       Rajasthan Royals    162\n",
       "Name: batsman_runs, dtype: int64"
      ]
     },
     "execution_count": 237,
     "metadata": {},
     "output_type": "execute_result"
    }
   ],
   "source": [
    "sub_data[(sub_data['venue']=='Sawai Mansingh Stadium') & (sub_data['season']>2015)].groupby(['match_id', 'inning', 'batting_team'])['batsman_runs'].sum()"
   ]
  },
  {
   "cell_type": "code",
   "execution_count": 238,
   "metadata": {},
   "outputs": [
    {
     "data": {
      "text/plain": [
       "match_id  inning  bowling_team    \n",
       "7914      1       Rajasthan Royals    7\n",
       "          2       Mumbai Indians      7\n",
       "11327     1       Rajasthan Royals    5\n",
       "          2       Mumbai Indians      5\n",
       "Name: player_dismissed, dtype: int64"
      ]
     },
     "execution_count": 238,
     "metadata": {},
     "output_type": "execute_result"
    }
   ],
   "source": [
    "sub_data[(sub_data['venue'] =='Sawai Mansingh Stadium') & (sub_data['season']>2015)].groupby(['match_id', 'inning','bowling_team'])['player_dismissed'].count()"
   ]
  },
  {
   "cell_type": "code",
   "execution_count": 239,
   "metadata": {},
   "outputs": [
    {
     "data": {
      "text/plain": [
       "toss_winner       toss_decision\n",
       "Mumbai Indians    bat              5\n",
       "                  field            2\n",
       "Rajasthan Royals  field            9\n",
       "                  bat              4\n",
       "Name: toss_decision, dtype: int64"
      ]
     },
     "execution_count": 239,
     "metadata": {},
     "output_type": "execute_result"
    }
   ],
   "source": [
    "all_matches.groupby(['toss_winner'])['toss_decision'].value_counts()"
   ]
  },
  {
   "cell_type": "code",
   "execution_count": 240,
   "metadata": {},
   "outputs": [
    {
     "data": {
      "text/plain": [
       "toss_decision  winner          \n",
       "bat            Rajasthan Royals    5\n",
       "               Mumbai Indians      4\n",
       "field          Mumbai Indians      6\n",
       "               Rajasthan Royals    5\n",
       "Name: winner, dtype: int64"
      ]
     },
     "execution_count": 240,
     "metadata": {},
     "output_type": "execute_result"
    }
   ],
   "source": [
    "all_matches.groupby('toss_decision')['winner'].value_counts()"
   ]
  },
  {
   "cell_type": "code",
   "execution_count": 241,
   "metadata": {},
   "outputs": [
    {
     "data": {
      "text/plain": [
       "winner            player_of_match\n",
       "Mumbai Indians    A Nehra            1\n",
       "                  AP Tare            1\n",
       "                  AT Rayudu          1\n",
       "                  CJ Anderson        1\n",
       "                  DR Smith           1\n",
       "                  Harbhajan Singh    1\n",
       "                  KA Pollard         1\n",
       "                  MEK Hussey         1\n",
       "                  SR Tendulkar       1\n",
       "                  YK Pathan          1\n",
       "Rajasthan Royals  JC Buttler         2\n",
       "                  SPD Smith          2\n",
       "                  AM Rahane          1\n",
       "                  J Archer           1\n",
       "                  J Botha            1\n",
       "                  SK Warne           1\n",
       "                  SR Watson          1\n",
       "                  Sohail Tanvir      1\n",
       "Name: player_of_match, dtype: int64"
      ]
     },
     "execution_count": 241,
     "metadata": {},
     "output_type": "execute_result"
    }
   ],
   "source": [
    "all_matches.groupby('winner')['player_of_match'].value_counts()"
   ]
  },
  {
   "cell_type": "code",
   "execution_count": 242,
   "metadata": {},
   "outputs": [
    {
     "data": {
      "text/plain": [
       "match_id  batsman   \n",
       "7914      JC Buttler     6\n",
       "7940      JC Buttler    95\n",
       "11318     JC Buttler    91\n",
       "          SPD Smith     12\n",
       "11327     SPD Smith     59\n",
       "Name: batsman_runs, dtype: int64"
      ]
     },
     "execution_count": 242,
     "metadata": {},
     "output_type": "execute_result"
    }
   ],
   "source": [
    "sub_data[(sub_data['batsman'].isin(['JC Buttler', 'SPD Smith'])) & (sub_data['season']>2015)].groupby(['match_id','batsman'])['batsman_runs'].sum()"
   ]
  },
  {
   "cell_type": "markdown",
   "metadata": {},
   "source": [
    "### Batsman Intimidation Score(BIS)"
   ]
  },
  {
   "cell_type": "code",
   "execution_count": 243,
   "metadata": {},
   "outputs": [],
   "source": [
    "sub_data1 = sub_data[sub_data['season']>2015]"
   ]
  },
  {
   "cell_type": "code",
   "execution_count": 244,
   "metadata": {},
   "outputs": [],
   "source": [
    "dummy = pd.DataFrame(sub_data1.groupby('batsman')['ball'].count())"
   ]
  },
  {
   "cell_type": "code",
   "execution_count": 245,
   "metadata": {},
   "outputs": [],
   "source": [
    "index = dummy[dummy['ball']>=10].index"
   ]
  },
  {
   "cell_type": "code",
   "execution_count": 246,
   "metadata": {},
   "outputs": [],
   "source": [
    "sub_data1 = sub_data1[sub_data1['batsman'].isin(index)]"
   ]
  },
  {
   "cell_type": "code",
   "execution_count": 247,
   "metadata": {},
   "outputs": [],
   "source": [
    "total_runs = sub_data1.groupby(['match_id','batsman'])['batsman_runs'].sum()"
   ]
  },
  {
   "cell_type": "code",
   "execution_count": 248,
   "metadata": {},
   "outputs": [],
   "source": [
    "boundary_runs = sub_data1[sub_data1['batsman_runs'].isin([4, 6])].groupby(['match_id','batsman'])['batsman_runs'].sum()"
   ]
  },
  {
   "cell_type": "code",
   "execution_count": 249,
   "metadata": {},
   "outputs": [],
   "source": [
    "nonbound_runs = sub_data1[sub_data1['batsman_runs'].isin([1, 2, 3])].groupby(['match_id','batsman'])['batsman_runs'].sum()"
   ]
  },
  {
   "cell_type": "code",
   "execution_count": 250,
   "metadata": {},
   "outputs": [],
   "source": [
    "ball_faced = sub_data1.groupby(['match_id','batsman'])['ball'].count()"
   ]
  },
  {
   "cell_type": "code",
   "execution_count": 281,
   "metadata": {},
   "outputs": [
    {
     "data": {
      "text/plain": [
       "<matplotlib.axes._subplots.AxesSubplot at 0x1a281ed7cc8>"
      ]
     },
     "execution_count": 281,
     "metadata": {},
     "output_type": "execute_result"
    },
    {
     "data": {
      "image/png": "[encoded data removed]",
      "text/plain": [
       "<Figure size 432x288 with 1 Axes>"
      ]
     },
     "metadata": {
      "needs_background": "light"
     },
     "output_type": "display_data"
    }
   ],
   "source": [
    "(((total_runs + boundary_runs) - (nonbound_runs * 0.5)) / ball_faced).sort_values(ascending=False).groupby('batsman').mean().plot.bar()"
   ]
  },
  {
   "cell_type": "code",
   "execution_count": 284,
   "metadata": {},
   "outputs": [
    {
     "data": {
      "text/plain": [
       "batsman\n",
       "AM Rahane       118.390805\n",
       "AS Yadav        135.714286\n",
       "BA Stokes       135.483871\n",
       "BCJ Cutting     150.000000\n",
       "E Lewis         139.130435\n",
       "HH Pandya       176.363636\n",
       "Ishan Kishan    133.928571\n",
       "JC Buttler      181.132075\n",
       "K Gowtham       283.333333\n",
       "KA Pollard       97.435897\n",
       "KH Pandya        81.250000\n",
       "Q de Kock       147.058824\n",
       "R Parag         151.724138\n",
       "RA Tripathi     100.000000\n",
       "RG Sharma       126.829268\n",
       "SPD Smith       112.698413\n",
       "SV Samson       150.495050\n",
       "dtype: float64"
      ]
     },
     "execution_count": 284,
     "metadata": {},
     "output_type": "execute_result"
    }
   ],
   "source": [
    "(sub_data1.groupby('batsman')['batsman_runs'].sum()/sub_data1.groupby('batsman')['ball'].count())*100"
   ]
  },
  {
   "cell_type": "code",
   "execution_count": 286,
   "metadata": {},
   "outputs": [
    {
     "data": {
      "text/plain": [
       "bowler\n",
       "JJ Bumrah    1\n",
       "RD Chahar    1\n",
       "Name: player_dismissed, dtype: int64"
      ]
     },
     "execution_count": 286,
     "metadata": {},
     "output_type": "execute_result"
    }
   ],
   "source": [
    "sub_data1[sub_data1['player_dismissed']=='JC Buttler'].groupby('bowler')['player_dismissed'].count()"
   ]
  },
  {
   "cell_type": "markdown",
   "metadata": {},
   "source": [
    "### # of runs scored of boundaries/ total runs scored"
   ]
  },
  {
   "cell_type": "code",
   "execution_count": 252,
   "metadata": {},
   "outputs": [
    {
     "data": {
      "text/plain": [
       "<matplotlib.axes._subplots.AxesSubplot at 0x1a2f14ff188>"
      ]
     },
     "execution_count": 252,
     "metadata": {},
     "output_type": "execute_result"
    },
    {
     "data": {
      "image/png": "[encoded data removed]",
      "text/plain": [
       "<Figure size 1080x360 with 1 Axes>"
      ]
     },
     "metadata": {
      "needs_background": "light"
     },
     "output_type": "display_data"
    }
   ],
   "source": [
    "(boundary_runs/total_runs).sort_values(ascending=False).plot.bar(title='boundary_runs / total_runs ratio', figsize=(15,5))"
   ]
  },
  {
   "cell_type": "code",
   "execution_count": 289,
   "metadata": {},
   "outputs": [
    {
     "data": {
      "text/plain": [
       "batsman\n",
       "K Gowtham       0.848485\n",
       "JC Buttler      0.753962\n",
       "HH Pandya       0.731228\n",
       "RG Sharma       0.719149\n",
       "BCJ Cutting     0.657343\n",
       "E Lewis         0.625000\n",
       "R Parag         0.590909\n",
       "SV Samson       0.581367\n",
       "Ishan Kishan    0.573180\n",
       "KH Pandya       0.571429\n",
       "Q de Kock       0.557813\n",
       "AM Rahane       0.530542\n",
       "KA Pollard      0.527273\n",
       "AS Yadav        0.498895\n",
       "BA Stokes       0.428571\n",
       "RA Tripathi     0.400000\n",
       "SPD Smith       0.387006\n",
       "Name: batsman_runs, dtype: float64"
      ]
     },
     "execution_count": 289,
     "metadata": {},
     "output_type": "execute_result"
    }
   ],
   "source": [
    "(boundary_runs/total_runs).sort_values(ascending=False).groupby('batsman').mean().sort_values(ascending=False)"
   ]
  },
  {
   "cell_type": "code",
   "execution_count": 253,
   "metadata": {},
   "outputs": [
    {
     "data": {
      "text/plain": [
       "batsman       batsman_runs\n",
       "AM Rahane     4               13\n",
       "              6                1\n",
       "AS Yadav      4               15\n",
       "              6                5\n",
       "BA Stokes     4                3\n",
       "              6                1\n",
       "BCJ Cutting   6                2\n",
       "              4                1\n",
       "E Lewis       4                4\n",
       "              6                4\n",
       "HH Pandya     4                7\n",
       "              6                6\n",
       "Ishan Kishan  4                6\n",
       "              6                3\n",
       "JC Buttler    4               17\n",
       "              6               12\n",
       "K Gowtham     4                4\n",
       "              6                2\n",
       "KA Pollard    6                2\n",
       "              4                1\n",
       "KH Pandya     4                1\n",
       "Q de Kock     4               12\n",
       "              6                6\n",
       "R Parag       4                5\n",
       "              6                1\n",
       "RA Tripathi   4                1\n",
       "RG Sharma     4                7\n",
       "              6                1\n",
       "SPD Smith     4                6\n",
       "              6                1\n",
       "SV Samson     4               15\n",
       "              6                4\n",
       "Name: batsman_runs, dtype: int64"
      ]
     },
     "execution_count": 253,
     "metadata": {},
     "output_type": "execute_result"
    }
   ],
   "source": [
    "sub_data1[sub_data1['batsman_runs'].isin([4, 6])].groupby('batsman')['batsman_runs'].value_counts()"
   ]
  },
  {
   "cell_type": "code",
   "execution_count": 254,
   "metadata": {},
   "outputs": [
    {
     "data": {
      "text/plain": [
       "batsman       bowler       batsman_runs\n",
       "JC Buttler    A Joseph     4               6\n",
       "Q de Kock     DS Kulkarni  4               5\n",
       "SV Samson     KH Pandya    4               5\n",
       "Q de Kock     J Archer     4               4\n",
       "AS Yadav      K Gowtham    4               4\n",
       "                                          ..\n",
       "RG Sharma     K Gowtham    6               1\n",
       "Ishan Kishan  BA Stokes    6               1\n",
       "RG Sharma     S Gopal      4               1\n",
       "SPD Smith     HH Pandya    4               1\n",
       "SV Samson     SL Malinga   4               1\n",
       "Name: batsman_runs, Length: 104, dtype: int64"
      ]
     },
     "execution_count": 254,
     "metadata": {},
     "output_type": "execute_result"
    }
   ],
   "source": [
    "sub_data1[sub_data1['batsman_runs'].isin([4, 6])].groupby(['batsman', 'bowler'])['batsman_runs'].value_counts().sort_values(ascending=False)"
   ]
  },
  {
   "cell_type": "markdown",
   "metadata": {},
   "source": [
    "### Diff between balls taken by MI and RR to reach 100 runs??"
   ]
  },
  {
   "cell_type": "code",
   "execution_count": 255,
   "metadata": {},
   "outputs": [],
   "source": [
    "def team_total(df):\n",
    "    runs = 0\n",
    "    balls = 0\n",
    "    \n",
    "    for i in df.total_runs:\n",
    "        if runs >= 100:\n",
    "            break\n",
    "        else:\n",
    "            runs += i\n",
    "            balls += 1\n",
    "    return balls"
   ]
  },
  {
   "cell_type": "code",
   "execution_count": 256,
   "metadata": {},
   "outputs": [],
   "source": [
    "def wickets_lost(df):\n",
    "    balls = team_total(df)\n",
    "    count = balls\n",
    "    wickets = 0\n",
    "    for i in df.player_dismissed_bool:\n",
    "        if i != 0:\n",
    "            wickets += 1\n",
    "        count -= 1\n",
    "    return wickets"
   ]
  },
  {
   "cell_type": "code",
   "execution_count": 257,
   "metadata": {},
   "outputs": [],
   "source": [
    "mumbai_balls = sub_data[sub_data['batting_team']=='Mumbai Indians'].groupby(['match_id']).apply(team_total)"
   ]
  },
  {
   "cell_type": "code",
   "execution_count": 258,
   "metadata": {},
   "outputs": [],
   "source": [
    "rajasthan_balls = sub_data[sub_data['batting_team']=='Rajasthan Royals'].groupby(['match_id']).apply(team_total)"
   ]
  },
  {
   "cell_type": "code",
   "execution_count": 259,
   "metadata": {},
   "outputs": [
    {
     "data": {
      "text/plain": [
       "<matplotlib.axes._subplots.AxesSubplot at 0x1a281bc58c8>"
      ]
     },
     "execution_count": 259,
     "metadata": {},
     "output_type": "execute_result"
    },
    {
     "data": {
      "image/png": "[encoded data removed]",
      "text/plain": [
       "<Figure size 432x288 with 1 Axes>"
      ]
     },
     "metadata": {
      "needs_background": "light"
     },
     "output_type": "display_data"
    }
   ],
   "source": [
    "sns.violinplot(abs(mumbai_balls - rajasthan_balls))"
   ]
  },
  {
   "cell_type": "code",
   "execution_count": 287,
   "metadata": {},
   "outputs": [
    {
     "data": {
      "text/plain": [
       "count    20.00000\n",
       "mean     13.25000\n",
       "std      10.32562\n",
       "min       0.00000\n",
       "25%       6.75000\n",
       "50%      12.00000\n",
       "75%      16.00000\n",
       "max      41.00000\n",
       "dtype: float64"
      ]
     },
     "execution_count": 287,
     "metadata": {},
     "output_type": "execute_result"
    }
   ],
   "source": [
    "abs(mumbai_balls - rajasthan_balls).describe()"
   ]
  },
  {
   "cell_type": "code",
   "execution_count": 260,
   "metadata": {},
   "outputs": [
    {
     "data": {
      "text/plain": [
       "<matplotlib.axes._subplots.AxesSubplot at 0x1a281c23988>"
      ]
     },
     "execution_count": 260,
     "metadata": {},
     "output_type": "execute_result"
    },
    {
     "data": {
      "image/png": "[encoded data removed]",
      "text/plain": [
       "<Figure size 432x288 with 1 Axes>"
      ]
     },
     "metadata": {
      "needs_background": "light"
     },
     "output_type": "display_data"
    }
   ],
   "source": [
    "sub_data[sub_data['batting_team']=='Mumbai Indians'].groupby(['match_id']).apply(wickets_lost).plot.box(title='box plot distribution of wickets lost by MI within 100 runs')"
   ]
  },
  {
   "cell_type": "code",
   "execution_count": 261,
   "metadata": {},
   "outputs": [
    {
     "data": {
      "text/plain": [
       "<matplotlib.axes._subplots.AxesSubplot at 0x1a281e65ec8>"
      ]
     },
     "execution_count": 261,
     "metadata": {},
     "output_type": "execute_result"
    },
    {
     "data": {
      "image/png": "[encoded data removed]",
      "text/plain": [
       "<Figure size 432x288 with 1 Axes>"
      ]
     },
     "metadata": {
      "needs_background": "light"
     },
     "output_type": "display_data"
    }
   ],
   "source": [
    "sub_data[sub_data['batting_team']=='Rajasthan Royals'].groupby(['match_id']).apply(wickets_lost).plot.box(title='box plot distribution of wickets lost by RR within 100 runs')"
   ]
  },
  {
   "cell_type": "markdown",
   "metadata": {},
   "source": [
    "### Bowler Lethality Score(BLS)"
   ]
  },
  {
   "cell_type": "code",
   "execution_count": 262,
   "metadata": {},
   "outputs": [],
   "source": [
    "dummy1 = pd.DataFrame(sub_data[sub_data['season']>2015].groupby(['match_id', 'bowler'])['over'].unique().apply(lambda x : len(x)))"
   ]
  },
  {
   "cell_type": "code",
   "execution_count": 263,
   "metadata": {},
   "outputs": [],
   "source": [
    "index1 = dummy1[dummy1['over']<=1].index"
   ]
  },
  {
   "cell_type": "code",
   "execution_count": 264,
   "metadata": {},
   "outputs": [],
   "source": [
    "for i,j in index1:\n",
    "    sub_data.drop(sub_data[(sub_data['match_id']==i) & (sub_data['bowler']==j)].index, inplace=True)"
   ]
  },
  {
   "cell_type": "code",
   "execution_count": 265,
   "metadata": {},
   "outputs": [],
   "source": [
    "def BLS(df):\n",
    "    wickets_taken = df.groupby(['match_id', 'bowler'])['player_dismissed'].count()\n",
    "    dot_balls_bowled = df[df['total_runs']==0].groupby(['match_id','bowler'])['ball'].count()\n",
    "    boundary_runs = df[df['total_runs'].isin([4,6])].groupby(['match_id', 'bowler'])['total_runs'].sum()\n",
    "    boundary_hit = df[df['total_runs'].isin([4,6])].groupby(['match_id', 'bowler'])['total_runs'].count()\n",
    "    total_ball_bowled = df.groupby(['match_id', 'bowler'])['ball'].count()\n",
    "    \n",
    "    bls = ((wickets_taken + (dot_balls_bowled * 2)) - (boundary_runs/boundary_hit)) / (total_ball_bowled - (dot_balls_bowled * 2.5))\n",
    "    return bls\n"
   ]
  },
  {
   "cell_type": "code",
   "execution_count": 266,
   "metadata": {},
   "outputs": [],
   "source": [
    "bls_data = pd.DataFrame(BLS(sub_data))"
   ]
  },
  {
   "cell_type": "code",
   "execution_count": 267,
   "metadata": {},
   "outputs": [],
   "source": [
    "bls_data.reset_index(inplace=True)"
   ]
  },
  {
   "cell_type": "code",
   "execution_count": 268,
   "metadata": {},
   "outputs": [],
   "source": [
    "bls_data.rename(columns = {0 : 'BLS_score'}, inplace=True)"
   ]
  },
  {
   "cell_type": "code",
   "execution_count": 269,
   "metadata": {},
   "outputs": [],
   "source": [
    "bls_data.drop(bls_data[bls_data['BLS_score'].isnull()].index, inplace=True)"
   ]
  },
  {
   "cell_type": "code",
   "execution_count": 270,
   "metadata": {},
   "outputs": [],
   "source": [
    "bls_data = bls_data[(bls_data['BLS_score']>0)]"
   ]
  },
  {
   "cell_type": "code",
   "execution_count": 276,
   "metadata": {},
   "outputs": [],
   "source": [
    "bowler_list = sub_data[sub_data['season']>2015]['bowler'].unique()"
   ]
  },
  {
   "cell_type": "code",
   "execution_count": 278,
   "metadata": {},
   "outputs": [
    {
     "data": {
      "text/plain": [
       "bowler\n",
       "A Joseph             0.991736\n",
       "BA Stokes                 inf\n",
       "DS Kulkarni               inf\n",
       "HH Pandya            1.227106\n",
       "J Archer             1.020000\n",
       "JD Unadkat           3.442398\n",
       "JJ Bumrah                 inf\n",
       "K Gowtham            1.628187\n",
       "KH Pandya            2.022840\n",
       "M Markande           0.972222\n",
       "MJ McClenaghan       1.924242\n",
       "Mustafizur Rahman    0.850000\n",
       "RD Chahar            0.777778\n",
       "S Gopal              3.103175\n",
       "SL Malinga           1.975316\n",
       "Name: BLS_score, dtype: float64"
      ]
     },
     "execution_count": 278,
     "metadata": {},
     "output_type": "execute_result"
    }
   ],
   "source": [
    "bls_data[bls_data['bowler'].isin(bowler_list)].groupby('bowler')['BLS_score'].mean()"
   ]
  },
  {
   "cell_type": "code",
   "execution_count": null,
   "metadata": {},
   "outputs": [],
   "source": []
  }
 ],
 "metadata": {
  "kernelspec": {
   "display_name": "Python 3",
   "language": "python",
   "name": "python3"
  },
  "language_info": {
   "codemirror_mode": {
    "name": "ipython",
    "version": 3
   },
   "file_extension": ".py",
   "mimetype": "text/x-python",
   "name": "python",
   "nbconvert_exporter": "python",
   "pygments_lexer": "ipython3",
   "version": "3.7.6"
  }
 },
 "nbformat": 4,
 "nbformat_minor": 4
}
